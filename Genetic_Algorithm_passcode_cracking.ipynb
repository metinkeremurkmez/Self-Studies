{
 "cells": [
  {
   "cell_type": "code",
   "execution_count": 1,
   "id": "aff184ed",
   "metadata": {},
   "outputs": [],
   "source": [
    "import random\n",
    "import numpy as np\n",
    "import matplotlib.pyplot as plt\n",
    "import time"
   ]
  },
  {
   "cell_type": "code",
   "execution_count": 2,
   "id": "dedf806f",
   "metadata": {},
   "outputs": [],
   "source": [
    "passcode_length = 10\n",
    "passcode_lower_bound = 0\n",
    "passcode_upper_bound = 9"
   ]
  },
  {
   "cell_type": "code",
   "execution_count": 5,
   "id": "4c78f310",
   "metadata": {},
   "outputs": [],
   "source": [
    "population_size = 10\n",
    "num_parents = 5\n",
    "elite_size = 2"
   ]
  },
  {
   "cell_type": "code",
   "execution_count": 6,
   "id": "ac86fd5a",
   "metadata": {},
   "outputs": [
    {
     "name": "stdout",
     "output_type": "stream",
     "text": [
      "[6, 7, 1, 3, 9, 7, 1, 8, 5, 1]\n"
     ]
    }
   ],
   "source": [
    "secret_passcode = []\n",
    "for x in range(passcode_length):\n",
    "    secret_passcode.append(int(round(random.uniform(passcode_lower_bound,passcode_upper_bound),0)))\n",
    "\n",
    "print(secret_passcode)"
   ]
  },
  {
   "cell_type": "code",
   "execution_count": 7,
   "id": "086def1a",
   "metadata": {},
   "outputs": [],
   "source": [
    "population = []\n",
    "for i in range(population_size):\n",
    "    chromosome = []\n",
    "    for x in range(passcode_length):\n",
    "        chromosome.append(int(round(random.uniform(passcode_lower_bound,passcode_upper_bound),0)))\n",
    "    population.append(chromosome)"
   ]
  },
  {
   "cell_type": "code",
   "execution_count": 12,
   "id": "f72bf8e6",
   "metadata": {},
   "outputs": [],
   "source": [
    "def fitness(population):\n",
    "    fitness_scores = []\n",
    "    for chromosome in population:\n",
    "        matches = 0\n",
    "        for index in range(passcode_length):\n",
    "            if secret_passcode[index] == chromosome[index]:\n",
    "                matches += 1\n",
    "        result = [chromosome,matches]\n",
    "        fitness_scores.append(result)\n",
    "    return fitness_scores"
   ]
  },
  {
   "cell_type": "code",
   "execution_count": 13,
   "id": "0033cb32",
   "metadata": {},
   "outputs": [],
   "source": [
    "def select_parents(fitness_scores):\n",
    "    parents_list = []\n",
    "    for chromosome in sorted(fitness_scores, key=lambda x: x[1], reverse = True)[:num_parents]:\n",
    "        parents_list.append(chromosome[0])\n",
    "    return(parents_list)"
   ]
  },
  {
   "cell_type": "code",
   "execution_count": 14,
   "id": "8a8865af",
   "metadata": {},
   "outputs": [],
   "source": [
    "# breeding logic\n",
    "def breed(parent1,parent2):\n",
    "    child = []\n",
    "\n",
    "    parent1 = parents[0]\n",
    "    parent2 = parents[1]\n",
    "\n",
    "    geneA = int(random.random() * passcode_length)\n",
    "    geneB = int(random.random() * passcode_length)\n",
    "\n",
    "    startGene = min(geneA, geneB)\n",
    "    endGene = max(geneA, geneB)\n",
    "\n",
    "    for i in range(0,passcode_length):\n",
    "        if (i < startGene) or (i > endGene):\n",
    "            child.append(parent1[i])\n",
    "        else:\n",
    "            child.append(parent2[i])\n",
    "    return child\n",
    "\n",
    "# breeding and elitism\n",
    "def create_children(parents_pool):\n",
    "    children = []\n",
    "    num_new_children = len(population) - elite_size\n",
    "\n",
    "    for i in range(0,elite_size):\n",
    "        children.append(parents_pool[i])\n",
    "\n",
    "    for i in range(0,num_new_children):\n",
    "        parent1 = parents_pool[int(random.random() * len(parents_pool))]\n",
    "        parent2 = parents_pool[int(random.random() * len(parents_pool))]\n",
    "        children.append(breed(parent1,parent2))\n",
    "    return children"
   ]
  },
  {
   "cell_type": "code",
   "execution_count": 15,
   "id": "d2b022e3",
   "metadata": {},
   "outputs": [],
   "source": [
    "def mutation(children_set):\n",
    "    for i in range(len(children_set)):\n",
    "        if random.random() > 0.1:\n",
    "            continue\n",
    "        else:\n",
    "            mutated_position = int(random.random() * passcode_length)\n",
    "            mutation = int(round(random.uniform(passcode_lower_bound,passcode_upper_bound+1),0))\n",
    "            children_set[i][mutated_position] = mutation\n",
    "    return children_set"
   ]
  },
  {
   "cell_type": "code",
   "execution_count": 16,
   "id": "9dc41d0a",
   "metadata": {},
   "outputs": [
    {
     "name": "stdout",
     "output_type": "stream",
     "text": [
      "Cracked in 131 generations, and 0.00630497932434082 seconds! \n",
      "Secret passcode = [6, 7, 1, 3, 9, 7, 1, 8, 5, 1] \n",
      "Discovered passcode = [6, 7, 1, 3, 9, 7, 1, 8, 5, 1]\n"
     ]
    }
   ],
   "source": [
    "success = []\n",
    "generations = 0\n",
    "t0 = time.time()\n",
    "while True:\n",
    "\n",
    "    fitness_scores = fitness(population)\n",
    "    success.append(max([i[1] for i in fitness_scores]))\n",
    "    if max([i[1] for i in fitness_scores]) == passcode_length:\n",
    "        print(\"Cracked in {} generations, and {} seconds! \\nSecret passcode = {} \\nDiscovered passcode = {}\".format(generations,time.time() - t0,secret_passcode,[i[0] for i in fitness_scores if i[1] == passcode_length][0]))\n",
    "        break\n",
    "    parents = select_parents(fitness_scores)\n",
    "    children = create_children(parents)\n",
    "    population = mutation(children)\n",
    "    generations += 1"
   ]
  },
  {
   "cell_type": "code",
   "execution_count": 26,
   "id": "135ce413",
   "metadata": {},
   "outputs": [
    {
     "data": {
      "image/png": "[encoded data removed]",
      "text/plain": [
       "<Figure size 432x288 with 1 Axes>"
      ]
     },
     "metadata": {
      "needs_background": "light"
     },
     "output_type": "display_data"
    }
   ],
   "source": [
    "fig = plt.figure()\n",
    "plt.plot(list(range(generations+1)), success)\n",
    "fig.suptitle('Fitness Score by Generation', fontsize=14, fontweight='bold')\n",
    "plt.show()"
   ]
  },
  {
   "cell_type": "code",
   "execution_count": null,
   "id": "33b78a09",
   "metadata": {},
   "outputs": [],
   "source": []
  }
 ],
 "metadata": {
  "kernelspec": {
   "display_name": "Python 3 (ipykernel)",
   "language": "python",
   "name": "python3"
  },
  "language_info": {
   "codemirror_mode": {
    "name": "ipython",
    "version": 3
   },
   "file_extension": ".py",
   "mimetype": "text/x-python",
   "name": "python",
   "nbconvert_exporter": "python",
   "pygments_lexer": "ipython3",
   "version": "3.7.11"
  }
 },
 "nbformat": 4,
 "nbformat_minor": 5
}
