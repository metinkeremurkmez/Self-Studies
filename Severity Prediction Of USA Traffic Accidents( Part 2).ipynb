{
  "nbformat": 4,
  "nbformat_minor": 0,
  "metadata": {
    "colab": {
      "name": "to_bing_models (2).ipynb",
      "provenance": [],
      "collapsed_sections": []
    },
    "kernelspec": {
      "name": "python3",
      "display_name": "Python 3"
    },
    "accelerator": "GPU"
  },
  "cells": [
    {
      "cell_type": "code",
      "metadata": {
        "colab": {
          "base_uri": "https://localhost:8080/"
        },
        "id": "bt3I98bPVD-p",
        "outputId": "dd2dada0-37f1-4b57-eb45-ee5fd0bf6566"
      },
      "source": [
        "from google.colab import drive\n",
        "drive.mount('/content/drive')"
      ],
      "execution_count": null,
      "outputs": [
        {
          "output_type": "stream",
          "text": [
            "Mounted at /content/drive\n"
          ],
          "name": "stdout"
        }
      ]
    },
    {
      "cell_type": "code",
      "metadata": {
        "id": "2-T_Z6XIVW-T"
      },
      "source": [
        "import pandas as pd\n",
        "X_train_nontreeb = pd.read_csv(\"//content/drive/MyDrive/X_train_nontreeb.csv\")\n",
        "X_test_nontreeb = pd.read_csv(\"//content/drive/MyDrive/X_test_nontreeb.csv\")\n",
        "X_train_treeb = pd.read_csv(\"//content/drive/MyDrive/X_train_treeb.csv\")\n",
        "X_test_treeb = pd.read_csv(\"//content/drive/MyDrive/X_test_treeb.csv\")\n",
        "y_train = pd.read_csv(\"//content/drive/MyDrive/y_train.csv\")\n",
        "y_test = pd.read_csv(\"/content/drive/MyDrive/y_test.csv\")"
      ],
      "execution_count": null,
      "outputs": []
    },
    {
      "cell_type": "code",
      "metadata": {
        "id": "fCklFJZMWF-n"
      },
      "source": [
        "from sklearn.preprocessing import StandardScaler\n",
        "sc = StandardScaler()\n",
        "\n",
        "X_train_nontreeb_pca = sc.fit_transform(X_train_nontreeb)\n",
        "X_test_nontreeb_pca = sc.transform (X_test_nontreeb)\n",
        "from sklearn.decomposition import PCA \n",
        "pca = PCA(n_components=15) \n",
        "X_train_nontreeb_pca = pca.fit_transform(X_train_nontreeb_pca) \n",
        "X_test_nontreeb_pca = pca.transform(X_test_nontreeb_pca) \n",
        "\n",
        "X_train_nontreeb = sc.fit_transform(X_train_nontreeb)\n",
        "X_test_nontreeb = sc.transform (X_test_nontreeb)\n",
        "\n",
        "X_train_treeb = sc.fit_transform(X_train_treeb)\n",
        "X_test_treeb = sc.transform (X_test_treeb)"
      ],
      "execution_count": null,
      "outputs": []
    },
    {
      "cell_type": "code",
      "metadata": {
        "id": "Vg-6CnbBB0Cx"
      },
      "source": [
        "y_train = y_train.values.ravel()\n",
        "y_test = y_test.values.ravel()"
      ],
      "execution_count": null,
      "outputs": []
    },
    {
      "cell_type": "code",
      "metadata": {
        "id": "peEk51OU86Wi"
      },
      "source": [
        "import numpy as np\n",
        "import pandas as pd\n",
        "import matplotlib.pyplot as plt\n",
        "import seaborn as sns"
      ],
      "execution_count": null,
      "outputs": []
    },
    {
      "cell_type": "code",
      "metadata": {
        "id": "twf4UX-uQwI7"
      },
      "source": [
        "################################################################################"
      ],
      "execution_count": null,
      "outputs": []
    },
    {
      "cell_type": "code",
      "metadata": {
        "id": "L7Ayllzer2Kz"
      },
      "source": [
        "from xgboost import XGBClassifier\n",
        "from sklearn.model_selection import RandomizedSearchCV\n",
        "from sklearn.metrics import accuracy_score\n",
        "params = {\"learning_rate\"    : [0.05, 0.10, 0.15, 0.20, 0.25, 0.30 ] ,\n",
        " \"max_depth\"        : [  4, 5, 6, 8, 10, 12],\n",
        " \"min_child_weight\" : [ 1, 3, 5, 7 ],\n",
        " \"gamma\"            : [ 0.0, 0.1, 0.2 , 0.3],\n",
        " \"colsample_bytree\" : [ 0.3, 0.4, 0.5] }\n",
        "model = XGBClassifier(objective=\"multi:softprob\",tree_method='gpu_hist', gpu_id=0, predictor='gpu_predictor', random_state=42)\n",
        "model_xgb = RandomizedSearchCV(model,params,cv=5, scoring = 'f1_weighted',n_jobs=-1)\n",
        "tuned_model_xgb = model_xgb.fit(X_train_treeb, y_train)"
      ],
      "execution_count": null,
      "outputs": []
    },
    {
      "cell_type": "code",
      "metadata": {
        "colab": {
          "base_uri": "https://localhost:8080/"
        },
        "id": "b6LEOgkuP4Cl",
        "outputId": "665e9fe7-456e-4786-a1f6-62804a8bbb7c"
      },
      "source": [
        "y_pred = tuned_model_xgb.predict(X_test_treeb)\n",
        "predictions = [round(value) for value in y_pred]\n",
        "accuracy = accuracy_score(y_test, predictions)\n",
        "print(\"Accuracy: %.2f%%\" % (accuracy * 100.0))"
      ],
      "execution_count": null,
      "outputs": [
        {
          "output_type": "stream",
          "text": [
            "Accuracy: 79.64%\n"
          ],
          "name": "stdout"
        }
      ]
    },
    {
      "cell_type": "code",
      "metadata": {
        "id": "ecLqdl-AQYgL",
        "colab": {
          "base_uri": "https://localhost:8080/"
        },
        "outputId": "93374d58-a732-416e-ff6b-26a3bf5483b2"
      },
      "source": [
        "y_scores =tuned_model_xgb.predict_proba(X_test_treeb)\n",
        "from sklearn.metrics import roc_auc_score\n",
        "roc_auc_score(y_test, y_scores,multi_class='ovr')"
      ],
      "execution_count": null,
      "outputs": [
        {
          "output_type": "execute_result",
          "data": {
            "text/plain": [
              "0.8721795620163535"
            ]
          },
          "metadata": {
            "tags": []
          },
          "execution_count": 9
        }
      ]
    },
    {
      "cell_type": "code",
      "metadata": {
        "colab": {
          "base_uri": "https://localhost:8080/",
          "height": 295
        },
        "id": "zaRjfTr1QmFX",
        "outputId": "6f99e5fd-5341-48b1-bfff-cebc02811962"
      },
      "source": [
        "from sklearn.metrics import confusion_matrix\n",
        "conf_nb = confusion_matrix(y_pred,y_test)\n",
        "import seaborn as sns\n",
        "import matplotlib.pyplot as plt     \n",
        "\n",
        "ax= plt.subplot()\n",
        "sns.heatmap(conf_nb, fmt='d', annot=True, ax = ax); #annot=True to annotate cells\n",
        "\n",
        "# labels, title and ticks\n",
        "ax.set_xlabel('Predicted labels');ax.set_ylabel('True labels'); \n",
        "ax.set_title('Confusion Matrix'); \n",
        "ax.xaxis.set_ticklabels(['Severity2', 'Severity3', 'Severity4']); ax.yaxis.set_ticklabels(['Severity2', 'Severity3', 'Severity4']);"
      ],
      "execution_count": null,
      "outputs": [
        {
          "output_type": "display_data",
          "data": {
            "image/png": "[encoded data removed]",
            "text/plain": [
              "<Figure size 432x288 with 2 Axes>"
            ]
          },
          "metadata": {
            "tags": [],
            "needs_background": "light"
          }
        }
      ]
    },
    {
      "cell_type": "code",
      "metadata": {
        "colab": {
          "base_uri": "https://localhost:8080/",
          "height": 363
        },
        "id": "ipzzsaIpROi5",
        "outputId": "982d28f9-79e4-4d0f-a607-41fcbd941d2a"
      },
      "source": [
        "import numpy as np \n",
        "from sklearn.model_selection import learning_curve\n",
        "def plot_learning_curve(estimator, title, X, y, ylim=None, cv=None,\n",
        "                        n_jobs=None, train_sizes=np.linspace(.1, 1.0, 5)):\n",
        "    \"\"\"\n",
        "    Generate a simple plot of the test and training learning curve.\n",
        "\n",
        "    Parameters\n",
        "    ----------\n",
        "    estimator : object type that implements the \"fit\" and \"predict\" methods\n",
        "        An object of that type which is cloned for each validation.\n",
        "\n",
        "    title : string\n",
        "        Title for the chart.\n",
        "\n",
        "    X : array-like, shape (n_samples, n_features)\n",
        "        Training vector, where n_samples is the number of samples and\n",
        "        n_features is the number of features.\n",
        "\n",
        "    y : array-like, shape (n_samples) or (n_samples, n_features), optional\n",
        "        Target relative to X for classification or regression;\n",
        "        None for unsupervised learning.\n",
        "\n",
        "    ylim : tuple, shape (ymin, ymax), optional\n",
        "        Defines minimum and maximum yvalues plotted.\n",
        "\n",
        "    cv : int, cross-validation generator or an iterable, optional\n",
        "        Determines the cross-validation splitting strategy.\n",
        "        Possible inputs for cv are:\n",
        "          - None, to use the default 3-fold cross-validation,\n",
        "          - integer, to specify the number of folds.\n",
        "          - An object to be used as a cross-validation generator.\n",
        "          - An iterable yielding train/test splits.\n",
        "\n",
        "        For integer/None inputs, if ``y`` is binary or multiclass,\n",
        "        :class:`StratifiedKFold` used. If the estimator is not a classifier\n",
        "        or if ``y`` is neither binary nor multiclass, :class:`KFold` is used.\n",
        "\n",
        "        Refer :ref:`User Guide <cross_validation>` for the various\n",
        "        cross-validators that can be used here.\n",
        "\n",
        "    n_jobs : int or None, optional (default=None)\n",
        "        Number of jobs to run in parallel.\n",
        "        ``None`` means 1 unless in a :obj:`joblib.parallel_backend` context.\n",
        "        ``-1`` means using all processors. See :term:`Glossary <n_jobs>`\n",
        "        for more details.\n",
        "\n",
        "    train_sizes : array-like, shape (n_ticks,), dtype float or int\n",
        "        Relative or absolute numbers of training examples that will be used to\n",
        "        generate the learning curve. If the dtype is float, it is regarded as a\n",
        "        fraction of the maximum size of the training set (that is determined\n",
        "        by the selected validation method), i.e. it has to be within (0, 1].\n",
        "        Otherwise it is interpreted as absolute sizes of the training sets.\n",
        "        Note that for classification the number of samples usually have to\n",
        "        be big enough to contain at least one sample from each class.\n",
        "        (default: np.linspace(0.1, 1.0, 5))\n",
        "    \"\"\"\n",
        "    plt.figure()\n",
        "    plt.title(title)\n",
        "    if ylim is not None:\n",
        "        plt.ylim(*ylim)\n",
        "    plt.xlabel(\"Training examples\")\n",
        "    plt.ylabel(\"Score\")\n",
        "    train_sizes, train_scores, test_scores = learning_curve(\n",
        "        estimator, X, y, cv=cv, n_jobs=n_jobs, train_sizes=train_sizes)\n",
        "    train_scores_mean = np.mean(train_scores, axis=1)\n",
        "    train_scores_std = np.std(train_scores, axis=1)\n",
        "    test_scores_mean = np.mean(test_scores, axis=1)\n",
        "    test_scores_std = np.std(test_scores, axis=1)\n",
        "    plt.grid()\n",
        "\n",
        "    plt.fill_between(train_sizes, train_scores_mean - train_scores_std,\n",
        "                     train_scores_mean + train_scores_std, alpha=0.1,\n",
        "                     color=\"r\")\n",
        "    plt.fill_between(train_sizes, test_scores_mean - test_scores_std,\n",
        "                     test_scores_mean + test_scores_std, alpha=0.1, color=\"g\")\n",
        "    plt.plot(train_sizes, train_scores_mean, 'o-', color=\"r\",\n",
        "             label=\"Training score\")\n",
        "    plt.plot(train_sizes, test_scores_mean, 'o-', color=\"g\",\n",
        "             label=\"Cross-validation score\")\n",
        "\n",
        "    plt.legend(loc=\"best\")\n",
        "    return plt\n",
        "#\n",
        "plot_learning_curve(tuned_model_xgb, \"xgboost learning curve\", X_train_treeb, y_train, ylim=(0.5, 1.01), cv=3, n_jobs=1)"
      ],
      "execution_count": null,
      "outputs": [
        {
          "output_type": "stream",
          "text": [
            "/usr/local/lib/python3.6/dist-packages/joblib/externals/loky/process_executor.py:691: UserWarning: A worker stopped while some jobs were given to the executor. This can be caused by a too short worker timeout or by a memory leak.\n",
            "  \"timeout or by a memory leak.\", UserWarning\n"
          ],
          "name": "stderr"
        },
        {
          "output_type": "execute_result",
          "data": {
            "text/plain": [
              "<module 'matplotlib.pyplot' from '/usr/local/lib/python3.6/dist-packages/matplotlib/pyplot.py'>"
            ]
          },
          "metadata": {
            "tags": []
          },
          "execution_count": 11
        },
        {
          "output_type": "display_data",
          "data": {
            "image/png": "[encoded data removed]",
            "text/plain": [
              "<Figure size 432x288 with 1 Axes>"
            ]
          },
          "metadata": {
            "tags": [],
            "needs_background": "light"
          }
        }
      ]
    },
    {
      "cell_type": "code",
      "metadata": {
        "id": "-KRNsfqLFa19",
        "colab": {
          "base_uri": "https://localhost:8080/",
          "height": 265
        },
        "outputId": "f868e7ba-8f94-4f94-a6aa-8c63d9d711ad"
      },
      "source": [
        "def plot_classification_report(cr, title='Classification report ', with_avg_total=False, cmap=plt.cm.Blues):\n",
        "\n",
        "    lines = cr.split('\\n')\n",
        "\n",
        "    classes = []\n",
        "    plotMat = []\n",
        "    for line in lines[2 : (len(lines) - 3)]:\n",
        "        #print(line)\n",
        "        t = line.split()\n",
        "        # print(t)\n",
        "        classes.append(t[0])\n",
        "        v = [float(x) for x in t[1: len(t) - 1]]\n",
        "        print(v)\n",
        "        plotMat.append(v)\n",
        "\n",
        "    if with_avg_total:\n",
        "        aveTotal = lines[len(lines) - 1].split()\n",
        "        classes.append('avg/total')\n",
        "        vAveTotal = [float(x) for x in t[1:len(aveTotal) - 1]]\n",
        "        plotMat.append(vAveTotal)\n",
        "\n",
        "\n",
        "    plt.imshow(plotMat, interpolation='nearest', cmap=cmap)\n",
        "    plt.title(title)\n",
        "    plt.colorbar()\n",
        "    x_tick_marks = np.arange(3)\n",
        "    y_tick_marks = np.arange(len(classes))\n",
        "    plt.xticks(x_tick_marks, ['precision', 'recall', 'f1-score'], rotation=45)\n",
        "    plt.yticks(y_tick_marks, classes)\n",
        "    plt.tight_layout()\n",
        "    plt.ylabel('Classes')\n",
        "    plt.xlabel('Measures')\n",
        "#\n",
        "from sklearn.metrics import classification_report\n",
        "target_names=['Severity2','Severity3','Severity4']\n",
        "classificationReport = classification_report(y_test, y_pred, target_names=target_names,output_dict=True)\n",
        "sns.heatmap(pd.DataFrame(classificationReport).iloc[:-1, :].T, annot=True);"
      ],
      "execution_count": null,
      "outputs": [
        {
          "output_type": "display_data",
          "data": {
            "image/png": "[encoded data removed]",
            "text/plain": [
              "<Figure size 432x288 with 2 Axes>"
            ]
          },
          "metadata": {
            "tags": [],
            "needs_background": "light"
          }
        }
      ]
    },
    {
      "cell_type": "code",
      "metadata": {
        "id": "rnQ_1YW59GwT"
      },
      "source": [
        ""
      ],
      "execution_count": null,
      "outputs": []
    }
  ]
}