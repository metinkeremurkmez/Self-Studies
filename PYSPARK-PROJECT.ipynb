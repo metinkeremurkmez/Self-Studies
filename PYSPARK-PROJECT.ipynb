{
 "cells": [
  {
   "cell_type": "code",
   "execution_count": 1,
   "metadata": {},
   "outputs": [],
   "source": [
    "import findspark\n",
    "findspark.init(\"/opt/manual/spark\")\n",
    "\n",
    "import pyspark\n",
    "from pyspark.sql.types import * \n",
    "from pyspark.sql import SparkSession, functions as F\n",
    "\n",
    "import pandas as pd\n",
    "import numpy as np\n",
    "import matplotlib.pyplot as plt\n",
    "\n",
    "import os\n",
    "\n",
    "from pyspark.ml.feature import VectorAssembler\n",
    "from pyspark.ml.feature import StandardScaler\n",
    "from pyspark.ml.classification import DecisionTreeClassifier\n",
    "from pyspark.ml.evaluation import BinaryClassificationEvaluator\n",
    "from pyspark.ml import Pipeline\n",
    "from pyspark.ml.tuning import CrossValidatorModel, ParamGridBuilder, CrossValidator"
   ]
  },
  {
   "cell_type": "code",
   "execution_count": 2,
   "metadata": {},
   "outputs": [],
   "source": [
    "spark = SparkSession.builder \\\n",
    "    .appName(\"Spark Task\") \\\n",
    "    .master(\"local[2]\") \\\n",
    "    .enableHiveSupport() \\\n",
    "    .getOrCreate()"
   ]
  },
  {
   "cell_type": "code",
   "execution_count": 3,
   "metadata": {},
   "outputs": [],
   "source": [
    "spark.conf.set('spark.sql.repl.eagerEval.enabled', True)"
   ]
  },
  {
   "cell_type": "code",
   "execution_count": 4,
   "metadata": {},
   "outputs": [],
   "source": [
    "path = \"/home/train/project_fin/KETI\"\n",
    "room_numbers = os.listdir(path)\n",
    "room_numbers.remove(\"README.txt\")"
   ]
  },
  {
   "cell_type": "code",
   "execution_count": 5,
   "metadata": {},
   "outputs": [],
   "source": [
    "hdfs_base_path = \"hdfs://localhost:9000/user/train/datasets/KETI/\"\n",
    "\n",
    "schema = StructType([StructField('Time',\n",
    "                                  StringType(), True),\n",
    "                    StructField('Value',\n",
    "                                FloatType(), True),\n",
    "                    StructField('Room',\n",
    "                                StringType(), True)])\n",
    "\n",
    "df_co2 = spark.createDataFrame(data = [],\n",
    "                           schema = schema)\n",
    "df_humidity = spark.createDataFrame(data = [],\n",
    "                           schema = schema)\n",
    "df_light = spark.createDataFrame(data = [],\n",
    "                           schema = schema)\n",
    "df_pir = spark.createDataFrame(data = [],\n",
    "                           schema = schema)\n",
    "df_temperature = spark.createDataFrame(data = [],\n",
    "                           schema = schema)\n",
    "\n",
    "for number in room_numbers:\n",
    "    hdfs_whole_path = hdfs_base_path + number + \"/\"\n",
    "    \n",
    "    co2 = spark.read.format(\"csv\") \\\n",
    "      .option(\"header\", False) \\\n",
    "      .schema(schema) \\\n",
    "      .load(hdfs_whole_path + \"co2.csv\")\n",
    "    \n",
    "    df_co2 = df_co2.union(co2.withColumn(\"Room\", F.lit(number)))\n",
    "    \n",
    "    humidity = spark.read.format(\"csv\") \\\n",
    "      .option(\"header\", False) \\\n",
    "      .schema(schema) \\\n",
    "      .load(hdfs_whole_path + \"humidity.csv\")\n",
    "    \n",
    "    df_humidity = df_humidity.union(humidity.withColumn(\"Room\", F.lit(number)))\n",
    "    \n",
    "    light = spark.read.format(\"csv\") \\\n",
    "      .option(\"header\", False) \\\n",
    "      .schema(schema) \\\n",
    "      .load(hdfs_whole_path + \"light.csv\")\n",
    "    \n",
    "    df_light = df_light.union(light.withColumn(\"Room\", F.lit(number)))\n",
    "    \n",
    "    temperature = spark.read.format(\"csv\") \\\n",
    "      .option(\"header\", False) \\\n",
    "      .schema(schema) \\\n",
    "      .load(hdfs_whole_path + \"temperature.csv\")\n",
    "    \n",
    "    df_temperature = df_temperature.union(temperature.withColumn(\"Room\", F.lit(number)))\n",
    "    \n",
    "    pir = spark.read.format(\"csv\") \\\n",
    "      .option(\"header\", False) \\\n",
    "      .schema(schema) \\\n",
    "      .load(hdfs_whole_path + \"pir.csv\")\n",
    "    \n",
    "    df_pir = df_pir.union(pir.withColumn(\"Room\", F.lit(number)))"
   ]
  },
  {
   "cell_type": "code",
   "execution_count": 6,
   "metadata": {},
   "outputs": [
    {
     "data": {
      "text/html": [
       "<table border='1'>\n",
       "<tr><th>Time</th><th>Value</th><th>Room</th></tr>\n",
       "<tr><td>1377299107</td><td>488.0</td><td>413</td></tr>\n",
       "<tr><td>1377299108</td><td>495.0</td><td>413</td></tr>\n",
       "<tr><td>1377299110</td><td>487.0</td><td>413</td></tr>\n",
       "<tr><td>1377299127</td><td>496.0</td><td>413</td></tr>\n",
       "<tr><td>1377299130</td><td>495.0</td><td>413</td></tr>\n",
       "<tr><td>1377299134</td><td>500.0</td><td>413</td></tr>\n",
       "<tr><td>1377299139</td><td>495.0</td><td>413</td></tr>\n",
       "<tr><td>1377299144</td><td>498.0</td><td>413</td></tr>\n",
       "<tr><td>1377299149</td><td>496.0</td><td>413</td></tr>\n",
       "<tr><td>1377299154</td><td>496.0</td><td>413</td></tr>\n",
       "<tr><td>1377299159</td><td>496.0</td><td>413</td></tr>\n",
       "<tr><td>1377299164</td><td>496.0</td><td>413</td></tr>\n",
       "<tr><td>1377299169</td><td>491.0</td><td>413</td></tr>\n",
       "<tr><td>1377299174</td><td>495.0</td><td>413</td></tr>\n",
       "<tr><td>1377299179</td><td>496.0</td><td>413</td></tr>\n",
       "<tr><td>1377299184</td><td>495.0</td><td>413</td></tr>\n",
       "<tr><td>1377299189</td><td>504.0</td><td>413</td></tr>\n",
       "<tr><td>1377299194</td><td>504.0</td><td>413</td></tr>\n",
       "<tr><td>1377299199</td><td>501.0</td><td>413</td></tr>\n",
       "<tr><td>1377299204</td><td>495.0</td><td>413</td></tr>\n",
       "</table>\n",
       "only showing top 20 rows\n"
      ],
      "text/plain": [
       "+----------+-----+----+\n",
       "|      Time|Value|Room|\n",
       "+----------+-----+----+\n",
       "|1377299107|488.0| 413|\n",
       "|1377299108|495.0| 413|\n",
       "|1377299110|487.0| 413|\n",
       "|1377299127|496.0| 413|\n",
       "|1377299130|495.0| 413|\n",
       "|1377299134|500.0| 413|\n",
       "|1377299139|495.0| 413|\n",
       "|1377299144|498.0| 413|\n",
       "|1377299149|496.0| 413|\n",
       "|1377299154|496.0| 413|\n",
       "|1377299159|496.0| 413|\n",
       "|1377299164|496.0| 413|\n",
       "|1377299169|491.0| 413|\n",
       "|1377299174|495.0| 413|\n",
       "|1377299179|496.0| 413|\n",
       "|1377299184|495.0| 413|\n",
       "|1377299189|504.0| 413|\n",
       "|1377299194|504.0| 413|\n",
       "|1377299199|501.0| 413|\n",
       "|1377299204|495.0| 413|\n",
       "+----------+-----+----+\n",
       "only showing top 20 rows"
      ]
     },
     "execution_count": 6,
     "metadata": {},
     "output_type": "execute_result"
    }
   ],
   "source": [
    "df_co2"
   ]
  },
  {
   "cell_type": "code",
   "execution_count": 7,
   "metadata": {},
   "outputs": [
    {
     "data": {
      "text/html": [
       "<div>\n",
       "<style scoped>\n",
       "    .dataframe tbody tr th:only-of-type {\n",
       "        vertical-align: middle;\n",
       "    }\n",
       "\n",
       "    .dataframe tbody tr th {\n",
       "        vertical-align: top;\n",
       "    }\n",
       "\n",
       "    .dataframe thead th {\n",
       "        text-align: right;\n",
       "    }\n",
       "</style>\n",
       "<table border=\"1\" class=\"dataframe\">\n",
       "  <thead>\n",
       "    <tr style=\"text-align: right;\">\n",
       "      <th></th>\n",
       "      <th>Time</th>\n",
       "      <th>Value</th>\n",
       "      <th>Room</th>\n",
       "    </tr>\n",
       "  </thead>\n",
       "  <tbody>\n",
       "    <tr>\n",
       "      <th>0</th>\n",
       "      <td>0</td>\n",
       "      <td>0</td>\n",
       "      <td>0</td>\n",
       "    </tr>\n",
       "  </tbody>\n",
       "</table>\n",
       "</div>"
      ],
      "text/plain": [
       "   Time  Value  Room\n",
       "0     0      0     0"
      ]
     },
     "execution_count": 7,
     "metadata": {},
     "output_type": "execute_result"
    }
   ],
   "source": [
    "nacounts = df_co2.select([F.count(F.when(F.isnull(c), c)).alias(c) for c in df_co2.columns]).toPandas()\n",
    "nacounts"
   ]
  },
  {
   "cell_type": "code",
   "execution_count": 8,
   "metadata": {},
   "outputs": [
    {
     "data": {
      "text/html": [
       "<table border='1'>\n",
       "<tr><th>summary</th><th>Time</th><th>Value</th><th>Room</th></tr>\n",
       "<tr><td>count</td><td>6574008</td><td>6574008</td><td>6574008</td></tr>\n",
       "<tr><td>mean</td><td>1.3776353446464927E9</td><td>411.00657635342094</td><td>578.8140258699461</td></tr>\n",
       "<tr><td>stddev</td><td>197438.93946163714</td><td>103.51541277299566</td><td>125.11433241496981</td></tr>\n",
       "<tr><td>min</td><td>1377274006</td><td>8.0</td><td>413</td></tr>\n",
       "<tr><td>max</td><td>1378018681</td><td>1699.0</td><td>776</td></tr>\n",
       "</table>\n"
      ],
      "text/plain": [
       "+-------+--------------------+------------------+------------------+\n",
       "|summary|                Time|             Value|              Room|\n",
       "+-------+--------------------+------------------+------------------+\n",
       "|  count|             6574008|           6574008|           6574008|\n",
       "|   mean|1.3776353446464927E9|411.00657635342094| 578.8140258699461|\n",
       "| stddev|  197438.93946163714|103.51541277299566|125.11433241496981|\n",
       "|    min|          1377274006|               8.0|               413|\n",
       "|    max|          1378018681|            1699.0|               776|\n",
       "+-------+--------------------+------------------+------------------+"
      ]
     },
     "execution_count": 8,
     "metadata": {},
     "output_type": "execute_result"
    }
   ],
   "source": [
    "df_co2.describe()"
   ]
  },
  {
   "cell_type": "code",
   "execution_count": 9,
   "metadata": {},
   "outputs": [
    {
     "name": "stdout",
     "output_type": "stream",
     "text": [
      "+----------+-----+----+\n",
      "|      Time|Value|Room|\n",
      "+----------+-----+----+\n",
      "|1377299107|45.34| 413|\n",
      "|1377299108|45.34| 413|\n",
      "|1377299126|45.34| 413|\n",
      "|1377299131|45.31| 413|\n",
      "|1377299136|45.34| 413|\n",
      "+----------+-----+----+\n",
      "only showing top 5 rows\n",
      "\n"
     ]
    }
   ],
   "source": [
    "df_humidity.show(5)"
   ]
  },
  {
   "cell_type": "code",
   "execution_count": 10,
   "metadata": {},
   "outputs": [
    {
     "data": {
      "text/html": [
       "<div>\n",
       "<style scoped>\n",
       "    .dataframe tbody tr th:only-of-type {\n",
       "        vertical-align: middle;\n",
       "    }\n",
       "\n",
       "    .dataframe tbody tr th {\n",
       "        vertical-align: top;\n",
       "    }\n",
       "\n",
       "    .dataframe thead th {\n",
       "        text-align: right;\n",
       "    }\n",
       "</style>\n",
       "<table border=\"1\" class=\"dataframe\">\n",
       "  <thead>\n",
       "    <tr style=\"text-align: right;\">\n",
       "      <th></th>\n",
       "      <th>Time</th>\n",
       "      <th>Value</th>\n",
       "      <th>Room</th>\n",
       "    </tr>\n",
       "  </thead>\n",
       "  <tbody>\n",
       "    <tr>\n",
       "      <th>0</th>\n",
       "      <td>0</td>\n",
       "      <td>0</td>\n",
       "      <td>0</td>\n",
       "    </tr>\n",
       "  </tbody>\n",
       "</table>\n",
       "</div>"
      ],
      "text/plain": [
       "   Time  Value  Room\n",
       "0     0      0     0"
      ]
     },
     "execution_count": 10,
     "metadata": {},
     "output_type": "execute_result"
    }
   ],
   "source": [
    "nacounts = df_humidity.select([F.count(F.when(F.isnull(c), c)).alias(c) for c in df_humidity.columns]).toPandas()\n",
    "nacounts"
   ]
  },
  {
   "cell_type": "code",
   "execution_count": 11,
   "metadata": {},
   "outputs": [
    {
     "data": {
      "text/html": [
       "<table border='1'>\n",
       "<tr><th>summary</th><th>Time</th><th>Value</th><th>Room</th></tr>\n",
       "<tr><td>count</td><td>6571465</td><td>6571465</td><td>6571465</td></tr>\n",
       "<tr><td>mean</td><td>1.377634784039541E9</td><td>56.7477052709077</td><td>578.8782723440254</td></tr>\n",
       "<tr><td>stddev</td><td>197935.7390174003</td><td>4.307900371726986</td><td>125.02399167174264</td></tr>\n",
       "<tr><td>min</td><td>1377292829</td><td>-500.96</td><td>413</td></tr>\n",
       "<tr><td>max</td><td>1378018369</td><td>71.91</td><td>776</td></tr>\n",
       "</table>\n"
      ],
      "text/plain": [
       "+-------+-------------------+-----------------+------------------+\n",
       "|summary|               Time|            Value|              Room|\n",
       "+-------+-------------------+-----------------+------------------+\n",
       "|  count|            6571465|          6571465|           6571465|\n",
       "|   mean|1.377634784039541E9| 56.7477052709077| 578.8782723440254|\n",
       "| stddev|  197935.7390174003|4.307900371726986|125.02399167174264|\n",
       "|    min|         1377292829|          -500.96|               413|\n",
       "|    max|         1378018369|            71.91|               776|\n",
       "+-------+-------------------+-----------------+------------------+"
      ]
     },
     "execution_count": 11,
     "metadata": {},
     "output_type": "execute_result"
    }
   ],
   "source": [
    "df_humidity.describe()"
   ]
  },
  {
   "cell_type": "code",
   "execution_count": 12,
   "metadata": {},
   "outputs": [
    {
     "data": {
      "text/html": [
       "<table border='1'>\n",
       "<tr><th>Time</th><th>Value</th><th>Room</th></tr>\n",
       "<tr><td>1377299107</td><td>97.0</td><td>413</td></tr>\n",
       "<tr><td>1377299108</td><td>97.0</td><td>413</td></tr>\n",
       "<tr><td>1377299126</td><td>97.0</td><td>413</td></tr>\n",
       "<tr><td>1377299131</td><td>97.0</td><td>413</td></tr>\n",
       "<tr><td>1377299136</td><td>97.0</td><td>413</td></tr>\n",
       "<tr><td>1377299141</td><td>96.0</td><td>413</td></tr>\n",
       "<tr><td>1377299146</td><td>96.0</td><td>413</td></tr>\n",
       "<tr><td>1377299151</td><td>96.0</td><td>413</td></tr>\n",
       "<tr><td>1377299156</td><td>96.0</td><td>413</td></tr>\n",
       "<tr><td>1377299161</td><td>97.0</td><td>413</td></tr>\n",
       "<tr><td>1377299166</td><td>96.0</td><td>413</td></tr>\n",
       "<tr><td>1377299171</td><td>96.0</td><td>413</td></tr>\n",
       "<tr><td>1377299176</td><td>98.0</td><td>413</td></tr>\n",
       "<tr><td>1377299181</td><td>97.0</td><td>413</td></tr>\n",
       "<tr><td>1377299186</td><td>96.0</td><td>413</td></tr>\n",
       "<tr><td>1377299191</td><td>96.0</td><td>413</td></tr>\n",
       "<tr><td>1377299196</td><td>97.0</td><td>413</td></tr>\n",
       "<tr><td>1377299201</td><td>98.0</td><td>413</td></tr>\n",
       "<tr><td>1377299206</td><td>97.0</td><td>413</td></tr>\n",
       "<tr><td>1377299211</td><td>97.0</td><td>413</td></tr>\n",
       "</table>\n",
       "only showing top 20 rows\n"
      ],
      "text/plain": [
       "+----------+-----+----+\n",
       "|      Time|Value|Room|\n",
       "+----------+-----+----+\n",
       "|1377299107| 97.0| 413|\n",
       "|1377299108| 97.0| 413|\n",
       "|1377299126| 97.0| 413|\n",
       "|1377299131| 97.0| 413|\n",
       "|1377299136| 97.0| 413|\n",
       "|1377299141| 96.0| 413|\n",
       "|1377299146| 96.0| 413|\n",
       "|1377299151| 96.0| 413|\n",
       "|1377299156| 96.0| 413|\n",
       "|1377299161| 97.0| 413|\n",
       "|1377299166| 96.0| 413|\n",
       "|1377299171| 96.0| 413|\n",
       "|1377299176| 98.0| 413|\n",
       "|1377299181| 97.0| 413|\n",
       "|1377299186| 96.0| 413|\n",
       "|1377299191| 96.0| 413|\n",
       "|1377299196| 97.0| 413|\n",
       "|1377299201| 98.0| 413|\n",
       "|1377299206| 97.0| 413|\n",
       "|1377299211| 97.0| 413|\n",
       "+----------+-----+----+\n",
       "only showing top 20 rows"
      ]
     },
     "execution_count": 12,
     "metadata": {},
     "output_type": "execute_result"
    }
   ],
   "source": [
    "df_light"
   ]
  },
  {
   "cell_type": "code",
   "execution_count": 13,
   "metadata": {},
   "outputs": [
    {
     "data": {
      "text/html": [
       "<div>\n",
       "<style scoped>\n",
       "    .dataframe tbody tr th:only-of-type {\n",
       "        vertical-align: middle;\n",
       "    }\n",
       "\n",
       "    .dataframe tbody tr th {\n",
       "        vertical-align: top;\n",
       "    }\n",
       "\n",
       "    .dataframe thead th {\n",
       "        text-align: right;\n",
       "    }\n",
       "</style>\n",
       "<table border=\"1\" class=\"dataframe\">\n",
       "  <thead>\n",
       "    <tr style=\"text-align: right;\">\n",
       "      <th></th>\n",
       "      <th>Time</th>\n",
       "      <th>Value</th>\n",
       "      <th>Room</th>\n",
       "    </tr>\n",
       "  </thead>\n",
       "  <tbody>\n",
       "    <tr>\n",
       "      <th>0</th>\n",
       "      <td>0</td>\n",
       "      <td>0</td>\n",
       "      <td>0</td>\n",
       "    </tr>\n",
       "  </tbody>\n",
       "</table>\n",
       "</div>"
      ],
      "text/plain": [
       "   Time  Value  Room\n",
       "0     0      0     0"
      ]
     },
     "execution_count": 13,
     "metadata": {},
     "output_type": "execute_result"
    }
   ],
   "source": [
    "nacounts = df_light.select([F.count(F.when(F.isnull(c), c)).alias(c) for c in df_light.columns]).toPandas()\n",
    "nacounts"
   ]
  },
  {
   "cell_type": "code",
   "execution_count": 14,
   "metadata": {},
   "outputs": [
    {
     "data": {
      "text/html": [
       "<table border='1'>\n",
       "<tr><th>summary</th><th>Time</th><th>Value</th><th>Room</th></tr>\n",
       "<tr><td>count</td><td>6571463</td><td>6571463</td><td>6571463</td></tr>\n",
       "<tr><td>mean</td><td>1.3776347839036963E9</td><td>82.26155652097562</td><td>578.8782745160211</td></tr>\n",
       "<tr><td>stddev</td><td>197935.66398888963</td><td>310.1547096557644</td><td>125.02400109924437</td></tr>\n",
       "<tr><td>min</td><td>1377292829</td><td>0.0</td><td>413</td></tr>\n",
       "<tr><td>max</td><td>1378018369</td><td>30551.0</td><td>776</td></tr>\n",
       "</table>\n"
      ],
      "text/plain": [
       "+-------+--------------------+-----------------+------------------+\n",
       "|summary|                Time|            Value|              Room|\n",
       "+-------+--------------------+-----------------+------------------+\n",
       "|  count|             6571463|          6571463|           6571463|\n",
       "|   mean|1.3776347839036963E9|82.26155652097562| 578.8782745160211|\n",
       "| stddev|  197935.66398888963|310.1547096557644|125.02400109924437|\n",
       "|    min|          1377292829|              0.0|               413|\n",
       "|    max|          1378018369|          30551.0|               776|\n",
       "+-------+--------------------+-----------------+------------------+"
      ]
     },
     "execution_count": 14,
     "metadata": {},
     "output_type": "execute_result"
    }
   ],
   "source": [
    "df_light.describe()"
   ]
  },
  {
   "cell_type": "code",
   "execution_count": 15,
   "metadata": {},
   "outputs": [
    {
     "data": {
      "text/html": [
       "<table border='1'>\n",
       "<tr><th>Time</th><th>Value</th><th>Room</th></tr>\n",
       "<tr><td>1377299107</td><td>23.93</td><td>413</td></tr>\n",
       "<tr><td>1377299108</td><td>23.94</td><td>413</td></tr>\n",
       "<tr><td>1377299126</td><td>23.93</td><td>413</td></tr>\n",
       "<tr><td>1377299131</td><td>23.93</td><td>413</td></tr>\n",
       "<tr><td>1377299136</td><td>23.92</td><td>413</td></tr>\n",
       "<tr><td>1377299141</td><td>23.92</td><td>413</td></tr>\n",
       "<tr><td>1377299146</td><td>23.92</td><td>413</td></tr>\n",
       "<tr><td>1377299151</td><td>23.93</td><td>413</td></tr>\n",
       "<tr><td>1377299156</td><td>23.93</td><td>413</td></tr>\n",
       "<tr><td>1377299161</td><td>23.93</td><td>413</td></tr>\n",
       "<tr><td>1377299166</td><td>23.94</td><td>413</td></tr>\n",
       "<tr><td>1377299171</td><td>23.94</td><td>413</td></tr>\n",
       "<tr><td>1377299176</td><td>23.94</td><td>413</td></tr>\n",
       "<tr><td>1377299181</td><td>23.94</td><td>413</td></tr>\n",
       "<tr><td>1377299186</td><td>23.94</td><td>413</td></tr>\n",
       "<tr><td>1377299191</td><td>23.94</td><td>413</td></tr>\n",
       "<tr><td>1377299196</td><td>23.94</td><td>413</td></tr>\n",
       "<tr><td>1377299201</td><td>23.93</td><td>413</td></tr>\n",
       "<tr><td>1377299206</td><td>23.94</td><td>413</td></tr>\n",
       "<tr><td>1377299211</td><td>23.94</td><td>413</td></tr>\n",
       "</table>\n",
       "only showing top 20 rows\n"
      ],
      "text/plain": [
       "+----------+-----+----+\n",
       "|      Time|Value|Room|\n",
       "+----------+-----+----+\n",
       "|1377299107|23.93| 413|\n",
       "|1377299108|23.94| 413|\n",
       "|1377299126|23.93| 413|\n",
       "|1377299131|23.93| 413|\n",
       "|1377299136|23.92| 413|\n",
       "|1377299141|23.92| 413|\n",
       "|1377299146|23.92| 413|\n",
       "|1377299151|23.93| 413|\n",
       "|1377299156|23.93| 413|\n",
       "|1377299161|23.93| 413|\n",
       "|1377299166|23.94| 413|\n",
       "|1377299171|23.94| 413|\n",
       "|1377299176|23.94| 413|\n",
       "|1377299181|23.94| 413|\n",
       "|1377299186|23.94| 413|\n",
       "|1377299191|23.94| 413|\n",
       "|1377299196|23.94| 413|\n",
       "|1377299201|23.93| 413|\n",
       "|1377299206|23.94| 413|\n",
       "|1377299211|23.94| 413|\n",
       "+----------+-----+----+\n",
       "only showing top 20 rows"
      ]
     },
     "execution_count": 15,
     "metadata": {},
     "output_type": "execute_result"
    }
   ],
   "source": [
    "df_temperature"
   ]
  },
  {
   "cell_type": "code",
   "execution_count": 16,
   "metadata": {},
   "outputs": [
    {
     "data": {
      "text/html": [
       "<div>\n",
       "<style scoped>\n",
       "    .dataframe tbody tr th:only-of-type {\n",
       "        vertical-align: middle;\n",
       "    }\n",
       "\n",
       "    .dataframe tbody tr th {\n",
       "        vertical-align: top;\n",
       "    }\n",
       "\n",
       "    .dataframe thead th {\n",
       "        text-align: right;\n",
       "    }\n",
       "</style>\n",
       "<table border=\"1\" class=\"dataframe\">\n",
       "  <thead>\n",
       "    <tr style=\"text-align: right;\">\n",
       "      <th></th>\n",
       "      <th>Time</th>\n",
       "      <th>Value</th>\n",
       "      <th>Room</th>\n",
       "    </tr>\n",
       "  </thead>\n",
       "  <tbody>\n",
       "    <tr>\n",
       "      <th>0</th>\n",
       "      <td>0</td>\n",
       "      <td>0</td>\n",
       "      <td>0</td>\n",
       "    </tr>\n",
       "  </tbody>\n",
       "</table>\n",
       "</div>"
      ],
      "text/plain": [
       "   Time  Value  Room\n",
       "0     0      0     0"
      ]
     },
     "execution_count": 16,
     "metadata": {},
     "output_type": "execute_result"
    }
   ],
   "source": [
    "nacounts = df_temperature.select([F.count(F.when(F.isnull(c), c)).alias(c) for c in df_temperature.columns]).toPandas()\n",
    "nacounts"
   ]
  },
  {
   "cell_type": "code",
   "execution_count": 17,
   "metadata": {},
   "outputs": [
    {
     "data": {
      "text/html": [
       "<table border='1'>\n",
       "<tr><th>summary</th><th>Time</th><th>Value</th><th>Room</th></tr>\n",
       "<tr><td>count</td><td>6571505</td><td>6571505</td><td>6571505</td></tr>\n",
       "<tr><td>mean</td><td>1.3776347835199444E9</td><td>23.970198924024434</td><td>578.8783621943661</td></tr>\n",
       "<tr><td>stddev</td><td>197934.3095529147</td><td>21.191679563973466</td><td>125.02389562585525</td></tr>\n",
       "<tr><td>min</td><td>1377292829</td><td>-40.1</td><td>413</td></tr>\n",
       "<tr><td>max</td><td>1378018369</td><td>579.27</td><td>776</td></tr>\n",
       "</table>\n"
      ],
      "text/plain": [
       "+-------+--------------------+------------------+------------------+\n",
       "|summary|                Time|             Value|              Room|\n",
       "+-------+--------------------+------------------+------------------+\n",
       "|  count|             6571505|           6571505|           6571505|\n",
       "|   mean|1.3776347835199444E9|23.970198924024434| 578.8783621943661|\n",
       "| stddev|   197934.3095529147|21.191679563973466|125.02389562585525|\n",
       "|    min|          1377292829|             -40.1|               413|\n",
       "|    max|          1378018369|            579.27|               776|\n",
       "+-------+--------------------+------------------+------------------+"
      ]
     },
     "execution_count": 17,
     "metadata": {},
     "output_type": "execute_result"
    }
   ],
   "source": [
    "df_temperature.describe()"
   ]
  },
  {
   "cell_type": "code",
   "execution_count": 18,
   "metadata": {},
   "outputs": [
    {
     "data": {
      "text/html": [
       "<table border='1'>\n",
       "<tr><th>Time</th><th>Value</th><th>Room</th></tr>\n",
       "<tr><td>1377299108</td><td>0.0</td><td>413</td></tr>\n",
       "<tr><td>1377299126</td><td>0.0</td><td>413</td></tr>\n",
       "<tr><td>1377299127</td><td>0.0</td><td>413</td></tr>\n",
       "<tr><td>1377299130</td><td>0.0</td><td>413</td></tr>\n",
       "<tr><td>1377299139</td><td>0.0</td><td>413</td></tr>\n",
       "<tr><td>1377299149</td><td>0.0</td><td>413</td></tr>\n",
       "<tr><td>1377299159</td><td>0.0</td><td>413</td></tr>\n",
       "<tr><td>1377299169</td><td>0.0</td><td>413</td></tr>\n",
       "<tr><td>1377299179</td><td>0.0</td><td>413</td></tr>\n",
       "<tr><td>1377299189</td><td>0.0</td><td>413</td></tr>\n",
       "<tr><td>1377299199</td><td>0.0</td><td>413</td></tr>\n",
       "<tr><td>1377299209</td><td>0.0</td><td>413</td></tr>\n",
       "<tr><td>1377299219</td><td>0.0</td><td>413</td></tr>\n",
       "<tr><td>1377299229</td><td>0.0</td><td>413</td></tr>\n",
       "<tr><td>1377299239</td><td>0.0</td><td>413</td></tr>\n",
       "<tr><td>1377299249</td><td>0.0</td><td>413</td></tr>\n",
       "<tr><td>1377299259</td><td>0.0</td><td>413</td></tr>\n",
       "<tr><td>1377299269</td><td>0.0</td><td>413</td></tr>\n",
       "<tr><td>1377299279</td><td>0.0</td><td>413</td></tr>\n",
       "<tr><td>1377299289</td><td>0.0</td><td>413</td></tr>\n",
       "</table>\n",
       "only showing top 20 rows\n"
      ],
      "text/plain": [
       "+----------+-----+----+\n",
       "|      Time|Value|Room|\n",
       "+----------+-----+----+\n",
       "|1377299108|  0.0| 413|\n",
       "|1377299126|  0.0| 413|\n",
       "|1377299127|  0.0| 413|\n",
       "|1377299130|  0.0| 413|\n",
       "|1377299139|  0.0| 413|\n",
       "|1377299149|  0.0| 413|\n",
       "|1377299159|  0.0| 413|\n",
       "|1377299169|  0.0| 413|\n",
       "|1377299179|  0.0| 413|\n",
       "|1377299189|  0.0| 413|\n",
       "|1377299199|  0.0| 413|\n",
       "|1377299209|  0.0| 413|\n",
       "|1377299219|  0.0| 413|\n",
       "|1377299229|  0.0| 413|\n",
       "|1377299239|  0.0| 413|\n",
       "|1377299249|  0.0| 413|\n",
       "|1377299259|  0.0| 413|\n",
       "|1377299269|  0.0| 413|\n",
       "|1377299279|  0.0| 413|\n",
       "|1377299289|  0.0| 413|\n",
       "+----------+-----+----+\n",
       "only showing top 20 rows"
      ]
     },
     "execution_count": 18,
     "metadata": {},
     "output_type": "execute_result"
    }
   ],
   "source": [
    "df_pir"
   ]
  },
  {
   "cell_type": "code",
   "execution_count": 19,
   "metadata": {},
   "outputs": [
    {
     "data": {
      "text/html": [
       "<div>\n",
       "<style scoped>\n",
       "    .dataframe tbody tr th:only-of-type {\n",
       "        vertical-align: middle;\n",
       "    }\n",
       "\n",
       "    .dataframe tbody tr th {\n",
       "        vertical-align: top;\n",
       "    }\n",
       "\n",
       "    .dataframe thead th {\n",
       "        text-align: right;\n",
       "    }\n",
       "</style>\n",
       "<table border=\"1\" class=\"dataframe\">\n",
       "  <thead>\n",
       "    <tr style=\"text-align: right;\">\n",
       "      <th></th>\n",
       "      <th>Time</th>\n",
       "      <th>Value</th>\n",
       "      <th>Room</th>\n",
       "    </tr>\n",
       "  </thead>\n",
       "  <tbody>\n",
       "    <tr>\n",
       "      <th>0</th>\n",
       "      <td>0</td>\n",
       "      <td>0</td>\n",
       "      <td>0</td>\n",
       "    </tr>\n",
       "  </tbody>\n",
       "</table>\n",
       "</div>"
      ],
      "text/plain": [
       "   Time  Value  Room\n",
       "0     0      0     0"
      ]
     },
     "execution_count": 19,
     "metadata": {},
     "output_type": "execute_result"
    }
   ],
   "source": [
    "nacounts = df_pir.select([F.count(F.when(F.isnull(c), c)).alias(c) for c in df_pir.columns]).toPandas()\n",
    "nacounts"
   ]
  },
  {
   "cell_type": "code",
   "execution_count": 20,
   "metadata": {},
   "outputs": [
    {
     "data": {
      "text/html": [
       "<table border='1'>\n",
       "<tr><th>summary</th><th>Time</th><th>Value</th><th>Room</th></tr>\n",
       "<tr><td>count</td><td>3593953</td><td>3593953</td><td>3593953</td></tr>\n",
       "<tr><td>mean</td><td>1.3776585765605793E9</td><td>1.7543006266359076</td><td>579.7942800863254</td></tr>\n",
       "<tr><td>stddev</td><td>207686.75581655867</td><td>19.345402086673538</td><td>125.1627621731147</td></tr>\n",
       "<tr><td>min</td><td>1377270000</td><td>0.0</td><td>413</td></tr>\n",
       "<tr><td>max</td><td>1378018739</td><td>34456.0</td><td>776</td></tr>\n",
       "</table>\n"
      ],
      "text/plain": [
       "+-------+--------------------+------------------+-----------------+\n",
       "|summary|                Time|             Value|             Room|\n",
       "+-------+--------------------+------------------+-----------------+\n",
       "|  count|             3593953|           3593953|          3593953|\n",
       "|   mean|1.3776585765605793E9|1.7543006266359076|579.7942800863254|\n",
       "| stddev|  207686.75581655867|19.345402086673538|125.1627621731147|\n",
       "|    min|          1377270000|               0.0|              413|\n",
       "|    max|          1378018739|           34456.0|              776|\n",
       "+-------+--------------------+------------------+-----------------+"
      ]
     },
     "execution_count": 20,
     "metadata": {},
     "output_type": "execute_result"
    }
   ],
   "source": [
    "df_pir.describe()"
   ]
  },
  {
   "cell_type": "code",
   "execution_count": 21,
   "metadata": {},
   "outputs": [
    {
     "name": "stdout",
     "output_type": "stream",
     "text": [
      "root\n",
      " |-- Time: string (nullable = true)\n",
      " |-- Value: float (nullable = true)\n",
      " |-- Room: string (nullable = true)\n",
      "\n"
     ]
    }
   ],
   "source": [
    "df_pir.printSchema()"
   ]
  },
  {
   "cell_type": "code",
   "execution_count": 22,
   "metadata": {},
   "outputs": [],
   "source": [
    "def join_with_aliases(left, right, on, how, right_prefix):\n",
    "    renamed_right = right.selectExpr(\n",
    "        [\n",
    "            col + f\" as {col}_{right_prefix}\"\n",
    "            for col in df_humidity.columns\n",
    "            if col not in on\n",
    "        ]\n",
    "        + on\n",
    "    )\n",
    "    right_on = [f\"{x}{right_prefix}\" for x in on]\n",
    "    return left.join(renamed_right, on=on, how=how)"
   ]
  },
  {
   "cell_type": "code",
   "execution_count": 23,
   "metadata": {},
   "outputs": [
    {
     "data": {
      "text/html": [
       "<table border='1'>\n",
       "<tr><th>Room</th><th>Time</th><th>Value</th><th>Value_humidity</th><th>Value_temperature</th><th>Value_light</th><th>Value_pir</th></tr>\n",
       "<tr><td>415</td><td>1377650743</td><td>611.0</td><td>54.61</td><td>24.08</td><td>61.0</td><td>0.0</td></tr>\n",
       "<tr><td>415</td><td>1377656833</td><td>460.0</td><td>55.58</td><td>23.71</td><td>24.0</td><td>0.0</td></tr>\n",
       "<tr><td>415</td><td>1377657993</td><td>472.0</td><td>55.92</td><td>23.63</td><td>9.0</td><td>0.0</td></tr>\n",
       "<tr><td>415</td><td>1377660833</td><td>465.0</td><td>56.57</td><td>23.47</td><td>4.0</td><td>0.0</td></tr>\n",
       "<tr><td>415</td><td>1377666003</td><td>477.0</td><td>57.41</td><td>23.28</td><td>4.0</td><td>0.0</td></tr>\n",
       "<tr><td>415</td><td>1377667093</td><td>462.0</td><td>57.41</td><td>23.28</td><td>4.0</td><td>0.0</td></tr>\n",
       "<tr><td>415</td><td>1377692382</td><td>462.0</td><td>58.33</td><td>22.61</td><td>4.0</td><td>0.0</td></tr>\n",
       "<tr><td>415</td><td>1377694542</td><td>454.0</td><td>58.3</td><td>22.56</td><td>3.0</td><td>0.0</td></tr>\n",
       "<tr><td>415</td><td>1377695762</td><td>460.0</td><td>58.33</td><td>22.52</td><td>4.0</td><td>0.0</td></tr>\n",
       "<tr><td>415</td><td>1377696862</td><td>455.0</td><td>58.39</td><td>22.51</td><td>4.0</td><td>0.0</td></tr>\n",
       "<tr><td>415</td><td>1377697842</td><td>450.0</td><td>58.55</td><td>22.49</td><td>5.0</td><td>0.0</td></tr>\n",
       "<tr><td>415</td><td>1377700162</td><td>463.0</td><td>58.73</td><td>22.48</td><td>13.0</td><td>0.0</td></tr>\n",
       "<tr><td>415</td><td>1377730331</td><td>646.0</td><td>57.84</td><td>23.82</td><td>146.0</td><td>0.0</td></tr>\n",
       "<tr><td>417</td><td>1377554286</td><td>453.0</td><td>54.89</td><td>23.53</td><td>71.0</td><td>0.0</td></tr>\n",
       "<tr><td>417</td><td>1377720458</td><td>441.0</td><td>57.84</td><td>23.39</td><td>84.0</td><td>0.0</td></tr>\n",
       "<tr><td>417</td><td>1377747657</td><td>345.0</td><td>59.19</td><td>23.52</td><td>3.0</td><td>0.0</td></tr>\n",
       "<tr><td>419</td><td>1377542898</td><td>785.0</td><td>55.3</td><td>23.54</td><td>122.0</td><td>25.0</td></tr>\n",
       "<tr><td>419</td><td>1377612137</td><td>436.0</td><td>53.1</td><td>22.19</td><td>20.0</td><td>0.0</td></tr>\n",
       "<tr><td>419</td><td>1377620794</td><td>442.0</td><td>55.05</td><td>22.32</td><td>99.0</td><td>0.0</td></tr>\n",
       "<tr><td>419</td><td>1377841801</td><td>449.0</td><td>60.86</td><td>22.86</td><td>26.0</td><td>0.0</td></tr>\n",
       "</table>\n",
       "only showing top 20 rows\n"
      ],
      "text/plain": [
       "+----+----------+-----+--------------+-----------------+-----------+---------+\n",
       "|Room|      Time|Value|Value_humidity|Value_temperature|Value_light|Value_pir|\n",
       "+----+----------+-----+--------------+-----------------+-----------+---------+\n",
       "| 415|1377650743|611.0|         54.61|            24.08|       61.0|      0.0|\n",
       "| 415|1377656833|460.0|         55.58|            23.71|       24.0|      0.0|\n",
       "| 415|1377657993|472.0|         55.92|            23.63|        9.0|      0.0|\n",
       "| 415|1377660833|465.0|         56.57|            23.47|        4.0|      0.0|\n",
       "| 415|1377666003|477.0|         57.41|            23.28|        4.0|      0.0|\n",
       "| 415|1377667093|462.0|         57.41|            23.28|        4.0|      0.0|\n",
       "| 415|1377692382|462.0|         58.33|            22.61|        4.0|      0.0|\n",
       "| 415|1377694542|454.0|          58.3|            22.56|        3.0|      0.0|\n",
       "| 415|1377695762|460.0|         58.33|            22.52|        4.0|      0.0|\n",
       "| 415|1377696862|455.0|         58.39|            22.51|        4.0|      0.0|\n",
       "| 415|1377697842|450.0|         58.55|            22.49|        5.0|      0.0|\n",
       "| 415|1377700162|463.0|         58.73|            22.48|       13.0|      0.0|\n",
       "| 415|1377730331|646.0|         57.84|            23.82|      146.0|      0.0|\n",
       "| 417|1377554286|453.0|         54.89|            23.53|       71.0|      0.0|\n",
       "| 417|1377720458|441.0|         57.84|            23.39|       84.0|      0.0|\n",
       "| 417|1377747657|345.0|         59.19|            23.52|        3.0|      0.0|\n",
       "| 419|1377542898|785.0|          55.3|            23.54|      122.0|     25.0|\n",
       "| 419|1377612137|436.0|          53.1|            22.19|       20.0|      0.0|\n",
       "| 419|1377620794|442.0|         55.05|            22.32|       99.0|      0.0|\n",
       "| 419|1377841801|449.0|         60.86|            22.86|       26.0|      0.0|\n",
       "+----+----------+-----+--------------+-----------------+-----------+---------+\n",
       "only showing top 20 rows"
      ]
     },
     "execution_count": 23,
     "metadata": {},
     "output_type": "execute_result"
    }
   ],
   "source": [
    "co2\n",
    "\n",
    "co2_hum = join_with_aliases(\n",
    "   left=df_co2,\n",
    "   right=df_humidity,\n",
    "   on=[\"Room\",\"Time\"],\n",
    "   how=\"inner\",\n",
    "   right_prefix=\"humidity\"\n",
    ")\n",
    "\n",
    "co2_hum_temperature = join_with_aliases(\n",
    "   left=co2_hum,\n",
    "   right=df_temperature,\n",
    "   on=[\"Room\",\"Time\"],\n",
    "   how=\"inner\",\n",
    "   right_prefix=\"temperature\"\n",
    ")\n",
    "\n",
    "co2_hum_temperature_light = join_with_aliases(\n",
    "   left=co2_hum_temperature,\n",
    "   right=df_light,\n",
    "   on=[\"Room\",\"Time\"],\n",
    "   how=\"inner\",\n",
    "   right_prefix=\"light\"\n",
    ")\n",
    "\n",
    "co2_hum_temperature_light_pir = join_with_aliases(\n",
    "   left=co2_hum_temperature_light,\n",
    "   right=df_pir,\n",
    "   on=[\"Room\",\"Time\"],\n",
    "   how=\"inner\",\n",
    "   right_prefix=\"pir\"\n",
    ")\n",
    "\n",
    "co2_hum_temperature_light_pir"
   ]
  },
  {
   "cell_type": "code",
   "execution_count": 24,
   "metadata": {},
   "outputs": [],
   "source": [
    "co2_hum_temperature_light_pir = co2_hum_temperature_light_pir.withColumnRenamed(\"Value\", \"Value_co2\")"
   ]
  },
  {
   "cell_type": "code",
   "execution_count": 25,
   "metadata": {},
   "outputs": [
    {
     "data": {
      "text/html": [
       "<table border='1'>\n",
       "<tr><th>Room</th><th>Time</th><th>Value_co2</th><th>Value_humidity</th><th>Value_temperature</th><th>Value_light</th><th>Value_pir</th></tr>\n",
       "<tr><td>415</td><td>1377650743</td><td>611.0</td><td>54.61</td><td>24.08</td><td>61.0</td><td>0.0</td></tr>\n",
       "<tr><td>415</td><td>1377656833</td><td>460.0</td><td>55.58</td><td>23.71</td><td>24.0</td><td>0.0</td></tr>\n",
       "<tr><td>415</td><td>1377657993</td><td>472.0</td><td>55.92</td><td>23.63</td><td>9.0</td><td>0.0</td></tr>\n",
       "<tr><td>415</td><td>1377660833</td><td>465.0</td><td>56.57</td><td>23.47</td><td>4.0</td><td>0.0</td></tr>\n",
       "<tr><td>415</td><td>1377666003</td><td>477.0</td><td>57.41</td><td>23.28</td><td>4.0</td><td>0.0</td></tr>\n",
       "<tr><td>415</td><td>1377667093</td><td>462.0</td><td>57.41</td><td>23.28</td><td>4.0</td><td>0.0</td></tr>\n",
       "<tr><td>415</td><td>1377692382</td><td>462.0</td><td>58.33</td><td>22.61</td><td>4.0</td><td>0.0</td></tr>\n",
       "<tr><td>415</td><td>1377694542</td><td>454.0</td><td>58.3</td><td>22.56</td><td>3.0</td><td>0.0</td></tr>\n",
       "<tr><td>415</td><td>1377695762</td><td>460.0</td><td>58.33</td><td>22.52</td><td>4.0</td><td>0.0</td></tr>\n",
       "<tr><td>415</td><td>1377696862</td><td>455.0</td><td>58.39</td><td>22.51</td><td>4.0</td><td>0.0</td></tr>\n",
       "<tr><td>415</td><td>1377697842</td><td>450.0</td><td>58.55</td><td>22.49</td><td>5.0</td><td>0.0</td></tr>\n",
       "<tr><td>415</td><td>1377700162</td><td>463.0</td><td>58.73</td><td>22.48</td><td>13.0</td><td>0.0</td></tr>\n",
       "<tr><td>415</td><td>1377730331</td><td>646.0</td><td>57.84</td><td>23.82</td><td>146.0</td><td>0.0</td></tr>\n",
       "<tr><td>417</td><td>1377554286</td><td>453.0</td><td>54.89</td><td>23.53</td><td>71.0</td><td>0.0</td></tr>\n",
       "<tr><td>417</td><td>1377720458</td><td>441.0</td><td>57.84</td><td>23.39</td><td>84.0</td><td>0.0</td></tr>\n",
       "<tr><td>417</td><td>1377747657</td><td>345.0</td><td>59.19</td><td>23.52</td><td>3.0</td><td>0.0</td></tr>\n",
       "<tr><td>419</td><td>1377542898</td><td>785.0</td><td>55.3</td><td>23.54</td><td>122.0</td><td>25.0</td></tr>\n",
       "<tr><td>419</td><td>1377612137</td><td>436.0</td><td>53.1</td><td>22.19</td><td>20.0</td><td>0.0</td></tr>\n",
       "<tr><td>419</td><td>1377620794</td><td>442.0</td><td>55.05</td><td>22.32</td><td>99.0</td><td>0.0</td></tr>\n",
       "<tr><td>419</td><td>1377841801</td><td>449.0</td><td>60.86</td><td>22.86</td><td>26.0</td><td>0.0</td></tr>\n",
       "</table>\n",
       "only showing top 20 rows\n"
      ],
      "text/plain": [
       "+----+----------+---------+--------------+-----------------+-----------+---------+\n",
       "|Room|      Time|Value_co2|Value_humidity|Value_temperature|Value_light|Value_pir|\n",
       "+----+----------+---------+--------------+-----------------+-----------+---------+\n",
       "| 415|1377650743|    611.0|         54.61|            24.08|       61.0|      0.0|\n",
       "| 415|1377656833|    460.0|         55.58|            23.71|       24.0|      0.0|\n",
       "| 415|1377657993|    472.0|         55.92|            23.63|        9.0|      0.0|\n",
       "| 415|1377660833|    465.0|         56.57|            23.47|        4.0|      0.0|\n",
       "| 415|1377666003|    477.0|         57.41|            23.28|        4.0|      0.0|\n",
       "| 415|1377667093|    462.0|         57.41|            23.28|        4.0|      0.0|\n",
       "| 415|1377692382|    462.0|         58.33|            22.61|        4.0|      0.0|\n",
       "| 415|1377694542|    454.0|          58.3|            22.56|        3.0|      0.0|\n",
       "| 415|1377695762|    460.0|         58.33|            22.52|        4.0|      0.0|\n",
       "| 415|1377696862|    455.0|         58.39|            22.51|        4.0|      0.0|\n",
       "| 415|1377697842|    450.0|         58.55|            22.49|        5.0|      0.0|\n",
       "| 415|1377700162|    463.0|         58.73|            22.48|       13.0|      0.0|\n",
       "| 415|1377730331|    646.0|         57.84|            23.82|      146.0|      0.0|\n",
       "| 417|1377554286|    453.0|         54.89|            23.53|       71.0|      0.0|\n",
       "| 417|1377720458|    441.0|         57.84|            23.39|       84.0|      0.0|\n",
       "| 417|1377747657|    345.0|         59.19|            23.52|        3.0|      0.0|\n",
       "| 419|1377542898|    785.0|          55.3|            23.54|      122.0|     25.0|\n",
       "| 419|1377612137|    436.0|          53.1|            22.19|       20.0|      0.0|\n",
       "| 419|1377620794|    442.0|         55.05|            22.32|       99.0|      0.0|\n",
       "| 419|1377841801|    449.0|         60.86|            22.86|       26.0|      0.0|\n",
       "+----+----------+---------+--------------+-----------------+-----------+---------+\n",
       "only showing top 20 rows"
      ]
     },
     "execution_count": 25,
     "metadata": {},
     "output_type": "execute_result"
    }
   ],
   "source": [
    "co2_hum_temperature_light_pir"
   ]
  },
  {
   "cell_type": "code",
   "execution_count": 26,
   "metadata": {},
   "outputs": [
    {
     "data": {
      "text/plain": [
       "135386"
      ]
     },
     "execution_count": 26,
     "metadata": {},
     "output_type": "execute_result"
    }
   ],
   "source": [
    "co2_hum_temperature_light_pir.count()"
   ]
  },
  {
   "cell_type": "code",
   "execution_count": 27,
   "metadata": {},
   "outputs": [],
   "source": [
    "co2_hum_temperature_light_pir_ts = co2_hum_temperature_light_pir.withColumn('Time', F.from_unixtime('Time').cast(TimestampType()))"
   ]
  },
  {
   "cell_type": "code",
   "execution_count": 28,
   "metadata": {},
   "outputs": [
    {
     "data": {
      "text/html": [
       "<table border='1'>\n",
       "<tr><th>Room</th><th>Time</th><th>Value_co2</th><th>Value_humidity</th><th>Value_temperature</th><th>Value_light</th><th>Value_pir</th></tr>\n",
       "<tr><td>415</td><td>2013-08-28 03:45:43</td><td>611.0</td><td>54.61</td><td>24.08</td><td>61.0</td><td>0.0</td></tr>\n",
       "<tr><td>415</td><td>2013-08-28 05:27:13</td><td>460.0</td><td>55.58</td><td>23.71</td><td>24.0</td><td>0.0</td></tr>\n",
       "<tr><td>415</td><td>2013-08-28 05:46:33</td><td>472.0</td><td>55.92</td><td>23.63</td><td>9.0</td><td>0.0</td></tr>\n",
       "<tr><td>415</td><td>2013-08-28 06:33:53</td><td>465.0</td><td>56.57</td><td>23.47</td><td>4.0</td><td>0.0</td></tr>\n",
       "<tr><td>415</td><td>2013-08-28 08:00:03</td><td>477.0</td><td>57.41</td><td>23.28</td><td>4.0</td><td>0.0</td></tr>\n",
       "<tr><td>415</td><td>2013-08-28 08:18:13</td><td>462.0</td><td>57.41</td><td>23.28</td><td>4.0</td><td>0.0</td></tr>\n",
       "<tr><td>415</td><td>2013-08-28 15:19:42</td><td>462.0</td><td>58.33</td><td>22.61</td><td>4.0</td><td>0.0</td></tr>\n",
       "<tr><td>415</td><td>2013-08-28 15:55:42</td><td>454.0</td><td>58.3</td><td>22.56</td><td>3.0</td><td>0.0</td></tr>\n",
       "<tr><td>415</td><td>2013-08-28 16:16:02</td><td>460.0</td><td>58.33</td><td>22.52</td><td>4.0</td><td>0.0</td></tr>\n",
       "<tr><td>415</td><td>2013-08-28 16:34:22</td><td>455.0</td><td>58.39</td><td>22.51</td><td>4.0</td><td>0.0</td></tr>\n",
       "<tr><td>415</td><td>2013-08-28 16:50:42</td><td>450.0</td><td>58.55</td><td>22.49</td><td>5.0</td><td>0.0</td></tr>\n",
       "<tr><td>415</td><td>2013-08-28 17:29:22</td><td>463.0</td><td>58.73</td><td>22.48</td><td>13.0</td><td>0.0</td></tr>\n",
       "<tr><td>415</td><td>2013-08-29 01:52:11</td><td>646.0</td><td>57.84</td><td>23.82</td><td>146.0</td><td>0.0</td></tr>\n",
       "<tr><td>417</td><td>2013-08-27 00:58:06</td><td>453.0</td><td>54.89</td><td>23.53</td><td>71.0</td><td>0.0</td></tr>\n",
       "<tr><td>417</td><td>2013-08-28 23:07:38</td><td>441.0</td><td>57.84</td><td>23.39</td><td>84.0</td><td>0.0</td></tr>\n",
       "<tr><td>417</td><td>2013-08-29 06:40:57</td><td>345.0</td><td>59.19</td><td>23.52</td><td>3.0</td><td>0.0</td></tr>\n",
       "<tr><td>419</td><td>2013-08-26 21:48:18</td><td>785.0</td><td>55.3</td><td>23.54</td><td>122.0</td><td>25.0</td></tr>\n",
       "<tr><td>419</td><td>2013-08-27 17:02:17</td><td>436.0</td><td>53.1</td><td>22.19</td><td>20.0</td><td>0.0</td></tr>\n",
       "<tr><td>419</td><td>2013-08-27 19:26:34</td><td>442.0</td><td>55.05</td><td>22.32</td><td>99.0</td><td>0.0</td></tr>\n",
       "<tr><td>419</td><td>2013-08-30 08:50:01</td><td>449.0</td><td>60.86</td><td>22.86</td><td>26.0</td><td>0.0</td></tr>\n",
       "</table>\n",
       "only showing top 20 rows\n"
      ],
      "text/plain": [
       "+----+-------------------+---------+--------------+-----------------+-----------+---------+\n",
       "|Room|               Time|Value_co2|Value_humidity|Value_temperature|Value_light|Value_pir|\n",
       "+----+-------------------+---------+--------------+-----------------+-----------+---------+\n",
       "| 415|2013-08-28 03:45:43|    611.0|         54.61|            24.08|       61.0|      0.0|\n",
       "| 415|2013-08-28 05:27:13|    460.0|         55.58|            23.71|       24.0|      0.0|\n",
       "| 415|2013-08-28 05:46:33|    472.0|         55.92|            23.63|        9.0|      0.0|\n",
       "| 415|2013-08-28 06:33:53|    465.0|         56.57|            23.47|        4.0|      0.0|\n",
       "| 415|2013-08-28 08:00:03|    477.0|         57.41|            23.28|        4.0|      0.0|\n",
       "| 415|2013-08-28 08:18:13|    462.0|         57.41|            23.28|        4.0|      0.0|\n",
       "| 415|2013-08-28 15:19:42|    462.0|         58.33|            22.61|        4.0|      0.0|\n",
       "| 415|2013-08-28 15:55:42|    454.0|          58.3|            22.56|        3.0|      0.0|\n",
       "| 415|2013-08-28 16:16:02|    460.0|         58.33|            22.52|        4.0|      0.0|\n",
       "| 415|2013-08-28 16:34:22|    455.0|         58.39|            22.51|        4.0|      0.0|\n",
       "| 415|2013-08-28 16:50:42|    450.0|         58.55|            22.49|        5.0|      0.0|\n",
       "| 415|2013-08-28 17:29:22|    463.0|         58.73|            22.48|       13.0|      0.0|\n",
       "| 415|2013-08-29 01:52:11|    646.0|         57.84|            23.82|      146.0|      0.0|\n",
       "| 417|2013-08-27 00:58:06|    453.0|         54.89|            23.53|       71.0|      0.0|\n",
       "| 417|2013-08-28 23:07:38|    441.0|         57.84|            23.39|       84.0|      0.0|\n",
       "| 417|2013-08-29 06:40:57|    345.0|         59.19|            23.52|        3.0|      0.0|\n",
       "| 419|2013-08-26 21:48:18|    785.0|          55.3|            23.54|      122.0|     25.0|\n",
       "| 419|2013-08-27 17:02:17|    436.0|          53.1|            22.19|       20.0|      0.0|\n",
       "| 419|2013-08-27 19:26:34|    442.0|         55.05|            22.32|       99.0|      0.0|\n",
       "| 419|2013-08-30 08:50:01|    449.0|         60.86|            22.86|       26.0|      0.0|\n",
       "+----+-------------------+---------+--------------+-----------------+-----------+---------+\n",
       "only showing top 20 rows"
      ]
     },
     "execution_count": 28,
     "metadata": {},
     "output_type": "execute_result"
    }
   ],
   "source": [
    "co2_hum_temperature_light_pir_ts"
   ]
  },
  {
   "cell_type": "code",
   "execution_count": 29,
   "metadata": {},
   "outputs": [],
   "source": [
    "co2_hum_temperature_light_pir_ts_sorted = co2_hum_temperature_light_pir_ts.sort(co2_hum_temperature_light_pir_ts.Time)"
   ]
  },
  {
   "cell_type": "code",
   "execution_count": 30,
   "metadata": {},
   "outputs": [
    {
     "data": {
      "text/html": [
       "<table border='1'>\n",
       "<tr><th>Room</th><th>Time</th><th>Value_co2</th><th>Value_humidity</th><th>Value_temperature</th><th>Value_light</th><th>Value_pir</th></tr>\n",
       "<tr><td>511</td><td>2013-08-24 02:04:53</td><td>387.0</td><td>52.75</td><td>22.62</td><td>252.0</td><td>0.0</td></tr>\n",
       "<tr><td>644</td><td>2013-08-24 02:04:57</td><td>465.0</td><td>52.4</td><td>22.8</td><td>165.0</td><td>0.0</td></tr>\n",
       "<tr><td>656A</td><td>2013-08-24 02:04:57</td><td>579.0</td><td>49.9</td><td>24.37</td><td>176.0</td><td>30.0</td></tr>\n",
       "<tr><td>648</td><td>2013-08-24 02:04:57</td><td>175.0</td><td>50.32</td><td>23.32</td><td>191.0</td><td>0.0</td></tr>\n",
       "<tr><td>558</td><td>2013-08-24 02:05:01</td><td>423.0</td><td>53.51</td><td>23.11</td><td>3.0</td><td>0.0</td></tr>\n",
       "<tr><td>564</td><td>2013-08-24 02:05:01</td><td>434.0</td><td>49.94</td><td>24.08</td><td>11.0</td><td>29.0</td></tr>\n",
       "<tr><td>666</td><td>2013-08-24 02:05:05</td><td>437.0</td><td>49.39</td><td>24.14</td><td>148.0</td><td>0.0</td></tr>\n",
       "<tr><td>664</td><td>2013-08-24 02:05:05</td><td>347.0</td><td>50.03</td><td>23.64</td><td>3.0</td><td>0.0</td></tr>\n",
       "<tr><td>668</td><td>2013-08-24 02:05:05</td><td>421.0</td><td>49.06</td><td>24.81</td><td>1977.0</td><td>0.0</td></tr>\n",
       "<tr><td>656B</td><td>2013-08-24 02:05:05</td><td>538.0</td><td>46.49</td><td>25.26</td><td>102.0</td><td>30.0</td></tr>\n",
       "<tr><td>413</td><td>2013-08-24 02:05:08</td><td>495.0</td><td>45.34</td><td>23.94</td><td>97.0</td><td>0.0</td></tr>\n",
       "<tr><td>511</td><td>2013-08-24 02:05:25</td><td>383.0</td><td>52.75</td><td>22.62</td><td>251.0</td><td>0.0</td></tr>\n",
       "<tr><td>776</td><td>2013-08-24 02:05:25</td><td>655.0</td><td>48.9</td><td>24.6</td><td>105.0</td><td>0.0</td></tr>\n",
       "<tr><td>746</td><td>2013-08-24 02:05:25</td><td>629.0</td><td>52.84</td><td>23.06</td><td>30.0</td><td>19.0</td></tr>\n",
       "<tr><td>510</td><td>2013-08-24 02:05:25</td><td>391.0</td><td>52.62</td><td>23.46</td><td>204.0</td><td>0.0</td></tr>\n",
       "<tr><td>564</td><td>2013-08-24 02:05:26</td><td>438.0</td><td>49.94</td><td>24.08</td><td>10.0</td><td>30.0</td></tr>\n",
       "<tr><td>621A</td><td>2013-08-24 02:05:26</td><td>396.0</td><td>55.23</td><td>22.22</td><td>126.0</td><td>0.0</td></tr>\n",
       "<tr><td>668</td><td>2013-08-24 02:05:26</td><td>426.0</td><td>49.1</td><td>24.81</td><td>2208.0</td><td>0.0</td></tr>\n",
       "<tr><td>648</td><td>2013-08-24 02:05:26</td><td>159.0</td><td>50.32</td><td>23.32</td><td>190.0</td><td>0.0</td></tr>\n",
       "<tr><td>734</td><td>2013-08-24 02:05:26</td><td>384.0</td><td>47.47</td><td>24.8</td><td>311.0</td><td>17.0</td></tr>\n",
       "</table>\n",
       "only showing top 20 rows\n"
      ],
      "text/plain": [
       "+----+-------------------+---------+--------------+-----------------+-----------+---------+\n",
       "|Room|               Time|Value_co2|Value_humidity|Value_temperature|Value_light|Value_pir|\n",
       "+----+-------------------+---------+--------------+-----------------+-----------+---------+\n",
       "| 511|2013-08-24 02:04:53|    387.0|         52.75|            22.62|      252.0|      0.0|\n",
       "| 648|2013-08-24 02:04:57|    175.0|         50.32|            23.32|      191.0|      0.0|\n",
       "| 644|2013-08-24 02:04:57|    465.0|          52.4|             22.8|      165.0|      0.0|\n",
       "|656A|2013-08-24 02:04:57|    579.0|          49.9|            24.37|      176.0|     30.0|\n",
       "| 564|2013-08-24 02:05:01|    434.0|         49.94|            24.08|       11.0|     29.0|\n",
       "| 558|2013-08-24 02:05:01|    423.0|         53.51|            23.11|        3.0|      0.0|\n",
       "|656B|2013-08-24 02:05:05|    538.0|         46.49|            25.26|      102.0|     30.0|\n",
       "| 666|2013-08-24 02:05:05|    437.0|         49.39|            24.14|      148.0|      0.0|\n",
       "| 664|2013-08-24 02:05:05|    347.0|         50.03|            23.64|        3.0|      0.0|\n",
       "| 668|2013-08-24 02:05:05|    421.0|         49.06|            24.81|     1977.0|      0.0|\n",
       "| 413|2013-08-24 02:05:08|    495.0|         45.34|            23.94|       97.0|      0.0|\n",
       "| 511|2013-08-24 02:05:25|    383.0|         52.75|            22.62|      251.0|      0.0|\n",
       "| 776|2013-08-24 02:05:25|    655.0|          48.9|             24.6|      105.0|      0.0|\n",
       "| 746|2013-08-24 02:05:25|    629.0|         52.84|            23.06|       30.0|     19.0|\n",
       "| 510|2013-08-24 02:05:25|    391.0|         52.62|            23.46|      204.0|      0.0|\n",
       "| 734|2013-08-24 02:05:26|    384.0|         47.47|             24.8|      311.0|     17.0|\n",
       "|621A|2013-08-24 02:05:26|    396.0|         55.23|            22.22|      126.0|      0.0|\n",
       "| 668|2013-08-24 02:05:26|    426.0|          49.1|            24.81|     2208.0|      0.0|\n",
       "| 666|2013-08-24 02:05:26|    442.0|         49.42|            24.14|      149.0|      0.0|\n",
       "| 564|2013-08-24 02:05:26|    438.0|         49.94|            24.08|       10.0|     30.0|\n",
       "+----+-------------------+---------+--------------+-----------------+-----------+---------+\n",
       "only showing top 20 rows"
      ]
     },
     "execution_count": 30,
     "metadata": {},
     "output_type": "execute_result"
    }
   ],
   "source": [
    "co2_hum_temperature_light_pir_ts_sorted"
   ]
  },
  {
   "cell_type": "code",
   "execution_count": 31,
   "metadata": {},
   "outputs": [],
   "source": [
    "data = co2_hum_temperature_light_pir_ts_sorted.alias('data')"
   ]
  },
  {
   "cell_type": "code",
   "execution_count": 32,
   "metadata": {},
   "outputs": [
    {
     "data": {
      "text/html": [
       "<table border='1'>\n",
       "<tr><th>Room</th><th>Time</th><th>Value_co2</th><th>Value_humidity</th><th>Value_temperature</th><th>Value_light</th><th>Value_pir</th></tr>\n",
       "<tr><td>511</td><td>2013-08-24 02:04:53</td><td>387.0</td><td>52.75</td><td>22.62</td><td>252.0</td><td>0.0</td></tr>\n",
       "<tr><td>656A</td><td>2013-08-24 02:04:57</td><td>579.0</td><td>49.9</td><td>24.37</td><td>176.0</td><td>30.0</td></tr>\n",
       "<tr><td>644</td><td>2013-08-24 02:04:57</td><td>465.0</td><td>52.4</td><td>22.8</td><td>165.0</td><td>0.0</td></tr>\n",
       "<tr><td>648</td><td>2013-08-24 02:04:57</td><td>175.0</td><td>50.32</td><td>23.32</td><td>191.0</td><td>0.0</td></tr>\n",
       "<tr><td>564</td><td>2013-08-24 02:05:01</td><td>434.0</td><td>49.94</td><td>24.08</td><td>11.0</td><td>29.0</td></tr>\n",
       "<tr><td>558</td><td>2013-08-24 02:05:01</td><td>423.0</td><td>53.51</td><td>23.11</td><td>3.0</td><td>0.0</td></tr>\n",
       "<tr><td>668</td><td>2013-08-24 02:05:05</td><td>421.0</td><td>49.06</td><td>24.81</td><td>1977.0</td><td>0.0</td></tr>\n",
       "<tr><td>656B</td><td>2013-08-24 02:05:05</td><td>538.0</td><td>46.49</td><td>25.26</td><td>102.0</td><td>30.0</td></tr>\n",
       "<tr><td>664</td><td>2013-08-24 02:05:05</td><td>347.0</td><td>50.03</td><td>23.64</td><td>3.0</td><td>0.0</td></tr>\n",
       "<tr><td>666</td><td>2013-08-24 02:05:05</td><td>437.0</td><td>49.39</td><td>24.14</td><td>148.0</td><td>0.0</td></tr>\n",
       "<tr><td>413</td><td>2013-08-24 02:05:08</td><td>495.0</td><td>45.34</td><td>23.94</td><td>97.0</td><td>0.0</td></tr>\n",
       "<tr><td>511</td><td>2013-08-24 02:05:25</td><td>383.0</td><td>52.75</td><td>22.62</td><td>251.0</td><td>0.0</td></tr>\n",
       "<tr><td>746</td><td>2013-08-24 02:05:25</td><td>629.0</td><td>52.84</td><td>23.06</td><td>30.0</td><td>19.0</td></tr>\n",
       "<tr><td>776</td><td>2013-08-24 02:05:25</td><td>655.0</td><td>48.9</td><td>24.6</td><td>105.0</td><td>0.0</td></tr>\n",
       "<tr><td>510</td><td>2013-08-24 02:05:25</td><td>391.0</td><td>52.62</td><td>23.46</td><td>204.0</td><td>0.0</td></tr>\n",
       "<tr><td>734</td><td>2013-08-24 02:05:26</td><td>384.0</td><td>47.47</td><td>24.8</td><td>311.0</td><td>17.0</td></tr>\n",
       "<tr><td>564</td><td>2013-08-24 02:05:26</td><td>438.0</td><td>49.94</td><td>24.08</td><td>10.0</td><td>30.0</td></tr>\n",
       "<tr><td>648</td><td>2013-08-24 02:05:26</td><td>159.0</td><td>50.32</td><td>23.32</td><td>190.0</td><td>0.0</td></tr>\n",
       "<tr><td>621A</td><td>2013-08-24 02:05:26</td><td>396.0</td><td>55.23</td><td>22.22</td><td>126.0</td><td>0.0</td></tr>\n",
       "<tr><td>656A</td><td>2013-08-24 02:05:26</td><td>559.0</td><td>49.9</td><td>24.37</td><td>153.0</td><td>30.0</td></tr>\n",
       "</table>\n",
       "only showing top 20 rows\n"
      ],
      "text/plain": [
       "+----+-------------------+---------+--------------+-----------------+-----------+---------+\n",
       "|Room|               Time|Value_co2|Value_humidity|Value_temperature|Value_light|Value_pir|\n",
       "+----+-------------------+---------+--------------+-----------------+-----------+---------+\n",
       "| 511|2013-08-24 02:04:53|    387.0|         52.75|            22.62|      252.0|      0.0|\n",
       "| 644|2013-08-24 02:04:57|    465.0|          52.4|             22.8|      165.0|      0.0|\n",
       "| 648|2013-08-24 02:04:57|    175.0|         50.32|            23.32|      191.0|      0.0|\n",
       "|656A|2013-08-24 02:04:57|    579.0|          49.9|            24.37|      176.0|     30.0|\n",
       "| 558|2013-08-24 02:05:01|    423.0|         53.51|            23.11|        3.0|      0.0|\n",
       "| 564|2013-08-24 02:05:01|    434.0|         49.94|            24.08|       11.0|     29.0|\n",
       "| 664|2013-08-24 02:05:05|    347.0|         50.03|            23.64|        3.0|      0.0|\n",
       "| 668|2013-08-24 02:05:05|    421.0|         49.06|            24.81|     1977.0|      0.0|\n",
       "|656B|2013-08-24 02:05:05|    538.0|         46.49|            25.26|      102.0|     30.0|\n",
       "| 666|2013-08-24 02:05:05|    437.0|         49.39|            24.14|      148.0|      0.0|\n",
       "| 413|2013-08-24 02:05:08|    495.0|         45.34|            23.94|       97.0|      0.0|\n",
       "| 511|2013-08-24 02:05:25|    383.0|         52.75|            22.62|      251.0|      0.0|\n",
       "| 746|2013-08-24 02:05:25|    629.0|         52.84|            23.06|       30.0|     19.0|\n",
       "| 776|2013-08-24 02:05:25|    655.0|          48.9|             24.6|      105.0|      0.0|\n",
       "| 510|2013-08-24 02:05:25|    391.0|         52.62|            23.46|      204.0|      0.0|\n",
       "| 666|2013-08-24 02:05:26|    442.0|         49.42|            24.14|      149.0|      0.0|\n",
       "| 558|2013-08-24 02:05:26|    439.0|         53.51|            23.11|        4.0|      0.0|\n",
       "|621A|2013-08-24 02:05:26|    396.0|         55.23|            22.22|      126.0|      0.0|\n",
       "| 668|2013-08-24 02:05:26|    426.0|          49.1|            24.81|     2208.0|      0.0|\n",
       "| 734|2013-08-24 02:05:26|    384.0|         47.47|             24.8|      311.0|     17.0|\n",
       "+----+-------------------+---------+--------------+-----------------+-----------+---------+\n",
       "only showing top 20 rows"
      ]
     },
     "execution_count": 32,
     "metadata": {},
     "output_type": "execute_result"
    }
   ],
   "source": [
    "data"
   ]
  },
  {
   "cell_type": "code",
   "execution_count": 33,
   "metadata": {},
   "outputs": [
    {
     "data": {
      "text/html": [
       "<table border='1'>\n",
       "<tr><th>Room</th><th>Time</th><th>Value_co2</th><th>Value_humidity</th><th>Value_temperature</th><th>Value_light</th><th>Value_pir</th></tr>\n",
       "<tr><td>511</td><td>2013-08-24 02:04:53</td><td>387.0</td><td>52.75</td><td>22.62</td><td>252.0</td><td>0</td></tr>\n",
       "<tr><td>644</td><td>2013-08-24 02:04:57</td><td>465.0</td><td>52.4</td><td>22.8</td><td>165.0</td><td>0</td></tr>\n",
       "<tr><td>656A</td><td>2013-08-24 02:04:57</td><td>579.0</td><td>49.9</td><td>24.37</td><td>176.0</td><td>1</td></tr>\n",
       "<tr><td>648</td><td>2013-08-24 02:04:57</td><td>175.0</td><td>50.32</td><td>23.32</td><td>191.0</td><td>0</td></tr>\n",
       "<tr><td>564</td><td>2013-08-24 02:05:01</td><td>434.0</td><td>49.94</td><td>24.08</td><td>11.0</td><td>1</td></tr>\n",
       "<tr><td>558</td><td>2013-08-24 02:05:01</td><td>423.0</td><td>53.51</td><td>23.11</td><td>3.0</td><td>0</td></tr>\n",
       "<tr><td>656B</td><td>2013-08-24 02:05:05</td><td>538.0</td><td>46.49</td><td>25.26</td><td>102.0</td><td>1</td></tr>\n",
       "<tr><td>668</td><td>2013-08-24 02:05:05</td><td>421.0</td><td>49.06</td><td>24.81</td><td>1977.0</td><td>0</td></tr>\n",
       "<tr><td>664</td><td>2013-08-24 02:05:05</td><td>347.0</td><td>50.03</td><td>23.64</td><td>3.0</td><td>0</td></tr>\n",
       "<tr><td>666</td><td>2013-08-24 02:05:05</td><td>437.0</td><td>49.39</td><td>24.14</td><td>148.0</td><td>0</td></tr>\n",
       "<tr><td>413</td><td>2013-08-24 02:05:08</td><td>495.0</td><td>45.34</td><td>23.94</td><td>97.0</td><td>0</td></tr>\n",
       "<tr><td>511</td><td>2013-08-24 02:05:25</td><td>383.0</td><td>52.75</td><td>22.62</td><td>251.0</td><td>0</td></tr>\n",
       "<tr><td>746</td><td>2013-08-24 02:05:25</td><td>629.0</td><td>52.84</td><td>23.06</td><td>30.0</td><td>1</td></tr>\n",
       "<tr><td>510</td><td>2013-08-24 02:05:25</td><td>391.0</td><td>52.62</td><td>23.46</td><td>204.0</td><td>0</td></tr>\n",
       "<tr><td>776</td><td>2013-08-24 02:05:25</td><td>655.0</td><td>48.9</td><td>24.6</td><td>105.0</td><td>0</td></tr>\n",
       "<tr><td>734</td><td>2013-08-24 02:05:26</td><td>384.0</td><td>47.47</td><td>24.8</td><td>311.0</td><td>1</td></tr>\n",
       "<tr><td>564</td><td>2013-08-24 02:05:26</td><td>438.0</td><td>49.94</td><td>24.08</td><td>10.0</td><td>1</td></tr>\n",
       "<tr><td>621A</td><td>2013-08-24 02:05:26</td><td>396.0</td><td>55.23</td><td>22.22</td><td>126.0</td><td>0</td></tr>\n",
       "<tr><td>656A</td><td>2013-08-24 02:05:26</td><td>559.0</td><td>49.9</td><td>24.37</td><td>153.0</td><td>1</td></tr>\n",
       "<tr><td>648</td><td>2013-08-24 02:05:26</td><td>159.0</td><td>50.32</td><td>23.32</td><td>190.0</td><td>0</td></tr>\n",
       "</table>\n",
       "only showing top 20 rows\n"
      ],
      "text/plain": [
       "+----+-------------------+---------+--------------+-----------------+-----------+---------+\n",
       "|Room|               Time|Value_co2|Value_humidity|Value_temperature|Value_light|Value_pir|\n",
       "+----+-------------------+---------+--------------+-----------------+-----------+---------+\n",
       "| 511|2013-08-24 02:04:53|    387.0|         52.75|            22.62|      252.0|        0|\n",
       "| 644|2013-08-24 02:04:57|    465.0|          52.4|             22.8|      165.0|        0|\n",
       "| 648|2013-08-24 02:04:57|    175.0|         50.32|            23.32|      191.0|        0|\n",
       "|656A|2013-08-24 02:04:57|    579.0|          49.9|            24.37|      176.0|        1|\n",
       "| 564|2013-08-24 02:05:01|    434.0|         49.94|            24.08|       11.0|        1|\n",
       "| 558|2013-08-24 02:05:01|    423.0|         53.51|            23.11|        3.0|        0|\n",
       "| 664|2013-08-24 02:05:05|    347.0|         50.03|            23.64|        3.0|        0|\n",
       "| 668|2013-08-24 02:05:05|    421.0|         49.06|            24.81|     1977.0|        0|\n",
       "|656B|2013-08-24 02:05:05|    538.0|         46.49|            25.26|      102.0|        1|\n",
       "| 666|2013-08-24 02:05:05|    437.0|         49.39|            24.14|      148.0|        0|\n",
       "| 413|2013-08-24 02:05:08|    495.0|         45.34|            23.94|       97.0|        0|\n",
       "| 746|2013-08-24 02:05:25|    629.0|         52.84|            23.06|       30.0|        1|\n",
       "| 511|2013-08-24 02:05:25|    383.0|         52.75|            22.62|      251.0|        0|\n",
       "| 510|2013-08-24 02:05:25|    391.0|         52.62|            23.46|      204.0|        0|\n",
       "| 776|2013-08-24 02:05:25|    655.0|          48.9|             24.6|      105.0|        0|\n",
       "| 644|2013-08-24 02:05:26|    471.0|          52.4|             22.8|      164.0|        0|\n",
       "| 666|2013-08-24 02:05:26|    442.0|         49.42|            24.14|      149.0|        0|\n",
       "| 564|2013-08-24 02:05:26|    438.0|         49.94|            24.08|       10.0|        1|\n",
       "|621A|2013-08-24 02:05:26|    396.0|         55.23|            22.22|      126.0|        0|\n",
       "| 668|2013-08-24 02:05:26|    426.0|          49.1|            24.81|     2208.0|        0|\n",
       "+----+-------------------+---------+--------------+-----------------+-----------+---------+\n",
       "only showing top 20 rows"
      ]
     },
     "execution_count": 33,
     "metadata": {},
     "output_type": "execute_result"
    }
   ],
   "source": [
    "data = data.withColumn('Value_pir',F.when(data.Value_pir > 0, 1).otherwise(0))\n",
    "data"
   ]
  },
  {
   "cell_type": "code",
   "execution_count": 34,
   "metadata": {},
   "outputs": [
    {
     "name": "stdout",
     "output_type": "stream",
     "text": [
      "root\n",
      " |-- Room: string (nullable = true)\n",
      " |-- Time: timestamp (nullable = true)\n",
      " |-- Value_co2: float (nullable = true)\n",
      " |-- Value_humidity: float (nullable = true)\n",
      " |-- Value_temperature: float (nullable = true)\n",
      " |-- Value_light: float (nullable = true)\n",
      " |-- Value_pir: integer (nullable = false)\n",
      "\n"
     ]
    }
   ],
   "source": [
    "data.printSchema()"
   ]
  },
  {
   "cell_type": "code",
   "execution_count": 35,
   "metadata": {},
   "outputs": [
    {
     "data": {
      "image/png": "[encoded data removed]",
      "text/plain": [
       "<Figure size 576x576 with 1 Axes>"
      ]
     },
     "metadata": {},
     "output_type": "display_data"
    }
   ],
   "source": [
    "data.select(F.col(\"Value_pir\")).toPandas()['Value_pir'].value_counts().plot.pie(autopct='%1.1f%%', shadow=True, figsize=(8,8))\n",
    "plt.title('Pie Chart for Target')\n",
    "plt.show()"
   ]
  },
  {
   "cell_type": "code",
   "execution_count": 36,
   "metadata": {},
   "outputs": [
    {
     "data": {
      "text/html": [
       "<table border='1'>\n",
       "<tr><th>summary</th><th>Room</th><th>Value_co2</th><th>Value_humidity</th><th>Value_temperature</th><th>Value_light</th><th>Value_pir</th></tr>\n",
       "<tr><td>count</td><td>135386</td><td>135386</td><td>135386</td><td>135386</td><td>135386</td><td>135386</td></tr>\n",
       "<tr><td>mean</td><td>595.1545244267818</td><td>399.27423071809494</td><td>56.8917659204558</td><td>23.415894764528037</td><td>140.57186119687412</td><td>0.06719306279822138</td></tr>\n",
       "<tr><td>stddev</td><td>115.1693984614636</td><td>119.0818582874651</td><td>3.611998227037885</td><td>11.836374629046169</td><td>470.6867628720148</td><td>0.2503569812734329</td></tr>\n",
       "<tr><td>min</td><td>413</td><td>62.0</td><td>42.12</td><td>20.2</td><td>0.0</td><td>0</td></tr>\n",
       "<tr><td>max</td><td>776</td><td>1223.0</td><td>71.29</td><td>579.27</td><td>2397.0</td><td>1</td></tr>\n",
       "</table>\n"
      ],
      "text/plain": [
       "+-------+-----------------+------------------+-----------------+------------------+------------------+-------------------+\n",
       "|summary|             Room|         Value_co2|   Value_humidity| Value_temperature|       Value_light|          Value_pir|\n",
       "+-------+-----------------+------------------+-----------------+------------------+------------------+-------------------+\n",
       "|  count|           135386|            135386|           135386|            135386|            135386|             135386|\n",
       "|   mean|595.1545244267818|399.27423071809494| 56.8917659204558|23.415894764528037|140.57186119687412|0.06719306279822138|\n",
       "| stddev|115.1693984614636| 119.0818582874651|3.611998227037885|11.836374629046169| 470.6867628720148| 0.2503569812734329|\n",
       "|    min|              413|              62.0|            42.12|              20.2|               0.0|                  0|\n",
       "|    max|              776|            1223.0|            71.29|            579.27|            2397.0|                  1|\n",
       "+-------+-----------------+------------------+-----------------+------------------+------------------+-------------------+"
      ]
     },
     "execution_count": 36,
     "metadata": {},
     "output_type": "execute_result"
    }
   ],
   "source": [
    "data.describe()"
   ]
  },
  {
   "cell_type": "code",
   "execution_count": 37,
   "metadata": {},
   "outputs": [],
   "source": [
    "data = data.withColumnRenamed(\"Value_pir\",\"label\")"
   ]
  },
  {
   "cell_type": "code",
   "execution_count": 38,
   "metadata": {},
   "outputs": [],
   "source": [
    "assembler = VectorAssembler(inputCols=['Value_co2','Value_humidity','Value_temperature','Value_light'],\n",
    "                           outputCol = \"vector_assembler_cols\",\n",
    "                           handleInvalid=\"skip\")"
   ]
  },
  {
   "cell_type": "code",
   "execution_count": 39,
   "metadata": {},
   "outputs": [],
   "source": [
    "scaler = StandardScaler().setInputCol(\"vector_assembler_cols\").setOutputCol(\"features\")"
   ]
  },
  {
   "cell_type": "code",
   "execution_count": 40,
   "metadata": {},
   "outputs": [],
   "source": [
    "estimator = DecisionTreeClassifier() \\\n",
    ".setFeaturesCol(\"features\") \\\n",
    ".setLabelCol(\"label\")"
   ]
  },
  {
   "cell_type": "code",
   "execution_count": 41,
   "metadata": {},
   "outputs": [],
   "source": [
    "pipeline_obj = Pipeline().setStages([assembler, scaler, estimator])"
   ]
  },
  {
   "cell_type": "code",
   "execution_count": 42,
   "metadata": {},
   "outputs": [],
   "source": [
    "train, valid, test = data.randomSplit([0.6,0.3,0.1], seed=100)"
   ]
  },
  {
   "cell_type": "code",
   "execution_count": 43,
   "metadata": {},
   "outputs": [],
   "source": [
    "pipeline_model = pipeline_obj.fit(train)"
   ]
  },
  {
   "cell_type": "code",
   "execution_count": 44,
   "metadata": {},
   "outputs": [],
   "source": [
    "paramGrid = ParamGridBuilder() \\\n",
    ".addGrid(estimator.maxDepth, [4,8]) \\\n",
    ".build()"
   ]
  },
  {
   "cell_type": "code",
   "execution_count": 45,
   "metadata": {},
   "outputs": [],
   "source": [
    "crossval = CrossValidator(estimator=pipeline_obj,\n",
    "                          estimatorParamMaps=paramGrid,\n",
    "                          evaluator=BinaryClassificationEvaluator(),\n",
    "                          numFolds=2) "
   ]
  },
  {
   "cell_type": "code",
   "execution_count": 46,
   "metadata": {},
   "outputs": [],
   "source": [
    "cvModel = crossval.fit(train)"
   ]
  },
  {
   "cell_type": "code",
   "execution_count": 47,
   "metadata": {},
   "outputs": [],
   "source": [
    "bestModel = cvModel.bestModel"
   ]
  },
  {
   "cell_type": "code",
   "execution_count": 48,
   "metadata": {},
   "outputs": [],
   "source": [
    "evaluator = BinaryClassificationEvaluator()"
   ]
  },
  {
   "cell_type": "code",
   "execution_count": 49,
   "metadata": {},
   "outputs": [
    {
     "data": {
      "text/plain": [
       "'areaUnderROC'"
      ]
     },
     "execution_count": 49,
     "metadata": {},
     "output_type": "execute_result"
    }
   ],
   "source": [
    "evaluator.getMetricName()"
   ]
  },
  {
   "cell_type": "code",
   "execution_count": 50,
   "metadata": {},
   "outputs": [
    {
     "data": {
      "text/plain": [
       "0.8748197785841121"
      ]
     },
     "execution_count": 50,
     "metadata": {},
     "output_type": "execute_result"
    }
   ],
   "source": [
    "evaluator.evaluate(bestModel.transform(valid))"
   ]
  },
  {
   "cell_type": "code",
   "execution_count": 51,
   "metadata": {},
   "outputs": [
    {
     "data": {
      "text/html": [
       "<table border='1'>\n",
       "<tr><th>Room</th><th>Time</th><th>Value_co2</th><th>Value_humidity</th><th>Value_temperature</th><th>Value_light</th><th>label</th></tr>\n",
       "<tr><td>415</td><td>2013-08-28 16:50:42</td><td>450.0</td><td>58.55</td><td>22.49</td><td>5.0</td><td>0</td></tr>\n",
       "<tr><td>415</td><td>2013-08-28 17:29:22</td><td>463.0</td><td>58.73</td><td>22.48</td><td>13.0</td><td>0</td></tr>\n",
       "<tr><td>417</td><td>2013-08-29 06:40:57</td><td>345.0</td><td>59.19</td><td>23.52</td><td>3.0</td><td>0</td></tr>\n",
       "<tr><td>419</td><td>2013-08-30 08:50:01</td><td>449.0</td><td>60.86</td><td>22.86</td><td>26.0</td><td>0</td></tr>\n",
       "<tr><td>423</td><td>2013-08-26 20:02:09</td><td>511.0</td><td>53.85</td><td>23.93</td><td>42.0</td><td>1</td></tr>\n",
       "<tr><td>423</td><td>2013-08-27 03:13:03</td><td>460.0</td><td>52.27</td><td>24.17</td><td>4.0</td><td>0</td></tr>\n",
       "<tr><td>423</td><td>2013-08-27 18:26:01</td><td>354.0</td><td>49.26</td><td>24.14</td><td>3.0</td><td>0</td></tr>\n",
       "<tr><td>424</td><td>2013-08-29 05:54:43</td><td>396.0</td><td>55.64</td><td>24.32</td><td>2.0</td><td>0</td></tr>\n",
       "<tr><td>424</td><td>2013-08-29 13:40:11</td><td>381.0</td><td>57.44</td><td>23.74</td><td>3.0</td><td>0</td></tr>\n",
       "<tr><td>424</td><td>2013-08-29 15:36:01</td><td>381.0</td><td>57.41</td><td>23.6</td><td>4.0</td><td>0</td></tr>\n",
       "<tr><td>424</td><td>2013-08-29 22:40:40</td><td>471.0</td><td>58.27</td><td>23.52</td><td>4.0</td><td>0</td></tr>\n",
       "<tr><td>424</td><td>2013-08-30 00:38:10</td><td>505.0</td><td>58.08</td><td>23.58</td><td>4.0</td><td>0</td></tr>\n",
       "<tr><td>424</td><td>2013-08-30 02:25:00</td><td>509.0</td><td>57.84</td><td>23.62</td><td>4.0</td><td>0</td></tr>\n",
       "<tr><td>424</td><td>2013-08-30 02:34:40</td><td>506.0</td><td>57.78</td><td>23.63</td><td>3.0</td><td>0</td></tr>\n",
       "<tr><td>424</td><td>2013-08-30 09:29:59</td><td>407.0</td><td>58.61</td><td>23.59</td><td>4.0</td><td>0</td></tr>\n",
       "<tr><td>424</td><td>2013-08-31 07:34:03</td><td>413.0</td><td>57.5</td><td>23.5</td><td>5.0</td><td>0</td></tr>\n",
       "<tr><td>442</td><td>2013-08-27 16:36:27</td><td>439.0</td><td>48.42</td><td>23.84</td><td>4.0</td><td>0</td></tr>\n",
       "<tr><td>442</td><td>2013-08-31 21:13:26</td><td>444.0</td><td>55.79</td><td>23.3</td><td>4.0</td><td>0</td></tr>\n",
       "<tr><td>446</td><td>2013-08-28 10:31:18</td><td>457.0</td><td>58.76</td><td>22.78</td><td>3.0</td><td>0</td></tr>\n",
       "<tr><td>446</td><td>2013-08-28 13:22:08</td><td>463.0</td><td>58.51</td><td>22.68</td><td>4.0</td><td>0</td></tr>\n",
       "</table>\n",
       "only showing top 20 rows\n"
      ],
      "text/plain": [
       "+----+-------------------+---------+--------------+-----------------+-----------+-----+\n",
       "|Room|               Time|Value_co2|Value_humidity|Value_temperature|Value_light|label|\n",
       "+----+-------------------+---------+--------------+-----------------+-----------+-----+\n",
       "| 415|2013-08-28 16:50:42|    450.0|         58.55|            22.49|        5.0|    0|\n",
       "| 415|2013-08-28 17:29:22|    463.0|         58.73|            22.48|       13.0|    0|\n",
       "| 417|2013-08-29 06:40:57|    345.0|         59.19|            23.52|        3.0|    0|\n",
       "| 419|2013-08-30 08:50:01|    449.0|         60.86|            22.86|       26.0|    0|\n",
       "| 423|2013-08-26 20:02:09|    511.0|         53.85|            23.93|       42.0|    1|\n",
       "| 423|2013-08-27 03:13:03|    460.0|         52.27|            24.17|        4.0|    0|\n",
       "| 423|2013-08-27 18:26:01|    354.0|         49.26|            24.14|        3.0|    0|\n",
       "| 424|2013-08-29 05:54:43|    396.0|         55.64|            24.32|        2.0|    0|\n",
       "| 424|2013-08-29 13:40:11|    381.0|         57.44|            23.74|        3.0|    0|\n",
       "| 424|2013-08-29 15:36:01|    381.0|         57.41|             23.6|        4.0|    0|\n",
       "| 424|2013-08-29 22:40:40|    471.0|         58.27|            23.52|        4.0|    0|\n",
       "| 424|2013-08-30 00:38:10|    505.0|         58.08|            23.58|        4.0|    0|\n",
       "| 424|2013-08-30 02:25:00|    509.0|         57.84|            23.62|        4.0|    0|\n",
       "| 424|2013-08-30 02:34:40|    506.0|         57.78|            23.63|        3.0|    0|\n",
       "| 424|2013-08-30 09:29:59|    407.0|         58.61|            23.59|        4.0|    0|\n",
       "| 424|2013-08-31 07:34:03|    413.0|          57.5|             23.5|        5.0|    0|\n",
       "| 442|2013-08-27 16:36:27|    439.0|         48.42|            23.84|        4.0|    0|\n",
       "| 442|2013-08-31 21:13:26|    444.0|         55.79|             23.3|        4.0|    0|\n",
       "| 446|2013-08-28 10:31:18|    457.0|         58.76|            22.78|        3.0|    0|\n",
       "| 446|2013-08-28 13:22:08|    463.0|         58.51|            22.68|        4.0|    0|\n",
       "+----+-------------------+---------+--------------+-----------------+-----------+-----+\n",
       "only showing top 20 rows"
      ]
     },
     "execution_count": 51,
     "metadata": {},
     "output_type": "execute_result"
    }
   ],
   "source": [
    "valid"
   ]
  },
  {
   "cell_type": "code",
   "execution_count": 52,
   "metadata": {},
   "outputs": [
    {
     "data": {
      "text/html": [
       "<table border='1'>\n",
       "<tr><th>Room</th><th>Time</th><th>Value_co2</th><th>Value_humidity</th><th>Value_temperature</th><th>Value_light</th><th>label</th><th>vector_assembler_cols</th><th>features</th><th>rawPrediction</th><th>probability</th><th>prediction</th></tr>\n",
       "<tr><td>415</td><td>2013-08-28 16:50:42</td><td>450.0</td><td>58.55</td><td>22.49</td><td>5.0</td><td>0</td><td>[450.0,58.5499992...</td><td>[3.77122823427980...</td><td>[11662.0,48.0]</td><td>[0.99590093936806...</td><td>0.0</td></tr>\n",
       "<tr><td>415</td><td>2013-08-28 17:29:22</td><td>463.0</td><td>58.73</td><td>22.48</td><td>13.0</td><td>0</td><td>[463.0,58.7299995...</td><td>[3.88017482771455...</td><td>[5691.0,44.0]</td><td>[0.99232781168265...</td><td>0.0</td></tr>\n",
       "<tr><td>417</td><td>2013-08-29 06:40:57</td><td>345.0</td><td>59.19</td><td>23.52</td><td>3.0</td><td>0</td><td>[345.0,59.1899986...</td><td>[2.89127497961451...</td><td>[36062.0,9.0]</td><td>[0.99975049208505...</td><td>0.0</td></tr>\n",
       "<tr><td>419</td><td>2013-08-30 08:50:01</td><td>449.0</td><td>60.86</td><td>22.86</td><td>26.0</td><td>0</td><td>[449.0,60.8600006...</td><td>[3.76284772709251...</td><td>[1719.0,316.0]</td><td>[0.84471744471744...</td><td>0.0</td></tr>\n",
       "<tr><td>423</td><td>2013-08-26 20:02:09</td><td>511.0</td><td>53.85</td><td>23.93</td><td>42.0</td><td>1</td><td>[511.0,53.8499984...</td><td>[4.2824391727044,...</td><td>[118.0,471.0]</td><td>[0.20033955857385...</td><td>1.0</td></tr>\n",
       "<tr><td>423</td><td>2013-08-27 03:13:03</td><td>460.0</td><td>52.27</td><td>24.17</td><td>4.0</td><td>0</td><td>[460.0,52.2700004...</td><td>[3.85503330615268...</td><td>[11662.0,48.0]</td><td>[0.99590093936806...</td><td>0.0</td></tr>\n",
       "<tr><td>423</td><td>2013-08-27 18:26:01</td><td>354.0</td><td>49.26</td><td>24.14</td><td>3.0</td><td>0</td><td>[354.0,49.2599983...</td><td>[2.96669954430011...</td><td>[36062.0,9.0]</td><td>[0.99975049208505...</td><td>0.0</td></tr>\n",
       "<tr><td>424</td><td>2013-08-29 05:54:43</td><td>396.0</td><td>55.64</td><td>24.32</td><td>2.0</td><td>0</td><td>[396.0,55.6399993...</td><td>[3.31868084616622...</td><td>[36062.0,9.0]</td><td>[0.99975049208505...</td><td>0.0</td></tr>\n",
       "<tr><td>424</td><td>2013-08-29 13:40:11</td><td>381.0</td><td>57.44</td><td>23.74</td><td>3.0</td><td>0</td><td>[381.0,57.4399986...</td><td>[3.19297323835690...</td><td>[36062.0,9.0]</td><td>[0.99975049208505...</td><td>0.0</td></tr>\n",
       "<tr><td>424</td><td>2013-08-29 15:36:01</td><td>381.0</td><td>57.41</td><td>23.6</td><td>4.0</td><td>0</td><td>[381.0,57.4099998...</td><td>[3.19297323835690...</td><td>[36062.0,9.0]</td><td>[0.99975049208505...</td><td>0.0</td></tr>\n",
       "<tr><td>424</td><td>2013-08-29 22:40:40</td><td>471.0</td><td>58.27</td><td>23.52</td><td>4.0</td><td>0</td><td>[471.0,58.2700004...</td><td>[3.94721888521286...</td><td>[11662.0,48.0]</td><td>[0.99590093936806...</td><td>0.0</td></tr>\n",
       "<tr><td>424</td><td>2013-08-30 00:38:10</td><td>505.0</td><td>58.08</td><td>23.58</td><td>4.0</td><td>0</td><td>[505.0,58.0800018...</td><td>[4.23215612958067...</td><td>[11662.0,48.0]</td><td>[0.99590093936806...</td><td>0.0</td></tr>\n",
       "<tr><td>424</td><td>2013-08-30 02:25:00</td><td>509.0</td><td>57.84</td><td>23.62</td><td>4.0</td><td>0</td><td>[509.0,57.8400001...</td><td>[4.26567815832982...</td><td>[11662.0,48.0]</td><td>[0.99590093936806...</td><td>0.0</td></tr>\n",
       "<tr><td>424</td><td>2013-08-30 02:34:40</td><td>506.0</td><td>57.78</td><td>23.63</td><td>3.0</td><td>0</td><td>[506.0,57.7799987...</td><td>[4.24053663676795...</td><td>[11662.0,48.0]</td><td>[0.99590093936806...</td><td>0.0</td></tr>\n",
       "<tr><td>424</td><td>2013-08-30 09:29:59</td><td>407.0</td><td>58.61</td><td>23.59</td><td>4.0</td><td>0</td><td>[407.0,58.6100006...</td><td>[3.41086642522640...</td><td>[36062.0,9.0]</td><td>[0.99975049208505...</td><td>0.0</td></tr>\n",
       "<tr><td>424</td><td>2013-08-31 07:34:03</td><td>413.0</td><td>57.5</td><td>23.5</td><td>5.0</td><td>0</td><td>[413.0,57.5,23.5,...</td><td>[3.46114946835013...</td><td>[36062.0,9.0]</td><td>[0.99975049208505...</td><td>0.0</td></tr>\n",
       "<tr><td>442</td><td>2013-08-27 16:36:27</td><td>439.0</td><td>48.42</td><td>23.84</td><td>4.0</td><td>0</td><td>[439.0,48.4199981...</td><td>[3.67904265521963...</td><td>[11662.0,48.0]</td><td>[0.99590093936806...</td><td>0.0</td></tr>\n",
       "<tr><td>442</td><td>2013-08-31 21:13:26</td><td>444.0</td><td>55.79</td><td>23.3</td><td>4.0</td><td>0</td><td>[444.0,55.7900009...</td><td>[3.72094519115607...</td><td>[11662.0,48.0]</td><td>[0.99590093936806...</td><td>0.0</td></tr>\n",
       "<tr><td>446</td><td>2013-08-28 10:31:18</td><td>457.0</td><td>58.76</td><td>22.78</td><td>3.0</td><td>0</td><td>[457.0,58.7599983...</td><td>[3.82989178459082...</td><td>[11662.0,48.0]</td><td>[0.99590093936806...</td><td>0.0</td></tr>\n",
       "<tr><td>446</td><td>2013-08-28 13:22:08</td><td>463.0</td><td>58.51</td><td>22.68</td><td>4.0</td><td>0</td><td>[463.0,58.5099983...</td><td>[3.88017482771455...</td><td>[11662.0,48.0]</td><td>[0.99590093936806...</td><td>0.0</td></tr>\n",
       "</table>\n",
       "only showing top 20 rows\n"
      ],
      "text/plain": [
       "+----+-------------------+---------+--------------+-----------------+-----------+-----+---------------------+--------------------+--------------+--------------------+----------+\n",
       "|Room|               Time|Value_co2|Value_humidity|Value_temperature|Value_light|label|vector_assembler_cols|            features| rawPrediction|         probability|prediction|\n",
       "+----+-------------------+---------+--------------+-----------------+-----------+-----+---------------------+--------------------+--------------+--------------------+----------+\n",
       "| 415|2013-08-28 16:50:42|    450.0|         58.55|            22.49|        5.0|    0| [450.0,58.5499992...|[3.77122823427980...|[11662.0,48.0]|[0.99590093936806...|       0.0|\n",
       "| 415|2013-08-28 17:29:22|    463.0|         58.73|            22.48|       13.0|    0| [463.0,58.7299995...|[3.88017482771455...| [5691.0,44.0]|[0.99232781168265...|       0.0|\n",
       "| 417|2013-08-29 06:40:57|    345.0|         59.19|            23.52|        3.0|    0| [345.0,59.1899986...|[2.89127497961451...| [36062.0,9.0]|[0.99975049208505...|       0.0|\n",
       "| 419|2013-08-30 08:50:01|    449.0|         60.86|            22.86|       26.0|    0| [449.0,60.8600006...|[3.76284772709251...|[1719.0,316.0]|[0.84471744471744...|       0.0|\n",
       "| 423|2013-08-26 20:02:09|    511.0|         53.85|            23.93|       42.0|    1| [511.0,53.8499984...|[4.2824391727044,...| [118.0,471.0]|[0.20033955857385...|       1.0|\n",
       "| 423|2013-08-27 03:13:03|    460.0|         52.27|            24.17|        4.0|    0| [460.0,52.2700004...|[3.85503330615268...|[11662.0,48.0]|[0.99590093936806...|       0.0|\n",
       "| 423|2013-08-27 18:26:01|    354.0|         49.26|            24.14|        3.0|    0| [354.0,49.2599983...|[2.96669954430011...| [36062.0,9.0]|[0.99975049208505...|       0.0|\n",
       "| 424|2013-08-29 05:54:43|    396.0|         55.64|            24.32|        2.0|    0| [396.0,55.6399993...|[3.31868084616622...| [36062.0,9.0]|[0.99975049208505...|       0.0|\n",
       "| 424|2013-08-29 13:40:11|    381.0|         57.44|            23.74|        3.0|    0| [381.0,57.4399986...|[3.19297323835690...| [36062.0,9.0]|[0.99975049208505...|       0.0|\n",
       "| 424|2013-08-29 15:36:01|    381.0|         57.41|             23.6|        4.0|    0| [381.0,57.4099998...|[3.19297323835690...| [36062.0,9.0]|[0.99975049208505...|       0.0|\n",
       "| 424|2013-08-29 22:40:40|    471.0|         58.27|            23.52|        4.0|    0| [471.0,58.2700004...|[3.94721888521286...|[11662.0,48.0]|[0.99590093936806...|       0.0|\n",
       "| 424|2013-08-30 00:38:10|    505.0|         58.08|            23.58|        4.0|    0| [505.0,58.0800018...|[4.23215612958067...|[11662.0,48.0]|[0.99590093936806...|       0.0|\n",
       "| 424|2013-08-30 02:25:00|    509.0|         57.84|            23.62|        4.0|    0| [509.0,57.8400001...|[4.26567815832982...|[11662.0,48.0]|[0.99590093936806...|       0.0|\n",
       "| 424|2013-08-30 02:34:40|    506.0|         57.78|            23.63|        3.0|    0| [506.0,57.7799987...|[4.24053663676795...|[11662.0,48.0]|[0.99590093936806...|       0.0|\n",
       "| 424|2013-08-30 09:29:59|    407.0|         58.61|            23.59|        4.0|    0| [407.0,58.6100006...|[3.41086642522640...| [36062.0,9.0]|[0.99975049208505...|       0.0|\n",
       "| 424|2013-08-31 07:34:03|    413.0|          57.5|             23.5|        5.0|    0| [413.0,57.5,23.5,...|[3.46114946835013...| [36062.0,9.0]|[0.99975049208505...|       0.0|\n",
       "| 442|2013-08-27 16:36:27|    439.0|         48.42|            23.84|        4.0|    0| [439.0,48.4199981...|[3.67904265521963...|[11662.0,48.0]|[0.99590093936806...|       0.0|\n",
       "| 442|2013-08-31 21:13:26|    444.0|         55.79|             23.3|        4.0|    0| [444.0,55.7900009...|[3.72094519115607...|[11662.0,48.0]|[0.99590093936806...|       0.0|\n",
       "| 446|2013-08-28 10:31:18|    457.0|         58.76|            22.78|        3.0|    0| [457.0,58.7599983...|[3.82989178459082...|[11662.0,48.0]|[0.99590093936806...|       0.0|\n",
       "| 446|2013-08-28 13:22:08|    463.0|         58.51|            22.68|        4.0|    0| [463.0,58.5099983...|[3.88017482771455...|[11662.0,48.0]|[0.99590093936806...|       0.0|\n",
       "+----+-------------------+---------+--------------+-----------------+-----------+-----+---------------------+--------------------+--------------+--------------------+----------+\n",
       "only showing top 20 rows"
      ]
     },
     "execution_count": 52,
     "metadata": {},
     "output_type": "execute_result"
    }
   ],
   "source": [
    "transformed_df = bestModel.transform(valid)\n",
    "transformed_df"
   ]
  },
  {
   "cell_type": "code",
   "execution_count": 53,
   "metadata": {},
   "outputs": [],
   "source": [
    "bestModel.write().overwrite().save(\"~/saved_models/Clf_Tuned_Decision_Tree\")"
   ]
  },
  {
   "cell_type": "code",
   "execution_count": 54,
   "metadata": {},
   "outputs": [
    {
     "data": {
      "text/html": [
       "<table border='1'>\n",
       "<tr><th>Room</th><th>Time</th><th>Value_co2</th><th>Value_humidity</th><th>Value_temperature</th><th>Value_light</th></tr>\n",
       "<tr><td>415</td><td>2013-08-28 06:33:53</td><td>465.0</td><td>56.57</td><td>23.47</td><td>4.0</td></tr>\n",
       "<tr><td>417</td><td>2013-08-28 23:07:38</td><td>441.0</td><td>57.84</td><td>23.39</td><td>84.0</td></tr>\n",
       "<tr><td>419</td><td>2013-08-31 00:12:08</td><td>711.0</td><td>59.77</td><td>23.58</td><td>118.0</td></tr>\n",
       "<tr><td>423</td><td>2013-08-31 12:51:46</td><td>356.0</td><td>58.39</td><td>22.85</td><td>3.0</td></tr>\n",
       "<tr><td>424</td><td>2013-08-27 14:20:15</td><td>389.0</td><td>48.48</td><td>24.46</td><td>4.0</td></tr>\n",
       "<tr><td>424</td><td>2013-08-29 14:12:51</td><td>394.0</td><td>57.41</td><td>23.71</td><td>4.0</td></tr>\n",
       "<tr><td>442</td><td>2013-08-29 19:26:33</td><td>451.0</td><td>58.42</td><td>23.51</td><td>5.0</td></tr>\n",
       "<tr><td>446</td><td>2013-08-28 12:18:58</td><td>463.0</td><td>58.61</td><td>22.7</td><td>2.0</td></tr>\n",
       "<tr><td>448</td><td>2013-08-28 23:57:41</td><td>466.0</td><td>58.85</td><td>23.22</td><td>4.0</td></tr>\n",
       "<tr><td>448</td><td>2013-08-29 06:17:30</td><td>369.0</td><td>60.07</td><td>23.31</td><td>4.0</td></tr>\n",
       "<tr><td>448</td><td>2013-08-29 11:19:35</td><td>370.0</td><td>60.68</td><td>23.3</td><td>4.0</td></tr>\n",
       "<tr><td>448</td><td>2013-08-29 17:25:54</td><td>365.0</td><td>60.59</td><td>23.06</td><td>3.0</td></tr>\n",
       "<tr><td>456</td><td>2013-08-27 09:11:04</td><td>429.0</td><td>50.87</td><td>23.94</td><td>3.0</td></tr>\n",
       "<tr><td>456</td><td>2013-08-27 19:38:43</td><td>427.0</td><td>51.41</td><td>23.91</td><td>4.0</td></tr>\n",
       "<tr><td>456</td><td>2013-08-27 19:45:13</td><td>431.0</td><td>51.41</td><td>23.92</td><td>4.0</td></tr>\n",
       "<tr><td>456</td><td>2013-08-30 04:26:57</td><td>482.0</td><td>56.08</td><td>24.18</td><td>3.0</td></tr>\n",
       "<tr><td>456</td><td>2013-08-30 05:24:17</td><td>484.0</td><td>56.2</td><td>24.12</td><td>3.0</td></tr>\n",
       "<tr><td>456</td><td>2013-08-30 05:26:47</td><td>474.0</td><td>56.23</td><td>24.12</td><td>4.0</td></tr>\n",
       "<tr><td>456</td><td>2013-08-30 15:05:36</td><td>420.0</td><td>58.97</td><td>23.46</td><td>2.0</td></tr>\n",
       "<tr><td>456</td><td>2013-08-31 06:06:37</td><td>436.0</td><td>56.54</td><td>23.79</td><td>3.0</td></tr>\n",
       "</table>\n",
       "only showing top 20 rows\n"
      ],
      "text/plain": [
       "+----+-------------------+---------+--------------+-----------------+-----------+\n",
       "|Room|               Time|Value_co2|Value_humidity|Value_temperature|Value_light|\n",
       "+----+-------------------+---------+--------------+-----------------+-----------+\n",
       "| 415|2013-08-28 06:33:53|    465.0|         56.57|            23.47|        4.0|\n",
       "| 417|2013-08-28 23:07:38|    441.0|         57.84|            23.39|       84.0|\n",
       "| 419|2013-08-31 00:12:08|    711.0|         59.77|            23.58|      118.0|\n",
       "| 423|2013-08-31 12:51:46|    356.0|         58.39|            22.85|        3.0|\n",
       "| 424|2013-08-27 14:20:15|    389.0|         48.48|            24.46|        4.0|\n",
       "| 424|2013-08-29 14:12:51|    394.0|         57.41|            23.71|        4.0|\n",
       "| 442|2013-08-29 19:26:33|    451.0|         58.42|            23.51|        5.0|\n",
       "| 446|2013-08-28 12:18:58|    463.0|         58.61|             22.7|        2.0|\n",
       "| 448|2013-08-28 23:57:41|    466.0|         58.85|            23.22|        4.0|\n",
       "| 448|2013-08-29 06:17:30|    369.0|         60.07|            23.31|        4.0|\n",
       "| 448|2013-08-29 11:19:35|    370.0|         60.68|             23.3|        4.0|\n",
       "| 448|2013-08-29 17:25:54|    365.0|         60.59|            23.06|        3.0|\n",
       "| 456|2013-08-27 09:11:04|    429.0|         50.87|            23.94|        3.0|\n",
       "| 456|2013-08-27 19:38:43|    427.0|         51.41|            23.91|        4.0|\n",
       "| 456|2013-08-27 19:45:13|    431.0|         51.41|            23.92|        4.0|\n",
       "| 456|2013-08-30 04:26:57|    482.0|         56.08|            24.18|        3.0|\n",
       "| 456|2013-08-30 05:24:17|    484.0|          56.2|            24.12|        3.0|\n",
       "| 456|2013-08-30 05:26:47|    474.0|         56.23|            24.12|        4.0|\n",
       "| 456|2013-08-30 15:05:36|    420.0|         58.97|            23.46|        2.0|\n",
       "| 456|2013-08-31 06:06:37|    436.0|         56.54|            23.79|        3.0|\n",
       "+----+-------------------+---------+--------------+-----------------+-----------+\n",
       "only showing top 20 rows"
      ]
     },
     "execution_count": 54,
     "metadata": {},
     "output_type": "execute_result"
    }
   ],
   "source": [
    "test = test.drop('label')\n",
    "test"
   ]
  },
  {
   "cell_type": "code",
   "execution_count": 55,
   "metadata": {},
   "outputs": [
    {
     "data": {
      "text/html": [
       "<table border='1'>\n",
       "<tr><th>Room</th><th>Time</th><th>Value_co2</th><th>Value_humidity</th><th>Value_temperature</th><th>Value_light</th><th>vector_assembler_cols</th><th>features</th><th>rawPrediction</th><th>probability</th><th>prediction</th></tr>\n",
       "<tr><td>415</td><td>2013-08-28 06:33:53</td><td>465.0</td><td>56.57</td><td>23.47</td><td>4.0</td><td>[465.0,56.5699996...</td><td>[3.89693584208913...</td><td>[11662.0,48.0]</td><td>[0.99590093936806...</td><td>0.0</td></tr>\n",
       "<tr><td>417</td><td>2013-08-28 23:07:38</td><td>441.0</td><td>57.84</td><td>23.39</td><td>84.0</td><td>[441.0,57.8400001...</td><td>[3.69580366959420...</td><td>[1719.0,316.0]</td><td>[0.84471744471744...</td><td>0.0</td></tr>\n",
       "<tr><td>419</td><td>2013-08-31 00:12:08</td><td>711.0</td><td>59.77</td><td>23.58</td><td>118.0</td><td>[711.0,59.7700004...</td><td>[5.95854061016209...</td><td>[1.0,0.0]</td><td>[1.0,0.0]</td><td>0.0</td></tr>\n",
       "<tr><td>423</td><td>2013-08-31 12:51:46</td><td>356.0</td><td>58.39</td><td>22.85</td><td>3.0</td><td>[356.0,58.3899993...</td><td>[2.98346055867468...</td><td>[36062.0,9.0]</td><td>[0.99975049208505...</td><td>0.0</td></tr>\n",
       "<tr><td>424</td><td>2013-08-27 14:20:15</td><td>389.0</td><td>48.48</td><td>24.46</td><td>4.0</td><td>[389.0,48.4799995...</td><td>[3.26001729585520...</td><td>[36062.0,9.0]</td><td>[0.99975049208505...</td><td>0.0</td></tr>\n",
       "<tr><td>424</td><td>2013-08-29 14:12:51</td><td>394.0</td><td>57.41</td><td>23.71</td><td>4.0</td><td>[394.0,57.4099998...</td><td>[3.30191983179165...</td><td>[36062.0,9.0]</td><td>[0.99975049208505...</td><td>0.0</td></tr>\n",
       "<tr><td>442</td><td>2013-08-29 19:26:33</td><td>451.0</td><td>58.42</td><td>23.51</td><td>5.0</td><td>[451.0,58.4199981...</td><td>[3.77960874146709...</td><td>[11662.0,48.0]</td><td>[0.99590093936806...</td><td>0.0</td></tr>\n",
       "<tr><td>446</td><td>2013-08-28 12:18:58</td><td>463.0</td><td>58.61</td><td>22.7</td><td>2.0</td><td>[463.0,58.6100006...</td><td>[3.88017482771455...</td><td>[11662.0,48.0]</td><td>[0.99590093936806...</td><td>0.0</td></tr>\n",
       "<tr><td>448</td><td>2013-08-28 23:57:41</td><td>466.0</td><td>58.85</td><td>23.22</td><td>4.0</td><td>[466.0,58.8499984...</td><td>[3.90531634927642...</td><td>[11662.0,48.0]</td><td>[0.99590093936806...</td><td>0.0</td></tr>\n",
       "<tr><td>448</td><td>2013-08-29 06:17:30</td><td>369.0</td><td>60.07</td><td>23.31</td><td>4.0</td><td>[369.0,60.0699996...</td><td>[3.09240715210944...</td><td>[36062.0,9.0]</td><td>[0.99975049208505...</td><td>0.0</td></tr>\n",
       "<tr><td>448</td><td>2013-08-29 11:19:35</td><td>370.0</td><td>60.68</td><td>23.3</td><td>4.0</td><td>[370.0,60.6800003...</td><td>[3.10078765929672...</td><td>[36062.0,9.0]</td><td>[0.99975049208505...</td><td>0.0</td></tr>\n",
       "<tr><td>448</td><td>2013-08-29 17:25:54</td><td>365.0</td><td>60.59</td><td>23.06</td><td>3.0</td><td>[365.0,60.5900001...</td><td>[3.05888512336028...</td><td>[36062.0,9.0]</td><td>[0.99975049208505...</td><td>0.0</td></tr>\n",
       "<tr><td>456</td><td>2013-08-27 09:11:04</td><td>429.0</td><td>50.87</td><td>23.94</td><td>3.0</td><td>[429.0,50.8699989...</td><td>[3.59523758334674...</td><td>[36062.0,9.0]</td><td>[0.99975049208505...</td><td>0.0</td></tr>\n",
       "<tr><td>456</td><td>2013-08-27 19:38:43</td><td>427.0</td><td>51.41</td><td>23.91</td><td>4.0</td><td>[427.0,51.4099998...</td><td>[3.57847656897217...</td><td>[36062.0,9.0]</td><td>[0.99975049208505...</td><td>0.0</td></tr>\n",
       "<tr><td>456</td><td>2013-08-27 19:45:13</td><td>431.0</td><td>51.41</td><td>23.92</td><td>4.0</td><td>[431.0,51.4099998...</td><td>[3.61199859772132...</td><td>[36062.0,9.0]</td><td>[0.99975049208505...</td><td>0.0</td></tr>\n",
       "<tr><td>456</td><td>2013-08-30 04:26:57</td><td>482.0</td><td>56.08</td><td>24.18</td><td>3.0</td><td>[482.0,56.0800018...</td><td>[4.03940446427303...</td><td>[11662.0,48.0]</td><td>[0.99590093936806...</td><td>0.0</td></tr>\n",
       "<tr><td>456</td><td>2013-08-30 05:24:17</td><td>484.0</td><td>56.2</td><td>24.12</td><td>3.0</td><td>[484.0,56.2000007...</td><td>[4.05616547864761...</td><td>[11662.0,48.0]</td><td>[0.99590093936806...</td><td>0.0</td></tr>\n",
       "<tr><td>456</td><td>2013-08-30 05:26:47</td><td>474.0</td><td>56.23</td><td>24.12</td><td>4.0</td><td>[474.0,56.2299995...</td><td>[3.97236040677472...</td><td>[11662.0,48.0]</td><td>[0.99590093936806...</td><td>0.0</td></tr>\n",
       "<tr><td>456</td><td>2013-08-30 15:05:36</td><td>420.0</td><td>58.97</td><td>23.46</td><td>2.0</td><td>[420.0,58.9700012...</td><td>[3.51981301866115...</td><td>[36062.0,9.0]</td><td>[0.99975049208505...</td><td>0.0</td></tr>\n",
       "<tr><td>456</td><td>2013-08-31 06:06:37</td><td>436.0</td><td>56.54</td><td>23.79</td><td>3.0</td><td>[436.0,56.5400009...</td><td>[3.65390113365776...</td><td>[36062.0,9.0]</td><td>[0.99975049208505...</td><td>0.0</td></tr>\n",
       "</table>\n",
       "only showing top 20 rows\n"
      ],
      "text/plain": [
       "+----+-------------------+---------+--------------+-----------------+-----------+---------------------+--------------------+--------------+--------------------+----------+\n",
       "|Room|               Time|Value_co2|Value_humidity|Value_temperature|Value_light|vector_assembler_cols|            features| rawPrediction|         probability|prediction|\n",
       "+----+-------------------+---------+--------------+-----------------+-----------+---------------------+--------------------+--------------+--------------------+----------+\n",
       "| 415|2013-08-28 06:33:53|    465.0|         56.57|            23.47|        4.0| [465.0,56.5699996...|[3.89693584208913...|[11662.0,48.0]|[0.99590093936806...|       0.0|\n",
       "| 417|2013-08-28 23:07:38|    441.0|         57.84|            23.39|       84.0| [441.0,57.8400001...|[3.69580366959420...|[1719.0,316.0]|[0.84471744471744...|       0.0|\n",
       "| 419|2013-08-31 00:12:08|    711.0|         59.77|            23.58|      118.0| [711.0,59.7700004...|[5.95854061016209...|     [1.0,0.0]|           [1.0,0.0]|       0.0|\n",
       "| 423|2013-08-31 12:51:46|    356.0|         58.39|            22.85|        3.0| [356.0,58.3899993...|[2.98346055867468...| [36062.0,9.0]|[0.99975049208505...|       0.0|\n",
       "| 424|2013-08-27 14:20:15|    389.0|         48.48|            24.46|        4.0| [389.0,48.4799995...|[3.26001729585520...| [36062.0,9.0]|[0.99975049208505...|       0.0|\n",
       "| 424|2013-08-29 14:12:51|    394.0|         57.41|            23.71|        4.0| [394.0,57.4099998...|[3.30191983179165...| [36062.0,9.0]|[0.99975049208505...|       0.0|\n",
       "| 442|2013-08-29 19:26:33|    451.0|         58.42|            23.51|        5.0| [451.0,58.4199981...|[3.77960874146709...|[11662.0,48.0]|[0.99590093936806...|       0.0|\n",
       "| 446|2013-08-28 12:18:58|    463.0|         58.61|             22.7|        2.0| [463.0,58.6100006...|[3.88017482771455...|[11662.0,48.0]|[0.99590093936806...|       0.0|\n",
       "| 448|2013-08-28 23:57:41|    466.0|         58.85|            23.22|        4.0| [466.0,58.8499984...|[3.90531634927642...|[11662.0,48.0]|[0.99590093936806...|       0.0|\n",
       "| 448|2013-08-29 06:17:30|    369.0|         60.07|            23.31|        4.0| [369.0,60.0699996...|[3.09240715210944...| [36062.0,9.0]|[0.99975049208505...|       0.0|\n",
       "| 448|2013-08-29 11:19:35|    370.0|         60.68|             23.3|        4.0| [370.0,60.6800003...|[3.10078765929672...| [36062.0,9.0]|[0.99975049208505...|       0.0|\n",
       "| 448|2013-08-29 17:25:54|    365.0|         60.59|            23.06|        3.0| [365.0,60.5900001...|[3.05888512336028...| [36062.0,9.0]|[0.99975049208505...|       0.0|\n",
       "| 456|2013-08-27 09:11:04|    429.0|         50.87|            23.94|        3.0| [429.0,50.8699989...|[3.59523758334674...| [36062.0,9.0]|[0.99975049208505...|       0.0|\n",
       "| 456|2013-08-27 19:38:43|    427.0|         51.41|            23.91|        4.0| [427.0,51.4099998...|[3.57847656897217...| [36062.0,9.0]|[0.99975049208505...|       0.0|\n",
       "| 456|2013-08-27 19:45:13|    431.0|         51.41|            23.92|        4.0| [431.0,51.4099998...|[3.61199859772132...| [36062.0,9.0]|[0.99975049208505...|       0.0|\n",
       "| 456|2013-08-30 04:26:57|    482.0|         56.08|            24.18|        3.0| [482.0,56.0800018...|[4.03940446427303...|[11662.0,48.0]|[0.99590093936806...|       0.0|\n",
       "| 456|2013-08-30 05:24:17|    484.0|          56.2|            24.12|        3.0| [484.0,56.2000007...|[4.05616547864761...|[11662.0,48.0]|[0.99590093936806...|       0.0|\n",
       "| 456|2013-08-30 05:26:47|    474.0|         56.23|            24.12|        4.0| [474.0,56.2299995...|[3.97236040677472...|[11662.0,48.0]|[0.99590093936806...|       0.0|\n",
       "| 456|2013-08-30 15:05:36|    420.0|         58.97|            23.46|        2.0| [420.0,58.9700012...|[3.51981301866115...| [36062.0,9.0]|[0.99975049208505...|       0.0|\n",
       "| 456|2013-08-31 06:06:37|    436.0|         56.54|            23.79|        3.0| [436.0,56.5400009...|[3.65390113365776...| [36062.0,9.0]|[0.99975049208505...|       0.0|\n",
       "+----+-------------------+---------+--------------+-----------------+-----------+---------------------+--------------------+--------------+--------------------+----------+\n",
       "only showing top 20 rows"
      ]
     },
     "execution_count": 55,
     "metadata": {},
     "output_type": "execute_result"
    }
   ],
   "source": [
    "test_transformed_df = bestModel.transform(test)\n",
    "test_transformed_df"
   ]
  },
  {
   "cell_type": "code",
   "execution_count": 56,
   "metadata": {},
   "outputs": [],
   "source": [
    "test.coalesce(1).write.csv(path='file:///home/train/project_fin/test.csv', mode=\"overwrite\", header=\"true\")"
   ]
  },
  {
   "cell_type": "code",
   "execution_count": 57,
   "metadata": {},
   "outputs": [],
   "source": [
    "spark.stop()"
   ]
  },
  {
   "cell_type": "code",
   "execution_count": null,
   "metadata": {},
   "outputs": [],
   "source": []
  },
  {
   "cell_type": "code",
   "execution_count": null,
   "metadata": {},
   "outputs": [],
   "source": []
  },
  {
   "cell_type": "code",
   "execution_count": null,
   "metadata": {},
   "outputs": [],
   "source": []
  },
  {
   "cell_type": "code",
   "execution_count": null,
   "metadata": {},
   "outputs": [],
   "source": []
  },
  {
   "cell_type": "code",
   "execution_count": null,
   "metadata": {},
   "outputs": [],
   "source": []
  }
 ],
 "metadata": {
  "kernelspec": {
   "display_name": "venvspark",
   "language": "python",
   "name": "venvspark"
  },
  "language_info": {
   "codemirror_mode": {
    "name": "ipython",
    "version": 3
   },
   "file_extension": ".py",
   "mimetype": "text/x-python",
   "name": "python",
   "nbconvert_exporter": "python",
   "pygments_lexer": "ipython3",
   "version": "3.6.8"
  }
 },
 "nbformat": 4,
 "nbformat_minor": 4
}
