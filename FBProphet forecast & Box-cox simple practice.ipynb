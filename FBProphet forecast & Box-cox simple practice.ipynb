{
 "cells": [
  {
   "cell_type": "markdown",
   "id": "51f0a9ae",
   "metadata": {},
   "source": [
    "## FBProphet Time Series & Box-Cox Simple Practice"
   ]
  },
  {
   "cell_type": "code",
   "execution_count": 1,
   "id": "d78c4581",
   "metadata": {},
   "outputs": [
    {
     "data": {
      "text/html": [
       "        <script type=\"text/javascript\">\n",
       "        window.PlotlyConfig = {MathJaxConfig: 'local'};\n",
       "        if (window.MathJax) {MathJax.Hub.Config({SVG: {font: \"STIX-Web\"}});}\n",
       "        if (typeof require !== 'undefined') {\n",
       "        require.undef(\"plotly\");\n",
       "        requirejs.config({\n",
       "            paths: {\n",
       "                'plotly': ['https://cdn.plot.ly/plotly-latest.min']\n",
       "            }\n",
       "        });\n",
       "        require(['plotly'], function(Plotly) {\n",
       "            window._Plotly = Plotly;\n",
       "        });\n",
       "        }\n",
       "        </script>\n",
       "        "
      ]
     },
     "metadata": {},
     "output_type": "display_data"
    }
   ],
   "source": [
    "import warnings\n",
    "warnings.filterwarnings('ignore')\n",
    "\n",
    "import numpy as np\n",
    "import pandas as pd\n",
    "from scipy import stats\n",
    "import statsmodels.api as sm\n",
    "import matplotlib.pyplot as plt\n",
    "\n",
    "%matplotlib inline\n",
    "\n",
    "from plotly.offline import init_notebook_mode, iplot\n",
    "from plotly import graph_objs as go\n",
    "\n",
    "# Initialize plotly\n",
    "init_notebook_mode(connected=True)\n",
    "\n",
    "from fbprophet import Prophet\n",
    "\n",
    "import logging\n",
    "logging.getLogger().setLevel(logging.ERROR)"
   ]
  },
  {
   "cell_type": "code",
   "execution_count": 2,
   "id": "efb13402",
   "metadata": {},
   "outputs": [],
   "source": [
    "df = pd.read_csv('medium_posts.csv',sep='\\t')"
   ]
  },
  {
   "cell_type": "code",
   "execution_count": 3,
   "id": "788db67d",
   "metadata": {},
   "outputs": [
    {
     "data": {
      "text/html": [
       "<div>\n",
       "<style scoped>\n",
       "    .dataframe tbody tr th:only-of-type {\n",
       "        vertical-align: middle;\n",
       "    }\n",
       "\n",
       "    .dataframe tbody tr th {\n",
       "        vertical-align: top;\n",
       "    }\n",
       "\n",
       "    .dataframe thead th {\n",
       "        text-align: right;\n",
       "    }\n",
       "</style>\n",
       "<table border=\"1\" class=\"dataframe\">\n",
       "  <thead>\n",
       "    <tr style=\"text-align: right;\">\n",
       "      <th></th>\n",
       "      <th>published</th>\n",
       "      <th>domain</th>\n",
       "      <th>url</th>\n",
       "    </tr>\n",
       "  </thead>\n",
       "  <tbody>\n",
       "    <tr>\n",
       "      <th>0</th>\n",
       "      <td>2012-08-13 22:54:53.510Z</td>\n",
       "      <td>medium.com</td>\n",
       "      <td>https://medium.com/policy/medium-terms-of-serv...</td>\n",
       "    </tr>\n",
       "    <tr>\n",
       "      <th>1</th>\n",
       "      <td>2012-08-13 22:57:17.248Z</td>\n",
       "      <td>medium.com</td>\n",
       "      <td>https://medium.com/policy/medium-privacy-polic...</td>\n",
       "    </tr>\n",
       "    <tr>\n",
       "      <th>2</th>\n",
       "      <td>2016-11-04 23:40:43.364Z</td>\n",
       "      <td>medium.com</td>\n",
       "      <td>https://medium.com/@Medium/personalize-your-me...</td>\n",
       "    </tr>\n",
       "    <tr>\n",
       "      <th>3</th>\n",
       "      <td>2016-12-24 18:21:13.427Z</td>\n",
       "      <td>medium.com</td>\n",
       "      <td>https://medium.com/holiday-poems/xmas-morning-...</td>\n",
       "    </tr>\n",
       "    <tr>\n",
       "      <th>4</th>\n",
       "      <td>2015-09-22 21:37:48.207Z</td>\n",
       "      <td>blog.medium.com</td>\n",
       "      <td>https://blog.medium.com/taking-a-side-on-net-n...</td>\n",
       "    </tr>\n",
       "    <tr>\n",
       "      <th>...</th>\n",
       "      <td>...</td>\n",
       "      <td>...</td>\n",
       "      <td>...</td>\n",
       "    </tr>\n",
       "    <tr>\n",
       "      <th>92186</th>\n",
       "      <td>2017-05-23 17:15:09.193Z</td>\n",
       "      <td>medium.com</td>\n",
       "      <td>https://medium.com/@KyleAndrews1994/its-time-t...</td>\n",
       "    </tr>\n",
       "    <tr>\n",
       "      <th>92187</th>\n",
       "      <td>2017-01-31 09:59:12.316Z</td>\n",
       "      <td>medium.com</td>\n",
       "      <td>https://medium.com/silent-protagonist/next-wee...</td>\n",
       "    </tr>\n",
       "    <tr>\n",
       "      <th>92188</th>\n",
       "      <td>2017-02-16 14:15:20.116Z</td>\n",
       "      <td>medium.com</td>\n",
       "      <td>https://medium.com/@utapartment26/there-used-t...</td>\n",
       "    </tr>\n",
       "    <tr>\n",
       "      <th>92189</th>\n",
       "      <td>2017-06-27 10:16:21.668Z</td>\n",
       "      <td>medium.com</td>\n",
       "      <td>https://medium.com/silent-protagonist/the-snes...</td>\n",
       "    </tr>\n",
       "    <tr>\n",
       "      <th>92190</th>\n",
       "      <td>2017-06-12 06:49:29.954Z</td>\n",
       "      <td>medium.com</td>\n",
       "      <td>https://medium.com/silent-protagonist/assassin...</td>\n",
       "    </tr>\n",
       "  </tbody>\n",
       "</table>\n",
       "<p>92191 rows × 3 columns</p>\n",
       "</div>"
      ],
      "text/plain": [
       "                      published           domain  \\\n",
       "0      2012-08-13 22:54:53.510Z       medium.com   \n",
       "1      2012-08-13 22:57:17.248Z       medium.com   \n",
       "2      2016-11-04 23:40:43.364Z       medium.com   \n",
       "3      2016-12-24 18:21:13.427Z       medium.com   \n",
       "4      2015-09-22 21:37:48.207Z  blog.medium.com   \n",
       "...                         ...              ...   \n",
       "92186  2017-05-23 17:15:09.193Z       medium.com   \n",
       "92187  2017-01-31 09:59:12.316Z       medium.com   \n",
       "92188  2017-02-16 14:15:20.116Z       medium.com   \n",
       "92189  2017-06-27 10:16:21.668Z       medium.com   \n",
       "92190  2017-06-12 06:49:29.954Z       medium.com   \n",
       "\n",
       "                                                     url  \n",
       "0      https://medium.com/policy/medium-terms-of-serv...  \n",
       "1      https://medium.com/policy/medium-privacy-polic...  \n",
       "2      https://medium.com/@Medium/personalize-your-me...  \n",
       "3      https://medium.com/holiday-poems/xmas-morning-...  \n",
       "4      https://blog.medium.com/taking-a-side-on-net-n...  \n",
       "...                                                  ...  \n",
       "92186  https://medium.com/@KyleAndrews1994/its-time-t...  \n",
       "92187  https://medium.com/silent-protagonist/next-wee...  \n",
       "92188  https://medium.com/@utapartment26/there-used-t...  \n",
       "92189  https://medium.com/silent-protagonist/the-snes...  \n",
       "92190  https://medium.com/silent-protagonist/assassin...  \n",
       "\n",
       "[92191 rows x 3 columns]"
      ]
     },
     "execution_count": 3,
     "metadata": {},
     "output_type": "execute_result"
    }
   ],
   "source": [
    "df"
   ]
  },
  {
   "cell_type": "code",
   "execution_count": 4,
   "id": "20873ae5",
   "metadata": {},
   "outputs": [],
   "source": [
    "df['published'] = pd.to_datetime(df['published'])"
   ]
  },
  {
   "cell_type": "code",
   "execution_count": 5,
   "id": "c9d2f3e4",
   "metadata": {},
   "outputs": [],
   "source": [
    "df['published'] = df['published'].dt.tz_localize(None)"
   ]
  },
  {
   "cell_type": "code",
   "execution_count": 6,
   "id": "c801e994",
   "metadata": {},
   "outputs": [
    {
     "data": {
      "text/html": [
       "<div>\n",
       "<style scoped>\n",
       "    .dataframe tbody tr th:only-of-type {\n",
       "        vertical-align: middle;\n",
       "    }\n",
       "\n",
       "    .dataframe tbody tr th {\n",
       "        vertical-align: top;\n",
       "    }\n",
       "\n",
       "    .dataframe thead th {\n",
       "        text-align: right;\n",
       "    }\n",
       "</style>\n",
       "<table border=\"1\" class=\"dataframe\">\n",
       "  <thead>\n",
       "    <tr style=\"text-align: right;\">\n",
       "      <th></th>\n",
       "      <th>published</th>\n",
       "      <th>domain</th>\n",
       "      <th>url</th>\n",
       "    </tr>\n",
       "  </thead>\n",
       "  <tbody>\n",
       "    <tr>\n",
       "      <th>0</th>\n",
       "      <td>2012-08-13 22:54:53.510</td>\n",
       "      <td>medium.com</td>\n",
       "      <td>https://medium.com/policy/medium-terms-of-serv...</td>\n",
       "    </tr>\n",
       "    <tr>\n",
       "      <th>1</th>\n",
       "      <td>2012-08-13 22:57:17.248</td>\n",
       "      <td>medium.com</td>\n",
       "      <td>https://medium.com/policy/medium-privacy-polic...</td>\n",
       "    </tr>\n",
       "    <tr>\n",
       "      <th>2</th>\n",
       "      <td>2016-11-04 23:40:43.364</td>\n",
       "      <td>medium.com</td>\n",
       "      <td>https://medium.com/@Medium/personalize-your-me...</td>\n",
       "    </tr>\n",
       "    <tr>\n",
       "      <th>3</th>\n",
       "      <td>2016-12-24 18:21:13.427</td>\n",
       "      <td>medium.com</td>\n",
       "      <td>https://medium.com/holiday-poems/xmas-morning-...</td>\n",
       "    </tr>\n",
       "    <tr>\n",
       "      <th>4</th>\n",
       "      <td>2015-09-22 21:37:48.207</td>\n",
       "      <td>blog.medium.com</td>\n",
       "      <td>https://blog.medium.com/taking-a-side-on-net-n...</td>\n",
       "    </tr>\n",
       "    <tr>\n",
       "      <th>...</th>\n",
       "      <td>...</td>\n",
       "      <td>...</td>\n",
       "      <td>...</td>\n",
       "    </tr>\n",
       "    <tr>\n",
       "      <th>92186</th>\n",
       "      <td>2017-05-23 17:15:09.193</td>\n",
       "      <td>medium.com</td>\n",
       "      <td>https://medium.com/@KyleAndrews1994/its-time-t...</td>\n",
       "    </tr>\n",
       "    <tr>\n",
       "      <th>92187</th>\n",
       "      <td>2017-01-31 09:59:12.316</td>\n",
       "      <td>medium.com</td>\n",
       "      <td>https://medium.com/silent-protagonist/next-wee...</td>\n",
       "    </tr>\n",
       "    <tr>\n",
       "      <th>92188</th>\n",
       "      <td>2017-02-16 14:15:20.116</td>\n",
       "      <td>medium.com</td>\n",
       "      <td>https://medium.com/@utapartment26/there-used-t...</td>\n",
       "    </tr>\n",
       "    <tr>\n",
       "      <th>92189</th>\n",
       "      <td>2017-06-27 10:16:21.668</td>\n",
       "      <td>medium.com</td>\n",
       "      <td>https://medium.com/silent-protagonist/the-snes...</td>\n",
       "    </tr>\n",
       "    <tr>\n",
       "      <th>92190</th>\n",
       "      <td>2017-06-12 06:49:29.954</td>\n",
       "      <td>medium.com</td>\n",
       "      <td>https://medium.com/silent-protagonist/assassin...</td>\n",
       "    </tr>\n",
       "  </tbody>\n",
       "</table>\n",
       "<p>92191 rows × 3 columns</p>\n",
       "</div>"
      ],
      "text/plain": [
       "                    published           domain  \\\n",
       "0     2012-08-13 22:54:53.510       medium.com   \n",
       "1     2012-08-13 22:57:17.248       medium.com   \n",
       "2     2016-11-04 23:40:43.364       medium.com   \n",
       "3     2016-12-24 18:21:13.427       medium.com   \n",
       "4     2015-09-22 21:37:48.207  blog.medium.com   \n",
       "...                       ...              ...   \n",
       "92186 2017-05-23 17:15:09.193       medium.com   \n",
       "92187 2017-01-31 09:59:12.316       medium.com   \n",
       "92188 2017-02-16 14:15:20.116       medium.com   \n",
       "92189 2017-06-27 10:16:21.668       medium.com   \n",
       "92190 2017-06-12 06:49:29.954       medium.com   \n",
       "\n",
       "                                                     url  \n",
       "0      https://medium.com/policy/medium-terms-of-serv...  \n",
       "1      https://medium.com/policy/medium-privacy-polic...  \n",
       "2      https://medium.com/@Medium/personalize-your-me...  \n",
       "3      https://medium.com/holiday-poems/xmas-morning-...  \n",
       "4      https://blog.medium.com/taking-a-side-on-net-n...  \n",
       "...                                                  ...  \n",
       "92186  https://medium.com/@KyleAndrews1994/its-time-t...  \n",
       "92187  https://medium.com/silent-protagonist/next-wee...  \n",
       "92188  https://medium.com/@utapartment26/there-used-t...  \n",
       "92189  https://medium.com/silent-protagonist/the-snes...  \n",
       "92190  https://medium.com/silent-protagonist/assassin...  \n",
       "\n",
       "[92191 rows x 3 columns]"
      ]
     },
     "execution_count": 6,
     "metadata": {},
     "output_type": "execute_result"
    }
   ],
   "source": [
    "df"
   ]
  },
  {
   "cell_type": "code",
   "execution_count": 7,
   "id": "59914e06",
   "metadata": {},
   "outputs": [],
   "source": [
    "df = df[['published', 'url']].dropna().drop_duplicates()"
   ]
  },
  {
   "cell_type": "code",
   "execution_count": 8,
   "id": "d00b2890",
   "metadata": {},
   "outputs": [
    {
     "data": {
      "text/html": [
       "<div>\n",
       "<style scoped>\n",
       "    .dataframe tbody tr th:only-of-type {\n",
       "        vertical-align: middle;\n",
       "    }\n",
       "\n",
       "    .dataframe tbody tr th {\n",
       "        vertical-align: top;\n",
       "    }\n",
       "\n",
       "    .dataframe thead th {\n",
       "        text-align: right;\n",
       "    }\n",
       "</style>\n",
       "<table border=\"1\" class=\"dataframe\">\n",
       "  <thead>\n",
       "    <tr style=\"text-align: right;\">\n",
       "      <th></th>\n",
       "      <th>published</th>\n",
       "      <th>url</th>\n",
       "    </tr>\n",
       "  </thead>\n",
       "  <tbody>\n",
       "    <tr>\n",
       "      <th>50931</th>\n",
       "      <td>1970-01-01 00:00:00.001</td>\n",
       "      <td>https://medium.com/iiot</td>\n",
       "    </tr>\n",
       "    <tr>\n",
       "      <th>40243</th>\n",
       "      <td>1970-01-01 00:00:00.001</td>\n",
       "      <td>https://medium.com/@ikaella/melon-rebranding-b...</td>\n",
       "    </tr>\n",
       "    <tr>\n",
       "      <th>37395</th>\n",
       "      <td>1970-01-18 05:11:46.500</td>\n",
       "      <td>http://www.novosti.rs/%D0%B2%D0%B5%D1%81%D1%82...</td>\n",
       "    </tr>\n",
       "  </tbody>\n",
       "</table>\n",
       "</div>"
      ],
      "text/plain": [
       "                    published  \\\n",
       "50931 1970-01-01 00:00:00.001   \n",
       "40243 1970-01-01 00:00:00.001   \n",
       "37395 1970-01-18 05:11:46.500   \n",
       "\n",
       "                                                     url  \n",
       "50931                            https://medium.com/iiot  \n",
       "40243  https://medium.com/@ikaella/melon-rebranding-b...  \n",
       "37395  http://www.novosti.rs/%D0%B2%D0%B5%D1%81%D1%82...  "
      ]
     },
     "execution_count": 8,
     "metadata": {},
     "output_type": "execute_result"
    }
   ],
   "source": [
    "df.sort_values(by=['published']).head(n=3)"
   ]
  },
  {
   "cell_type": "code",
   "execution_count": 9,
   "id": "bca59eb4",
   "metadata": {},
   "outputs": [
    {
     "data": {
      "text/html": [
       "<div>\n",
       "<style scoped>\n",
       "    .dataframe tbody tr th:only-of-type {\n",
       "        vertical-align: middle;\n",
       "    }\n",
       "\n",
       "    .dataframe tbody tr th {\n",
       "        vertical-align: top;\n",
       "    }\n",
       "\n",
       "    .dataframe thead th {\n",
       "        text-align: right;\n",
       "    }\n",
       "</style>\n",
       "<table border=\"1\" class=\"dataframe\">\n",
       "  <thead>\n",
       "    <tr style=\"text-align: right;\">\n",
       "      <th></th>\n",
       "      <th>published</th>\n",
       "      <th>url</th>\n",
       "    </tr>\n",
       "  </thead>\n",
       "  <tbody>\n",
       "    <tr>\n",
       "      <th>24630</th>\n",
       "      <td>2012-08-15 00:25:03.373</td>\n",
       "      <td>https://medium.com/launch-day/jean-attempts-to...</td>\n",
       "    </tr>\n",
       "    <tr>\n",
       "      <th>24631</th>\n",
       "      <td>2012-08-15 00:25:29.419</td>\n",
       "      <td>https://medium.com/launch-day/dan-and-kristin-...</td>\n",
       "    </tr>\n",
       "    <tr>\n",
       "      <th>17811</th>\n",
       "      <td>2012-08-15 00:34:59.502</td>\n",
       "      <td>https://medium.com/i-m-h-o/the-world-is-social...</td>\n",
       "    </tr>\n",
       "  </tbody>\n",
       "</table>\n",
       "</div>"
      ],
      "text/plain": [
       "                    published  \\\n",
       "24630 2012-08-15 00:25:03.373   \n",
       "24631 2012-08-15 00:25:29.419   \n",
       "17811 2012-08-15 00:34:59.502   \n",
       "\n",
       "                                                     url  \n",
       "24630  https://medium.com/launch-day/jean-attempts-to...  \n",
       "24631  https://medium.com/launch-day/dan-and-kristin-...  \n",
       "17811  https://medium.com/i-m-h-o/the-world-is-social...  "
      ]
     },
     "execution_count": 9,
     "metadata": {},
     "output_type": "execute_result"
    }
   ],
   "source": [
    "df = df[(df['published'] > '2012-08-15') & (df['published'] < '2017-06-26')].sort_values(by=['published'])\n",
    "df.head(n=3)"
   ]
  },
  {
   "cell_type": "code",
   "execution_count": 10,
   "id": "ef2f1ebe",
   "metadata": {},
   "outputs": [
    {
     "data": {
      "text/html": [
       "<div>\n",
       "<style scoped>\n",
       "    .dataframe tbody tr th:only-of-type {\n",
       "        vertical-align: middle;\n",
       "    }\n",
       "\n",
       "    .dataframe tbody tr th {\n",
       "        vertical-align: top;\n",
       "    }\n",
       "\n",
       "    .dataframe thead th {\n",
       "        text-align: right;\n",
       "    }\n",
       "</style>\n",
       "<table border=\"1\" class=\"dataframe\">\n",
       "  <thead>\n",
       "    <tr style=\"text-align: right;\">\n",
       "      <th></th>\n",
       "      <th>published</th>\n",
       "      <th>url</th>\n",
       "    </tr>\n",
       "  </thead>\n",
       "  <tbody>\n",
       "    <tr>\n",
       "      <th>62122</th>\n",
       "      <td>2017-06-25 23:36:01.171</td>\n",
       "      <td>https://medium.com/push-the-pace/the-official-...</td>\n",
       "    </tr>\n",
       "    <tr>\n",
       "      <th>72471</th>\n",
       "      <td>2017-06-25 23:41:48.295</td>\n",
       "      <td>https://medium.com/parti-xyz-developers/%EA%B4...</td>\n",
       "    </tr>\n",
       "    <tr>\n",
       "      <th>83283</th>\n",
       "      <td>2017-06-25 23:51:43.000</td>\n",
       "      <td>http://www.johanr.com/blog/people-support-dreams</td>\n",
       "    </tr>\n",
       "  </tbody>\n",
       "</table>\n",
       "</div>"
      ],
      "text/plain": [
       "                    published  \\\n",
       "62122 2017-06-25 23:36:01.171   \n",
       "72471 2017-06-25 23:41:48.295   \n",
       "83283 2017-06-25 23:51:43.000   \n",
       "\n",
       "                                                     url  \n",
       "62122  https://medium.com/push-the-pace/the-official-...  \n",
       "72471  https://medium.com/parti-xyz-developers/%EA%B4...  \n",
       "83283   http://www.johanr.com/blog/people-support-dreams  "
      ]
     },
     "execution_count": 10,
     "metadata": {},
     "output_type": "execute_result"
    }
   ],
   "source": [
    "df.tail(n=3)"
   ]
  },
  {
   "cell_type": "code",
   "execution_count": 11,
   "id": "3de62392",
   "metadata": {},
   "outputs": [],
   "source": [
    "aggr_df = df.groupby('published')[['url']].count()\n",
    "aggr_df.columns = ['posts']"
   ]
  },
  {
   "cell_type": "code",
   "execution_count": 12,
   "id": "bed81de0",
   "metadata": {},
   "outputs": [
    {
     "data": {
      "text/html": [
       "<div>\n",
       "<style scoped>\n",
       "    .dataframe tbody tr th:only-of-type {\n",
       "        vertical-align: middle;\n",
       "    }\n",
       "\n",
       "    .dataframe tbody tr th {\n",
       "        vertical-align: top;\n",
       "    }\n",
       "\n",
       "    .dataframe thead th {\n",
       "        text-align: right;\n",
       "    }\n",
       "</style>\n",
       "<table border=\"1\" class=\"dataframe\">\n",
       "  <thead>\n",
       "    <tr style=\"text-align: right;\">\n",
       "      <th></th>\n",
       "      <th>posts</th>\n",
       "    </tr>\n",
       "    <tr>\n",
       "      <th>published</th>\n",
       "      <th></th>\n",
       "    </tr>\n",
       "  </thead>\n",
       "  <tbody>\n",
       "    <tr>\n",
       "      <th>2012-08-15 00:25:03.373</th>\n",
       "      <td>1</td>\n",
       "    </tr>\n",
       "    <tr>\n",
       "      <th>2012-08-15 00:25:29.419</th>\n",
       "      <td>1</td>\n",
       "    </tr>\n",
       "    <tr>\n",
       "      <th>2012-08-15 00:34:59.502</th>\n",
       "      <td>1</td>\n",
       "    </tr>\n",
       "  </tbody>\n",
       "</table>\n",
       "</div>"
      ],
      "text/plain": [
       "                         posts\n",
       "published                     \n",
       "2012-08-15 00:25:03.373      1\n",
       "2012-08-15 00:25:29.419      1\n",
       "2012-08-15 00:34:59.502      1"
      ]
     },
     "execution_count": 12,
     "metadata": {},
     "output_type": "execute_result"
    }
   ],
   "source": [
    "aggr_df.head(n=3)"
   ]
  },
  {
   "cell_type": "code",
   "execution_count": 13,
   "id": "f18bac58",
   "metadata": {},
   "outputs": [
    {
     "data": {
      "text/html": [
       "<div>\n",
       "<style scoped>\n",
       "    .dataframe tbody tr th:only-of-type {\n",
       "        vertical-align: middle;\n",
       "    }\n",
       "\n",
       "    .dataframe tbody tr th {\n",
       "        vertical-align: top;\n",
       "    }\n",
       "\n",
       "    .dataframe thead th {\n",
       "        text-align: right;\n",
       "    }\n",
       "</style>\n",
       "<table border=\"1\" class=\"dataframe\">\n",
       "  <thead>\n",
       "    <tr style=\"text-align: right;\">\n",
       "      <th></th>\n",
       "      <th>posts</th>\n",
       "    </tr>\n",
       "    <tr>\n",
       "      <th>published</th>\n",
       "      <th></th>\n",
       "    </tr>\n",
       "  </thead>\n",
       "  <tbody>\n",
       "    <tr>\n",
       "      <th>2012-08-15</th>\n",
       "      <td>16</td>\n",
       "    </tr>\n",
       "    <tr>\n",
       "      <th>2012-08-16</th>\n",
       "      <td>11</td>\n",
       "    </tr>\n",
       "    <tr>\n",
       "      <th>2012-08-17</th>\n",
       "      <td>4</td>\n",
       "    </tr>\n",
       "  </tbody>\n",
       "</table>\n",
       "</div>"
      ],
      "text/plain": [
       "            posts\n",
       "published        \n",
       "2012-08-15     16\n",
       "2012-08-16     11\n",
       "2012-08-17      4"
      ]
     },
     "execution_count": 13,
     "metadata": {},
     "output_type": "execute_result"
    }
   ],
   "source": [
    "daily_df = aggr_df.resample('D').apply(sum)\n",
    "daily_df.head(n=3)"
   ]
  },
  {
   "cell_type": "code",
   "execution_count": 14,
   "id": "29261427",
   "metadata": {},
   "outputs": [],
   "source": [
    "def plotly_df(df, title=''):\n",
    "    \"\"\"Visualize all the dataframe columns as line plots.\"\"\"\n",
    "    common_kw = dict(x=df.index, mode='lines')\n",
    "    data = [go.Scatter(y=df[c], name=c, **common_kw) for c in df.columns]\n",
    "    layout = dict(title=title)\n",
    "    fig = dict(data=data, layout=layout)\n",
    "    iplot(fig, show_link=False)"
   ]
  },
  {
   "cell_type": "code",
   "execution_count": 15,
   "id": "a020f1a1",
   "metadata": {},
   "outputs": [
    {
     "data": {
      "application/vnd.plotly.v1+json": {
       "config": {
        "linkText": "Export to plot.ly",
        "plotlyServerURL": "https://plot.ly",
        "showLink": false
       },
       "data": [
        {
         "mode": "lines",
         "name": "posts",
         "type": "scatter",
         "x": [
          "2012-08-15T00:00:00",
          "2012-08-16T00:00:00",
          "2012-08-17T00:00:00",
          "2012-08-18T00:00:00",
          "2012-08-19T00:00:00",
          "2012-08-20T00:00:00",
          "2012-08-21T00:00:00",
          "2012-08-22T00:00:00",
          "2012-08-23T00:00:00",
          "2012-08-24T00:00:00",
          "2012-08-25T00:00:00",
          "2012-08-26T00:00:00",
          "2012-08-27T00:00:00",
          "2012-08-28T00:00:00",
          "2012-08-29T00:00:00",
          "2012-08-30T00:00:00",
          "2012-08-31T00:00:00",
          "2012-09-01T00:00:00",
          "2012-09-02T00:00:00",
          "2012-09-03T00:00:00",
          "2012-09-04T00:00:00",
          "2012-09-05T00:00:00",
          "2012-09-06T00:00:00",
          "2012-09-07T00:00:00",
          "2012-09-08T00:00:00",
          "2012-09-09T00:00:00",
          "2012-09-10T00:00:00",
          "2012-09-11T00:00:00",
          "2012-09-12T00:00:00",
          "2012-09-13T00:00:00",
          "2012-09-14T00:00:00",
          "2012-09-15T00:00:00",
          "2012-09-16T00:00:00",
          "2012-09-17T00:00:00",
          "2012-09-18T00:00:00",
          "2012-09-19T00:00:00",
          "2012-09-20T00:00:00",
          "2012-09-21T00:00:00",
          "2012-09-22T00:00:00",
          "2012-09-23T00:00:00",
          "2012-09-24T00:00:00",
          "2012-09-25T00:00:00",
          "2012-09-26T00:00:00",
          "2012-09-27T00:00:00",
          "2012-09-28T00:00:00",
          "2012-09-29T00:00:00",
          "2012-09-30T00:00:00",
          "2012-10-01T00:00:00",
          "2012-10-02T00:00:00",
          "2012-10-03T00:00:00",
          "2012-10-04T00:00:00",
          "2012-10-05T00:00:00",
          "2012-10-06T00:00:00",
          "2012-10-07T00:00:00",
          "2012-10-08T00:00:00",
          "2012-10-09T00:00:00",
          "2012-10-10T00:00:00",
          "2012-10-11T00:00:00",
          "2012-10-12T00:00:00",
          "2012-10-13T00:00:00",
          "2012-10-14T00:00:00",
          "2012-10-15T00:00:00",
          "2012-10-16T00:00:00",
          "2012-10-17T00:00:00",
          "2012-10-18T00:00:00",
          "2012-10-19T00:00:00",
          "2012-10-20T00:00:00",
          "2012-10-21T00:00:00",
          "2012-10-22T00:00:00",
          "2012-10-23T00:00:00",
          "2012-10-24T00:00:00",
          "2012-10-25T00:00:00",
          "2012-10-26T00:00:00",
          "2012-10-27T00:00:00",
          "2012-10-28T00:00:00",
          "2012-10-29T00:00:00",
          "2012-10-30T00:00:00",
          "2012-10-31T00:00:00",
          "2012-11-01T00:00:00",
          "2012-11-02T00:00:00",
          "2012-11-03T00:00:00",
          "2012-11-04T00:00:00",
          "2012-11-05T00:00:00",
          "2012-11-06T00:00:00",
          "2012-11-07T00:00:00",
          "2012-11-08T00:00:00",
          "2012-11-09T00:00:00",
          "2012-11-10T00:00:00",
          "2012-11-11T00:00:00",
          "2012-11-12T00:00:00",
          "2012-11-13T00:00:00",
          "2012-11-14T00:00:00",
          "2012-11-15T00:00:00",
          "2012-11-16T00:00:00",
          "2012-11-17T00:00:00",
          "2012-11-18T00:00:00",
          "2012-11-19T00:00:00",
          "2012-11-20T00:00:00",
          "2012-11-21T00:00:00",
          "2012-11-22T00:00:00",
          "2012-11-23T00:00:00",
          "2012-11-24T00:00:00",
          "2012-11-25T00:00:00",
          "2012-11-26T00:00:00",
          "2012-11-27T00:00:00",
          "2012-11-28T00:00:00",
          "2012-11-29T00:00:00",
          "2012-11-30T00:00:00",
          "2012-12-01T00:00:00",
          "2012-12-02T00:00:00",
          "2012-12-03T00:00:00",
          "2012-12-04T00:00:00",
          "2012-12-05T00:00:00",
          "2012-12-06T00:00:00",
          "2012-12-07T00:00:00",
          "2012-12-08T00:00:00",
          "2012-12-09T00:00:00",
          "2012-12-10T00:00:00",
          "2012-12-11T00:00:00",
          "2012-12-12T00:00:00",
          "2012-12-13T00:00:00",
          "2012-12-14T00:00:00",
          "2012-12-15T00:00:00",
          "2012-12-16T00:00:00",
          "2012-12-17T00:00:00",
          "2012-12-18T00:00:00",
          "2012-12-19T00:00:00",
          "2012-12-20T00:00:00",
          "2012-12-21T00:00:00",
          "2012-12-22T00:00:00",
          "2012-12-23T00:00:00",
          "2012-12-24T00:00:00",
          "2012-12-25T00:00:00",
          "2012-12-26T00:00:00",
          "2012-12-27T00:00:00",
          "2012-12-28T00:00:00",
          "2012-12-29T00:00:00",
          "2012-12-30T00:00:00",
          "2012-12-31T00:00:00",
          "2013-01-01T00:00:00",
          "2013-01-02T00:00:00",
          "2013-01-03T00:00:00",
          "2013-01-04T00:00:00",
          "2013-01-05T00:00:00",
          "2013-01-06T00:00:00",
          "2013-01-07T00:00:00",
          "2013-01-08T00:00:00",
          "2013-01-09T00:00:00",
          "2013-01-10T00:00:00",
          "2013-01-11T00:00:00",
          "2013-01-12T00:00:00",
          "2013-01-13T00:00:00",
          "2013-01-14T00:00:00",
          "2013-01-15T00:00:00",
          "2013-01-16T00:00:00",
          "2013-01-17T00:00:00",
          "2013-01-18T00:00:00",
          "2013-01-19T00:00:00",
          "2013-01-20T00:00:00",
          "2013-01-21T00:00:00",
          "2013-01-22T00:00:00",
          "2013-01-23T00:00:00",
          "2013-01-24T00:00:00",
          "2013-01-25T00:00:00",
          "2013-01-26T00:00:00",
          "2013-01-27T00:00:00",
          "2013-01-28T00:00:00",
          "2013-01-29T00:00:00",
          "2013-01-30T00:00:00",
          "2013-01-31T00:00:00",
          "2013-02-01T00:00:00",
          "2013-02-02T00:00:00",
          "2013-02-03T00:00:00",
          "2013-02-04T00:00:00",
          "2013-02-05T00:00:00",
          "2013-02-06T00:00:00",
          "2013-02-07T00:00:00",
          "2013-02-08T00:00:00",
          "2013-02-09T00:00:00",
          "2013-02-10T00:00:00",
          "2013-02-11T00:00:00",
          "2013-02-12T00:00:00",
          "2013-02-13T00:00:00",
          "2013-02-14T00:00:00",
          "2013-02-15T00:00:00",
          "2013-02-16T00:00:00",
          "2013-02-17T00:00:00",
          "2013-02-18T00:00:00",
          "2013-02-19T00:00:00",
          "2013-02-20T00:00:00",
          "2013-02-21T00:00:00",
          "2013-02-22T00:00:00",
          "2013-02-23T00:00:00",
          "2013-02-24T00:00:00",
          "2013-02-25T00:00:00",
          "2013-02-26T00:00:00",
          "2013-02-27T00:00:00",
          "2013-02-28T00:00:00",
          "2013-03-01T00:00:00",
          "2013-03-02T00:00:00",
          "2013-03-03T00:00:00",
          "2013-03-04T00:00:00",
          "2013-03-05T00:00:00",
          "2013-03-06T00:00:00",
          "2013-03-07T00:00:00",
          "2013-03-08T00:00:00",
          "2013-03-09T00:00:00",
          "2013-03-10T00:00:00",
          "2013-03-11T00:00:00",
          "2013-03-12T00:00:00",
          "2013-03-13T00:00:00",
          "2013-03-14T00:00:00",
          "2013-03-15T00:00:00",
          "2013-03-16T00:00:00",
          "2013-03-17T00:00:00",
          "2013-03-18T00:00:00",
          "2013-03-19T00:00:00",
          "2013-03-20T00:00:00",
          "2013-03-21T00:00:00",
          "2013-03-22T00:00:00",
          "2013-03-23T00:00:00",
          "2013-03-24T00:00:00",
          "2013-03-25T00:00:00",
          "2013-03-26T00:00:00",
          "2013-03-27T00:00:00",
          "2013-03-28T00:00:00",
          "2013-03-29T00:00:00",
          "2013-03-30T00:00:00",
          "2013-03-31T00:00:00",
          "2013-04-01T00:00:00",
          "2013-04-02T00:00:00",
          "2013-04-03T00:00:00",
          "2013-04-04T00:00:00",
          "2013-04-05T00:00:00",
          "2013-04-06T00:00:00",
          "2013-04-07T00:00:00",
          "2013-04-08T00:00:00",
          "2013-04-09T00:00:00",
          "2013-04-10T00:00:00",
          "2013-04-11T00:00:00",
          "2013-04-12T00:00:00",
          "2013-04-13T00:00:00",
          "2013-04-14T00:00:00",
          "2013-04-15T00:00:00",
          "2013-04-16T00:00:00",
          "2013-04-17T00:00:00",
          "2013-04-18T00:00:00",
          "2013-04-19T00:00:00",
          "2013-04-20T00:00:00",
          "2013-04-21T00:00:00",
          "2013-04-22T00:00:00",
          "2013-04-23T00:00:00",
          "2013-04-24T00:00:00",
          "2013-04-25T00:00:00",
          "2013-04-26T00:00:00",
          "2013-04-27T00:00:00",
          "2013-04-28T00:00:00",
          "2013-04-29T00:00:00",
          "2013-04-30T00:00:00",
          "2013-05-01T00:00:00",
          "2013-05-02T00:00:00",
          "2013-05-03T00:00:00",
          "2013-05-04T00:00:00",
          "2013-05-05T00:00:00",
          "2013-05-06T00:00:00",
          "2013-05-07T00:00:00",
          "2013-05-08T00:00:00",
          "2013-05-09T00:00:00",
          "2013-05-10T00:00:00",
          "2013-05-11T00:00:00",
          "2013-05-12T00:00:00",
          "2013-05-13T00:00:00",
          "2013-05-14T00:00:00",
          "2013-05-15T00:00:00",
          "2013-05-16T00:00:00",
          "2013-05-17T00:00:00",
          "2013-05-18T00:00:00",
          "2013-05-19T00:00:00",
          "2013-05-20T00:00:00",
          "2013-05-21T00:00:00",
          "2013-05-22T00:00:00",
          "2013-05-23T00:00:00",
          "2013-05-24T00:00:00",
          "2013-05-25T00:00:00",
          "2013-05-26T00:00:00",
          "2013-05-27T00:00:00",
          "2013-05-28T00:00:00",
          "2013-05-29T00:00:00",
          "2013-05-30T00:00:00",
          "2013-05-31T00:00:00",
          "2013-06-01T00:00:00",
          "2013-06-02T00:00:00",
          "2013-06-03T00:00:00",
          "2013-06-04T00:00:00",
          "2013-06-05T00:00:00",
          "2013-06-06T00:00:00",
          "2013-06-07T00:00:00",
          "2013-06-08T00:00:00",
          "2013-06-09T00:00:00",
          "2013-06-10T00:00:00",
          "2013-06-11T00:00:00",
          "2013-06-12T00:00:00",
          "2013-06-13T00:00:00",
          "2013-06-14T00:00:00",
          "2013-06-15T00:00:00",
          "2013-06-16T00:00:00",
          "2013-06-17T00:00:00",
          "2013-06-18T00:00:00",
          "2013-06-19T00:00:00",
          "2013-06-20T00:00:00",
          "2013-06-21T00:00:00",
          "2013-06-22T00:00:00",
          "2013-06-23T00:00:00",
          "2013-06-24T00:00:00",
          "2013-06-25T00:00:00",
          "2013-06-26T00:00:00",
          "2013-06-27T00:00:00",
          "2013-06-28T00:00:00",
          "2013-06-29T00:00:00",
          "2013-06-30T00:00:00",
          "2013-07-01T00:00:00",
          "2013-07-02T00:00:00",
          "2013-07-03T00:00:00",
          "2013-07-04T00:00:00",
          "2013-07-05T00:00:00",
          "2013-07-06T00:00:00",
          "2013-07-07T00:00:00",
          "2013-07-08T00:00:00",
          "2013-07-09T00:00:00",
          "2013-07-10T00:00:00",
          "2013-07-11T00:00:00",
          "2013-07-12T00:00:00",
          "2013-07-13T00:00:00",
          "2013-07-14T00:00:00",
          "2013-07-15T00:00:00",
          "2013-07-16T00:00:00",
          "2013-07-17T00:00:00",
          "2013-07-18T00:00:00",
          "2013-07-19T00:00:00",
          "2013-07-20T00:00:00",
          "2013-07-21T00:00:00",
          "2013-07-22T00:00:00",
          "2013-07-23T00:00:00",
          "2013-07-24T00:00:00",
          "2013-07-25T00:00:00",
          "2013-07-26T00:00:00",
          "2013-07-27T00:00:00",
          "2013-07-28T00:00:00",
          "2013-07-29T00:00:00",
          "2013-07-30T00:00:00",
          "2013-07-31T00:00:00",
          "2013-08-01T00:00:00",
          "2013-08-02T00:00:00",
          "2013-08-03T00:00:00",
          "2013-08-04T00:00:00",
          "2013-08-05T00:00:00",
          "2013-08-06T00:00:00",
          "2013-08-07T00:00:00",
          "2013-08-08T00:00:00",
          "2013-08-09T00:00:00",
          "2013-08-10T00:00:00",
          "2013-08-11T00:00:00",
          "2013-08-12T00:00:00",
          "2013-08-13T00:00:00",
          "2013-08-14T00:00:00",
          "2013-08-15T00:00:00",
          "2013-08-16T00:00:00",
          "2013-08-17T00:00:00",
          "2013-08-18T00:00:00",
          "2013-08-19T00:00:00",
          "2013-08-20T00:00:00",
          "2013-08-21T00:00:00",
          "2013-08-22T00:00:00",
          "2013-08-23T00:00:00",
          "2013-08-24T00:00:00",
          "2013-08-25T00:00:00",
          "2013-08-26T00:00:00",
          "2013-08-27T00:00:00",
          "2013-08-28T00:00:00",
          "2013-08-29T00:00:00",
          "2013-08-30T00:00:00",
          "2013-08-31T00:00:00",
          "2013-09-01T00:00:00",
          "2013-09-02T00:00:00",
          "2013-09-03T00:00:00",
          "2013-09-04T00:00:00",
          "2013-09-05T00:00:00",
          "2013-09-06T00:00:00",
          "2013-09-07T00:00:00",
          "2013-09-08T00:00:00",
          "2013-09-09T00:00:00",
          "2013-09-10T00:00:00",
          "2013-09-11T00:00:00",
          "2013-09-12T00:00:00",
          "2013-09-13T00:00:00",
          "2013-09-14T00:00:00",
          "2013-09-15T00:00:00",
          "2013-09-16T00:00:00",
          "2013-09-17T00:00:00",
          "2013-09-18T00:00:00",
          "2013-09-19T00:00:00",
          "2013-09-20T00:00:00",
          "2013-09-21T00:00:00",
          "2013-09-22T00:00:00",
          "2013-09-23T00:00:00",
          "2013-09-24T00:00:00",
          "2013-09-25T00:00:00",
          "2013-09-26T00:00:00",
          "2013-09-27T00:00:00",
          "2013-09-28T00:00:00",
          "2013-09-29T00:00:00",
          "2013-09-30T00:00:00",
          "2013-10-01T00:00:00",
          "2013-10-02T00:00:00",
          "2013-10-03T00:00:00",
          "2013-10-04T00:00:00",
          "2013-10-05T00:00:00",
          "2013-10-06T00:00:00",
          "2013-10-07T00:00:00",
          "2013-10-08T00:00:00",
          "2013-10-09T00:00:00",
          "2013-10-10T00:00:00",
          "2013-10-11T00:00:00",
          "2013-10-12T00:00:00",
          "2013-10-13T00:00:00",
          "2013-10-14T00:00:00",
          "2013-10-15T00:00:00",
          "2013-10-16T00:00:00",
          "2013-10-17T00:00:00",
          "2013-10-18T00:00:00",
          "2013-10-19T00:00:00",
          "2013-10-20T00:00:00",
          "2013-10-21T00:00:00",
          "2013-10-22T00:00:00",
          "2013-10-23T00:00:00",
          "2013-10-24T00:00:00",
          "2013-10-25T00:00:00",
          "2013-10-26T00:00:00",
          "2013-10-27T00:00:00",
          "2013-10-28T00:00:00",
          "2013-10-29T00:00:00",
          "2013-10-30T00:00:00",
          "2013-10-31T00:00:00",
          "2013-11-01T00:00:00",
          "2013-11-02T00:00:00",
          "2013-11-03T00:00:00",
          "2013-11-04T00:00:00",
          "2013-11-05T00:00:00",
          "2013-11-06T00:00:00",
          "2013-11-07T00:00:00",
          "2013-11-08T00:00:00",
          "2013-11-09T00:00:00",
          "2013-11-10T00:00:00",
          "2013-11-11T00:00:00",
          "2013-11-12T00:00:00",
          "2013-11-13T00:00:00",
          "2013-11-14T00:00:00",
          "2013-11-15T00:00:00",
          "2013-11-16T00:00:00",
          "2013-11-17T00:00:00",
          "2013-11-18T00:00:00",
          "2013-11-19T00:00:00",
          "2013-11-20T00:00:00",
          "2013-11-21T00:00:00",
          "2013-11-22T00:00:00",
          "2013-11-23T00:00:00",
          "2013-11-24T00:00:00",
          "2013-11-25T00:00:00",
          "2013-11-26T00:00:00",
          "2013-11-27T00:00:00",
          "2013-11-28T00:00:00",
          "2013-11-29T00:00:00",
          "2013-11-30T00:00:00",
          "2013-12-01T00:00:00",
          "2013-12-02T00:00:00",
          "2013-12-03T00:00:00",
          "2013-12-04T00:00:00",
          "2013-12-05T00:00:00",
          "2013-12-06T00:00:00",
          "2013-12-07T00:00:00",
          "2013-12-08T00:00:00",
          "2013-12-09T00:00:00",
          "2013-12-10T00:00:00",
          "2013-12-11T00:00:00",
          "2013-12-12T00:00:00",
          "2013-12-13T00:00:00",
          "2013-12-14T00:00:00",
          "2013-12-15T00:00:00",
          "2013-12-16T00:00:00",
          "2013-12-17T00:00:00",
          "2013-12-18T00:00:00",
          "2013-12-19T00:00:00",
          "2013-12-20T00:00:00",
          "2013-12-21T00:00:00",
          "2013-12-22T00:00:00",
          "2013-12-23T00:00:00",
          "2013-12-24T00:00:00",
          "2013-12-25T00:00:00",
          "2013-12-26T00:00:00",
          "2013-12-27T00:00:00",
          "2013-12-28T00:00:00",
          "2013-12-29T00:00:00",
          "2013-12-30T00:00:00",
          "2013-12-31T00:00:00",
          "2014-01-01T00:00:00",
          "2014-01-02T00:00:00",
          "2014-01-03T00:00:00",
          "2014-01-04T00:00:00",
          "2014-01-05T00:00:00",
          "2014-01-06T00:00:00",
          "2014-01-07T00:00:00",
          "2014-01-08T00:00:00",
          "2014-01-09T00:00:00",
          "2014-01-10T00:00:00",
          "2014-01-11T00:00:00",
          "2014-01-12T00:00:00",
          "2014-01-13T00:00:00",
          "2014-01-14T00:00:00",
          "2014-01-15T00:00:00",
          "2014-01-16T00:00:00",
          "2014-01-17T00:00:00",
          "2014-01-18T00:00:00",
          "2014-01-19T00:00:00",
          "2014-01-20T00:00:00",
          "2014-01-21T00:00:00",
          "2014-01-22T00:00:00",
          "2014-01-23T00:00:00",
          "2014-01-24T00:00:00",
          "2014-01-25T00:00:00",
          "2014-01-26T00:00:00",
          "2014-01-27T00:00:00",
          "2014-01-28T00:00:00",
          "2014-01-29T00:00:00",
          "2014-01-30T00:00:00",
          "2014-01-31T00:00:00",
          "2014-02-01T00:00:00",
          "2014-02-02T00:00:00",
          "2014-02-03T00:00:00",
          "2014-02-04T00:00:00",
          "2014-02-05T00:00:00",
          "2014-02-06T00:00:00",
          "2014-02-07T00:00:00",
          "2014-02-08T00:00:00",
          "2014-02-09T00:00:00",
          "2014-02-10T00:00:00",
          "2014-02-11T00:00:00",
          "2014-02-12T00:00:00",
          "2014-02-13T00:00:00",
          "2014-02-14T00:00:00",
          "2014-02-15T00:00:00",
          "2014-02-16T00:00:00",
          "2014-02-17T00:00:00",
          "2014-02-18T00:00:00",
          "2014-02-19T00:00:00",
          "2014-02-20T00:00:00",
          "2014-02-21T00:00:00",
          "2014-02-22T00:00:00",
          "2014-02-23T00:00:00",
          "2014-02-24T00:00:00",
          "2014-02-25T00:00:00",
          "2014-02-26T00:00:00",
          "2014-02-27T00:00:00",
          "2014-02-28T00:00:00",
          "2014-03-01T00:00:00",
          "2014-03-02T00:00:00",
          "2014-03-03T00:00:00",
          "2014-03-04T00:00:00",
          "2014-03-05T00:00:00",
          "2014-03-06T00:00:00",
          "2014-03-07T00:00:00",
          "2014-03-08T00:00:00",
          "2014-03-09T00:00:00",
          "2014-03-10T00:00:00",
          "2014-03-11T00:00:00",
          "2014-03-12T00:00:00",
          "2014-03-13T00:00:00",
          "2014-03-14T00:00:00",
          "2014-03-15T00:00:00",
          "2014-03-16T00:00:00",
          "2014-03-17T00:00:00",
          "2014-03-18T00:00:00",
          "2014-03-19T00:00:00",
          "2014-03-20T00:00:00",
          "2014-03-21T00:00:00",
          "2014-03-22T00:00:00",
          "2014-03-23T00:00:00",
          "2014-03-24T00:00:00",
          "2014-03-25T00:00:00",
          "2014-03-26T00:00:00",
          "2014-03-27T00:00:00",
          "2014-03-28T00:00:00",
          "2014-03-29T00:00:00",
          "2014-03-30T00:00:00",
          "2014-03-31T00:00:00",
          "2014-04-01T00:00:00",
          "2014-04-02T00:00:00",
          "2014-04-03T00:00:00",
          "2014-04-04T00:00:00",
          "2014-04-05T00:00:00",
          "2014-04-06T00:00:00",
          "2014-04-07T00:00:00",
          "2014-04-08T00:00:00",
          "2014-04-09T00:00:00",
          "2014-04-10T00:00:00",
          "2014-04-11T00:00:00",
          "2014-04-12T00:00:00",
          "2014-04-13T00:00:00",
          "2014-04-14T00:00:00",
          "2014-04-15T00:00:00",
          "2014-04-16T00:00:00",
          "2014-04-17T00:00:00",
          "2014-04-18T00:00:00",
          "2014-04-19T00:00:00",
          "2014-04-20T00:00:00",
          "2014-04-21T00:00:00",
          "2014-04-22T00:00:00",
          "2014-04-23T00:00:00",
          "2014-04-24T00:00:00",
          "2014-04-25T00:00:00",
          "2014-04-26T00:00:00",
          "2014-04-27T00:00:00",
          "2014-04-28T00:00:00",
          "2014-04-29T00:00:00",
          "2014-04-30T00:00:00",
          "2014-05-01T00:00:00",
          "2014-05-02T00:00:00",
          "2014-05-03T00:00:00",
          "2014-05-04T00:00:00",
          "2014-05-05T00:00:00",
          "2014-05-06T00:00:00",
          "2014-05-07T00:00:00",
          "2014-05-08T00:00:00",
          "2014-05-09T00:00:00",
          "2014-05-10T00:00:00",
          "2014-05-11T00:00:00",
          "2014-05-12T00:00:00",
          "2014-05-13T00:00:00",
          "2014-05-14T00:00:00",
          "2014-05-15T00:00:00",
          "2014-05-16T00:00:00",
          "2014-05-17T00:00:00",
          "2014-05-18T00:00:00",
          "2014-05-19T00:00:00",
          "2014-05-20T00:00:00",
          "2014-05-21T00:00:00",
          "2014-05-22T00:00:00",
          "2014-05-23T00:00:00",
          "2014-05-24T00:00:00",
          "2014-05-25T00:00:00",
          "2014-05-26T00:00:00",
          "2014-05-27T00:00:00",
          "2014-05-28T00:00:00",
          "2014-05-29T00:00:00",
          "2014-05-30T00:00:00",
          "2014-05-31T00:00:00",
          "2014-06-01T00:00:00",
          "2014-06-02T00:00:00",
          "2014-06-03T00:00:00",
          "2014-06-04T00:00:00",
          "2014-06-05T00:00:00",
          "2014-06-06T00:00:00",
          "2014-06-07T00:00:00",
          "2014-06-08T00:00:00",
          "2014-06-09T00:00:00",
          "2014-06-10T00:00:00",
          "2014-06-11T00:00:00",
          "2014-06-12T00:00:00",
          "2014-06-13T00:00:00",
          "2014-06-14T00:00:00",
          "2014-06-15T00:00:00",
          "2014-06-16T00:00:00",
          "2014-06-17T00:00:00",
          "2014-06-18T00:00:00",
          "2014-06-19T00:00:00",
          "2014-06-20T00:00:00",
          "2014-06-21T00:00:00",
          "2014-06-22T00:00:00",
          "2014-06-23T00:00:00",
          "2014-06-24T00:00:00",
          "2014-06-25T00:00:00",
          "2014-06-26T00:00:00",
          "2014-06-27T00:00:00",
          "2014-06-28T00:00:00",
          "2014-06-29T00:00:00",
          "2014-06-30T00:00:00",
          "2014-07-01T00:00:00",
          "2014-07-02T00:00:00",
          "2014-07-03T00:00:00",
          "2014-07-04T00:00:00",
          "2014-07-05T00:00:00",
          "2014-07-06T00:00:00",
          "2014-07-07T00:00:00",
          "2014-07-08T00:00:00",
          "2014-07-09T00:00:00",
          "2014-07-10T00:00:00",
          "2014-07-11T00:00:00",
          "2014-07-12T00:00:00",
          "2014-07-13T00:00:00",
          "2014-07-14T00:00:00",
          "2014-07-15T00:00:00",
          "2014-07-16T00:00:00",
          "2014-07-17T00:00:00",
          "2014-07-18T00:00:00",
          "2014-07-19T00:00:00",
          "2014-07-20T00:00:00",
          "2014-07-21T00:00:00",
          "2014-07-22T00:00:00",
          "2014-07-23T00:00:00",
          "2014-07-24T00:00:00",
          "2014-07-25T00:00:00",
          "2014-07-26T00:00:00",
          "2014-07-27T00:00:00",
          "2014-07-28T00:00:00",
          "2014-07-29T00:00:00",
          "2014-07-30T00:00:00",
          "2014-07-31T00:00:00",
          "2014-08-01T00:00:00",
          "2014-08-02T00:00:00",
          "2014-08-03T00:00:00",
          "2014-08-04T00:00:00",
          "2014-08-05T00:00:00",
          "2014-08-06T00:00:00",
          "2014-08-07T00:00:00",
          "2014-08-08T00:00:00",
          "2014-08-09T00:00:00",
          "2014-08-10T00:00:00",
          "2014-08-11T00:00:00",
          "2014-08-12T00:00:00",
          "2014-08-13T00:00:00",
          "2014-08-14T00:00:00",
          "2014-08-15T00:00:00",
          "2014-08-16T00:00:00",
          "2014-08-17T00:00:00",
          "2014-08-18T00:00:00",
          "2014-08-19T00:00:00",
          "2014-08-20T00:00:00",
          "2014-08-21T00:00:00",
          "2014-08-22T00:00:00",
          "2014-08-23T00:00:00",
          "2014-08-24T00:00:00",
          "2014-08-25T00:00:00",
          "2014-08-26T00:00:00",
          "2014-08-27T00:00:00",
          "2014-08-28T00:00:00",
          "2014-08-29T00:00:00",
          "2014-08-30T00:00:00",
          "2014-08-31T00:00:00",
          "2014-09-01T00:00:00",
          "2014-09-02T00:00:00",
          "2014-09-03T00:00:00",
          "2014-09-04T00:00:00",
          "2014-09-05T00:00:00",
          "2014-09-06T00:00:00",
          "2014-09-07T00:00:00",
          "2014-09-08T00:00:00",
          "2014-09-09T00:00:00",
          "2014-09-10T00:00:00",
          "2014-09-11T00:00:00",
          "2014-09-12T00:00:00",
          "2014-09-13T00:00:00",
          "2014-09-14T00:00:00",
          "2014-09-15T00:00:00",
          "2014-09-16T00:00:00",
          "2014-09-17T00:00:00",
          "2014-09-18T00:00:00",
          "2014-09-19T00:00:00",
          "2014-09-20T00:00:00",
          "2014-09-21T00:00:00",
          "2014-09-22T00:00:00",
          "2014-09-23T00:00:00",
          "2014-09-24T00:00:00",
          "2014-09-25T00:00:00",
          "2014-09-26T00:00:00",
          "2014-09-27T00:00:00",
          "2014-09-28T00:00:00",
          "2014-09-29T00:00:00",
          "2014-09-30T00:00:00",
          "2014-10-01T00:00:00",
          "2014-10-02T00:00:00",
          "2014-10-03T00:00:00",
          "2014-10-04T00:00:00",
          "2014-10-05T00:00:00",
          "2014-10-06T00:00:00",
          "2014-10-07T00:00:00",
          "2014-10-08T00:00:00",
          "2014-10-09T00:00:00",
          "2014-10-10T00:00:00",
          "2014-10-11T00:00:00",
          "2014-10-12T00:00:00",
          "2014-10-13T00:00:00",
          "2014-10-14T00:00:00",
          "2014-10-15T00:00:00",
          "2014-10-16T00:00:00",
          "2014-10-17T00:00:00",
          "2014-10-18T00:00:00",
          "2014-10-19T00:00:00",
          "2014-10-20T00:00:00",
          "2014-10-21T00:00:00",
          "2014-10-22T00:00:00",
          "2014-10-23T00:00:00",
          "2014-10-24T00:00:00",
          "2014-10-25T00:00:00",
          "2014-10-26T00:00:00",
          "2014-10-27T00:00:00",
          "2014-10-28T00:00:00",
          "2014-10-29T00:00:00",
          "2014-10-30T00:00:00",
          "2014-10-31T00:00:00",
          "2014-11-01T00:00:00",
          "2014-11-02T00:00:00",
          "2014-11-03T00:00:00",
          "2014-11-04T00:00:00",
          "2014-11-05T00:00:00",
          "2014-11-06T00:00:00",
          "2014-11-07T00:00:00",
          "2014-11-08T00:00:00",
          "2014-11-09T00:00:00",
          "2014-11-10T00:00:00",
          "2014-11-11T00:00:00",
          "2014-11-12T00:00:00",
          "2014-11-13T00:00:00",
          "2014-11-14T00:00:00",
          "2014-11-15T00:00:00",
          "2014-11-16T00:00:00",
          "2014-11-17T00:00:00",
          "2014-11-18T00:00:00",
          "2014-11-19T00:00:00",
          "2014-11-20T00:00:00",
          "2014-11-21T00:00:00",
          "2014-11-22T00:00:00",
          "2014-11-23T00:00:00",
          "2014-11-24T00:00:00",
          "2014-11-25T00:00:00",
          "2014-11-26T00:00:00",
          "2014-11-27T00:00:00",
          "2014-11-28T00:00:00",
          "2014-11-29T00:00:00",
          "2014-11-30T00:00:00",
          "2014-12-01T00:00:00",
          "2014-12-02T00:00:00",
          "2014-12-03T00:00:00",
          "2014-12-04T00:00:00",
          "2014-12-05T00:00:00",
          "2014-12-06T00:00:00",
          "2014-12-07T00:00:00",
          "2014-12-08T00:00:00",
          "2014-12-09T00:00:00",
          "2014-12-10T00:00:00",
          "2014-12-11T00:00:00",
          "2014-12-12T00:00:00",
          "2014-12-13T00:00:00",
          "2014-12-14T00:00:00",
          "2014-12-15T00:00:00",
          "2014-12-16T00:00:00",
          "2014-12-17T00:00:00",
          "2014-12-18T00:00:00",
          "2014-12-19T00:00:00",
          "2014-12-20T00:00:00",
          "2014-12-21T00:00:00",
          "2014-12-22T00:00:00",
          "2014-12-23T00:00:00",
          "2014-12-24T00:00:00",
          "2014-12-25T00:00:00",
          "2014-12-26T00:00:00",
          "2014-12-27T00:00:00",
          "2014-12-28T00:00:00",
          "2014-12-29T00:00:00",
          "2014-12-30T00:00:00",
          "2014-12-31T00:00:00",
          "2015-01-01T00:00:00",
          "2015-01-02T00:00:00",
          "2015-01-03T00:00:00",
          "2015-01-04T00:00:00",
          "2015-01-05T00:00:00",
          "2015-01-06T00:00:00",
          "2015-01-07T00:00:00",
          "2015-01-08T00:00:00",
          "2015-01-09T00:00:00",
          "2015-01-10T00:00:00",
          "2015-01-11T00:00:00",
          "2015-01-12T00:00:00",
          "2015-01-13T00:00:00",
          "2015-01-14T00:00:00",
          "2015-01-15T00:00:00",
          "2015-01-16T00:00:00",
          "2015-01-17T00:00:00",
          "2015-01-18T00:00:00",
          "2015-01-19T00:00:00",
          "2015-01-20T00:00:00",
          "2015-01-21T00:00:00",
          "2015-01-22T00:00:00",
          "2015-01-23T00:00:00",
          "2015-01-24T00:00:00",
          "2015-01-25T00:00:00",
          "2015-01-26T00:00:00",
          "2015-01-27T00:00:00",
          "2015-01-28T00:00:00",
          "2015-01-29T00:00:00",
          "2015-01-30T00:00:00",
          "2015-01-31T00:00:00",
          "2015-02-01T00:00:00",
          "2015-02-02T00:00:00",
          "2015-02-03T00:00:00",
          "2015-02-04T00:00:00",
          "2015-02-05T00:00:00",
          "2015-02-06T00:00:00",
          "2015-02-07T00:00:00",
          "2015-02-08T00:00:00",
          "2015-02-09T00:00:00",
          "2015-02-10T00:00:00",
          "2015-02-11T00:00:00",
          "2015-02-12T00:00:00",
          "2015-02-13T00:00:00",
          "2015-02-14T00:00:00",
          "2015-02-15T00:00:00",
          "2015-02-16T00:00:00",
          "2015-02-17T00:00:00",
          "2015-02-18T00:00:00",
          "2015-02-19T00:00:00",
          "2015-02-20T00:00:00",
          "2015-02-21T00:00:00",
          "2015-02-22T00:00:00",
          "2015-02-23T00:00:00",
          "2015-02-24T00:00:00",
          "2015-02-25T00:00:00",
          "2015-02-26T00:00:00",
          "2015-02-27T00:00:00",
          "2015-02-28T00:00:00",
          "2015-03-01T00:00:00",
          "2015-03-02T00:00:00",
          "2015-03-03T00:00:00",
          "2015-03-04T00:00:00",
          "2015-03-05T00:00:00",
          "2015-03-06T00:00:00",
          "2015-03-07T00:00:00",
          "2015-03-08T00:00:00",
          "2015-03-09T00:00:00",
          "2015-03-10T00:00:00",
          "2015-03-11T00:00:00",
          "2015-03-12T00:00:00",
          "2015-03-13T00:00:00",
          "2015-03-14T00:00:00",
          "2015-03-15T00:00:00",
          "2015-03-16T00:00:00",
          "2015-03-17T00:00:00",
          "2015-03-18T00:00:00",
          "2015-03-19T00:00:00",
          "2015-03-20T00:00:00",
          "2015-03-21T00:00:00",
          "2015-03-22T00:00:00",
          "2015-03-23T00:00:00",
          "2015-03-24T00:00:00",
          "2015-03-25T00:00:00",
          "2015-03-26T00:00:00",
          "2015-03-27T00:00:00",
          "2015-03-28T00:00:00",
          "2015-03-29T00:00:00",
          "2015-03-30T00:00:00",
          "2015-03-31T00:00:00",
          "2015-04-01T00:00:00",
          "2015-04-02T00:00:00",
          "2015-04-03T00:00:00",
          "2015-04-04T00:00:00",
          "2015-04-05T00:00:00",
          "2015-04-06T00:00:00",
          "2015-04-07T00:00:00",
          "2015-04-08T00:00:00",
          "2015-04-09T00:00:00",
          "2015-04-10T00:00:00",
          "2015-04-11T00:00:00",
          "2015-04-12T00:00:00",
          "2015-04-13T00:00:00",
          "2015-04-14T00:00:00",
          "2015-04-15T00:00:00",
          "2015-04-16T00:00:00",
          "2015-04-17T00:00:00",
          "2015-04-18T00:00:00",
          "2015-04-19T00:00:00",
          "2015-04-20T00:00:00",
          "2015-04-21T00:00:00",
          "2015-04-22T00:00:00",
          "2015-04-23T00:00:00",
          "2015-04-24T00:00:00",
          "2015-04-25T00:00:00",
          "2015-04-26T00:00:00",
          "2015-04-27T00:00:00",
          "2015-04-28T00:00:00",
          "2015-04-29T00:00:00",
          "2015-04-30T00:00:00",
          "2015-05-01T00:00:00",
          "2015-05-02T00:00:00",
          "2015-05-03T00:00:00",
          "2015-05-04T00:00:00",
          "2015-05-05T00:00:00",
          "2015-05-06T00:00:00",
          "2015-05-07T00:00:00",
          "2015-05-08T00:00:00",
          "2015-05-09T00:00:00",
          "2015-05-10T00:00:00",
          "2015-05-11T00:00:00",
          "2015-05-12T00:00:00",
          "2015-05-13T00:00:00",
          "2015-05-14T00:00:00",
          "2015-05-15T00:00:00",
          "2015-05-16T00:00:00",
          "2015-05-17T00:00:00",
          "2015-05-18T00:00:00",
          "2015-05-19T00:00:00",
          "2015-05-20T00:00:00",
          "2015-05-21T00:00:00",
          "2015-05-22T00:00:00",
          "2015-05-23T00:00:00",
          "2015-05-24T00:00:00",
          "2015-05-25T00:00:00",
          "2015-05-26T00:00:00",
          "2015-05-27T00:00:00",
          "2015-05-28T00:00:00",
          "2015-05-29T00:00:00",
          "2015-05-30T00:00:00",
          "2015-05-31T00:00:00",
          "2015-06-01T00:00:00",
          "2015-06-02T00:00:00",
          "2015-06-03T00:00:00",
          "2015-06-04T00:00:00",
          "2015-06-05T00:00:00",
          "2015-06-06T00:00:00",
          "2015-06-07T00:00:00",
          "2015-06-08T00:00:00",
          "2015-06-09T00:00:00",
          "2015-06-10T00:00:00",
          "2015-06-11T00:00:00",
          "2015-06-12T00:00:00",
          "2015-06-13T00:00:00",
          "2015-06-14T00:00:00",
          "2015-06-15T00:00:00",
          "2015-06-16T00:00:00",
          "2015-06-17T00:00:00",
          "2015-06-18T00:00:00",
          "2015-06-19T00:00:00",
          "2015-06-20T00:00:00",
          "2015-06-21T00:00:00",
          "2015-06-22T00:00:00",
          "2015-06-23T00:00:00",
          "2015-06-24T00:00:00",
          "2015-06-25T00:00:00",
          "2015-06-26T00:00:00",
          "2015-06-27T00:00:00",
          "2015-06-28T00:00:00",
          "2015-06-29T00:00:00",
          "2015-06-30T00:00:00",
          "2015-07-01T00:00:00",
          "2015-07-02T00:00:00",
          "2015-07-03T00:00:00",
          "2015-07-04T00:00:00",
          "2015-07-05T00:00:00",
          "2015-07-06T00:00:00",
          "2015-07-07T00:00:00",
          "2015-07-08T00:00:00",
          "2015-07-09T00:00:00",
          "2015-07-10T00:00:00",
          "2015-07-11T00:00:00",
          "2015-07-12T00:00:00",
          "2015-07-13T00:00:00",
          "2015-07-14T00:00:00",
          "2015-07-15T00:00:00",
          "2015-07-16T00:00:00",
          "2015-07-17T00:00:00",
          "2015-07-18T00:00:00",
          "2015-07-19T00:00:00",
          "2015-07-20T00:00:00",
          "2015-07-21T00:00:00",
          "2015-07-22T00:00:00",
          "2015-07-23T00:00:00",
          "2015-07-24T00:00:00",
          "2015-07-25T00:00:00",
          "2015-07-26T00:00:00",
          "2015-07-27T00:00:00",
          "2015-07-28T00:00:00",
          "2015-07-29T00:00:00",
          "2015-07-30T00:00:00",
          "2015-07-31T00:00:00",
          "2015-08-01T00:00:00",
          "2015-08-02T00:00:00",
          "2015-08-03T00:00:00",
          "2015-08-04T00:00:00",
          "2015-08-05T00:00:00",
          "2015-08-06T00:00:00",
          "2015-08-07T00:00:00",
          "2015-08-08T00:00:00",
          "2015-08-09T00:00:00",
          "2015-08-10T00:00:00",
          "2015-08-11T00:00:00",
          "2015-08-12T00:00:00",
          "2015-08-13T00:00:00",
          "2015-08-14T00:00:00",
          "2015-08-15T00:00:00",
          "2015-08-16T00:00:00",
          "2015-08-17T00:00:00",
          "2015-08-18T00:00:00",
          "2015-08-19T00:00:00",
          "2015-08-20T00:00:00",
          "2015-08-21T00:00:00",
          "2015-08-22T00:00:00",
          "2015-08-23T00:00:00",
          "2015-08-24T00:00:00",
          "2015-08-25T00:00:00",
          "2015-08-26T00:00:00",
          "2015-08-27T00:00:00",
          "2015-08-28T00:00:00",
          "2015-08-29T00:00:00",
          "2015-08-30T00:00:00",
          "2015-08-31T00:00:00",
          "2015-09-01T00:00:00",
          "2015-09-02T00:00:00",
          "2015-09-03T00:00:00",
          "2015-09-04T00:00:00",
          "2015-09-05T00:00:00",
          "2015-09-06T00:00:00",
          "2015-09-07T00:00:00",
          "2015-09-08T00:00:00",
          "2015-09-09T00:00:00",
          "2015-09-10T00:00:00",
          "2015-09-11T00:00:00",
          "2015-09-12T00:00:00",
          "2015-09-13T00:00:00",
          "2015-09-14T00:00:00",
          "2015-09-15T00:00:00",
          "2015-09-16T00:00:00",
          "2015-09-17T00:00:00",
          "2015-09-18T00:00:00",
          "2015-09-19T00:00:00",
          "2015-09-20T00:00:00",
          "2015-09-21T00:00:00",
          "2015-09-22T00:00:00",
          "2015-09-23T00:00:00",
          "2015-09-24T00:00:00",
          "2015-09-25T00:00:00",
          "2015-09-26T00:00:00",
          "2015-09-27T00:00:00",
          "2015-09-28T00:00:00",
          "2015-09-29T00:00:00",
          "2015-09-30T00:00:00",
          "2015-10-01T00:00:00",
          "2015-10-02T00:00:00",
          "2015-10-03T00:00:00",
          "2015-10-04T00:00:00",
          "2015-10-05T00:00:00",
          "2015-10-06T00:00:00",
          "2015-10-07T00:00:00",
          "2015-10-08T00:00:00",
          "2015-10-09T00:00:00",
          "2015-10-10T00:00:00",
          "2015-10-11T00:00:00",
          "2015-10-12T00:00:00",
          "2015-10-13T00:00:00",
          "2015-10-14T00:00:00",
          "2015-10-15T00:00:00",
          "2015-10-16T00:00:00",
          "2015-10-17T00:00:00",
          "2015-10-18T00:00:00",
          "2015-10-19T00:00:00",
          "2015-10-20T00:00:00",
          "2015-10-21T00:00:00",
          "2015-10-22T00:00:00",
          "2015-10-23T00:00:00",
          "2015-10-24T00:00:00",
          "2015-10-25T00:00:00",
          "2015-10-26T00:00:00",
          "2015-10-27T00:00:00",
          "2015-10-28T00:00:00",
          "2015-10-29T00:00:00",
          "2015-10-30T00:00:00",
          "2015-10-31T00:00:00",
          "2015-11-01T00:00:00",
          "2015-11-02T00:00:00",
          "2015-11-03T00:00:00",
          "2015-11-04T00:00:00",
          "2015-11-05T00:00:00",
          "2015-11-06T00:00:00",
          "2015-11-07T00:00:00",
          "2015-11-08T00:00:00",
          "2015-11-09T00:00:00",
          "2015-11-10T00:00:00",
          "2015-11-11T00:00:00",
          "2015-11-12T00:00:00",
          "2015-11-13T00:00:00",
          "2015-11-14T00:00:00",
          "2015-11-15T00:00:00",
          "2015-11-16T00:00:00",
          "2015-11-17T00:00:00",
          "2015-11-18T00:00:00",
          "2015-11-19T00:00:00",
          "2015-11-20T00:00:00",
          "2015-11-21T00:00:00",
          "2015-11-22T00:00:00",
          "2015-11-23T00:00:00",
          "2015-11-24T00:00:00",
          "2015-11-25T00:00:00",
          "2015-11-26T00:00:00",
          "2015-11-27T00:00:00",
          "2015-11-28T00:00:00",
          "2015-11-29T00:00:00",
          "2015-11-30T00:00:00",
          "2015-12-01T00:00:00",
          "2015-12-02T00:00:00",
          "2015-12-03T00:00:00",
          "2015-12-04T00:00:00",
          "2015-12-05T00:00:00",
          "2015-12-06T00:00:00",
          "2015-12-07T00:00:00",
          "2015-12-08T00:00:00",
          "2015-12-09T00:00:00",
          "2015-12-10T00:00:00",
          "2015-12-11T00:00:00",
          "2015-12-12T00:00:00",
          "2015-12-13T00:00:00",
          "2015-12-14T00:00:00",
          "2015-12-15T00:00:00",
          "2015-12-16T00:00:00",
          "2015-12-17T00:00:00",
          "2015-12-18T00:00:00",
          "2015-12-19T00:00:00",
          "2015-12-20T00:00:00",
          "2015-12-21T00:00:00",
          "2015-12-22T00:00:00",
          "2015-12-23T00:00:00",
          "2015-12-24T00:00:00",
          "2015-12-25T00:00:00",
          "2015-12-26T00:00:00",
          "2015-12-27T00:00:00",
          "2015-12-28T00:00:00",
          "2015-12-29T00:00:00",
          "2015-12-30T00:00:00",
          "2015-12-31T00:00:00",
          "2016-01-01T00:00:00",
          "2016-01-02T00:00:00",
          "2016-01-03T00:00:00",
          "2016-01-04T00:00:00",
          "2016-01-05T00:00:00",
          "2016-01-06T00:00:00",
          "2016-01-07T00:00:00",
          "2016-01-08T00:00:00",
          "2016-01-09T00:00:00",
          "2016-01-10T00:00:00",
          "2016-01-11T00:00:00",
          "2016-01-12T00:00:00",
          "2016-01-13T00:00:00",
          "2016-01-14T00:00:00",
          "2016-01-15T00:00:00",
          "2016-01-16T00:00:00",
          "2016-01-17T00:00:00",
          "2016-01-18T00:00:00",
          "2016-01-19T00:00:00",
          "2016-01-20T00:00:00",
          "2016-01-21T00:00:00",
          "2016-01-22T00:00:00",
          "2016-01-23T00:00:00",
          "2016-01-24T00:00:00",
          "2016-01-25T00:00:00",
          "2016-01-26T00:00:00",
          "2016-01-27T00:00:00",
          "2016-01-28T00:00:00",
          "2016-01-29T00:00:00",
          "2016-01-30T00:00:00",
          "2016-01-31T00:00:00",
          "2016-02-01T00:00:00",
          "2016-02-02T00:00:00",
          "2016-02-03T00:00:00",
          "2016-02-04T00:00:00",
          "2016-02-05T00:00:00",
          "2016-02-06T00:00:00",
          "2016-02-07T00:00:00",
          "2016-02-08T00:00:00",
          "2016-02-09T00:00:00",
          "2016-02-10T00:00:00",
          "2016-02-11T00:00:00",
          "2016-02-12T00:00:00",
          "2016-02-13T00:00:00",
          "2016-02-14T00:00:00",
          "2016-02-15T00:00:00",
          "2016-02-16T00:00:00",
          "2016-02-17T00:00:00",
          "2016-02-18T00:00:00",
          "2016-02-19T00:00:00",
          "2016-02-20T00:00:00",
          "2016-02-21T00:00:00",
          "2016-02-22T00:00:00",
          "2016-02-23T00:00:00",
          "2016-02-24T00:00:00",
          "2016-02-25T00:00:00",
          "2016-02-26T00:00:00",
          "2016-02-27T00:00:00",
          "2016-02-28T00:00:00",
          "2016-02-29T00:00:00",
          "2016-03-01T00:00:00",
          "2016-03-02T00:00:00",
          "2016-03-03T00:00:00",
          "2016-03-04T00:00:00",
          "2016-03-05T00:00:00",
          "2016-03-06T00:00:00",
          "2016-03-07T00:00:00",
          "2016-03-08T00:00:00",
          "2016-03-09T00:00:00",
          "2016-03-10T00:00:00",
          "2016-03-11T00:00:00",
          "2016-03-12T00:00:00",
          "2016-03-13T00:00:00",
          "2016-03-14T00:00:00",
          "2016-03-15T00:00:00",
          "2016-03-16T00:00:00",
          "2016-03-17T00:00:00",
          "2016-03-18T00:00:00",
          "2016-03-19T00:00:00",
          "2016-03-20T00:00:00",
          "2016-03-21T00:00:00",
          "2016-03-22T00:00:00",
          "2016-03-23T00:00:00",
          "2016-03-24T00:00:00",
          "2016-03-25T00:00:00",
          "2016-03-26T00:00:00",
          "2016-03-27T00:00:00",
          "2016-03-28T00:00:00",
          "2016-03-29T00:00:00",
          "2016-03-30T00:00:00",
          "2016-03-31T00:00:00",
          "2016-04-01T00:00:00",
          "2016-04-02T00:00:00",
          "2016-04-03T00:00:00",
          "2016-04-04T00:00:00",
          "2016-04-05T00:00:00",
          "2016-04-06T00:00:00",
          "2016-04-07T00:00:00",
          "2016-04-08T00:00:00",
          "2016-04-09T00:00:00",
          "2016-04-10T00:00:00",
          "2016-04-11T00:00:00",
          "2016-04-12T00:00:00",
          "2016-04-13T00:00:00",
          "2016-04-14T00:00:00",
          "2016-04-15T00:00:00",
          "2016-04-16T00:00:00",
          "2016-04-17T00:00:00",
          "2016-04-18T00:00:00",
          "2016-04-19T00:00:00",
          "2016-04-20T00:00:00",
          "2016-04-21T00:00:00",
          "2016-04-22T00:00:00",
          "2016-04-23T00:00:00",
          "2016-04-24T00:00:00",
          "2016-04-25T00:00:00",
          "2016-04-26T00:00:00",
          "2016-04-27T00:00:00",
          "2016-04-28T00:00:00",
          "2016-04-29T00:00:00",
          "2016-04-30T00:00:00",
          "2016-05-01T00:00:00",
          "2016-05-02T00:00:00",
          "2016-05-03T00:00:00",
          "2016-05-04T00:00:00",
          "2016-05-05T00:00:00",
          "2016-05-06T00:00:00",
          "2016-05-07T00:00:00",
          "2016-05-08T00:00:00",
          "2016-05-09T00:00:00",
          "2016-05-10T00:00:00",
          "2016-05-11T00:00:00",
          "2016-05-12T00:00:00",
          "2016-05-13T00:00:00",
          "2016-05-14T00:00:00",
          "2016-05-15T00:00:00",
          "2016-05-16T00:00:00",
          "2016-05-17T00:00:00",
          "2016-05-18T00:00:00",
          "2016-05-19T00:00:00",
          "2016-05-20T00:00:00",
          "2016-05-21T00:00:00",
          "2016-05-22T00:00:00",
          "2016-05-23T00:00:00",
          "2016-05-24T00:00:00",
          "2016-05-25T00:00:00",
          "2016-05-26T00:00:00",
          "2016-05-27T00:00:00",
          "2016-05-28T00:00:00",
          "2016-05-29T00:00:00",
          "2016-05-30T00:00:00",
          "2016-05-31T00:00:00",
          "2016-06-01T00:00:00",
          "2016-06-02T00:00:00",
          "2016-06-03T00:00:00",
          "2016-06-04T00:00:00",
          "2016-06-05T00:00:00",
          "2016-06-06T00:00:00",
          "2016-06-07T00:00:00",
          "2016-06-08T00:00:00",
          "2016-06-09T00:00:00",
          "2016-06-10T00:00:00",
          "2016-06-11T00:00:00",
          "2016-06-12T00:00:00",
          "2016-06-13T00:00:00",
          "2016-06-14T00:00:00",
          "2016-06-15T00:00:00",
          "2016-06-16T00:00:00",
          "2016-06-17T00:00:00",
          "2016-06-18T00:00:00",
          "2016-06-19T00:00:00",
          "2016-06-20T00:00:00",
          "2016-06-21T00:00:00",
          "2016-06-22T00:00:00",
          "2016-06-23T00:00:00",
          "2016-06-24T00:00:00",
          "2016-06-25T00:00:00",
          "2016-06-26T00:00:00",
          "2016-06-27T00:00:00",
          "2016-06-28T00:00:00",
          "2016-06-29T00:00:00",
          "2016-06-30T00:00:00",
          "2016-07-01T00:00:00",
          "2016-07-02T00:00:00",
          "2016-07-03T00:00:00",
          "2016-07-04T00:00:00",
          "2016-07-05T00:00:00",
          "2016-07-06T00:00:00",
          "2016-07-07T00:00:00",
          "2016-07-08T00:00:00",
          "2016-07-09T00:00:00",
          "2016-07-10T00:00:00",
          "2016-07-11T00:00:00",
          "2016-07-12T00:00:00",
          "2016-07-13T00:00:00",
          "2016-07-14T00:00:00",
          "2016-07-15T00:00:00",
          "2016-07-16T00:00:00",
          "2016-07-17T00:00:00",
          "2016-07-18T00:00:00",
          "2016-07-19T00:00:00",
          "2016-07-20T00:00:00",
          "2016-07-21T00:00:00",
          "2016-07-22T00:00:00",
          "2016-07-23T00:00:00",
          "2016-07-24T00:00:00",
          "2016-07-25T00:00:00",
          "2016-07-26T00:00:00",
          "2016-07-27T00:00:00",
          "2016-07-28T00:00:00",
          "2016-07-29T00:00:00",
          "2016-07-30T00:00:00",
          "2016-07-31T00:00:00",
          "2016-08-01T00:00:00",
          "2016-08-02T00:00:00",
          "2016-08-03T00:00:00",
          "2016-08-04T00:00:00",
          "2016-08-05T00:00:00",
          "2016-08-06T00:00:00",
          "2016-08-07T00:00:00",
          "2016-08-08T00:00:00",
          "2016-08-09T00:00:00",
          "2016-08-10T00:00:00",
          "2016-08-11T00:00:00",
          "2016-08-12T00:00:00",
          "2016-08-13T00:00:00",
          "2016-08-14T00:00:00",
          "2016-08-15T00:00:00",
          "2016-08-16T00:00:00",
          "2016-08-17T00:00:00",
          "2016-08-18T00:00:00",
          "2016-08-19T00:00:00",
          "2016-08-20T00:00:00",
          "2016-08-21T00:00:00",
          "2016-08-22T00:00:00",
          "2016-08-23T00:00:00",
          "2016-08-24T00:00:00",
          "2016-08-25T00:00:00",
          "2016-08-26T00:00:00",
          "2016-08-27T00:00:00",
          "2016-08-28T00:00:00",
          "2016-08-29T00:00:00",
          "2016-08-30T00:00:00",
          "2016-08-31T00:00:00",
          "2016-09-01T00:00:00",
          "2016-09-02T00:00:00",
          "2016-09-03T00:00:00",
          "2016-09-04T00:00:00",
          "2016-09-05T00:00:00",
          "2016-09-06T00:00:00",
          "2016-09-07T00:00:00",
          "2016-09-08T00:00:00",
          "2016-09-09T00:00:00",
          "2016-09-10T00:00:00",
          "2016-09-11T00:00:00",
          "2016-09-12T00:00:00",
          "2016-09-13T00:00:00",
          "2016-09-14T00:00:00",
          "2016-09-15T00:00:00",
          "2016-09-16T00:00:00",
          "2016-09-17T00:00:00",
          "2016-09-18T00:00:00",
          "2016-09-19T00:00:00",
          "2016-09-20T00:00:00",
          "2016-09-21T00:00:00",
          "2016-09-22T00:00:00",
          "2016-09-23T00:00:00",
          "2016-09-24T00:00:00",
          "2016-09-25T00:00:00",
          "2016-09-26T00:00:00",
          "2016-09-27T00:00:00",
          "2016-09-28T00:00:00",
          "2016-09-29T00:00:00",
          "2016-09-30T00:00:00",
          "2016-10-01T00:00:00",
          "2016-10-02T00:00:00",
          "2016-10-03T00:00:00",
          "2016-10-04T00:00:00",
          "2016-10-05T00:00:00",
          "2016-10-06T00:00:00",
          "2016-10-07T00:00:00",
          "2016-10-08T00:00:00",
          "2016-10-09T00:00:00",
          "2016-10-10T00:00:00",
          "2016-10-11T00:00:00",
          "2016-10-12T00:00:00",
          "2016-10-13T00:00:00",
          "2016-10-14T00:00:00",
          "2016-10-15T00:00:00",
          "2016-10-16T00:00:00",
          "2016-10-17T00:00:00",
          "2016-10-18T00:00:00",
          "2016-10-19T00:00:00",
          "2016-10-20T00:00:00",
          "2016-10-21T00:00:00",
          "2016-10-22T00:00:00",
          "2016-10-23T00:00:00",
          "2016-10-24T00:00:00",
          "2016-10-25T00:00:00",
          "2016-10-26T00:00:00",
          "2016-10-27T00:00:00",
          "2016-10-28T00:00:00",
          "2016-10-29T00:00:00",
          "2016-10-30T00:00:00",
          "2016-10-31T00:00:00",
          "2016-11-01T00:00:00",
          "2016-11-02T00:00:00",
          "2016-11-03T00:00:00",
          "2016-11-04T00:00:00",
          "2016-11-05T00:00:00",
          "2016-11-06T00:00:00",
          "2016-11-07T00:00:00",
          "2016-11-08T00:00:00",
          "2016-11-09T00:00:00",
          "2016-11-10T00:00:00",
          "2016-11-11T00:00:00",
          "2016-11-12T00:00:00",
          "2016-11-13T00:00:00",
          "2016-11-14T00:00:00",
          "2016-11-15T00:00:00",
          "2016-11-16T00:00:00",
          "2016-11-17T00:00:00",
          "2016-11-18T00:00:00",
          "2016-11-19T00:00:00",
          "2016-11-20T00:00:00",
          "2016-11-21T00:00:00",
          "2016-11-22T00:00:00",
          "2016-11-23T00:00:00",
          "2016-11-24T00:00:00",
          "2016-11-25T00:00:00",
          "2016-11-26T00:00:00",
          "2016-11-27T00:00:00",
          "2016-11-28T00:00:00",
          "2016-11-29T00:00:00",
          "2016-11-30T00:00:00",
          "2016-12-01T00:00:00",
          "2016-12-02T00:00:00",
          "2016-12-03T00:00:00",
          "2016-12-04T00:00:00",
          "2016-12-05T00:00:00",
          "2016-12-06T00:00:00",
          "2016-12-07T00:00:00",
          "2016-12-08T00:00:00",
          "2016-12-09T00:00:00",
          "2016-12-10T00:00:00",
          "2016-12-11T00:00:00",
          "2016-12-12T00:00:00",
          "2016-12-13T00:00:00",
          "2016-12-14T00:00:00",
          "2016-12-15T00:00:00",
          "2016-12-16T00:00:00",
          "2016-12-17T00:00:00",
          "2016-12-18T00:00:00",
          "2016-12-19T00:00:00",
          "2016-12-20T00:00:00",
          "2016-12-21T00:00:00",
          "2016-12-22T00:00:00",
          "2016-12-23T00:00:00",
          "2016-12-24T00:00:00",
          "2016-12-25T00:00:00",
          "2016-12-26T00:00:00",
          "2016-12-27T00:00:00",
          "2016-12-28T00:00:00",
          "2016-12-29T00:00:00",
          "2016-12-30T00:00:00",
          "2016-12-31T00:00:00",
          "2017-01-01T00:00:00",
          "2017-01-02T00:00:00",
          "2017-01-03T00:00:00",
          "2017-01-04T00:00:00",
          "2017-01-05T00:00:00",
          "2017-01-06T00:00:00",
          "2017-01-07T00:00:00",
          "2017-01-08T00:00:00",
          "2017-01-09T00:00:00",
          "2017-01-10T00:00:00",
          "2017-01-11T00:00:00",
          "2017-01-12T00:00:00",
          "2017-01-13T00:00:00",
          "2017-01-14T00:00:00",
          "2017-01-15T00:00:00",
          "2017-01-16T00:00:00",
          "2017-01-17T00:00:00",
          "2017-01-18T00:00:00",
          "2017-01-19T00:00:00",
          "2017-01-20T00:00:00",
          "2017-01-21T00:00:00",
          "2017-01-22T00:00:00",
          "2017-01-23T00:00:00",
          "2017-01-24T00:00:00",
          "2017-01-25T00:00:00",
          "2017-01-26T00:00:00",
          "2017-01-27T00:00:00",
          "2017-01-28T00:00:00",
          "2017-01-29T00:00:00",
          "2017-01-30T00:00:00",
          "2017-01-31T00:00:00",
          "2017-02-01T00:00:00",
          "2017-02-02T00:00:00",
          "2017-02-03T00:00:00",
          "2017-02-04T00:00:00",
          "2017-02-05T00:00:00",
          "2017-02-06T00:00:00",
          "2017-02-07T00:00:00",
          "2017-02-08T00:00:00",
          "2017-02-09T00:00:00",
          "2017-02-10T00:00:00",
          "2017-02-11T00:00:00",
          "2017-02-12T00:00:00",
          "2017-02-13T00:00:00",
          "2017-02-14T00:00:00",
          "2017-02-15T00:00:00",
          "2017-02-16T00:00:00",
          "2017-02-17T00:00:00",
          "2017-02-18T00:00:00",
          "2017-02-19T00:00:00",
          "2017-02-20T00:00:00",
          "2017-02-21T00:00:00",
          "2017-02-22T00:00:00",
          "2017-02-23T00:00:00",
          "2017-02-24T00:00:00",
          "2017-02-25T00:00:00",
          "2017-02-26T00:00:00",
          "2017-02-27T00:00:00",
          "2017-02-28T00:00:00",
          "2017-03-01T00:00:00",
          "2017-03-02T00:00:00",
          "2017-03-03T00:00:00",
          "2017-03-04T00:00:00",
          "2017-03-05T00:00:00",
          "2017-03-06T00:00:00",
          "2017-03-07T00:00:00",
          "2017-03-08T00:00:00",
          "2017-03-09T00:00:00",
          "2017-03-10T00:00:00",
          "2017-03-11T00:00:00",
          "2017-03-12T00:00:00",
          "2017-03-13T00:00:00",
          "2017-03-14T00:00:00",
          "2017-03-15T00:00:00",
          "2017-03-16T00:00:00",
          "2017-03-17T00:00:00",
          "2017-03-18T00:00:00",
          "2017-03-19T00:00:00",
          "2017-03-20T00:00:00",
          "2017-03-21T00:00:00",
          "2017-03-22T00:00:00",
          "2017-03-23T00:00:00",
          "2017-03-24T00:00:00",
          "2017-03-25T00:00:00",
          "2017-03-26T00:00:00",
          "2017-03-27T00:00:00",
          "2017-03-28T00:00:00",
          "2017-03-29T00:00:00",
          "2017-03-30T00:00:00",
          "2017-03-31T00:00:00",
          "2017-04-01T00:00:00",
          "2017-04-02T00:00:00",
          "2017-04-03T00:00:00",
          "2017-04-04T00:00:00",
          "2017-04-05T00:00:00",
          "2017-04-06T00:00:00",
          "2017-04-07T00:00:00",
          "2017-04-08T00:00:00",
          "2017-04-09T00:00:00",
          "2017-04-10T00:00:00",
          "2017-04-11T00:00:00",
          "2017-04-12T00:00:00",
          "2017-04-13T00:00:00",
          "2017-04-14T00:00:00",
          "2017-04-15T00:00:00",
          "2017-04-16T00:00:00",
          "2017-04-17T00:00:00",
          "2017-04-18T00:00:00",
          "2017-04-19T00:00:00",
          "2017-04-20T00:00:00",
          "2017-04-21T00:00:00",
          "2017-04-22T00:00:00",
          "2017-04-23T00:00:00",
          "2017-04-24T00:00:00",
          "2017-04-25T00:00:00",
          "2017-04-26T00:00:00",
          "2017-04-27T00:00:00",
          "2017-04-28T00:00:00",
          "2017-04-29T00:00:00",
          "2017-04-30T00:00:00",
          "2017-05-01T00:00:00",
          "2017-05-02T00:00:00",
          "2017-05-03T00:00:00",
          "2017-05-04T00:00:00",
          "2017-05-05T00:00:00",
          "2017-05-06T00:00:00",
          "2017-05-07T00:00:00",
          "2017-05-08T00:00:00",
          "2017-05-09T00:00:00",
          "2017-05-10T00:00:00",
          "2017-05-11T00:00:00",
          "2017-05-12T00:00:00",
          "2017-05-13T00:00:00",
          "2017-05-14T00:00:00",
          "2017-05-15T00:00:00",
          "2017-05-16T00:00:00",
          "2017-05-17T00:00:00",
          "2017-05-18T00:00:00",
          "2017-05-19T00:00:00",
          "2017-05-20T00:00:00",
          "2017-05-21T00:00:00",
          "2017-05-22T00:00:00",
          "2017-05-23T00:00:00",
          "2017-05-24T00:00:00",
          "2017-05-25T00:00:00",
          "2017-05-26T00:00:00",
          "2017-05-27T00:00:00",
          "2017-05-28T00:00:00",
          "2017-05-29T00:00:00",
          "2017-05-30T00:00:00",
          "2017-05-31T00:00:00",
          "2017-06-01T00:00:00",
          "2017-06-02T00:00:00",
          "2017-06-03T00:00:00",
          "2017-06-04T00:00:00",
          "2017-06-05T00:00:00",
          "2017-06-06T00:00:00",
          "2017-06-07T00:00:00",
          "2017-06-08T00:00:00",
          "2017-06-09T00:00:00",
          "2017-06-10T00:00:00",
          "2017-06-11T00:00:00",
          "2017-06-12T00:00:00",
          "2017-06-13T00:00:00",
          "2017-06-14T00:00:00",
          "2017-06-15T00:00:00",
          "2017-06-16T00:00:00",
          "2017-06-17T00:00:00",
          "2017-06-18T00:00:00",
          "2017-06-19T00:00:00",
          "2017-06-20T00:00:00",
          "2017-06-21T00:00:00",
          "2017-06-22T00:00:00",
          "2017-06-23T00:00:00",
          "2017-06-24T00:00:00",
          "2017-06-25T00:00:00"
         ],
         "y": [
          16,
          11,
          4,
          2,
          1,
          0,
          2,
          1,
          1,
          0,
          0,
          0,
          0,
          0,
          1,
          0,
          0,
          0,
          0,
          1,
          1,
          0,
          0,
          1,
          0,
          0,
          0,
          3,
          1,
          0,
          0,
          0,
          0,
          0,
          0,
          0,
          1,
          0,
          1,
          0,
          0,
          1,
          0,
          0,
          0,
          0,
          0,
          0,
          1,
          0,
          0,
          0,
          0,
          0,
          1,
          0,
          1,
          1,
          0,
          0,
          0,
          2,
          0,
          1,
          0,
          0,
          0,
          0,
          1,
          0,
          0,
          0,
          2,
          0,
          0,
          0,
          0,
          2,
          0,
          1,
          0,
          0,
          0,
          1,
          0,
          0,
          0,
          1,
          0,
          1,
          3,
          1,
          7,
          3,
          1,
          1,
          1,
          2,
          2,
          0,
          0,
          0,
          1,
          0,
          1,
          1,
          0,
          1,
          0,
          2,
          1,
          1,
          1,
          2,
          0,
          0,
          0,
          1,
          0,
          1,
          2,
          1,
          0,
          0,
          1,
          0,
          0,
          0,
          1,
          0,
          0,
          0,
          0,
          0,
          1,
          0,
          1,
          1,
          0,
          1,
          1,
          0,
          0,
          1,
          3,
          3,
          0,
          0,
          0,
          0,
          1,
          1,
          0,
          4,
          0,
          0,
          1,
          0,
          0,
          0,
          1,
          2,
          0,
          0,
          1,
          0,
          2,
          0,
          1,
          2,
          4,
          0,
          0,
          1,
          0,
          0,
          0,
          1,
          2,
          1,
          3,
          3,
          0,
          0,
          1,
          1,
          0,
          1,
          1,
          1,
          1,
          1,
          1,
          2,
          1,
          1,
          3,
          1,
          1,
          2,
          0,
          1,
          0,
          2,
          0,
          0,
          0,
          1,
          1,
          2,
          3,
          2,
          0,
          1,
          0,
          1,
          1,
          1,
          2,
          2,
          2,
          1,
          2,
          0,
          3,
          4,
          2,
          1,
          1,
          1,
          0,
          1,
          1,
          6,
          0,
          1,
          2,
          3,
          3,
          3,
          3,
          1,
          2,
          0,
          4,
          4,
          3,
          3,
          4,
          0,
          3,
          2,
          2,
          2,
          4,
          3,
          0,
          5,
          4,
          2,
          3,
          5,
          4,
          1,
          7,
          4,
          5,
          1,
          4,
          2,
          1,
          3,
          7,
          2,
          3,
          1,
          2,
          1,
          6,
          7,
          2,
          3,
          1,
          2,
          2,
          3,
          8,
          5,
          3,
          5,
          1,
          3,
          3,
          2,
          4,
          7,
          6,
          2,
          3,
          8,
          4,
          7,
          7,
          3,
          8,
          3,
          6,
          5,
          4,
          6,
          4,
          4,
          6,
          3,
          4,
          9,
          2,
          4,
          3,
          2,
          4,
          7,
          8,
          4,
          3,
          2,
          4,
          8,
          1,
          3,
          2,
          4,
          2,
          0,
          9,
          5,
          6,
          5,
          6,
          2,
          1,
          7,
          7,
          6,
          0,
          2,
          2,
          1,
          4,
          4,
          8,
          3,
          5,
          3,
          3,
          2,
          6,
          3,
          7,
          3,
          2,
          3,
          7,
          11,
          2,
          6,
          5,
          2,
          1,
          11,
          7,
          7,
          5,
          7,
          1,
          4,
          6,
          5,
          5,
          7,
          5,
          1,
          3,
          2,
          5,
          6,
          3,
          5,
          3,
          3,
          6,
          9,
          7,
          4,
          2,
          1,
          4,
          4,
          8,
          7,
          9,
          4,
          3,
          2,
          4,
          4,
          4,
          11,
          7,
          6,
          2,
          5,
          6,
          11,
          4,
          2,
          2,
          2,
          4,
          10,
          5,
          3,
          5,
          3,
          1,
          6,
          4,
          6,
          5,
          6,
          5,
          3,
          9,
          7,
          11,
          3,
          7,
          7,
          2,
          10,
          6,
          5,
          11,
          1,
          3,
          3,
          3,
          7,
          10,
          8,
          1,
          7,
          3,
          8,
          7,
          3,
          14,
          4,
          3,
          2,
          7,
          11,
          8,
          12,
          8,
          3,
          7,
          6,
          9,
          9,
          1,
          3,
          2,
          4,
          5,
          6,
          12,
          5,
          8,
          3,
          1,
          7,
          7,
          7,
          9,
          3,
          2,
          7,
          4,
          9,
          12,
          2,
          3,
          3,
          2,
          5,
          1,
          3,
          1,
          1,
          4,
          7,
          4,
          6,
          6,
          5,
          7,
          5,
          7,
          12,
          5,
          8,
          10,
          11,
          2,
          4,
          8,
          7,
          7,
          7,
          10,
          1,
          5,
          9,
          8,
          10,
          5,
          5,
          7,
          3,
          11,
          7,
          10,
          12,
          16,
          4,
          2,
          10,
          5,
          9,
          12,
          4,
          4,
          4,
          15,
          9,
          12,
          10,
          6,
          0,
          4,
          9,
          14,
          9,
          5,
          5,
          6,
          4,
          9,
          6,
          6,
          3,
          2,
          6,
          7,
          4,
          12,
          8,
          9,
          11,
          4,
          5,
          8,
          8,
          4,
          5,
          8,
          5,
          0,
          8,
          13,
          13,
          20,
          10,
          3,
          4,
          9,
          5,
          12,
          7,
          5,
          10,
          9,
          8,
          5,
          10,
          8,
          3,
          4,
          4,
          11,
          11,
          8,
          14,
          11,
          4,
          2,
          10,
          4,
          9,
          8,
          5,
          4,
          6,
          3,
          8,
          9,
          9,
          12,
          9,
          4,
          16,
          17,
          9,
          3,
          6,
          6,
          5,
          11,
          13,
          3,
          7,
          4,
          7,
          9,
          6,
          11,
          14,
          12,
          7,
          5,
          3,
          12,
          12,
          13,
          6,
          7,
          5,
          2,
          8,
          8,
          18,
          16,
          8,
          3,
          7,
          10,
          7,
          11,
          12,
          7,
          7,
          3,
          13,
          6,
          9,
          8,
          8,
          5,
          5,
          11,
          9,
          6,
          10,
          7,
          5,
          5,
          12,
          10,
          11,
          11,
          7,
          3,
          3,
          13,
          11,
          5,
          14,
          5,
          6,
          4,
          11,
          14,
          7,
          5,
          4,
          9,
          5,
          6,
          9,
          8,
          9,
          9,
          5,
          7,
          8,
          7,
          8,
          8,
          11,
          2,
          7,
          9,
          11,
          8,
          7,
          8,
          5,
          4,
          11,
          9,
          10,
          8,
          9,
          3,
          7,
          10,
          8,
          15,
          14,
          11,
          2,
          5,
          12,
          13,
          9,
          12,
          10,
          2,
          4,
          14,
          8,
          8,
          13,
          10,
          7,
          5,
          10,
          13,
          14,
          11,
          5,
          1,
          4,
          10,
          7,
          13,
          16,
          6,
          5,
          2,
          9,
          8,
          15,
          9,
          6,
          3,
          6,
          11,
          12,
          14,
          15,
          9,
          5,
          7,
          16,
          12,
          17,
          9,
          11,
          3,
          7,
          13,
          14,
          19,
          10,
          8,
          6,
          8,
          16,
          16,
          15,
          12,
          18,
          10,
          6,
          22,
          18,
          11,
          19,
          12,
          6,
          9,
          11,
          18,
          21,
          18,
          16,
          9,
          4,
          20,
          12,
          16,
          8,
          14,
          13,
          2,
          18,
          16,
          13,
          8,
          18,
          4,
          7,
          10,
          7,
          12,
          17,
          12,
          9,
          4,
          20,
          19,
          6,
          9,
          9,
          9,
          9,
          12,
          18,
          11,
          13,
          15,
          8,
          11,
          12,
          20,
          10,
          16,
          16,
          5,
          7,
          16,
          22,
          16,
          15,
          15,
          8,
          5,
          15,
          19,
          14,
          6,
          9,
          4,
          7,
          27,
          22,
          23,
          8,
          11,
          11,
          8,
          27,
          17,
          26,
          23,
          17,
          6,
          12,
          24,
          15,
          25,
          19,
          20,
          13,
          12,
          18,
          28,
          33,
          22,
          13,
          6,
          12,
          21,
          27,
          22,
          15,
          20,
          5,
          10,
          17,
          23,
          23,
          14,
          24,
          10,
          7,
          25,
          33,
          27,
          22,
          14,
          11,
          6,
          18,
          26,
          13,
          19,
          15,
          7,
          9,
          38,
          35,
          36,
          15,
          28,
          10,
          11,
          25,
          20,
          25,
          25,
          25,
          13,
          11,
          28,
          22,
          30,
          16,
          22,
          17,
          16,
          23,
          19,
          35,
          27,
          26,
          13,
          9,
          26,
          16,
          26,
          31,
          18,
          4,
          11,
          41,
          33,
          23,
          24,
          18,
          13,
          7,
          33,
          32,
          23,
          17,
          22,
          13,
          7,
          25,
          22,
          28,
          27,
          12,
          6,
          11,
          26,
          29,
          25,
          14,
          18,
          10,
          10,
          30,
          37,
          24,
          34,
          22,
          13,
          9,
          19,
          21,
          39,
          28,
          27,
          12,
          16,
          37,
          28,
          27,
          26,
          32,
          12,
          8,
          31,
          32,
          31,
          34,
          29,
          12,
          10,
          23,
          28,
          26,
          32,
          35,
          11,
          14,
          30,
          34,
          30,
          34,
          26,
          17,
          21,
          27,
          30,
          34,
          31,
          32,
          10,
          27,
          34,
          23,
          27,
          27,
          24,
          22,
          23,
          41,
          26,
          35,
          38,
          29,
          16,
          14,
          27,
          40,
          43,
          31,
          20,
          13,
          15,
          38,
          31,
          33,
          35,
          24,
          22,
          13,
          46,
          39,
          29,
          42,
          37,
          17,
          19,
          36,
          35,
          27,
          32,
          22,
          21,
          15,
          40,
          27,
          32,
          43,
          35,
          18,
          17,
          37,
          39,
          35,
          43,
          23,
          17,
          20,
          33,
          64,
          48,
          39,
          41,
          17,
          26,
          54,
          45,
          44,
          46,
          44,
          27,
          20,
          39,
          35,
          41,
          42,
          33,
          24,
          36,
          37,
          48,
          50,
          45,
          49,
          24,
          17,
          41,
          62,
          47,
          48,
          37,
          24,
          22,
          35,
          37,
          55,
          47,
          40,
          20,
          25,
          41,
          65,
          50,
          54,
          39,
          18,
          18,
          40,
          47,
          62,
          64,
          38,
          26,
          31,
          50,
          61,
          74,
          89,
          61,
          34,
          47,
          76,
          69,
          71,
          60,
          52,
          38,
          29,
          60,
          81,
          73,
          68,
          64,
          35,
          40,
          81,
          72,
          74,
          70,
          53,
          33,
          36,
          62,
          70,
          74,
          72,
          75,
          33,
          45,
          79,
          81,
          74,
          56,
          56,
          33,
          30,
          59,
          73,
          58,
          62,
          47,
          19,
          33,
          57,
          59,
          51,
          35,
          35,
          29,
          31,
          60,
          54,
          61,
          57,
          51,
          29,
          38,
          85,
          69,
          63,
          66,
          52,
          29,
          43,
          55,
          70,
          60,
          58,
          60,
          39,
          37,
          69,
          60,
          45,
          39,
          17,
          26,
          28,
          53,
          52,
          56,
          78,
          42,
          44,
          58,
          94,
          82,
          83,
          90,
          51,
          39,
          53,
          78,
          94,
          79,
          82,
          87,
          46,
          45,
          62,
          65,
          90,
          64,
          88,
          37,
          51,
          76,
          85,
          76,
          69,
          88,
          52,
          54,
          83,
          107,
          89,
          79,
          105,
          37,
          54,
          81,
          98,
          105,
          80,
          84,
          47,
          61,
          93,
          87,
          90,
          80,
          79,
          64,
          61,
          98,
          105,
          101,
          126,
          89,
          56,
          55,
          103,
          108,
          96,
          117,
          87,
          49,
          50,
          89,
          103,
          96,
          108,
          102,
          53,
          51,
          94,
          106,
          95,
          84,
          86,
          46,
          55,
          112,
          116,
          104,
          89,
          74,
          53,
          47,
          87,
          100,
          86,
          116,
          65,
          48,
          53,
          89,
          106,
          100,
          77,
          86,
          43,
          62,
          96,
          98,
          93,
          106,
          91,
          41,
          45,
          101,
          90,
          81,
          92,
          86,
          34,
          51,
          92,
          90,
          104,
          101,
          87,
          38,
          48,
          73,
          100,
          103,
          98,
          75,
          39,
          50,
          89,
          104,
          99,
          106,
          69,
          35,
          49,
          99,
          78,
          104,
          89,
          89,
          46,
          54,
          79,
          91,
          87,
          81,
          84,
          39,
          44,
          78,
          87,
          96,
          99,
          91,
          46,
          67,
          103,
          99,
          112,
          109,
          82,
          50,
          48,
          98,
          95,
          122,
          124,
          105,
          55,
          70,
          116,
          104,
          110,
          99,
          105,
          55,
          74,
          101,
          100,
          114,
          116,
          109,
          54,
          60,
          81,
          102,
          125,
          122,
          106,
          47,
          77,
          105,
          132,
          122,
          125,
          111,
          51,
          55,
          111,
          109,
          104,
          92,
          105,
          60,
          69,
          140,
          118,
          121,
          111,
          108,
          78,
          61,
          140,
          106,
          106,
          133,
          112,
          55,
          60,
          107,
          107,
          92,
          110,
          96,
          71,
          70,
          117,
          129,
          129,
          112,
          97,
          56,
          50,
          123,
          126,
          124,
          103,
          92,
          64,
          66,
          130,
          117,
          117,
          112,
          96,
          66,
          58,
          91,
          121,
          100,
          111,
          111,
          66,
          64,
          139,
          118,
          125,
          123,
          116,
          70,
          73,
          133,
          122,
          150,
          106,
          108,
          53,
          81,
          129,
          142,
          130,
          109,
          120,
          87,
          71,
          134,
          129,
          143,
          139,
          110,
          67,
          78,
          143,
          147,
          133,
          122,
          144,
          68,
          91,
          142,
          143,
          138,
          139,
          132,
          73,
          78,
          152,
          138,
          158,
          131,
          142,
          60,
          81,
          150,
          124,
          131,
          146,
          141,
          67,
          97,
          158,
          160,
          198,
          198,
          147,
          99,
          95,
          156,
          197,
          186,
          171,
          144,
          74,
          74,
          160,
          158,
          177,
          97,
          112,
          83,
          92,
          126,
          165,
          156,
          136,
          148,
          82,
          73,
          164,
          180,
          192,
          145,
          164,
          79,
          85,
          174,
          168,
          164,
          147,
          125,
          78,
          91,
          167,
          182,
          175,
          150,
          113,
          69,
          52,
          109,
          140,
          166,
          149,
          148,
          124,
          114,
          146,
          174,
          190,
          176,
          149,
          124,
          114,
          186,
          197,
          187,
          187,
          180,
          99,
          112,
          181,
          171,
          172,
          172,
          181,
          97,
          153,
          206,
          194,
          195,
          171,
          162,
          123,
          131,
          199,
          203,
          206,
          232,
          190,
          125,
          163,
          195,
          201,
          197,
          220,
          205,
          111,
          100,
          193,
          207,
          188,
          192,
          190,
          139,
          117,
          194,
          224,
          205,
          189,
          196,
          121,
          111,
          225,
          187,
          219,
          231,
          218,
          112,
          119,
          224,
          205,
          219,
          229,
          206,
          124,
          136,
          201,
          227,
          241,
          225,
          189,
          123,
          99,
          205,
          247,
          246,
          228,
          208,
          135,
          129,
          230,
          225,
          238,
          257,
          207,
          125,
          142,
          259,
          221,
          203,
          274,
          221,
          140,
          149,
          238,
          258,
          239,
          250,
          204,
          137,
          143,
          233,
          264,
          278,
          274,
          259,
          178,
          168,
          296,
          306,
          270,
          277,
          262,
          187,
          148,
          305,
          332,
          286,
          284,
          264,
          133,
          136,
          267,
          262,
          264,
          267,
          281,
          205,
          180,
          341,
          345,
          367,
          336,
          301,
          156,
          194,
          341,
          388,
          375,
          298,
          269,
          157,
          172,
          297,
          365,
          407,
          392,
          328,
          170,
          194,
          340,
          348,
          323,
          347,
          291,
          165,
          193,
          349,
          358,
          344,
          336,
          345,
          188,
          243,
          408,
          417,
          422,
          441,
          421,
          277,
          253
         ]
        }
       ],
       "layout": {
        "template": {
         "data": {
          "bar": [
           {
            "error_x": {
             "color": "#2a3f5f"
            },
            "error_y": {
             "color": "#2a3f5f"
            },
            "marker": {
             "line": {
              "color": "#E5ECF6",
              "width": 0.5
             }
            },
            "type": "bar"
           }
          ],
          "barpolar": [
           {
            "marker": {
             "line": {
              "color": "#E5ECF6",
              "width": 0.5
             }
            },
            "type": "barpolar"
           }
          ],
          "carpet": [
           {
            "aaxis": {
             "endlinecolor": "#2a3f5f",
             "gridcolor": "white",
             "linecolor": "white",
             "minorgridcolor": "white",
             "startlinecolor": "#2a3f5f"
            },
            "baxis": {
             "endlinecolor": "#2a3f5f",
             "gridcolor": "white",
             "linecolor": "white",
             "minorgridcolor": "white",
             "startlinecolor": "#2a3f5f"
            },
            "type": "carpet"
           }
          ],
          "choropleth": [
           {
            "colorbar": {
             "outlinewidth": 0,
             "ticks": ""
            },
            "type": "choropleth"
           }
          ],
          "contour": [
           {
            "colorbar": {
             "outlinewidth": 0,
             "ticks": ""
            },
            "colorscale": [
             [
              0,
              "#0d0887"
             ],
             [
              0.1111111111111111,
              "#46039f"
             ],
             [
              0.2222222222222222,
              "#7201a8"
             ],
             [
              0.3333333333333333,
              "#9c179e"
             ],
             [
              0.4444444444444444,
              "#bd3786"
             ],
             [
              0.5555555555555556,
              "#d8576b"
             ],
             [
              0.6666666666666666,
              "#ed7953"
             ],
             [
              0.7777777777777778,
              "#fb9f3a"
             ],
             [
              0.8888888888888888,
              "#fdca26"
             ],
             [
              1,
              "#f0f921"
             ]
            ],
            "type": "contour"
           }
          ],
          "contourcarpet": [
           {
            "colorbar": {
             "outlinewidth": 0,
             "ticks": ""
            },
            "type": "contourcarpet"
           }
          ],
          "heatmap": [
           {
            "colorbar": {
             "outlinewidth": 0,
             "ticks": ""
            },
            "colorscale": [
             [
              0,
              "#0d0887"
             ],
             [
              0.1111111111111111,
              "#46039f"
             ],
             [
              0.2222222222222222,
              "#7201a8"
             ],
             [
              0.3333333333333333,
              "#9c179e"
             ],
             [
              0.4444444444444444,
              "#bd3786"
             ],
             [
              0.5555555555555556,
              "#d8576b"
             ],
             [
              0.6666666666666666,
              "#ed7953"
             ],
             [
              0.7777777777777778,
              "#fb9f3a"
             ],
             [
              0.8888888888888888,
              "#fdca26"
             ],
             [
              1,
              "#f0f921"
             ]
            ],
            "type": "heatmap"
           }
          ],
          "heatmapgl": [
           {
            "colorbar": {
             "outlinewidth": 0,
             "ticks": ""
            },
            "colorscale": [
             [
              0,
              "#0d0887"
             ],
             [
              0.1111111111111111,
              "#46039f"
             ],
             [
              0.2222222222222222,
              "#7201a8"
             ],
             [
              0.3333333333333333,
              "#9c179e"
             ],
             [
              0.4444444444444444,
              "#bd3786"
             ],
             [
              0.5555555555555556,
              "#d8576b"
             ],
             [
              0.6666666666666666,
              "#ed7953"
             ],
             [
              0.7777777777777778,
              "#fb9f3a"
             ],
             [
              0.8888888888888888,
              "#fdca26"
             ],
             [
              1,
              "#f0f921"
             ]
            ],
            "type": "heatmapgl"
           }
          ],
          "histogram": [
           {
            "marker": {
             "colorbar": {
              "outlinewidth": 0,
              "ticks": ""
             }
            },
            "type": "histogram"
           }
          ],
          "histogram2d": [
           {
            "colorbar": {
             "outlinewidth": 0,
             "ticks": ""
            },
            "colorscale": [
             [
              0,
              "#0d0887"
             ],
             [
              0.1111111111111111,
              "#46039f"
             ],
             [
              0.2222222222222222,
              "#7201a8"
             ],
             [
              0.3333333333333333,
              "#9c179e"
             ],
             [
              0.4444444444444444,
              "#bd3786"
             ],
             [
              0.5555555555555556,
              "#d8576b"
             ],
             [
              0.6666666666666666,
              "#ed7953"
             ],
             [
              0.7777777777777778,
              "#fb9f3a"
             ],
             [
              0.8888888888888888,
              "#fdca26"
             ],
             [
              1,
              "#f0f921"
             ]
            ],
            "type": "histogram2d"
           }
          ],
          "histogram2dcontour": [
           {
            "colorbar": {
             "outlinewidth": 0,
             "ticks": ""
            },
            "colorscale": [
             [
              0,
              "#0d0887"
             ],
             [
              0.1111111111111111,
              "#46039f"
             ],
             [
              0.2222222222222222,
              "#7201a8"
             ],
             [
              0.3333333333333333,
              "#9c179e"
             ],
             [
              0.4444444444444444,
              "#bd3786"
             ],
             [
              0.5555555555555556,
              "#d8576b"
             ],
             [
              0.6666666666666666,
              "#ed7953"
             ],
             [
              0.7777777777777778,
              "#fb9f3a"
             ],
             [
              0.8888888888888888,
              "#fdca26"
             ],
             [
              1,
              "#f0f921"
             ]
            ],
            "type": "histogram2dcontour"
           }
          ],
          "mesh3d": [
           {
            "colorbar": {
             "outlinewidth": 0,
             "ticks": ""
            },
            "type": "mesh3d"
           }
          ],
          "parcoords": [
           {
            "line": {
             "colorbar": {
              "outlinewidth": 0,
              "ticks": ""
             }
            },
            "type": "parcoords"
           }
          ],
          "pie": [
           {
            "automargin": true,
            "type": "pie"
           }
          ],
          "scatter": [
           {
            "marker": {
             "colorbar": {
              "outlinewidth": 0,
              "ticks": ""
             }
            },
            "type": "scatter"
           }
          ],
          "scatter3d": [
           {
            "line": {
             "colorbar": {
              "outlinewidth": 0,
              "ticks": ""
             }
            },
            "marker": {
             "colorbar": {
              "outlinewidth": 0,
              "ticks": ""
             }
            },
            "type": "scatter3d"
           }
          ],
          "scattercarpet": [
           {
            "marker": {
             "colorbar": {
              "outlinewidth": 0,
              "ticks": ""
             }
            },
            "type": "scattercarpet"
           }
          ],
          "scattergeo": [
           {
            "marker": {
             "colorbar": {
              "outlinewidth": 0,
              "ticks": ""
             }
            },
            "type": "scattergeo"
           }
          ],
          "scattergl": [
           {
            "marker": {
             "colorbar": {
              "outlinewidth": 0,
              "ticks": ""
             }
            },
            "type": "scattergl"
           }
          ],
          "scattermapbox": [
           {
            "marker": {
             "colorbar": {
              "outlinewidth": 0,
              "ticks": ""
             }
            },
            "type": "scattermapbox"
           }
          ],
          "scatterpolar": [
           {
            "marker": {
             "colorbar": {
              "outlinewidth": 0,
              "ticks": ""
             }
            },
            "type": "scatterpolar"
           }
          ],
          "scatterpolargl": [
           {
            "marker": {
             "colorbar": {
              "outlinewidth": 0,
              "ticks": ""
             }
            },
            "type": "scatterpolargl"
           }
          ],
          "scatterternary": [
           {
            "marker": {
             "colorbar": {
              "outlinewidth": 0,
              "ticks": ""
             }
            },
            "type": "scatterternary"
           }
          ],
          "surface": [
           {
            "colorbar": {
             "outlinewidth": 0,
             "ticks": ""
            },
            "colorscale": [
             [
              0,
              "#0d0887"
             ],
             [
              0.1111111111111111,
              "#46039f"
             ],
             [
              0.2222222222222222,
              "#7201a8"
             ],
             [
              0.3333333333333333,
              "#9c179e"
             ],
             [
              0.4444444444444444,
              "#bd3786"
             ],
             [
              0.5555555555555556,
              "#d8576b"
             ],
             [
              0.6666666666666666,
              "#ed7953"
             ],
             [
              0.7777777777777778,
              "#fb9f3a"
             ],
             [
              0.8888888888888888,
              "#fdca26"
             ],
             [
              1,
              "#f0f921"
             ]
            ],
            "type": "surface"
           }
          ],
          "table": [
           {
            "cells": {
             "fill": {
              "color": "#EBF0F8"
             },
             "line": {
              "color": "white"
             }
            },
            "header": {
             "fill": {
              "color": "#C8D4E3"
             },
             "line": {
              "color": "white"
             }
            },
            "type": "table"
           }
          ]
         },
         "layout": {
          "annotationdefaults": {
           "arrowcolor": "#2a3f5f",
           "arrowhead": 0,
           "arrowwidth": 1
          },
          "autotypenumbers": "strict",
          "coloraxis": {
           "colorbar": {
            "outlinewidth": 0,
            "ticks": ""
           }
          },
          "colorscale": {
           "diverging": [
            [
             0,
             "#8e0152"
            ],
            [
             0.1,
             "#c51b7d"
            ],
            [
             0.2,
             "#de77ae"
            ],
            [
             0.3,
             "#f1b6da"
            ],
            [
             0.4,
             "#fde0ef"
            ],
            [
             0.5,
             "#f7f7f7"
            ],
            [
             0.6,
             "#e6f5d0"
            ],
            [
             0.7,
             "#b8e186"
            ],
            [
             0.8,
             "#7fbc41"
            ],
            [
             0.9,
             "#4d9221"
            ],
            [
             1,
             "#276419"
            ]
           ],
           "sequential": [
            [
             0,
             "#0d0887"
            ],
            [
             0.1111111111111111,
             "#46039f"
            ],
            [
             0.2222222222222222,
             "#7201a8"
            ],
            [
             0.3333333333333333,
             "#9c179e"
            ],
            [
             0.4444444444444444,
             "#bd3786"
            ],
            [
             0.5555555555555556,
             "#d8576b"
            ],
            [
             0.6666666666666666,
             "#ed7953"
            ],
            [
             0.7777777777777778,
             "#fb9f3a"
            ],
            [
             0.8888888888888888,
             "#fdca26"
            ],
            [
             1,
             "#f0f921"
            ]
           ],
           "sequentialminus": [
            [
             0,
             "#0d0887"
            ],
            [
             0.1111111111111111,
             "#46039f"
            ],
            [
             0.2222222222222222,
             "#7201a8"
            ],
            [
             0.3333333333333333,
             "#9c179e"
            ],
            [
             0.4444444444444444,
             "#bd3786"
            ],
            [
             0.5555555555555556,
             "#d8576b"
            ],
            [
             0.6666666666666666,
             "#ed7953"
            ],
            [
             0.7777777777777778,
             "#fb9f3a"
            ],
            [
             0.8888888888888888,
             "#fdca26"
            ],
            [
             1,
             "#f0f921"
            ]
           ]
          },
          "colorway": [
           "#636efa",
           "#EF553B",
           "#00cc96",
           "#ab63fa",
           "#FFA15A",
           "#19d3f3",
           "#FF6692",
           "#B6E880",
           "#FF97FF",
           "#FECB52"
          ],
          "font": {
           "color": "#2a3f5f"
          },
          "geo": {
           "bgcolor": "white",
           "lakecolor": "white",
           "landcolor": "#E5ECF6",
           "showlakes": true,
           "showland": true,
           "subunitcolor": "white"
          },
          "hoverlabel": {
           "align": "left"
          },
          "hovermode": "closest",
          "mapbox": {
           "style": "light"
          },
          "paper_bgcolor": "white",
          "plot_bgcolor": "#E5ECF6",
          "polar": {
           "angularaxis": {
            "gridcolor": "white",
            "linecolor": "white",
            "ticks": ""
           },
           "bgcolor": "#E5ECF6",
           "radialaxis": {
            "gridcolor": "white",
            "linecolor": "white",
            "ticks": ""
           }
          },
          "scene": {
           "xaxis": {
            "backgroundcolor": "#E5ECF6",
            "gridcolor": "white",
            "gridwidth": 2,
            "linecolor": "white",
            "showbackground": true,
            "ticks": "",
            "zerolinecolor": "white"
           },
           "yaxis": {
            "backgroundcolor": "#E5ECF6",
            "gridcolor": "white",
            "gridwidth": 2,
            "linecolor": "white",
            "showbackground": true,
            "ticks": "",
            "zerolinecolor": "white"
           },
           "zaxis": {
            "backgroundcolor": "#E5ECF6",
            "gridcolor": "white",
            "gridwidth": 2,
            "linecolor": "white",
            "showbackground": true,
            "ticks": "",
            "zerolinecolor": "white"
           }
          },
          "shapedefaults": {
           "line": {
            "color": "#2a3f5f"
           }
          },
          "ternary": {
           "aaxis": {
            "gridcolor": "white",
            "linecolor": "white",
            "ticks": ""
           },
           "baxis": {
            "gridcolor": "white",
            "linecolor": "white",
            "ticks": ""
           },
           "bgcolor": "#E5ECF6",
           "caxis": {
            "gridcolor": "white",
            "linecolor": "white",
            "ticks": ""
           }
          },
          "title": {
           "x": 0.05
          },
          "xaxis": {
           "automargin": true,
           "gridcolor": "white",
           "linecolor": "white",
           "ticks": "",
           "title": {
            "standoff": 15
           },
           "zerolinecolor": "white",
           "zerolinewidth": 2
          },
          "yaxis": {
           "automargin": true,
           "gridcolor": "white",
           "linecolor": "white",
           "ticks": "",
           "title": {
            "standoff": 15
           },
           "zerolinecolor": "white",
           "zerolinewidth": 2
          }
         }
        },
        "title": {
         "text": "Posts on Medium (daily)"
        }
       }
      },
      "text/html": [
       "<div>                            <div id=\"5ffcf0cf-0e1f-4d57-9e89-46941f4b707d\" class=\"plotly-graph-div\" style=\"height:525px; width:100%;\"></div>            <script type=\"text/javascript\">                require([\"plotly\"], function(Plotly) {                    window.PLOTLYENV=window.PLOTLYENV || {};                                    if (document.getElementById(\"5ffcf0cf-0e1f-4d57-9e89-46941f4b707d\")) {                    Plotly.newPlot(                        \"5ffcf0cf-0e1f-4d57-9e89-46941f4b707d\",                        [{\"mode\": \"lines\", \"name\": \"posts\", \"type\": \"scatter\", \"x\": [\"2012-08-15T00:00:00\", \"2012-08-16T00:00:00\", \"2012-08-17T00:00:00\", \"2012-08-18T00:00:00\", \"2012-08-19T00:00:00\", \"2012-08-20T00:00:00\", \"2012-08-21T00:00:00\", \"2012-08-22T00:00:00\", \"2012-08-23T00:00:00\", \"2012-08-24T00:00:00\", \"2012-08-25T00:00:00\", \"2012-08-26T00:00:00\", \"2012-08-27T00:00:00\", \"2012-08-28T00:00:00\", \"2012-08-29T00:00:00\", \"2012-08-30T00:00:00\", \"2012-08-31T00:00:00\", \"2012-09-01T00:00:00\", \"2012-09-02T00:00:00\", \"2012-09-03T00:00:00\", \"2012-09-04T00:00:00\", \"2012-09-05T00:00:00\", \"2012-09-06T00:00:00\", \"2012-09-07T00:00:00\", \"2012-09-08T00:00:00\", \"2012-09-09T00:00:00\", \"2012-09-10T00:00:00\", \"2012-09-11T00:00:00\", \"2012-09-12T00:00:00\", \"2012-09-13T00:00:00\", \"2012-09-14T00:00:00\", \"2012-09-15T00:00:00\", \"2012-09-16T00:00:00\", \"2012-09-17T00:00:00\", \"2012-09-18T00:00:00\", \"2012-09-19T00:00:00\", \"2012-09-20T00:00:00\", \"2012-09-21T00:00:00\", \"2012-09-22T00:00:00\", \"2012-09-23T00:00:00\", \"2012-09-24T00:00:00\", \"2012-09-25T00:00:00\", \"2012-09-26T00:00:00\", \"2012-09-27T00:00:00\", \"2012-09-28T00:00:00\", \"2012-09-29T00:00:00\", \"2012-09-30T00:00:00\", \"2012-10-01T00:00:00\", \"2012-10-02T00:00:00\", \"2012-10-03T00:00:00\", \"2012-10-04T00:00:00\", \"2012-10-05T00:00:00\", \"2012-10-06T00:00:00\", \"2012-10-07T00:00:00\", \"2012-10-08T00:00:00\", \"2012-10-09T00:00:00\", \"2012-10-10T00:00:00\", \"2012-10-11T00:00:00\", \"2012-10-12T00:00:00\", \"2012-10-13T00:00:00\", \"2012-10-14T00:00:00\", \"2012-10-15T00:00:00\", \"2012-10-16T00:00:00\", \"2012-10-17T00:00:00\", \"2012-10-18T00:00:00\", \"2012-10-19T00:00:00\", \"2012-10-20T00:00:00\", \"2012-10-21T00:00:00\", \"2012-10-22T00:00:00\", \"2012-10-23T00:00:00\", \"2012-10-24T00:00:00\", \"2012-10-25T00:00:00\", \"2012-10-26T00:00:00\", \"2012-10-27T00:00:00\", \"2012-10-28T00:00:00\", \"2012-10-29T00:00:00\", \"2012-10-30T00:00:00\", \"2012-10-31T00:00:00\", \"2012-11-01T00:00:00\", \"2012-11-02T00:00:00\", \"2012-11-03T00:00:00\", \"2012-11-04T00:00:00\", \"2012-11-05T00:00:00\", \"2012-11-06T00:00:00\", \"2012-11-07T00:00:00\", \"2012-11-08T00:00:00\", \"2012-11-09T00:00:00\", \"2012-11-10T00:00:00\", \"2012-11-11T00:00:00\", \"2012-11-12T00:00:00\", \"2012-11-13T00:00:00\", \"2012-11-14T00:00:00\", \"2012-11-15T00:00:00\", \"2012-11-16T00:00:00\", \"2012-11-17T00:00:00\", \"2012-11-18T00:00:00\", \"2012-11-19T00:00:00\", \"2012-11-20T00:00:00\", \"2012-11-21T00:00:00\", \"2012-11-22T00:00:00\", \"2012-11-23T00:00:00\", \"2012-11-24T00:00:00\", \"2012-11-25T00:00:00\", \"2012-11-26T00:00:00\", \"2012-11-27T00:00:00\", \"2012-11-28T00:00:00\", \"2012-11-29T00:00:00\", \"2012-11-30T00:00:00\", \"2012-12-01T00:00:00\", \"2012-12-02T00:00:00\", \"2012-12-03T00:00:00\", \"2012-12-04T00:00:00\", \"2012-12-05T00:00:00\", \"2012-12-06T00:00:00\", \"2012-12-07T00:00:00\", \"2012-12-08T00:00:00\", \"2012-12-09T00:00:00\", \"2012-12-10T00:00:00\", \"2012-12-11T00:00:00\", \"2012-12-12T00:00:00\", \"2012-12-13T00:00:00\", \"2012-12-14T00:00:00\", \"2012-12-15T00:00:00\", \"2012-12-16T00:00:00\", \"2012-12-17T00:00:00\", \"2012-12-18T00:00:00\", \"2012-12-19T00:00:00\", \"2012-12-20T00:00:00\", \"2012-12-21T00:00:00\", \"2012-12-22T00:00:00\", \"2012-12-23T00:00:00\", \"2012-12-24T00:00:00\", \"2012-12-25T00:00:00\", \"2012-12-26T00:00:00\", \"2012-12-27T00:00:00\", \"2012-12-28T00:00:00\", \"2012-12-29T00:00:00\", \"2012-12-30T00:00:00\", \"2012-12-31T00:00:00\", \"2013-01-01T00:00:00\", \"2013-01-02T00:00:00\", \"2013-01-03T00:00:00\", \"2013-01-04T00:00:00\", \"2013-01-05T00:00:00\", \"2013-01-06T00:00:00\", \"2013-01-07T00:00:00\", \"2013-01-08T00:00:00\", \"2013-01-09T00:00:00\", \"2013-01-10T00:00:00\", \"2013-01-11T00:00:00\", \"2013-01-12T00:00:00\", \"2013-01-13T00:00:00\", \"2013-01-14T00:00:00\", \"2013-01-15T00:00:00\", \"2013-01-16T00:00:00\", \"2013-01-17T00:00:00\", \"2013-01-18T00:00:00\", \"2013-01-19T00:00:00\", \"2013-01-20T00:00:00\", \"2013-01-21T00:00:00\", \"2013-01-22T00:00:00\", \"2013-01-23T00:00:00\", \"2013-01-24T00:00:00\", \"2013-01-25T00:00:00\", \"2013-01-26T00:00:00\", \"2013-01-27T00:00:00\", \"2013-01-28T00:00:00\", \"2013-01-29T00:00:00\", \"2013-01-30T00:00:00\", \"2013-01-31T00:00:00\", \"2013-02-01T00:00:00\", \"2013-02-02T00:00:00\", \"2013-02-03T00:00:00\", \"2013-02-04T00:00:00\", \"2013-02-05T00:00:00\", \"2013-02-06T00:00:00\", \"2013-02-07T00:00:00\", \"2013-02-08T00:00:00\", \"2013-02-09T00:00:00\", \"2013-02-10T00:00:00\", \"2013-02-11T00:00:00\", \"2013-02-12T00:00:00\", \"2013-02-13T00:00:00\", \"2013-02-14T00:00:00\", \"2013-02-15T00:00:00\", \"2013-02-16T00:00:00\", \"2013-02-17T00:00:00\", \"2013-02-18T00:00:00\", \"2013-02-19T00:00:00\", \"2013-02-20T00:00:00\", \"2013-02-21T00:00:00\", \"2013-02-22T00:00:00\", \"2013-02-23T00:00:00\", \"2013-02-24T00:00:00\", \"2013-02-25T00:00:00\", \"2013-02-26T00:00:00\", \"2013-02-27T00:00:00\", \"2013-02-28T00:00:00\", \"2013-03-01T00:00:00\", \"2013-03-02T00:00:00\", \"2013-03-03T00:00:00\", \"2013-03-04T00:00:00\", \"2013-03-05T00:00:00\", \"2013-03-06T00:00:00\", \"2013-03-07T00:00:00\", \"2013-03-08T00:00:00\", \"2013-03-09T00:00:00\", \"2013-03-10T00:00:00\", \"2013-03-11T00:00:00\", \"2013-03-12T00:00:00\", \"2013-03-13T00:00:00\", \"2013-03-14T00:00:00\", \"2013-03-15T00:00:00\", \"2013-03-16T00:00:00\", \"2013-03-17T00:00:00\", \"2013-03-18T00:00:00\", \"2013-03-19T00:00:00\", \"2013-03-20T00:00:00\", \"2013-03-21T00:00:00\", \"2013-03-22T00:00:00\", \"2013-03-23T00:00:00\", \"2013-03-24T00:00:00\", \"2013-03-25T00:00:00\", \"2013-03-26T00:00:00\", \"2013-03-27T00:00:00\", \"2013-03-28T00:00:00\", \"2013-03-29T00:00:00\", \"2013-03-30T00:00:00\", \"2013-03-31T00:00:00\", \"2013-04-01T00:00:00\", \"2013-04-02T00:00:00\", \"2013-04-03T00:00:00\", \"2013-04-04T00:00:00\", \"2013-04-05T00:00:00\", \"2013-04-06T00:00:00\", \"2013-04-07T00:00:00\", \"2013-04-08T00:00:00\", \"2013-04-09T00:00:00\", \"2013-04-10T00:00:00\", \"2013-04-11T00:00:00\", \"2013-04-12T00:00:00\", \"2013-04-13T00:00:00\", \"2013-04-14T00:00:00\", \"2013-04-15T00:00:00\", \"2013-04-16T00:00:00\", \"2013-04-17T00:00:00\", \"2013-04-18T00:00:00\", \"2013-04-19T00:00:00\", \"2013-04-20T00:00:00\", \"2013-04-21T00:00:00\", \"2013-04-22T00:00:00\", \"2013-04-23T00:00:00\", \"2013-04-24T00:00:00\", \"2013-04-25T00:00:00\", \"2013-04-26T00:00:00\", \"2013-04-27T00:00:00\", \"2013-04-28T00:00:00\", \"2013-04-29T00:00:00\", \"2013-04-30T00:00:00\", \"2013-05-01T00:00:00\", \"2013-05-02T00:00:00\", \"2013-05-03T00:00:00\", \"2013-05-04T00:00:00\", \"2013-05-05T00:00:00\", \"2013-05-06T00:00:00\", \"2013-05-07T00:00:00\", \"2013-05-08T00:00:00\", \"2013-05-09T00:00:00\", \"2013-05-10T00:00:00\", \"2013-05-11T00:00:00\", \"2013-05-12T00:00:00\", \"2013-05-13T00:00:00\", \"2013-05-14T00:00:00\", \"2013-05-15T00:00:00\", \"2013-05-16T00:00:00\", \"2013-05-17T00:00:00\", \"2013-05-18T00:00:00\", \"2013-05-19T00:00:00\", \"2013-05-20T00:00:00\", \"2013-05-21T00:00:00\", \"2013-05-22T00:00:00\", \"2013-05-23T00:00:00\", \"2013-05-24T00:00:00\", \"2013-05-25T00:00:00\", \"2013-05-26T00:00:00\", \"2013-05-27T00:00:00\", \"2013-05-28T00:00:00\", \"2013-05-29T00:00:00\", \"2013-05-30T00:00:00\", \"2013-05-31T00:00:00\", \"2013-06-01T00:00:00\", \"2013-06-02T00:00:00\", \"2013-06-03T00:00:00\", \"2013-06-04T00:00:00\", \"2013-06-05T00:00:00\", \"2013-06-06T00:00:00\", \"2013-06-07T00:00:00\", \"2013-06-08T00:00:00\", \"2013-06-09T00:00:00\", \"2013-06-10T00:00:00\", \"2013-06-11T00:00:00\", \"2013-06-12T00:00:00\", \"2013-06-13T00:00:00\", \"2013-06-14T00:00:00\", \"2013-06-15T00:00:00\", \"2013-06-16T00:00:00\", \"2013-06-17T00:00:00\", \"2013-06-18T00:00:00\", \"2013-06-19T00:00:00\", \"2013-06-20T00:00:00\", \"2013-06-21T00:00:00\", \"2013-06-22T00:00:00\", \"2013-06-23T00:00:00\", \"2013-06-24T00:00:00\", \"2013-06-25T00:00:00\", \"2013-06-26T00:00:00\", \"2013-06-27T00:00:00\", \"2013-06-28T00:00:00\", \"2013-06-29T00:00:00\", \"2013-06-30T00:00:00\", \"2013-07-01T00:00:00\", \"2013-07-02T00:00:00\", \"2013-07-03T00:00:00\", \"2013-07-04T00:00:00\", \"2013-07-05T00:00:00\", \"2013-07-06T00:00:00\", \"2013-07-07T00:00:00\", \"2013-07-08T00:00:00\", \"2013-07-09T00:00:00\", \"2013-07-10T00:00:00\", \"2013-07-11T00:00:00\", \"2013-07-12T00:00:00\", \"2013-07-13T00:00:00\", \"2013-07-14T00:00:00\", \"2013-07-15T00:00:00\", \"2013-07-16T00:00:00\", \"2013-07-17T00:00:00\", \"2013-07-18T00:00:00\", \"2013-07-19T00:00:00\", \"2013-07-20T00:00:00\", \"2013-07-21T00:00:00\", \"2013-07-22T00:00:00\", \"2013-07-23T00:00:00\", \"2013-07-24T00:00:00\", \"2013-07-25T00:00:00\", \"2013-07-26T00:00:00\", \"2013-07-27T00:00:00\", \"2013-07-28T00:00:00\", \"2013-07-29T00:00:00\", \"2013-07-30T00:00:00\", \"2013-07-31T00:00:00\", \"2013-08-01T00:00:00\", \"2013-08-02T00:00:00\", \"2013-08-03T00:00:00\", \"2013-08-04T00:00:00\", \"2013-08-05T00:00:00\", \"2013-08-06T00:00:00\", \"2013-08-07T00:00:00\", \"2013-08-08T00:00:00\", \"2013-08-09T00:00:00\", \"2013-08-10T00:00:00\", \"2013-08-11T00:00:00\", \"2013-08-12T00:00:00\", \"2013-08-13T00:00:00\", \"2013-08-14T00:00:00\", \"2013-08-15T00:00:00\", \"2013-08-16T00:00:00\", \"2013-08-17T00:00:00\", \"2013-08-18T00:00:00\", \"2013-08-19T00:00:00\", \"2013-08-20T00:00:00\", \"2013-08-21T00:00:00\", \"2013-08-22T00:00:00\", \"2013-08-23T00:00:00\", \"2013-08-24T00:00:00\", \"2013-08-25T00:00:00\", \"2013-08-26T00:00:00\", \"2013-08-27T00:00:00\", \"2013-08-28T00:00:00\", \"2013-08-29T00:00:00\", \"2013-08-30T00:00:00\", \"2013-08-31T00:00:00\", \"2013-09-01T00:00:00\", \"2013-09-02T00:00:00\", \"2013-09-03T00:00:00\", \"2013-09-04T00:00:00\", \"2013-09-05T00:00:00\", \"2013-09-06T00:00:00\", \"2013-09-07T00:00:00\", \"2013-09-08T00:00:00\", \"2013-09-09T00:00:00\", \"2013-09-10T00:00:00\", \"2013-09-11T00:00:00\", \"2013-09-12T00:00:00\", \"2013-09-13T00:00:00\", \"2013-09-14T00:00:00\", \"2013-09-15T00:00:00\", \"2013-09-16T00:00:00\", \"2013-09-17T00:00:00\", \"2013-09-18T00:00:00\", \"2013-09-19T00:00:00\", \"2013-09-20T00:00:00\", \"2013-09-21T00:00:00\", \"2013-09-22T00:00:00\", \"2013-09-23T00:00:00\", \"2013-09-24T00:00:00\", \"2013-09-25T00:00:00\", \"2013-09-26T00:00:00\", \"2013-09-27T00:00:00\", \"2013-09-28T00:00:00\", \"2013-09-29T00:00:00\", \"2013-09-30T00:00:00\", \"2013-10-01T00:00:00\", \"2013-10-02T00:00:00\", \"2013-10-03T00:00:00\", \"2013-10-04T00:00:00\", \"2013-10-05T00:00:00\", \"2013-10-06T00:00:00\", \"2013-10-07T00:00:00\", \"2013-10-08T00:00:00\", \"2013-10-09T00:00:00\", \"2013-10-10T00:00:00\", \"2013-10-11T00:00:00\", \"2013-10-12T00:00:00\", \"2013-10-13T00:00:00\", \"2013-10-14T00:00:00\", \"2013-10-15T00:00:00\", \"2013-10-16T00:00:00\", \"2013-10-17T00:00:00\", \"2013-10-18T00:00:00\", \"2013-10-19T00:00:00\", \"2013-10-20T00:00:00\", \"2013-10-21T00:00:00\", \"2013-10-22T00:00:00\", \"2013-10-23T00:00:00\", \"2013-10-24T00:00:00\", \"2013-10-25T00:00:00\", \"2013-10-26T00:00:00\", \"2013-10-27T00:00:00\", \"2013-10-28T00:00:00\", \"2013-10-29T00:00:00\", \"2013-10-30T00:00:00\", \"2013-10-31T00:00:00\", \"2013-11-01T00:00:00\", \"2013-11-02T00:00:00\", \"2013-11-03T00:00:00\", \"2013-11-04T00:00:00\", \"2013-11-05T00:00:00\", \"2013-11-06T00:00:00\", \"2013-11-07T00:00:00\", \"2013-11-08T00:00:00\", \"2013-11-09T00:00:00\", \"2013-11-10T00:00:00\", \"2013-11-11T00:00:00\", \"2013-11-12T00:00:00\", \"2013-11-13T00:00:00\", \"2013-11-14T00:00:00\", \"2013-11-15T00:00:00\", \"2013-11-16T00:00:00\", \"2013-11-17T00:00:00\", \"2013-11-18T00:00:00\", \"2013-11-19T00:00:00\", \"2013-11-20T00:00:00\", \"2013-11-21T00:00:00\", \"2013-11-22T00:00:00\", \"2013-11-23T00:00:00\", \"2013-11-24T00:00:00\", \"2013-11-25T00:00:00\", \"2013-11-26T00:00:00\", \"2013-11-27T00:00:00\", \"2013-11-28T00:00:00\", \"2013-11-29T00:00:00\", \"2013-11-30T00:00:00\", \"2013-12-01T00:00:00\", \"2013-12-02T00:00:00\", \"2013-12-03T00:00:00\", \"2013-12-04T00:00:00\", \"2013-12-05T00:00:00\", \"2013-12-06T00:00:00\", \"2013-12-07T00:00:00\", \"2013-12-08T00:00:00\", \"2013-12-09T00:00:00\", \"2013-12-10T00:00:00\", \"2013-12-11T00:00:00\", \"2013-12-12T00:00:00\", \"2013-12-13T00:00:00\", \"2013-12-14T00:00:00\", \"2013-12-15T00:00:00\", \"2013-12-16T00:00:00\", \"2013-12-17T00:00:00\", \"2013-12-18T00:00:00\", \"2013-12-19T00:00:00\", \"2013-12-20T00:00:00\", \"2013-12-21T00:00:00\", \"2013-12-22T00:00:00\", \"2013-12-23T00:00:00\", \"2013-12-24T00:00:00\", \"2013-12-25T00:00:00\", \"2013-12-26T00:00:00\", \"2013-12-27T00:00:00\", \"2013-12-28T00:00:00\", \"2013-12-29T00:00:00\", \"2013-12-30T00:00:00\", \"2013-12-31T00:00:00\", \"2014-01-01T00:00:00\", \"2014-01-02T00:00:00\", \"2014-01-03T00:00:00\", \"2014-01-04T00:00:00\", \"2014-01-05T00:00:00\", \"2014-01-06T00:00:00\", \"2014-01-07T00:00:00\", \"2014-01-08T00:00:00\", \"2014-01-09T00:00:00\", \"2014-01-10T00:00:00\", \"2014-01-11T00:00:00\", \"2014-01-12T00:00:00\", \"2014-01-13T00:00:00\", \"2014-01-14T00:00:00\", \"2014-01-15T00:00:00\", \"2014-01-16T00:00:00\", \"2014-01-17T00:00:00\", \"2014-01-18T00:00:00\", \"2014-01-19T00:00:00\", \"2014-01-20T00:00:00\", \"2014-01-21T00:00:00\", \"2014-01-22T00:00:00\", \"2014-01-23T00:00:00\", \"2014-01-24T00:00:00\", \"2014-01-25T00:00:00\", \"2014-01-26T00:00:00\", \"2014-01-27T00:00:00\", \"2014-01-28T00:00:00\", \"2014-01-29T00:00:00\", \"2014-01-30T00:00:00\", \"2014-01-31T00:00:00\", \"2014-02-01T00:00:00\", \"2014-02-02T00:00:00\", \"2014-02-03T00:00:00\", \"2014-02-04T00:00:00\", \"2014-02-05T00:00:00\", \"2014-02-06T00:00:00\", \"2014-02-07T00:00:00\", \"2014-02-08T00:00:00\", \"2014-02-09T00:00:00\", \"2014-02-10T00:00:00\", \"2014-02-11T00:00:00\", \"2014-02-12T00:00:00\", \"2014-02-13T00:00:00\", \"2014-02-14T00:00:00\", \"2014-02-15T00:00:00\", \"2014-02-16T00:00:00\", \"2014-02-17T00:00:00\", \"2014-02-18T00:00:00\", \"2014-02-19T00:00:00\", \"2014-02-20T00:00:00\", \"2014-02-21T00:00:00\", \"2014-02-22T00:00:00\", \"2014-02-23T00:00:00\", \"2014-02-24T00:00:00\", \"2014-02-25T00:00:00\", \"2014-02-26T00:00:00\", \"2014-02-27T00:00:00\", \"2014-02-28T00:00:00\", \"2014-03-01T00:00:00\", \"2014-03-02T00:00:00\", \"2014-03-03T00:00:00\", \"2014-03-04T00:00:00\", \"2014-03-05T00:00:00\", \"2014-03-06T00:00:00\", \"2014-03-07T00:00:00\", \"2014-03-08T00:00:00\", \"2014-03-09T00:00:00\", \"2014-03-10T00:00:00\", \"2014-03-11T00:00:00\", \"2014-03-12T00:00:00\", \"2014-03-13T00:00:00\", \"2014-03-14T00:00:00\", \"2014-03-15T00:00:00\", \"2014-03-16T00:00:00\", \"2014-03-17T00:00:00\", \"2014-03-18T00:00:00\", \"2014-03-19T00:00:00\", \"2014-03-20T00:00:00\", \"2014-03-21T00:00:00\", \"2014-03-22T00:00:00\", \"2014-03-23T00:00:00\", \"2014-03-24T00:00:00\", \"2014-03-25T00:00:00\", \"2014-03-26T00:00:00\", \"2014-03-27T00:00:00\", \"2014-03-28T00:00:00\", \"2014-03-29T00:00:00\", \"2014-03-30T00:00:00\", \"2014-03-31T00:00:00\", \"2014-04-01T00:00:00\", \"2014-04-02T00:00:00\", \"2014-04-03T00:00:00\", \"2014-04-04T00:00:00\", \"2014-04-05T00:00:00\", \"2014-04-06T00:00:00\", \"2014-04-07T00:00:00\", \"2014-04-08T00:00:00\", \"2014-04-09T00:00:00\", \"2014-04-10T00:00:00\", \"2014-04-11T00:00:00\", \"2014-04-12T00:00:00\", \"2014-04-13T00:00:00\", \"2014-04-14T00:00:00\", \"2014-04-15T00:00:00\", \"2014-04-16T00:00:00\", \"2014-04-17T00:00:00\", \"2014-04-18T00:00:00\", \"2014-04-19T00:00:00\", \"2014-04-20T00:00:00\", \"2014-04-21T00:00:00\", \"2014-04-22T00:00:00\", \"2014-04-23T00:00:00\", \"2014-04-24T00:00:00\", \"2014-04-25T00:00:00\", \"2014-04-26T00:00:00\", \"2014-04-27T00:00:00\", \"2014-04-28T00:00:00\", \"2014-04-29T00:00:00\", \"2014-04-30T00:00:00\", \"2014-05-01T00:00:00\", \"2014-05-02T00:00:00\", \"2014-05-03T00:00:00\", \"2014-05-04T00:00:00\", \"2014-05-05T00:00:00\", \"2014-05-06T00:00:00\", \"2014-05-07T00:00:00\", \"2014-05-08T00:00:00\", \"2014-05-09T00:00:00\", \"2014-05-10T00:00:00\", \"2014-05-11T00:00:00\", \"2014-05-12T00:00:00\", \"2014-05-13T00:00:00\", \"2014-05-14T00:00:00\", \"2014-05-15T00:00:00\", \"2014-05-16T00:00:00\", \"2014-05-17T00:00:00\", \"2014-05-18T00:00:00\", \"2014-05-19T00:00:00\", \"2014-05-20T00:00:00\", \"2014-05-21T00:00:00\", \"2014-05-22T00:00:00\", \"2014-05-23T00:00:00\", \"2014-05-24T00:00:00\", \"2014-05-25T00:00:00\", \"2014-05-26T00:00:00\", \"2014-05-27T00:00:00\", \"2014-05-28T00:00:00\", \"2014-05-29T00:00:00\", \"2014-05-30T00:00:00\", \"2014-05-31T00:00:00\", \"2014-06-01T00:00:00\", \"2014-06-02T00:00:00\", \"2014-06-03T00:00:00\", \"2014-06-04T00:00:00\", \"2014-06-05T00:00:00\", \"2014-06-06T00:00:00\", \"2014-06-07T00:00:00\", \"2014-06-08T00:00:00\", \"2014-06-09T00:00:00\", \"2014-06-10T00:00:00\", \"2014-06-11T00:00:00\", \"2014-06-12T00:00:00\", \"2014-06-13T00:00:00\", \"2014-06-14T00:00:00\", \"2014-06-15T00:00:00\", \"2014-06-16T00:00:00\", \"2014-06-17T00:00:00\", \"2014-06-18T00:00:00\", \"2014-06-19T00:00:00\", \"2014-06-20T00:00:00\", \"2014-06-21T00:00:00\", \"2014-06-22T00:00:00\", \"2014-06-23T00:00:00\", \"2014-06-24T00:00:00\", \"2014-06-25T00:00:00\", \"2014-06-26T00:00:00\", \"2014-06-27T00:00:00\", \"2014-06-28T00:00:00\", \"2014-06-29T00:00:00\", \"2014-06-30T00:00:00\", \"2014-07-01T00:00:00\", \"2014-07-02T00:00:00\", \"2014-07-03T00:00:00\", \"2014-07-04T00:00:00\", \"2014-07-05T00:00:00\", \"2014-07-06T00:00:00\", \"2014-07-07T00:00:00\", \"2014-07-08T00:00:00\", \"2014-07-09T00:00:00\", \"2014-07-10T00:00:00\", \"2014-07-11T00:00:00\", \"2014-07-12T00:00:00\", \"2014-07-13T00:00:00\", \"2014-07-14T00:00:00\", \"2014-07-15T00:00:00\", \"2014-07-16T00:00:00\", \"2014-07-17T00:00:00\", \"2014-07-18T00:00:00\", \"2014-07-19T00:00:00\", \"2014-07-20T00:00:00\", \"2014-07-21T00:00:00\", \"2014-07-22T00:00:00\", \"2014-07-23T00:00:00\", \"2014-07-24T00:00:00\", \"2014-07-25T00:00:00\", \"2014-07-26T00:00:00\", \"2014-07-27T00:00:00\", \"2014-07-28T00:00:00\", \"2014-07-29T00:00:00\", \"2014-07-30T00:00:00\", \"2014-07-31T00:00:00\", \"2014-08-01T00:00:00\", \"2014-08-02T00:00:00\", \"2014-08-03T00:00:00\", \"2014-08-04T00:00:00\", \"2014-08-05T00:00:00\", \"2014-08-06T00:00:00\", \"2014-08-07T00:00:00\", \"2014-08-08T00:00:00\", \"2014-08-09T00:00:00\", \"2014-08-10T00:00:00\", \"2014-08-11T00:00:00\", \"2014-08-12T00:00:00\", \"2014-08-13T00:00:00\", \"2014-08-14T00:00:00\", \"2014-08-15T00:00:00\", \"2014-08-16T00:00:00\", \"2014-08-17T00:00:00\", \"2014-08-18T00:00:00\", \"2014-08-19T00:00:00\", \"2014-08-20T00:00:00\", \"2014-08-21T00:00:00\", \"2014-08-22T00:00:00\", \"2014-08-23T00:00:00\", \"2014-08-24T00:00:00\", \"2014-08-25T00:00:00\", \"2014-08-26T00:00:00\", \"2014-08-27T00:00:00\", \"2014-08-28T00:00:00\", \"2014-08-29T00:00:00\", \"2014-08-30T00:00:00\", \"2014-08-31T00:00:00\", \"2014-09-01T00:00:00\", \"2014-09-02T00:00:00\", \"2014-09-03T00:00:00\", \"2014-09-04T00:00:00\", \"2014-09-05T00:00:00\", \"2014-09-06T00:00:00\", \"2014-09-07T00:00:00\", \"2014-09-08T00:00:00\", \"2014-09-09T00:00:00\", \"2014-09-10T00:00:00\", \"2014-09-11T00:00:00\", \"2014-09-12T00:00:00\", \"2014-09-13T00:00:00\", \"2014-09-14T00:00:00\", \"2014-09-15T00:00:00\", \"2014-09-16T00:00:00\", \"2014-09-17T00:00:00\", \"2014-09-18T00:00:00\", \"2014-09-19T00:00:00\", \"2014-09-20T00:00:00\", \"2014-09-21T00:00:00\", \"2014-09-22T00:00:00\", \"2014-09-23T00:00:00\", \"2014-09-24T00:00:00\", \"2014-09-25T00:00:00\", \"2014-09-26T00:00:00\", \"2014-09-27T00:00:00\", \"2014-09-28T00:00:00\", \"2014-09-29T00:00:00\", \"2014-09-30T00:00:00\", \"2014-10-01T00:00:00\", \"2014-10-02T00:00:00\", \"2014-10-03T00:00:00\", \"2014-10-04T00:00:00\", \"2014-10-05T00:00:00\", \"2014-10-06T00:00:00\", \"2014-10-07T00:00:00\", \"2014-10-08T00:00:00\", \"2014-10-09T00:00:00\", \"2014-10-10T00:00:00\", \"2014-10-11T00:00:00\", \"2014-10-12T00:00:00\", \"2014-10-13T00:00:00\", \"2014-10-14T00:00:00\", \"2014-10-15T00:00:00\", \"2014-10-16T00:00:00\", \"2014-10-17T00:00:00\", \"2014-10-18T00:00:00\", \"2014-10-19T00:00:00\", \"2014-10-20T00:00:00\", \"2014-10-21T00:00:00\", \"2014-10-22T00:00:00\", \"2014-10-23T00:00:00\", \"2014-10-24T00:00:00\", \"2014-10-25T00:00:00\", \"2014-10-26T00:00:00\", \"2014-10-27T00:00:00\", \"2014-10-28T00:00:00\", \"2014-10-29T00:00:00\", \"2014-10-30T00:00:00\", \"2014-10-31T00:00:00\", \"2014-11-01T00:00:00\", \"2014-11-02T00:00:00\", \"2014-11-03T00:00:00\", \"2014-11-04T00:00:00\", \"2014-11-05T00:00:00\", \"2014-11-06T00:00:00\", \"2014-11-07T00:00:00\", \"2014-11-08T00:00:00\", \"2014-11-09T00:00:00\", \"2014-11-10T00:00:00\", \"2014-11-11T00:00:00\", \"2014-11-12T00:00:00\", \"2014-11-13T00:00:00\", \"2014-11-14T00:00:00\", \"2014-11-15T00:00:00\", \"2014-11-16T00:00:00\", \"2014-11-17T00:00:00\", \"2014-11-18T00:00:00\", \"2014-11-19T00:00:00\", \"2014-11-20T00:00:00\", \"2014-11-21T00:00:00\", \"2014-11-22T00:00:00\", \"2014-11-23T00:00:00\", \"2014-11-24T00:00:00\", \"2014-11-25T00:00:00\", \"2014-11-26T00:00:00\", \"2014-11-27T00:00:00\", \"2014-11-28T00:00:00\", \"2014-11-29T00:00:00\", \"2014-11-30T00:00:00\", \"2014-12-01T00:00:00\", \"2014-12-02T00:00:00\", \"2014-12-03T00:00:00\", \"2014-12-04T00:00:00\", \"2014-12-05T00:00:00\", \"2014-12-06T00:00:00\", \"2014-12-07T00:00:00\", \"2014-12-08T00:00:00\", \"2014-12-09T00:00:00\", \"2014-12-10T00:00:00\", \"2014-12-11T00:00:00\", \"2014-12-12T00:00:00\", \"2014-12-13T00:00:00\", \"2014-12-14T00:00:00\", \"2014-12-15T00:00:00\", \"2014-12-16T00:00:00\", \"2014-12-17T00:00:00\", \"2014-12-18T00:00:00\", \"2014-12-19T00:00:00\", \"2014-12-20T00:00:00\", \"2014-12-21T00:00:00\", \"2014-12-22T00:00:00\", \"2014-12-23T00:00:00\", \"2014-12-24T00:00:00\", \"2014-12-25T00:00:00\", \"2014-12-26T00:00:00\", \"2014-12-27T00:00:00\", \"2014-12-28T00:00:00\", \"2014-12-29T00:00:00\", \"2014-12-30T00:00:00\", \"2014-12-31T00:00:00\", \"2015-01-01T00:00:00\", \"2015-01-02T00:00:00\", \"2015-01-03T00:00:00\", \"2015-01-04T00:00:00\", \"2015-01-05T00:00:00\", \"2015-01-06T00:00:00\", \"2015-01-07T00:00:00\", \"2015-01-08T00:00:00\", \"2015-01-09T00:00:00\", \"2015-01-10T00:00:00\", \"2015-01-11T00:00:00\", \"2015-01-12T00:00:00\", \"2015-01-13T00:00:00\", \"2015-01-14T00:00:00\", \"2015-01-15T00:00:00\", \"2015-01-16T00:00:00\", \"2015-01-17T00:00:00\", \"2015-01-18T00:00:00\", \"2015-01-19T00:00:00\", \"2015-01-20T00:00:00\", \"2015-01-21T00:00:00\", \"2015-01-22T00:00:00\", \"2015-01-23T00:00:00\", \"2015-01-24T00:00:00\", \"2015-01-25T00:00:00\", \"2015-01-26T00:00:00\", \"2015-01-27T00:00:00\", \"2015-01-28T00:00:00\", \"2015-01-29T00:00:00\", \"2015-01-30T00:00:00\", \"2015-01-31T00:00:00\", \"2015-02-01T00:00:00\", \"2015-02-02T00:00:00\", \"2015-02-03T00:00:00\", \"2015-02-04T00:00:00\", \"2015-02-05T00:00:00\", \"2015-02-06T00:00:00\", \"2015-02-07T00:00:00\", \"2015-02-08T00:00:00\", \"2015-02-09T00:00:00\", \"2015-02-10T00:00:00\", \"2015-02-11T00:00:00\", \"2015-02-12T00:00:00\", \"2015-02-13T00:00:00\", \"2015-02-14T00:00:00\", \"2015-02-15T00:00:00\", \"2015-02-16T00:00:00\", \"2015-02-17T00:00:00\", \"2015-02-18T00:00:00\", \"2015-02-19T00:00:00\", \"2015-02-20T00:00:00\", \"2015-02-21T00:00:00\", \"2015-02-22T00:00:00\", \"2015-02-23T00:00:00\", \"2015-02-24T00:00:00\", \"2015-02-25T00:00:00\", \"2015-02-26T00:00:00\", \"2015-02-27T00:00:00\", \"2015-02-28T00:00:00\", \"2015-03-01T00:00:00\", \"2015-03-02T00:00:00\", \"2015-03-03T00:00:00\", \"2015-03-04T00:00:00\", \"2015-03-05T00:00:00\", \"2015-03-06T00:00:00\", \"2015-03-07T00:00:00\", \"2015-03-08T00:00:00\", \"2015-03-09T00:00:00\", \"2015-03-10T00:00:00\", \"2015-03-11T00:00:00\", \"2015-03-12T00:00:00\", \"2015-03-13T00:00:00\", \"2015-03-14T00:00:00\", \"2015-03-15T00:00:00\", \"2015-03-16T00:00:00\", \"2015-03-17T00:00:00\", \"2015-03-18T00:00:00\", \"2015-03-19T00:00:00\", \"2015-03-20T00:00:00\", \"2015-03-21T00:00:00\", \"2015-03-22T00:00:00\", \"2015-03-23T00:00:00\", \"2015-03-24T00:00:00\", \"2015-03-25T00:00:00\", \"2015-03-26T00:00:00\", \"2015-03-27T00:00:00\", \"2015-03-28T00:00:00\", \"2015-03-29T00:00:00\", \"2015-03-30T00:00:00\", \"2015-03-31T00:00:00\", \"2015-04-01T00:00:00\", \"2015-04-02T00:00:00\", \"2015-04-03T00:00:00\", \"2015-04-04T00:00:00\", \"2015-04-05T00:00:00\", \"2015-04-06T00:00:00\", \"2015-04-07T00:00:00\", \"2015-04-08T00:00:00\", \"2015-04-09T00:00:00\", \"2015-04-10T00:00:00\", \"2015-04-11T00:00:00\", \"2015-04-12T00:00:00\", \"2015-04-13T00:00:00\", \"2015-04-14T00:00:00\", \"2015-04-15T00:00:00\", \"2015-04-16T00:00:00\", \"2015-04-17T00:00:00\", \"2015-04-18T00:00:00\", \"2015-04-19T00:00:00\", \"2015-04-20T00:00:00\", \"2015-04-21T00:00:00\", \"2015-04-22T00:00:00\", \"2015-04-23T00:00:00\", \"2015-04-24T00:00:00\", \"2015-04-25T00:00:00\", \"2015-04-26T00:00:00\", \"2015-04-27T00:00:00\", \"2015-04-28T00:00:00\", \"2015-04-29T00:00:00\", \"2015-04-30T00:00:00\", \"2015-05-01T00:00:00\", \"2015-05-02T00:00:00\", \"2015-05-03T00:00:00\", \"2015-05-04T00:00:00\", \"2015-05-05T00:00:00\", \"2015-05-06T00:00:00\", \"2015-05-07T00:00:00\", \"2015-05-08T00:00:00\", \"2015-05-09T00:00:00\", \"2015-05-10T00:00:00\", \"2015-05-11T00:00:00\", \"2015-05-12T00:00:00\", \"2015-05-13T00:00:00\", \"2015-05-14T00:00:00\", \"2015-05-15T00:00:00\", \"2015-05-16T00:00:00\", \"2015-05-17T00:00:00\", \"2015-05-18T00:00:00\", \"2015-05-19T00:00:00\", \"2015-05-20T00:00:00\", \"2015-05-21T00:00:00\", \"2015-05-22T00:00:00\", \"2015-05-23T00:00:00\", \"2015-05-24T00:00:00\", \"2015-05-25T00:00:00\", \"2015-05-26T00:00:00\", \"2015-05-27T00:00:00\", \"2015-05-28T00:00:00\", \"2015-05-29T00:00:00\", \"2015-05-30T00:00:00\", \"2015-05-31T00:00:00\", \"2015-06-01T00:00:00\", \"2015-06-02T00:00:00\", \"2015-06-03T00:00:00\", \"2015-06-04T00:00:00\", \"2015-06-05T00:00:00\", \"2015-06-06T00:00:00\", \"2015-06-07T00:00:00\", \"2015-06-08T00:00:00\", \"2015-06-09T00:00:00\", \"2015-06-10T00:00:00\", \"2015-06-11T00:00:00\", \"2015-06-12T00:00:00\", \"2015-06-13T00:00:00\", \"2015-06-14T00:00:00\", \"2015-06-15T00:00:00\", \"2015-06-16T00:00:00\", \"2015-06-17T00:00:00\", \"2015-06-18T00:00:00\", \"2015-06-19T00:00:00\", \"2015-06-20T00:00:00\", \"2015-06-21T00:00:00\", \"2015-06-22T00:00:00\", \"2015-06-23T00:00:00\", \"2015-06-24T00:00:00\", \"2015-06-25T00:00:00\", \"2015-06-26T00:00:00\", \"2015-06-27T00:00:00\", \"2015-06-28T00:00:00\", \"2015-06-29T00:00:00\", \"2015-06-30T00:00:00\", \"2015-07-01T00:00:00\", \"2015-07-02T00:00:00\", \"2015-07-03T00:00:00\", \"2015-07-04T00:00:00\", \"2015-07-05T00:00:00\", \"2015-07-06T00:00:00\", \"2015-07-07T00:00:00\", \"2015-07-08T00:00:00\", \"2015-07-09T00:00:00\", \"2015-07-10T00:00:00\", \"2015-07-11T00:00:00\", \"2015-07-12T00:00:00\", \"2015-07-13T00:00:00\", \"2015-07-14T00:00:00\", \"2015-07-15T00:00:00\", \"2015-07-16T00:00:00\", \"2015-07-17T00:00:00\", \"2015-07-18T00:00:00\", \"2015-07-19T00:00:00\", \"2015-07-20T00:00:00\", \"2015-07-21T00:00:00\", \"2015-07-22T00:00:00\", \"2015-07-23T00:00:00\", \"2015-07-24T00:00:00\", \"2015-07-25T00:00:00\", \"2015-07-26T00:00:00\", \"2015-07-27T00:00:00\", \"2015-07-28T00:00:00\", \"2015-07-29T00:00:00\", \"2015-07-30T00:00:00\", \"2015-07-31T00:00:00\", \"2015-08-01T00:00:00\", \"2015-08-02T00:00:00\", \"2015-08-03T00:00:00\", \"2015-08-04T00:00:00\", \"2015-08-05T00:00:00\", \"2015-08-06T00:00:00\", \"2015-08-07T00:00:00\", \"2015-08-08T00:00:00\", \"2015-08-09T00:00:00\", \"2015-08-10T00:00:00\", \"2015-08-11T00:00:00\", \"2015-08-12T00:00:00\", \"2015-08-13T00:00:00\", \"2015-08-14T00:00:00\", \"2015-08-15T00:00:00\", \"2015-08-16T00:00:00\", \"2015-08-17T00:00:00\", \"2015-08-18T00:00:00\", \"2015-08-19T00:00:00\", \"2015-08-20T00:00:00\", \"2015-08-21T00:00:00\", \"2015-08-22T00:00:00\", \"2015-08-23T00:00:00\", \"2015-08-24T00:00:00\", \"2015-08-25T00:00:00\", \"2015-08-26T00:00:00\", \"2015-08-27T00:00:00\", \"2015-08-28T00:00:00\", \"2015-08-29T00:00:00\", \"2015-08-30T00:00:00\", \"2015-08-31T00:00:00\", \"2015-09-01T00:00:00\", \"2015-09-02T00:00:00\", \"2015-09-03T00:00:00\", \"2015-09-04T00:00:00\", \"2015-09-05T00:00:00\", \"2015-09-06T00:00:00\", \"2015-09-07T00:00:00\", \"2015-09-08T00:00:00\", \"2015-09-09T00:00:00\", \"2015-09-10T00:00:00\", \"2015-09-11T00:00:00\", \"2015-09-12T00:00:00\", \"2015-09-13T00:00:00\", \"2015-09-14T00:00:00\", \"2015-09-15T00:00:00\", \"2015-09-16T00:00:00\", \"2015-09-17T00:00:00\", \"2015-09-18T00:00:00\", \"2015-09-19T00:00:00\", \"2015-09-20T00:00:00\", \"2015-09-21T00:00:00\", \"2015-09-22T00:00:00\", \"2015-09-23T00:00:00\", \"2015-09-24T00:00:00\", \"2015-09-25T00:00:00\", \"2015-09-26T00:00:00\", \"2015-09-27T00:00:00\", \"2015-09-28T00:00:00\", \"2015-09-29T00:00:00\", \"2015-09-30T00:00:00\", \"2015-10-01T00:00:00\", \"2015-10-02T00:00:00\", \"2015-10-03T00:00:00\", \"2015-10-04T00:00:00\", \"2015-10-05T00:00:00\", \"2015-10-06T00:00:00\", \"2015-10-07T00:00:00\", \"2015-10-08T00:00:00\", \"2015-10-09T00:00:00\", \"2015-10-10T00:00:00\", \"2015-10-11T00:00:00\", \"2015-10-12T00:00:00\", \"2015-10-13T00:00:00\", \"2015-10-14T00:00:00\", \"2015-10-15T00:00:00\", \"2015-10-16T00:00:00\", \"2015-10-17T00:00:00\", \"2015-10-18T00:00:00\", \"2015-10-19T00:00:00\", \"2015-10-20T00:00:00\", \"2015-10-21T00:00:00\", \"2015-10-22T00:00:00\", \"2015-10-23T00:00:00\", \"2015-10-24T00:00:00\", \"2015-10-25T00:00:00\", \"2015-10-26T00:00:00\", \"2015-10-27T00:00:00\", \"2015-10-28T00:00:00\", \"2015-10-29T00:00:00\", \"2015-10-30T00:00:00\", \"2015-10-31T00:00:00\", \"2015-11-01T00:00:00\", \"2015-11-02T00:00:00\", \"2015-11-03T00:00:00\", \"2015-11-04T00:00:00\", \"2015-11-05T00:00:00\", \"2015-11-06T00:00:00\", \"2015-11-07T00:00:00\", \"2015-11-08T00:00:00\", \"2015-11-09T00:00:00\", \"2015-11-10T00:00:00\", \"2015-11-11T00:00:00\", \"2015-11-12T00:00:00\", \"2015-11-13T00:00:00\", \"2015-11-14T00:00:00\", \"2015-11-15T00:00:00\", \"2015-11-16T00:00:00\", \"2015-11-17T00:00:00\", \"2015-11-18T00:00:00\", \"2015-11-19T00:00:00\", \"2015-11-20T00:00:00\", \"2015-11-21T00:00:00\", \"2015-11-22T00:00:00\", \"2015-11-23T00:00:00\", \"2015-11-24T00:00:00\", \"2015-11-25T00:00:00\", \"2015-11-26T00:00:00\", \"2015-11-27T00:00:00\", \"2015-11-28T00:00:00\", \"2015-11-29T00:00:00\", \"2015-11-30T00:00:00\", \"2015-12-01T00:00:00\", \"2015-12-02T00:00:00\", \"2015-12-03T00:00:00\", \"2015-12-04T00:00:00\", \"2015-12-05T00:00:00\", \"2015-12-06T00:00:00\", \"2015-12-07T00:00:00\", \"2015-12-08T00:00:00\", \"2015-12-09T00:00:00\", \"2015-12-10T00:00:00\", \"2015-12-11T00:00:00\", \"2015-12-12T00:00:00\", \"2015-12-13T00:00:00\", \"2015-12-14T00:00:00\", \"2015-12-15T00:00:00\", \"2015-12-16T00:00:00\", \"2015-12-17T00:00:00\", \"2015-12-18T00:00:00\", \"2015-12-19T00:00:00\", \"2015-12-20T00:00:00\", \"2015-12-21T00:00:00\", \"2015-12-22T00:00:00\", \"2015-12-23T00:00:00\", \"2015-12-24T00:00:00\", \"2015-12-25T00:00:00\", \"2015-12-26T00:00:00\", \"2015-12-27T00:00:00\", \"2015-12-28T00:00:00\", \"2015-12-29T00:00:00\", \"2015-12-30T00:00:00\", \"2015-12-31T00:00:00\", \"2016-01-01T00:00:00\", \"2016-01-02T00:00:00\", \"2016-01-03T00:00:00\", \"2016-01-04T00:00:00\", \"2016-01-05T00:00:00\", \"2016-01-06T00:00:00\", \"2016-01-07T00:00:00\", \"2016-01-08T00:00:00\", \"2016-01-09T00:00:00\", \"2016-01-10T00:00:00\", \"2016-01-11T00:00:00\", \"2016-01-12T00:00:00\", \"2016-01-13T00:00:00\", \"2016-01-14T00:00:00\", \"2016-01-15T00:00:00\", \"2016-01-16T00:00:00\", \"2016-01-17T00:00:00\", \"2016-01-18T00:00:00\", \"2016-01-19T00:00:00\", \"2016-01-20T00:00:00\", \"2016-01-21T00:00:00\", \"2016-01-22T00:00:00\", \"2016-01-23T00:00:00\", \"2016-01-24T00:00:00\", \"2016-01-25T00:00:00\", \"2016-01-26T00:00:00\", \"2016-01-27T00:00:00\", \"2016-01-28T00:00:00\", \"2016-01-29T00:00:00\", \"2016-01-30T00:00:00\", \"2016-01-31T00:00:00\", \"2016-02-01T00:00:00\", \"2016-02-02T00:00:00\", \"2016-02-03T00:00:00\", \"2016-02-04T00:00:00\", \"2016-02-05T00:00:00\", \"2016-02-06T00:00:00\", \"2016-02-07T00:00:00\", \"2016-02-08T00:00:00\", \"2016-02-09T00:00:00\", \"2016-02-10T00:00:00\", \"2016-02-11T00:00:00\", \"2016-02-12T00:00:00\", \"2016-02-13T00:00:00\", \"2016-02-14T00:00:00\", \"2016-02-15T00:00:00\", \"2016-02-16T00:00:00\", \"2016-02-17T00:00:00\", \"2016-02-18T00:00:00\", \"2016-02-19T00:00:00\", \"2016-02-20T00:00:00\", \"2016-02-21T00:00:00\", \"2016-02-22T00:00:00\", \"2016-02-23T00:00:00\", \"2016-02-24T00:00:00\", \"2016-02-25T00:00:00\", \"2016-02-26T00:00:00\", \"2016-02-27T00:00:00\", \"2016-02-28T00:00:00\", \"2016-02-29T00:00:00\", \"2016-03-01T00:00:00\", \"2016-03-02T00:00:00\", \"2016-03-03T00:00:00\", \"2016-03-04T00:00:00\", \"2016-03-05T00:00:00\", \"2016-03-06T00:00:00\", \"2016-03-07T00:00:00\", \"2016-03-08T00:00:00\", \"2016-03-09T00:00:00\", \"2016-03-10T00:00:00\", \"2016-03-11T00:00:00\", \"2016-03-12T00:00:00\", \"2016-03-13T00:00:00\", \"2016-03-14T00:00:00\", \"2016-03-15T00:00:00\", \"2016-03-16T00:00:00\", \"2016-03-17T00:00:00\", \"2016-03-18T00:00:00\", \"2016-03-19T00:00:00\", \"2016-03-20T00:00:00\", \"2016-03-21T00:00:00\", \"2016-03-22T00:00:00\", \"2016-03-23T00:00:00\", \"2016-03-24T00:00:00\", \"2016-03-25T00:00:00\", \"2016-03-26T00:00:00\", \"2016-03-27T00:00:00\", \"2016-03-28T00:00:00\", \"2016-03-29T00:00:00\", \"2016-03-30T00:00:00\", \"2016-03-31T00:00:00\", \"2016-04-01T00:00:00\", \"2016-04-02T00:00:00\", \"2016-04-03T00:00:00\", \"2016-04-04T00:00:00\", \"2016-04-05T00:00:00\", \"2016-04-06T00:00:00\", \"2016-04-07T00:00:00\", \"2016-04-08T00:00:00\", \"2016-04-09T00:00:00\", \"2016-04-10T00:00:00\", \"2016-04-11T00:00:00\", \"2016-04-12T00:00:00\", \"2016-04-13T00:00:00\", \"2016-04-14T00:00:00\", \"2016-04-15T00:00:00\", \"2016-04-16T00:00:00\", \"2016-04-17T00:00:00\", \"2016-04-18T00:00:00\", \"2016-04-19T00:00:00\", \"2016-04-20T00:00:00\", \"2016-04-21T00:00:00\", \"2016-04-22T00:00:00\", \"2016-04-23T00:00:00\", \"2016-04-24T00:00:00\", \"2016-04-25T00:00:00\", \"2016-04-26T00:00:00\", \"2016-04-27T00:00:00\", \"2016-04-28T00:00:00\", \"2016-04-29T00:00:00\", \"2016-04-30T00:00:00\", \"2016-05-01T00:00:00\", \"2016-05-02T00:00:00\", \"2016-05-03T00:00:00\", \"2016-05-04T00:00:00\", \"2016-05-05T00:00:00\", \"2016-05-06T00:00:00\", \"2016-05-07T00:00:00\", \"2016-05-08T00:00:00\", \"2016-05-09T00:00:00\", \"2016-05-10T00:00:00\", \"2016-05-11T00:00:00\", \"2016-05-12T00:00:00\", \"2016-05-13T00:00:00\", \"2016-05-14T00:00:00\", \"2016-05-15T00:00:00\", \"2016-05-16T00:00:00\", \"2016-05-17T00:00:00\", \"2016-05-18T00:00:00\", \"2016-05-19T00:00:00\", \"2016-05-20T00:00:00\", \"2016-05-21T00:00:00\", \"2016-05-22T00:00:00\", \"2016-05-23T00:00:00\", \"2016-05-24T00:00:00\", \"2016-05-25T00:00:00\", \"2016-05-26T00:00:00\", \"2016-05-27T00:00:00\", \"2016-05-28T00:00:00\", \"2016-05-29T00:00:00\", \"2016-05-30T00:00:00\", \"2016-05-31T00:00:00\", \"2016-06-01T00:00:00\", \"2016-06-02T00:00:00\", \"2016-06-03T00:00:00\", \"2016-06-04T00:00:00\", \"2016-06-05T00:00:00\", \"2016-06-06T00:00:00\", \"2016-06-07T00:00:00\", \"2016-06-08T00:00:00\", \"2016-06-09T00:00:00\", \"2016-06-10T00:00:00\", \"2016-06-11T00:00:00\", \"2016-06-12T00:00:00\", \"2016-06-13T00:00:00\", \"2016-06-14T00:00:00\", \"2016-06-15T00:00:00\", \"2016-06-16T00:00:00\", \"2016-06-17T00:00:00\", \"2016-06-18T00:00:00\", \"2016-06-19T00:00:00\", \"2016-06-20T00:00:00\", \"2016-06-21T00:00:00\", \"2016-06-22T00:00:00\", \"2016-06-23T00:00:00\", \"2016-06-24T00:00:00\", \"2016-06-25T00:00:00\", \"2016-06-26T00:00:00\", \"2016-06-27T00:00:00\", \"2016-06-28T00:00:00\", \"2016-06-29T00:00:00\", \"2016-06-30T00:00:00\", \"2016-07-01T00:00:00\", \"2016-07-02T00:00:00\", \"2016-07-03T00:00:00\", \"2016-07-04T00:00:00\", \"2016-07-05T00:00:00\", \"2016-07-06T00:00:00\", \"2016-07-07T00:00:00\", \"2016-07-08T00:00:00\", \"2016-07-09T00:00:00\", \"2016-07-10T00:00:00\", \"2016-07-11T00:00:00\", \"2016-07-12T00:00:00\", \"2016-07-13T00:00:00\", \"2016-07-14T00:00:00\", \"2016-07-15T00:00:00\", \"2016-07-16T00:00:00\", \"2016-07-17T00:00:00\", \"2016-07-18T00:00:00\", \"2016-07-19T00:00:00\", \"2016-07-20T00:00:00\", \"2016-07-21T00:00:00\", \"2016-07-22T00:00:00\", \"2016-07-23T00:00:00\", \"2016-07-24T00:00:00\", \"2016-07-25T00:00:00\", \"2016-07-26T00:00:00\", \"2016-07-27T00:00:00\", \"2016-07-28T00:00:00\", \"2016-07-29T00:00:00\", \"2016-07-30T00:00:00\", \"2016-07-31T00:00:00\", \"2016-08-01T00:00:00\", \"2016-08-02T00:00:00\", \"2016-08-03T00:00:00\", \"2016-08-04T00:00:00\", \"2016-08-05T00:00:00\", \"2016-08-06T00:00:00\", \"2016-08-07T00:00:00\", \"2016-08-08T00:00:00\", \"2016-08-09T00:00:00\", \"2016-08-10T00:00:00\", \"2016-08-11T00:00:00\", \"2016-08-12T00:00:00\", \"2016-08-13T00:00:00\", \"2016-08-14T00:00:00\", \"2016-08-15T00:00:00\", \"2016-08-16T00:00:00\", \"2016-08-17T00:00:00\", \"2016-08-18T00:00:00\", \"2016-08-19T00:00:00\", \"2016-08-20T00:00:00\", \"2016-08-21T00:00:00\", \"2016-08-22T00:00:00\", \"2016-08-23T00:00:00\", \"2016-08-24T00:00:00\", \"2016-08-25T00:00:00\", \"2016-08-26T00:00:00\", \"2016-08-27T00:00:00\", \"2016-08-28T00:00:00\", \"2016-08-29T00:00:00\", \"2016-08-30T00:00:00\", \"2016-08-31T00:00:00\", \"2016-09-01T00:00:00\", \"2016-09-02T00:00:00\", \"2016-09-03T00:00:00\", \"2016-09-04T00:00:00\", \"2016-09-05T00:00:00\", \"2016-09-06T00:00:00\", \"2016-09-07T00:00:00\", \"2016-09-08T00:00:00\", \"2016-09-09T00:00:00\", \"2016-09-10T00:00:00\", \"2016-09-11T00:00:00\", \"2016-09-12T00:00:00\", \"2016-09-13T00:00:00\", \"2016-09-14T00:00:00\", \"2016-09-15T00:00:00\", \"2016-09-16T00:00:00\", \"2016-09-17T00:00:00\", \"2016-09-18T00:00:00\", \"2016-09-19T00:00:00\", \"2016-09-20T00:00:00\", \"2016-09-21T00:00:00\", \"2016-09-22T00:00:00\", \"2016-09-23T00:00:00\", \"2016-09-24T00:00:00\", \"2016-09-25T00:00:00\", \"2016-09-26T00:00:00\", \"2016-09-27T00:00:00\", \"2016-09-28T00:00:00\", \"2016-09-29T00:00:00\", \"2016-09-30T00:00:00\", \"2016-10-01T00:00:00\", \"2016-10-02T00:00:00\", \"2016-10-03T00:00:00\", \"2016-10-04T00:00:00\", \"2016-10-05T00:00:00\", \"2016-10-06T00:00:00\", \"2016-10-07T00:00:00\", \"2016-10-08T00:00:00\", \"2016-10-09T00:00:00\", \"2016-10-10T00:00:00\", \"2016-10-11T00:00:00\", \"2016-10-12T00:00:00\", \"2016-10-13T00:00:00\", \"2016-10-14T00:00:00\", \"2016-10-15T00:00:00\", \"2016-10-16T00:00:00\", \"2016-10-17T00:00:00\", \"2016-10-18T00:00:00\", \"2016-10-19T00:00:00\", \"2016-10-20T00:00:00\", \"2016-10-21T00:00:00\", \"2016-10-22T00:00:00\", \"2016-10-23T00:00:00\", \"2016-10-24T00:00:00\", \"2016-10-25T00:00:00\", \"2016-10-26T00:00:00\", \"2016-10-27T00:00:00\", \"2016-10-28T00:00:00\", \"2016-10-29T00:00:00\", \"2016-10-30T00:00:00\", \"2016-10-31T00:00:00\", \"2016-11-01T00:00:00\", \"2016-11-02T00:00:00\", \"2016-11-03T00:00:00\", \"2016-11-04T00:00:00\", \"2016-11-05T00:00:00\", \"2016-11-06T00:00:00\", \"2016-11-07T00:00:00\", \"2016-11-08T00:00:00\", \"2016-11-09T00:00:00\", \"2016-11-10T00:00:00\", \"2016-11-11T00:00:00\", \"2016-11-12T00:00:00\", \"2016-11-13T00:00:00\", \"2016-11-14T00:00:00\", \"2016-11-15T00:00:00\", \"2016-11-16T00:00:00\", \"2016-11-17T00:00:00\", \"2016-11-18T00:00:00\", \"2016-11-19T00:00:00\", \"2016-11-20T00:00:00\", \"2016-11-21T00:00:00\", \"2016-11-22T00:00:00\", \"2016-11-23T00:00:00\", \"2016-11-24T00:00:00\", \"2016-11-25T00:00:00\", \"2016-11-26T00:00:00\", \"2016-11-27T00:00:00\", \"2016-11-28T00:00:00\", \"2016-11-29T00:00:00\", \"2016-11-30T00:00:00\", \"2016-12-01T00:00:00\", \"2016-12-02T00:00:00\", \"2016-12-03T00:00:00\", \"2016-12-04T00:00:00\", \"2016-12-05T00:00:00\", \"2016-12-06T00:00:00\", \"2016-12-07T00:00:00\", \"2016-12-08T00:00:00\", \"2016-12-09T00:00:00\", \"2016-12-10T00:00:00\", \"2016-12-11T00:00:00\", \"2016-12-12T00:00:00\", \"2016-12-13T00:00:00\", \"2016-12-14T00:00:00\", \"2016-12-15T00:00:00\", \"2016-12-16T00:00:00\", \"2016-12-17T00:00:00\", \"2016-12-18T00:00:00\", \"2016-12-19T00:00:00\", \"2016-12-20T00:00:00\", \"2016-12-21T00:00:00\", \"2016-12-22T00:00:00\", \"2016-12-23T00:00:00\", \"2016-12-24T00:00:00\", \"2016-12-25T00:00:00\", \"2016-12-26T00:00:00\", \"2016-12-27T00:00:00\", \"2016-12-28T00:00:00\", \"2016-12-29T00:00:00\", \"2016-12-30T00:00:00\", \"2016-12-31T00:00:00\", \"2017-01-01T00:00:00\", \"2017-01-02T00:00:00\", \"2017-01-03T00:00:00\", \"2017-01-04T00:00:00\", \"2017-01-05T00:00:00\", \"2017-01-06T00:00:00\", \"2017-01-07T00:00:00\", \"2017-01-08T00:00:00\", \"2017-01-09T00:00:00\", \"2017-01-10T00:00:00\", \"2017-01-11T00:00:00\", \"2017-01-12T00:00:00\", \"2017-01-13T00:00:00\", \"2017-01-14T00:00:00\", \"2017-01-15T00:00:00\", \"2017-01-16T00:00:00\", \"2017-01-17T00:00:00\", \"2017-01-18T00:00:00\", \"2017-01-19T00:00:00\", \"2017-01-20T00:00:00\", \"2017-01-21T00:00:00\", \"2017-01-22T00:00:00\", \"2017-01-23T00:00:00\", \"2017-01-24T00:00:00\", \"2017-01-25T00:00:00\", \"2017-01-26T00:00:00\", \"2017-01-27T00:00:00\", \"2017-01-28T00:00:00\", \"2017-01-29T00:00:00\", \"2017-01-30T00:00:00\", \"2017-01-31T00:00:00\", \"2017-02-01T00:00:00\", \"2017-02-02T00:00:00\", \"2017-02-03T00:00:00\", \"2017-02-04T00:00:00\", \"2017-02-05T00:00:00\", \"2017-02-06T00:00:00\", \"2017-02-07T00:00:00\", \"2017-02-08T00:00:00\", \"2017-02-09T00:00:00\", \"2017-02-10T00:00:00\", \"2017-02-11T00:00:00\", \"2017-02-12T00:00:00\", \"2017-02-13T00:00:00\", \"2017-02-14T00:00:00\", \"2017-02-15T00:00:00\", \"2017-02-16T00:00:00\", \"2017-02-17T00:00:00\", \"2017-02-18T00:00:00\", \"2017-02-19T00:00:00\", \"2017-02-20T00:00:00\", \"2017-02-21T00:00:00\", \"2017-02-22T00:00:00\", \"2017-02-23T00:00:00\", \"2017-02-24T00:00:00\", \"2017-02-25T00:00:00\", \"2017-02-26T00:00:00\", \"2017-02-27T00:00:00\", \"2017-02-28T00:00:00\", \"2017-03-01T00:00:00\", \"2017-03-02T00:00:00\", \"2017-03-03T00:00:00\", \"2017-03-04T00:00:00\", \"2017-03-05T00:00:00\", \"2017-03-06T00:00:00\", \"2017-03-07T00:00:00\", \"2017-03-08T00:00:00\", \"2017-03-09T00:00:00\", \"2017-03-10T00:00:00\", \"2017-03-11T00:00:00\", \"2017-03-12T00:00:00\", \"2017-03-13T00:00:00\", \"2017-03-14T00:00:00\", \"2017-03-15T00:00:00\", \"2017-03-16T00:00:00\", \"2017-03-17T00:00:00\", \"2017-03-18T00:00:00\", \"2017-03-19T00:00:00\", \"2017-03-20T00:00:00\", \"2017-03-21T00:00:00\", \"2017-03-22T00:00:00\", \"2017-03-23T00:00:00\", \"2017-03-24T00:00:00\", \"2017-03-25T00:00:00\", \"2017-03-26T00:00:00\", \"2017-03-27T00:00:00\", \"2017-03-28T00:00:00\", \"2017-03-29T00:00:00\", \"2017-03-30T00:00:00\", \"2017-03-31T00:00:00\", \"2017-04-01T00:00:00\", \"2017-04-02T00:00:00\", \"2017-04-03T00:00:00\", \"2017-04-04T00:00:00\", \"2017-04-05T00:00:00\", \"2017-04-06T00:00:00\", \"2017-04-07T00:00:00\", \"2017-04-08T00:00:00\", \"2017-04-09T00:00:00\", \"2017-04-10T00:00:00\", \"2017-04-11T00:00:00\", \"2017-04-12T00:00:00\", \"2017-04-13T00:00:00\", \"2017-04-14T00:00:00\", \"2017-04-15T00:00:00\", \"2017-04-16T00:00:00\", \"2017-04-17T00:00:00\", \"2017-04-18T00:00:00\", \"2017-04-19T00:00:00\", \"2017-04-20T00:00:00\", \"2017-04-21T00:00:00\", \"2017-04-22T00:00:00\", \"2017-04-23T00:00:00\", \"2017-04-24T00:00:00\", \"2017-04-25T00:00:00\", \"2017-04-26T00:00:00\", \"2017-04-27T00:00:00\", \"2017-04-28T00:00:00\", \"2017-04-29T00:00:00\", \"2017-04-30T00:00:00\", \"2017-05-01T00:00:00\", \"2017-05-02T00:00:00\", \"2017-05-03T00:00:00\", \"2017-05-04T00:00:00\", \"2017-05-05T00:00:00\", \"2017-05-06T00:00:00\", \"2017-05-07T00:00:00\", \"2017-05-08T00:00:00\", \"2017-05-09T00:00:00\", \"2017-05-10T00:00:00\", \"2017-05-11T00:00:00\", \"2017-05-12T00:00:00\", \"2017-05-13T00:00:00\", \"2017-05-14T00:00:00\", \"2017-05-15T00:00:00\", \"2017-05-16T00:00:00\", \"2017-05-17T00:00:00\", \"2017-05-18T00:00:00\", \"2017-05-19T00:00:00\", \"2017-05-20T00:00:00\", \"2017-05-21T00:00:00\", \"2017-05-22T00:00:00\", \"2017-05-23T00:00:00\", \"2017-05-24T00:00:00\", \"2017-05-25T00:00:00\", \"2017-05-26T00:00:00\", \"2017-05-27T00:00:00\", \"2017-05-28T00:00:00\", \"2017-05-29T00:00:00\", \"2017-05-30T00:00:00\", \"2017-05-31T00:00:00\", \"2017-06-01T00:00:00\", \"2017-06-02T00:00:00\", \"2017-06-03T00:00:00\", \"2017-06-04T00:00:00\", \"2017-06-05T00:00:00\", \"2017-06-06T00:00:00\", \"2017-06-07T00:00:00\", \"2017-06-08T00:00:00\", \"2017-06-09T00:00:00\", \"2017-06-10T00:00:00\", \"2017-06-11T00:00:00\", \"2017-06-12T00:00:00\", \"2017-06-13T00:00:00\", \"2017-06-14T00:00:00\", \"2017-06-15T00:00:00\", \"2017-06-16T00:00:00\", \"2017-06-17T00:00:00\", \"2017-06-18T00:00:00\", \"2017-06-19T00:00:00\", \"2017-06-20T00:00:00\", \"2017-06-21T00:00:00\", \"2017-06-22T00:00:00\", \"2017-06-23T00:00:00\", \"2017-06-24T00:00:00\", \"2017-06-25T00:00:00\"], \"y\": [16, 11, 4, 2, 1, 0, 2, 1, 1, 0, 0, 0, 0, 0, 1, 0, 0, 0, 0, 1, 1, 0, 0, 1, 0, 0, 0, 3, 1, 0, 0, 0, 0, 0, 0, 0, 1, 0, 1, 0, 0, 1, 0, 0, 0, 0, 0, 0, 1, 0, 0, 0, 0, 0, 1, 0, 1, 1, 0, 0, 0, 2, 0, 1, 0, 0, 0, 0, 1, 0, 0, 0, 2, 0, 0, 0, 0, 2, 0, 1, 0, 0, 0, 1, 0, 0, 0, 1, 0, 1, 3, 1, 7, 3, 1, 1, 1, 2, 2, 0, 0, 0, 1, 0, 1, 1, 0, 1, 0, 2, 1, 1, 1, 2, 0, 0, 0, 1, 0, 1, 2, 1, 0, 0, 1, 0, 0, 0, 1, 0, 0, 0, 0, 0, 1, 0, 1, 1, 0, 1, 1, 0, 0, 1, 3, 3, 0, 0, 0, 0, 1, 1, 0, 4, 0, 0, 1, 0, 0, 0, 1, 2, 0, 0, 1, 0, 2, 0, 1, 2, 4, 0, 0, 1, 0, 0, 0, 1, 2, 1, 3, 3, 0, 0, 1, 1, 0, 1, 1, 1, 1, 1, 1, 2, 1, 1, 3, 1, 1, 2, 0, 1, 0, 2, 0, 0, 0, 1, 1, 2, 3, 2, 0, 1, 0, 1, 1, 1, 2, 2, 2, 1, 2, 0, 3, 4, 2, 1, 1, 1, 0, 1, 1, 6, 0, 1, 2, 3, 3, 3, 3, 1, 2, 0, 4, 4, 3, 3, 4, 0, 3, 2, 2, 2, 4, 3, 0, 5, 4, 2, 3, 5, 4, 1, 7, 4, 5, 1, 4, 2, 1, 3, 7, 2, 3, 1, 2, 1, 6, 7, 2, 3, 1, 2, 2, 3, 8, 5, 3, 5, 1, 3, 3, 2, 4, 7, 6, 2, 3, 8, 4, 7, 7, 3, 8, 3, 6, 5, 4, 6, 4, 4, 6, 3, 4, 9, 2, 4, 3, 2, 4, 7, 8, 4, 3, 2, 4, 8, 1, 3, 2, 4, 2, 0, 9, 5, 6, 5, 6, 2, 1, 7, 7, 6, 0, 2, 2, 1, 4, 4, 8, 3, 5, 3, 3, 2, 6, 3, 7, 3, 2, 3, 7, 11, 2, 6, 5, 2, 1, 11, 7, 7, 5, 7, 1, 4, 6, 5, 5, 7, 5, 1, 3, 2, 5, 6, 3, 5, 3, 3, 6, 9, 7, 4, 2, 1, 4, 4, 8, 7, 9, 4, 3, 2, 4, 4, 4, 11, 7, 6, 2, 5, 6, 11, 4, 2, 2, 2, 4, 10, 5, 3, 5, 3, 1, 6, 4, 6, 5, 6, 5, 3, 9, 7, 11, 3, 7, 7, 2, 10, 6, 5, 11, 1, 3, 3, 3, 7, 10, 8, 1, 7, 3, 8, 7, 3, 14, 4, 3, 2, 7, 11, 8, 12, 8, 3, 7, 6, 9, 9, 1, 3, 2, 4, 5, 6, 12, 5, 8, 3, 1, 7, 7, 7, 9, 3, 2, 7, 4, 9, 12, 2, 3, 3, 2, 5, 1, 3, 1, 1, 4, 7, 4, 6, 6, 5, 7, 5, 7, 12, 5, 8, 10, 11, 2, 4, 8, 7, 7, 7, 10, 1, 5, 9, 8, 10, 5, 5, 7, 3, 11, 7, 10, 12, 16, 4, 2, 10, 5, 9, 12, 4, 4, 4, 15, 9, 12, 10, 6, 0, 4, 9, 14, 9, 5, 5, 6, 4, 9, 6, 6, 3, 2, 6, 7, 4, 12, 8, 9, 11, 4, 5, 8, 8, 4, 5, 8, 5, 0, 8, 13, 13, 20, 10, 3, 4, 9, 5, 12, 7, 5, 10, 9, 8, 5, 10, 8, 3, 4, 4, 11, 11, 8, 14, 11, 4, 2, 10, 4, 9, 8, 5, 4, 6, 3, 8, 9, 9, 12, 9, 4, 16, 17, 9, 3, 6, 6, 5, 11, 13, 3, 7, 4, 7, 9, 6, 11, 14, 12, 7, 5, 3, 12, 12, 13, 6, 7, 5, 2, 8, 8, 18, 16, 8, 3, 7, 10, 7, 11, 12, 7, 7, 3, 13, 6, 9, 8, 8, 5, 5, 11, 9, 6, 10, 7, 5, 5, 12, 10, 11, 11, 7, 3, 3, 13, 11, 5, 14, 5, 6, 4, 11, 14, 7, 5, 4, 9, 5, 6, 9, 8, 9, 9, 5, 7, 8, 7, 8, 8, 11, 2, 7, 9, 11, 8, 7, 8, 5, 4, 11, 9, 10, 8, 9, 3, 7, 10, 8, 15, 14, 11, 2, 5, 12, 13, 9, 12, 10, 2, 4, 14, 8, 8, 13, 10, 7, 5, 10, 13, 14, 11, 5, 1, 4, 10, 7, 13, 16, 6, 5, 2, 9, 8, 15, 9, 6, 3, 6, 11, 12, 14, 15, 9, 5, 7, 16, 12, 17, 9, 11, 3, 7, 13, 14, 19, 10, 8, 6, 8, 16, 16, 15, 12, 18, 10, 6, 22, 18, 11, 19, 12, 6, 9, 11, 18, 21, 18, 16, 9, 4, 20, 12, 16, 8, 14, 13, 2, 18, 16, 13, 8, 18, 4, 7, 10, 7, 12, 17, 12, 9, 4, 20, 19, 6, 9, 9, 9, 9, 12, 18, 11, 13, 15, 8, 11, 12, 20, 10, 16, 16, 5, 7, 16, 22, 16, 15, 15, 8, 5, 15, 19, 14, 6, 9, 4, 7, 27, 22, 23, 8, 11, 11, 8, 27, 17, 26, 23, 17, 6, 12, 24, 15, 25, 19, 20, 13, 12, 18, 28, 33, 22, 13, 6, 12, 21, 27, 22, 15, 20, 5, 10, 17, 23, 23, 14, 24, 10, 7, 25, 33, 27, 22, 14, 11, 6, 18, 26, 13, 19, 15, 7, 9, 38, 35, 36, 15, 28, 10, 11, 25, 20, 25, 25, 25, 13, 11, 28, 22, 30, 16, 22, 17, 16, 23, 19, 35, 27, 26, 13, 9, 26, 16, 26, 31, 18, 4, 11, 41, 33, 23, 24, 18, 13, 7, 33, 32, 23, 17, 22, 13, 7, 25, 22, 28, 27, 12, 6, 11, 26, 29, 25, 14, 18, 10, 10, 30, 37, 24, 34, 22, 13, 9, 19, 21, 39, 28, 27, 12, 16, 37, 28, 27, 26, 32, 12, 8, 31, 32, 31, 34, 29, 12, 10, 23, 28, 26, 32, 35, 11, 14, 30, 34, 30, 34, 26, 17, 21, 27, 30, 34, 31, 32, 10, 27, 34, 23, 27, 27, 24, 22, 23, 41, 26, 35, 38, 29, 16, 14, 27, 40, 43, 31, 20, 13, 15, 38, 31, 33, 35, 24, 22, 13, 46, 39, 29, 42, 37, 17, 19, 36, 35, 27, 32, 22, 21, 15, 40, 27, 32, 43, 35, 18, 17, 37, 39, 35, 43, 23, 17, 20, 33, 64, 48, 39, 41, 17, 26, 54, 45, 44, 46, 44, 27, 20, 39, 35, 41, 42, 33, 24, 36, 37, 48, 50, 45, 49, 24, 17, 41, 62, 47, 48, 37, 24, 22, 35, 37, 55, 47, 40, 20, 25, 41, 65, 50, 54, 39, 18, 18, 40, 47, 62, 64, 38, 26, 31, 50, 61, 74, 89, 61, 34, 47, 76, 69, 71, 60, 52, 38, 29, 60, 81, 73, 68, 64, 35, 40, 81, 72, 74, 70, 53, 33, 36, 62, 70, 74, 72, 75, 33, 45, 79, 81, 74, 56, 56, 33, 30, 59, 73, 58, 62, 47, 19, 33, 57, 59, 51, 35, 35, 29, 31, 60, 54, 61, 57, 51, 29, 38, 85, 69, 63, 66, 52, 29, 43, 55, 70, 60, 58, 60, 39, 37, 69, 60, 45, 39, 17, 26, 28, 53, 52, 56, 78, 42, 44, 58, 94, 82, 83, 90, 51, 39, 53, 78, 94, 79, 82, 87, 46, 45, 62, 65, 90, 64, 88, 37, 51, 76, 85, 76, 69, 88, 52, 54, 83, 107, 89, 79, 105, 37, 54, 81, 98, 105, 80, 84, 47, 61, 93, 87, 90, 80, 79, 64, 61, 98, 105, 101, 126, 89, 56, 55, 103, 108, 96, 117, 87, 49, 50, 89, 103, 96, 108, 102, 53, 51, 94, 106, 95, 84, 86, 46, 55, 112, 116, 104, 89, 74, 53, 47, 87, 100, 86, 116, 65, 48, 53, 89, 106, 100, 77, 86, 43, 62, 96, 98, 93, 106, 91, 41, 45, 101, 90, 81, 92, 86, 34, 51, 92, 90, 104, 101, 87, 38, 48, 73, 100, 103, 98, 75, 39, 50, 89, 104, 99, 106, 69, 35, 49, 99, 78, 104, 89, 89, 46, 54, 79, 91, 87, 81, 84, 39, 44, 78, 87, 96, 99, 91, 46, 67, 103, 99, 112, 109, 82, 50, 48, 98, 95, 122, 124, 105, 55, 70, 116, 104, 110, 99, 105, 55, 74, 101, 100, 114, 116, 109, 54, 60, 81, 102, 125, 122, 106, 47, 77, 105, 132, 122, 125, 111, 51, 55, 111, 109, 104, 92, 105, 60, 69, 140, 118, 121, 111, 108, 78, 61, 140, 106, 106, 133, 112, 55, 60, 107, 107, 92, 110, 96, 71, 70, 117, 129, 129, 112, 97, 56, 50, 123, 126, 124, 103, 92, 64, 66, 130, 117, 117, 112, 96, 66, 58, 91, 121, 100, 111, 111, 66, 64, 139, 118, 125, 123, 116, 70, 73, 133, 122, 150, 106, 108, 53, 81, 129, 142, 130, 109, 120, 87, 71, 134, 129, 143, 139, 110, 67, 78, 143, 147, 133, 122, 144, 68, 91, 142, 143, 138, 139, 132, 73, 78, 152, 138, 158, 131, 142, 60, 81, 150, 124, 131, 146, 141, 67, 97, 158, 160, 198, 198, 147, 99, 95, 156, 197, 186, 171, 144, 74, 74, 160, 158, 177, 97, 112, 83, 92, 126, 165, 156, 136, 148, 82, 73, 164, 180, 192, 145, 164, 79, 85, 174, 168, 164, 147, 125, 78, 91, 167, 182, 175, 150, 113, 69, 52, 109, 140, 166, 149, 148, 124, 114, 146, 174, 190, 176, 149, 124, 114, 186, 197, 187, 187, 180, 99, 112, 181, 171, 172, 172, 181, 97, 153, 206, 194, 195, 171, 162, 123, 131, 199, 203, 206, 232, 190, 125, 163, 195, 201, 197, 220, 205, 111, 100, 193, 207, 188, 192, 190, 139, 117, 194, 224, 205, 189, 196, 121, 111, 225, 187, 219, 231, 218, 112, 119, 224, 205, 219, 229, 206, 124, 136, 201, 227, 241, 225, 189, 123, 99, 205, 247, 246, 228, 208, 135, 129, 230, 225, 238, 257, 207, 125, 142, 259, 221, 203, 274, 221, 140, 149, 238, 258, 239, 250, 204, 137, 143, 233, 264, 278, 274, 259, 178, 168, 296, 306, 270, 277, 262, 187, 148, 305, 332, 286, 284, 264, 133, 136, 267, 262, 264, 267, 281, 205, 180, 341, 345, 367, 336, 301, 156, 194, 341, 388, 375, 298, 269, 157, 172, 297, 365, 407, 392, 328, 170, 194, 340, 348, 323, 347, 291, 165, 193, 349, 358, 344, 336, 345, 188, 243, 408, 417, 422, 441, 421, 277, 253]}],                        {\"template\": {\"data\": {\"bar\": [{\"error_x\": {\"color\": \"#2a3f5f\"}, \"error_y\": {\"color\": \"#2a3f5f\"}, \"marker\": {\"line\": {\"color\": \"#E5ECF6\", \"width\": 0.5}}, \"type\": \"bar\"}], \"barpolar\": [{\"marker\": {\"line\": {\"color\": \"#E5ECF6\", \"width\": 0.5}}, \"type\": \"barpolar\"}], \"carpet\": [{\"aaxis\": {\"endlinecolor\": \"#2a3f5f\", \"gridcolor\": \"white\", \"linecolor\": \"white\", \"minorgridcolor\": \"white\", \"startlinecolor\": \"#2a3f5f\"}, \"baxis\": {\"endlinecolor\": \"#2a3f5f\", \"gridcolor\": \"white\", \"linecolor\": \"white\", \"minorgridcolor\": \"white\", \"startlinecolor\": \"#2a3f5f\"}, \"type\": \"carpet\"}], \"choropleth\": [{\"colorbar\": {\"outlinewidth\": 0, \"ticks\": \"\"}, \"type\": \"choropleth\"}], \"contour\": [{\"colorbar\": {\"outlinewidth\": 0, \"ticks\": \"\"}, \"colorscale\": [[0.0, \"#0d0887\"], [0.1111111111111111, \"#46039f\"], [0.2222222222222222, \"#7201a8\"], [0.3333333333333333, \"#9c179e\"], [0.4444444444444444, \"#bd3786\"], [0.5555555555555556, \"#d8576b\"], [0.6666666666666666, \"#ed7953\"], [0.7777777777777778, \"#fb9f3a\"], [0.8888888888888888, \"#fdca26\"], [1.0, \"#f0f921\"]], \"type\": \"contour\"}], \"contourcarpet\": [{\"colorbar\": {\"outlinewidth\": 0, \"ticks\": \"\"}, \"type\": \"contourcarpet\"}], \"heatmap\": [{\"colorbar\": {\"outlinewidth\": 0, \"ticks\": \"\"}, \"colorscale\": [[0.0, \"#0d0887\"], [0.1111111111111111, \"#46039f\"], [0.2222222222222222, \"#7201a8\"], [0.3333333333333333, \"#9c179e\"], [0.4444444444444444, \"#bd3786\"], [0.5555555555555556, \"#d8576b\"], [0.6666666666666666, \"#ed7953\"], [0.7777777777777778, \"#fb9f3a\"], [0.8888888888888888, \"#fdca26\"], [1.0, \"#f0f921\"]], \"type\": \"heatmap\"}], \"heatmapgl\": [{\"colorbar\": {\"outlinewidth\": 0, \"ticks\": \"\"}, \"colorscale\": [[0.0, \"#0d0887\"], [0.1111111111111111, \"#46039f\"], [0.2222222222222222, \"#7201a8\"], [0.3333333333333333, \"#9c179e\"], [0.4444444444444444, \"#bd3786\"], [0.5555555555555556, \"#d8576b\"], [0.6666666666666666, \"#ed7953\"], [0.7777777777777778, \"#fb9f3a\"], [0.8888888888888888, \"#fdca26\"], [1.0, \"#f0f921\"]], \"type\": \"heatmapgl\"}], \"histogram\": [{\"marker\": {\"colorbar\": {\"outlinewidth\": 0, \"ticks\": \"\"}}, \"type\": \"histogram\"}], \"histogram2d\": [{\"colorbar\": {\"outlinewidth\": 0, \"ticks\": \"\"}, \"colorscale\": [[0.0, \"#0d0887\"], [0.1111111111111111, \"#46039f\"], [0.2222222222222222, \"#7201a8\"], [0.3333333333333333, \"#9c179e\"], [0.4444444444444444, \"#bd3786\"], [0.5555555555555556, \"#d8576b\"], [0.6666666666666666, \"#ed7953\"], [0.7777777777777778, \"#fb9f3a\"], [0.8888888888888888, \"#fdca26\"], [1.0, \"#f0f921\"]], \"type\": \"histogram2d\"}], \"histogram2dcontour\": [{\"colorbar\": {\"outlinewidth\": 0, \"ticks\": \"\"}, \"colorscale\": [[0.0, \"#0d0887\"], [0.1111111111111111, \"#46039f\"], [0.2222222222222222, \"#7201a8\"], [0.3333333333333333, \"#9c179e\"], [0.4444444444444444, \"#bd3786\"], [0.5555555555555556, \"#d8576b\"], [0.6666666666666666, \"#ed7953\"], [0.7777777777777778, \"#fb9f3a\"], [0.8888888888888888, \"#fdca26\"], [1.0, \"#f0f921\"]], \"type\": \"histogram2dcontour\"}], \"mesh3d\": [{\"colorbar\": {\"outlinewidth\": 0, \"ticks\": \"\"}, \"type\": \"mesh3d\"}], \"parcoords\": [{\"line\": {\"colorbar\": {\"outlinewidth\": 0, \"ticks\": \"\"}}, \"type\": \"parcoords\"}], \"pie\": [{\"automargin\": true, \"type\": \"pie\"}], \"scatter\": [{\"marker\": {\"colorbar\": {\"outlinewidth\": 0, \"ticks\": \"\"}}, \"type\": \"scatter\"}], \"scatter3d\": [{\"line\": {\"colorbar\": {\"outlinewidth\": 0, \"ticks\": \"\"}}, \"marker\": {\"colorbar\": {\"outlinewidth\": 0, \"ticks\": \"\"}}, \"type\": \"scatter3d\"}], \"scattercarpet\": [{\"marker\": {\"colorbar\": {\"outlinewidth\": 0, \"ticks\": \"\"}}, \"type\": \"scattercarpet\"}], \"scattergeo\": [{\"marker\": {\"colorbar\": {\"outlinewidth\": 0, \"ticks\": \"\"}}, \"type\": \"scattergeo\"}], \"scattergl\": [{\"marker\": {\"colorbar\": {\"outlinewidth\": 0, \"ticks\": \"\"}}, \"type\": \"scattergl\"}], \"scattermapbox\": [{\"marker\": {\"colorbar\": {\"outlinewidth\": 0, \"ticks\": \"\"}}, \"type\": \"scattermapbox\"}], \"scatterpolar\": [{\"marker\": {\"colorbar\": {\"outlinewidth\": 0, \"ticks\": \"\"}}, \"type\": \"scatterpolar\"}], \"scatterpolargl\": [{\"marker\": {\"colorbar\": {\"outlinewidth\": 0, \"ticks\": \"\"}}, \"type\": \"scatterpolargl\"}], \"scatterternary\": [{\"marker\": {\"colorbar\": {\"outlinewidth\": 0, \"ticks\": \"\"}}, \"type\": \"scatterternary\"}], \"surface\": [{\"colorbar\": {\"outlinewidth\": 0, \"ticks\": \"\"}, \"colorscale\": [[0.0, \"#0d0887\"], [0.1111111111111111, \"#46039f\"], [0.2222222222222222, \"#7201a8\"], [0.3333333333333333, \"#9c179e\"], [0.4444444444444444, \"#bd3786\"], [0.5555555555555556, \"#d8576b\"], [0.6666666666666666, \"#ed7953\"], [0.7777777777777778, \"#fb9f3a\"], [0.8888888888888888, \"#fdca26\"], [1.0, \"#f0f921\"]], \"type\": \"surface\"}], \"table\": [{\"cells\": {\"fill\": {\"color\": \"#EBF0F8\"}, \"line\": {\"color\": \"white\"}}, \"header\": {\"fill\": {\"color\": \"#C8D4E3\"}, \"line\": {\"color\": \"white\"}}, \"type\": \"table\"}]}, \"layout\": {\"annotationdefaults\": {\"arrowcolor\": \"#2a3f5f\", \"arrowhead\": 0, \"arrowwidth\": 1}, \"autotypenumbers\": \"strict\", \"coloraxis\": {\"colorbar\": {\"outlinewidth\": 0, \"ticks\": \"\"}}, \"colorscale\": {\"diverging\": [[0, \"#8e0152\"], [0.1, \"#c51b7d\"], [0.2, \"#de77ae\"], [0.3, \"#f1b6da\"], [0.4, \"#fde0ef\"], [0.5, \"#f7f7f7\"], [0.6, \"#e6f5d0\"], [0.7, \"#b8e186\"], [0.8, \"#7fbc41\"], [0.9, \"#4d9221\"], [1, \"#276419\"]], \"sequential\": [[0.0, \"#0d0887\"], [0.1111111111111111, \"#46039f\"], [0.2222222222222222, \"#7201a8\"], [0.3333333333333333, \"#9c179e\"], [0.4444444444444444, \"#bd3786\"], [0.5555555555555556, \"#d8576b\"], [0.6666666666666666, \"#ed7953\"], [0.7777777777777778, \"#fb9f3a\"], [0.8888888888888888, \"#fdca26\"], [1.0, \"#f0f921\"]], \"sequentialminus\": [[0.0, \"#0d0887\"], [0.1111111111111111, \"#46039f\"], [0.2222222222222222, \"#7201a8\"], [0.3333333333333333, \"#9c179e\"], [0.4444444444444444, \"#bd3786\"], [0.5555555555555556, \"#d8576b\"], [0.6666666666666666, \"#ed7953\"], [0.7777777777777778, \"#fb9f3a\"], [0.8888888888888888, \"#fdca26\"], [1.0, \"#f0f921\"]]}, \"colorway\": [\"#636efa\", \"#EF553B\", \"#00cc96\", \"#ab63fa\", \"#FFA15A\", \"#19d3f3\", \"#FF6692\", \"#B6E880\", \"#FF97FF\", \"#FECB52\"], \"font\": {\"color\": \"#2a3f5f\"}, \"geo\": {\"bgcolor\": \"white\", \"lakecolor\": \"white\", \"landcolor\": \"#E5ECF6\", \"showlakes\": true, \"showland\": true, \"subunitcolor\": \"white\"}, \"hoverlabel\": {\"align\": \"left\"}, \"hovermode\": \"closest\", \"mapbox\": {\"style\": \"light\"}, \"paper_bgcolor\": \"white\", \"plot_bgcolor\": \"#E5ECF6\", \"polar\": {\"angularaxis\": {\"gridcolor\": \"white\", \"linecolor\": \"white\", \"ticks\": \"\"}, \"bgcolor\": \"#E5ECF6\", \"radialaxis\": {\"gridcolor\": \"white\", \"linecolor\": \"white\", \"ticks\": \"\"}}, \"scene\": {\"xaxis\": {\"backgroundcolor\": \"#E5ECF6\", \"gridcolor\": \"white\", \"gridwidth\": 2, \"linecolor\": \"white\", \"showbackground\": true, \"ticks\": \"\", \"zerolinecolor\": \"white\"}, \"yaxis\": {\"backgroundcolor\": \"#E5ECF6\", \"gridcolor\": \"white\", \"gridwidth\": 2, \"linecolor\": \"white\", \"showbackground\": true, \"ticks\": \"\", \"zerolinecolor\": \"white\"}, \"zaxis\": {\"backgroundcolor\": \"#E5ECF6\", \"gridcolor\": \"white\", \"gridwidth\": 2, \"linecolor\": \"white\", \"showbackground\": true, \"ticks\": \"\", \"zerolinecolor\": \"white\"}}, \"shapedefaults\": {\"line\": {\"color\": \"#2a3f5f\"}}, \"ternary\": {\"aaxis\": {\"gridcolor\": \"white\", \"linecolor\": \"white\", \"ticks\": \"\"}, \"baxis\": {\"gridcolor\": \"white\", \"linecolor\": \"white\", \"ticks\": \"\"}, \"bgcolor\": \"#E5ECF6\", \"caxis\": {\"gridcolor\": \"white\", \"linecolor\": \"white\", \"ticks\": \"\"}}, \"title\": {\"x\": 0.05}, \"xaxis\": {\"automargin\": true, \"gridcolor\": \"white\", \"linecolor\": \"white\", \"ticks\": \"\", \"title\": {\"standoff\": 15}, \"zerolinecolor\": \"white\", \"zerolinewidth\": 2}, \"yaxis\": {\"automargin\": true, \"gridcolor\": \"white\", \"linecolor\": \"white\", \"ticks\": \"\", \"title\": {\"standoff\": 15}, \"zerolinecolor\": \"white\", \"zerolinewidth\": 2}}}, \"title\": {\"text\": \"Posts on Medium (daily)\"}},                        {\"responsive\": true}                    ).then(function(){\n",
       "                            \n",
       "var gd = document.getElementById('5ffcf0cf-0e1f-4d57-9e89-46941f4b707d');\n",
       "var x = new MutationObserver(function (mutations, observer) {{\n",
       "        var display = window.getComputedStyle(gd).display;\n",
       "        if (!display || display === 'none') {{\n",
       "            console.log([gd, 'removed!']);\n",
       "            Plotly.purge(gd);\n",
       "            observer.disconnect();\n",
       "        }}\n",
       "}});\n",
       "\n",
       "// Listen for the removal of the full notebook cells\n",
       "var notebookContainer = gd.closest('#notebook-container');\n",
       "if (notebookContainer) {{\n",
       "    x.observe(notebookContainer, {childList: true});\n",
       "}}\n",
       "\n",
       "// Listen for the clearing of the current output cell\n",
       "var outputEl = gd.closest('.output');\n",
       "if (outputEl) {{\n",
       "    x.observe(outputEl, {childList: true});\n",
       "}}\n",
       "\n",
       "                        })                };                });            </script>        </div>"
      ]
     },
     "metadata": {},
     "output_type": "display_data"
    }
   ],
   "source": [
    "plotly_df(daily_df, title='Posts on Medium (daily)')"
   ]
  },
  {
   "cell_type": "code",
   "execution_count": 16,
   "id": "d054efea",
   "metadata": {},
   "outputs": [],
   "source": [
    "weekly_df = daily_df.resample('W').apply(sum)"
   ]
  },
  {
   "cell_type": "code",
   "execution_count": 17,
   "id": "52d9a5a7",
   "metadata": {},
   "outputs": [
    {
     "data": {
      "application/vnd.plotly.v1+json": {
       "config": {
        "linkText": "Export to plot.ly",
        "plotlyServerURL": "https://plot.ly",
        "showLink": false
       },
       "data": [
        {
         "mode": "lines",
         "name": "posts",
         "type": "scatter",
         "x": [
          "2012-08-19T00:00:00",
          "2012-08-26T00:00:00",
          "2012-09-02T00:00:00",
          "2012-09-09T00:00:00",
          "2012-09-16T00:00:00",
          "2012-09-23T00:00:00",
          "2012-09-30T00:00:00",
          "2012-10-07T00:00:00",
          "2012-10-14T00:00:00",
          "2012-10-21T00:00:00",
          "2012-10-28T00:00:00",
          "2012-11-04T00:00:00",
          "2012-11-11T00:00:00",
          "2012-11-18T00:00:00",
          "2012-11-25T00:00:00",
          "2012-12-02T00:00:00",
          "2012-12-09T00:00:00",
          "2012-12-16T00:00:00",
          "2012-12-23T00:00:00",
          "2012-12-30T00:00:00",
          "2013-01-06T00:00:00",
          "2013-01-13T00:00:00",
          "2013-01-20T00:00:00",
          "2013-01-27T00:00:00",
          "2013-02-03T00:00:00",
          "2013-02-10T00:00:00",
          "2013-02-17T00:00:00",
          "2013-02-24T00:00:00",
          "2013-03-03T00:00:00",
          "2013-03-10T00:00:00",
          "2013-03-17T00:00:00",
          "2013-03-24T00:00:00",
          "2013-03-31T00:00:00",
          "2013-04-07T00:00:00",
          "2013-04-14T00:00:00",
          "2013-04-21T00:00:00",
          "2013-04-28T00:00:00",
          "2013-05-05T00:00:00",
          "2013-05-12T00:00:00",
          "2013-05-19T00:00:00",
          "2013-05-26T00:00:00",
          "2013-06-02T00:00:00",
          "2013-06-09T00:00:00",
          "2013-06-16T00:00:00",
          "2013-06-23T00:00:00",
          "2013-06-30T00:00:00",
          "2013-07-07T00:00:00",
          "2013-07-14T00:00:00",
          "2013-07-21T00:00:00",
          "2013-07-28T00:00:00",
          "2013-08-04T00:00:00",
          "2013-08-11T00:00:00",
          "2013-08-18T00:00:00",
          "2013-08-25T00:00:00",
          "2013-09-01T00:00:00",
          "2013-09-08T00:00:00",
          "2013-09-15T00:00:00",
          "2013-09-22T00:00:00",
          "2013-09-29T00:00:00",
          "2013-10-06T00:00:00",
          "2013-10-13T00:00:00",
          "2013-10-20T00:00:00",
          "2013-10-27T00:00:00",
          "2013-11-03T00:00:00",
          "2013-11-10T00:00:00",
          "2013-11-17T00:00:00",
          "2013-11-24T00:00:00",
          "2013-12-01T00:00:00",
          "2013-12-08T00:00:00",
          "2013-12-15T00:00:00",
          "2013-12-22T00:00:00",
          "2013-12-29T00:00:00",
          "2014-01-05T00:00:00",
          "2014-01-12T00:00:00",
          "2014-01-19T00:00:00",
          "2014-01-26T00:00:00",
          "2014-02-02T00:00:00",
          "2014-02-09T00:00:00",
          "2014-02-16T00:00:00",
          "2014-02-23T00:00:00",
          "2014-03-02T00:00:00",
          "2014-03-09T00:00:00",
          "2014-03-16T00:00:00",
          "2014-03-23T00:00:00",
          "2014-03-30T00:00:00",
          "2014-04-06T00:00:00",
          "2014-04-13T00:00:00",
          "2014-04-20T00:00:00",
          "2014-04-27T00:00:00",
          "2014-05-04T00:00:00",
          "2014-05-11T00:00:00",
          "2014-05-18T00:00:00",
          "2014-05-25T00:00:00",
          "2014-06-01T00:00:00",
          "2014-06-08T00:00:00",
          "2014-06-15T00:00:00",
          "2014-06-22T00:00:00",
          "2014-06-29T00:00:00",
          "2014-07-06T00:00:00",
          "2014-07-13T00:00:00",
          "2014-07-20T00:00:00",
          "2014-07-27T00:00:00",
          "2014-08-03T00:00:00",
          "2014-08-10T00:00:00",
          "2014-08-17T00:00:00",
          "2014-08-24T00:00:00",
          "2014-08-31T00:00:00",
          "2014-09-07T00:00:00",
          "2014-09-14T00:00:00",
          "2014-09-21T00:00:00",
          "2014-09-28T00:00:00",
          "2014-10-05T00:00:00",
          "2014-10-12T00:00:00",
          "2014-10-19T00:00:00",
          "2014-10-26T00:00:00",
          "2014-11-02T00:00:00",
          "2014-11-09T00:00:00",
          "2014-11-16T00:00:00",
          "2014-11-23T00:00:00",
          "2014-11-30T00:00:00",
          "2014-12-07T00:00:00",
          "2014-12-14T00:00:00",
          "2014-12-21T00:00:00",
          "2014-12-28T00:00:00",
          "2015-01-04T00:00:00",
          "2015-01-11T00:00:00",
          "2015-01-18T00:00:00",
          "2015-01-25T00:00:00",
          "2015-02-01T00:00:00",
          "2015-02-08T00:00:00",
          "2015-02-15T00:00:00",
          "2015-02-22T00:00:00",
          "2015-03-01T00:00:00",
          "2015-03-08T00:00:00",
          "2015-03-15T00:00:00",
          "2015-03-22T00:00:00",
          "2015-03-29T00:00:00",
          "2015-04-05T00:00:00",
          "2015-04-12T00:00:00",
          "2015-04-19T00:00:00",
          "2015-04-26T00:00:00",
          "2015-05-03T00:00:00",
          "2015-05-10T00:00:00",
          "2015-05-17T00:00:00",
          "2015-05-24T00:00:00",
          "2015-05-31T00:00:00",
          "2015-06-07T00:00:00",
          "2015-06-14T00:00:00",
          "2015-06-21T00:00:00",
          "2015-06-28T00:00:00",
          "2015-07-05T00:00:00",
          "2015-07-12T00:00:00",
          "2015-07-19T00:00:00",
          "2015-07-26T00:00:00",
          "2015-08-02T00:00:00",
          "2015-08-09T00:00:00",
          "2015-08-16T00:00:00",
          "2015-08-23T00:00:00",
          "2015-08-30T00:00:00",
          "2015-09-06T00:00:00",
          "2015-09-13T00:00:00",
          "2015-09-20T00:00:00",
          "2015-09-27T00:00:00",
          "2015-10-04T00:00:00",
          "2015-10-11T00:00:00",
          "2015-10-18T00:00:00",
          "2015-10-25T00:00:00",
          "2015-11-01T00:00:00",
          "2015-11-08T00:00:00",
          "2015-11-15T00:00:00",
          "2015-11-22T00:00:00",
          "2015-11-29T00:00:00",
          "2015-12-06T00:00:00",
          "2015-12-13T00:00:00",
          "2015-12-20T00:00:00",
          "2015-12-27T00:00:00",
          "2016-01-03T00:00:00",
          "2016-01-10T00:00:00",
          "2016-01-17T00:00:00",
          "2016-01-24T00:00:00",
          "2016-01-31T00:00:00",
          "2016-02-07T00:00:00",
          "2016-02-14T00:00:00",
          "2016-02-21T00:00:00",
          "2016-02-28T00:00:00",
          "2016-03-06T00:00:00",
          "2016-03-13T00:00:00",
          "2016-03-20T00:00:00",
          "2016-03-27T00:00:00",
          "2016-04-03T00:00:00",
          "2016-04-10T00:00:00",
          "2016-04-17T00:00:00",
          "2016-04-24T00:00:00",
          "2016-05-01T00:00:00",
          "2016-05-08T00:00:00",
          "2016-05-15T00:00:00",
          "2016-05-22T00:00:00",
          "2016-05-29T00:00:00",
          "2016-06-05T00:00:00",
          "2016-06-12T00:00:00",
          "2016-06-19T00:00:00",
          "2016-06-26T00:00:00",
          "2016-07-03T00:00:00",
          "2016-07-10T00:00:00",
          "2016-07-17T00:00:00",
          "2016-07-24T00:00:00",
          "2016-07-31T00:00:00",
          "2016-08-07T00:00:00",
          "2016-08-14T00:00:00",
          "2016-08-21T00:00:00",
          "2016-08-28T00:00:00",
          "2016-09-04T00:00:00",
          "2016-09-11T00:00:00",
          "2016-09-18T00:00:00",
          "2016-09-25T00:00:00",
          "2016-10-02T00:00:00",
          "2016-10-09T00:00:00",
          "2016-10-16T00:00:00",
          "2016-10-23T00:00:00",
          "2016-10-30T00:00:00",
          "2016-11-06T00:00:00",
          "2016-11-13T00:00:00",
          "2016-11-20T00:00:00",
          "2016-11-27T00:00:00",
          "2016-12-04T00:00:00",
          "2016-12-11T00:00:00",
          "2016-12-18T00:00:00",
          "2016-12-25T00:00:00",
          "2017-01-01T00:00:00",
          "2017-01-08T00:00:00",
          "2017-01-15T00:00:00",
          "2017-01-22T00:00:00",
          "2017-01-29T00:00:00",
          "2017-02-05T00:00:00",
          "2017-02-12T00:00:00",
          "2017-02-19T00:00:00",
          "2017-02-26T00:00:00",
          "2017-03-05T00:00:00",
          "2017-03-12T00:00:00",
          "2017-03-19T00:00:00",
          "2017-03-26T00:00:00",
          "2017-04-02T00:00:00",
          "2017-04-09T00:00:00",
          "2017-04-16T00:00:00",
          "2017-04-23T00:00:00",
          "2017-04-30T00:00:00",
          "2017-05-07T00:00:00",
          "2017-05-14T00:00:00",
          "2017-05-21T00:00:00",
          "2017-05-28T00:00:00",
          "2017-06-04T00:00:00",
          "2017-06-11T00:00:00",
          "2017-06-18T00:00:00",
          "2017-06-25T00:00:00"
         ],
         "y": [
          34,
          4,
          1,
          3,
          4,
          2,
          1,
          1,
          3,
          3,
          3,
          3,
          2,
          17,
          6,
          5,
          5,
          5,
          2,
          3,
          6,
          5,
          5,
          4,
          9,
          5,
          8,
          8,
          9,
          4,
          9,
          10,
          13,
          10,
          17,
          18,
          16,
          24,
          24,
          19,
          23,
          28,
          27,
          40,
          35,
          27,
          32,
          20,
          34,
          25,
          30,
          26,
          34,
          42,
          32,
          27,
          33,
          37,
          38,
          32,
          31,
          35,
          46,
          39,
          39,
          41,
          56,
          34,
          40,
          42,
          35,
          22,
          40,
          52,
          45,
          47,
          62,
          48,
          56,
          52,
          39,
          53,
          38,
          71,
          57,
          42,
          61,
          46,
          54,
          62,
          54,
          58,
          57,
          68,
          57,
          54,
          53,
          57,
          58,
          55,
          53,
          51,
          52,
          57,
          65,
          62,
          65,
          58,
          59,
          56,
          73,
          75,
          78,
          93,
          97,
          97,
          85,
          84,
          71,
          81,
          88,
          86,
          97,
          74,
          110,
          128,
          128,
          132,
          120,
          118,
          138,
          107,
          173,
          144,
          151,
          152,
          132,
          159,
          147,
          131,
          132,
          169,
          162,
          170,
          179,
          169,
          192,
          191,
          180,
          199,
          189,
          196,
          229,
          188,
          212,
          214,
          268,
          280,
          250,
          270,
          281,
          259,
          285,
          308,
          416,
          395,
          421,
          419,
          431,
          409,
          351,
          297,
          350,
          407,
          379,
          284,
          383,
          492,
          511,
          457,
          500,
          554,
          556,
          554,
          630,
          610,
          602,
          566,
          595,
          555,
          563,
          570,
          535,
          560,
          538,
          551,
          559,
          505,
          564,
          603,
          669,
          663,
          654,
          660,
          701,
          650,
          737,
          712,
          653,
          690,
          698,
          696,
          664,
          764,
          753,
          788,
          800,
          848,
          845,
          862,
          856,
          1055,
          1002,
          879,
          886,
          1009,
          947,
          908,
          950,
          1073,
          1148,
          1127,
          1182,
          1318,
          1229,
          1226,
          1240,
          1311,
          1343,
          1305,
          1398,
          1424,
          1467,
          1469,
          1654,
          1746,
          1740,
          1726,
          2040,
          2000,
          2153,
          2007,
          2163,
          2639
         ]
        }
       ],
       "layout": {
        "template": {
         "data": {
          "bar": [
           {
            "error_x": {
             "color": "#2a3f5f"
            },
            "error_y": {
             "color": "#2a3f5f"
            },
            "marker": {
             "line": {
              "color": "#E5ECF6",
              "width": 0.5
             }
            },
            "type": "bar"
           }
          ],
          "barpolar": [
           {
            "marker": {
             "line": {
              "color": "#E5ECF6",
              "width": 0.5
             }
            },
            "type": "barpolar"
           }
          ],
          "carpet": [
           {
            "aaxis": {
             "endlinecolor": "#2a3f5f",
             "gridcolor": "white",
             "linecolor": "white",
             "minorgridcolor": "white",
             "startlinecolor": "#2a3f5f"
            },
            "baxis": {
             "endlinecolor": "#2a3f5f",
             "gridcolor": "white",
             "linecolor": "white",
             "minorgridcolor": "white",
             "startlinecolor": "#2a3f5f"
            },
            "type": "carpet"
           }
          ],
          "choropleth": [
           {
            "colorbar": {
             "outlinewidth": 0,
             "ticks": ""
            },
            "type": "choropleth"
           }
          ],
          "contour": [
           {
            "colorbar": {
             "outlinewidth": 0,
             "ticks": ""
            },
            "colorscale": [
             [
              0,
              "#0d0887"
             ],
             [
              0.1111111111111111,
              "#46039f"
             ],
             [
              0.2222222222222222,
              "#7201a8"
             ],
             [
              0.3333333333333333,
              "#9c179e"
             ],
             [
              0.4444444444444444,
              "#bd3786"
             ],
             [
              0.5555555555555556,
              "#d8576b"
             ],
             [
              0.6666666666666666,
              "#ed7953"
             ],
             [
              0.7777777777777778,
              "#fb9f3a"
             ],
             [
              0.8888888888888888,
              "#fdca26"
             ],
             [
              1,
              "#f0f921"
             ]
            ],
            "type": "contour"
           }
          ],
          "contourcarpet": [
           {
            "colorbar": {
             "outlinewidth": 0,
             "ticks": ""
            },
            "type": "contourcarpet"
           }
          ],
          "heatmap": [
           {
            "colorbar": {
             "outlinewidth": 0,
             "ticks": ""
            },
            "colorscale": [
             [
              0,
              "#0d0887"
             ],
             [
              0.1111111111111111,
              "#46039f"
             ],
             [
              0.2222222222222222,
              "#7201a8"
             ],
             [
              0.3333333333333333,
              "#9c179e"
             ],
             [
              0.4444444444444444,
              "#bd3786"
             ],
             [
              0.5555555555555556,
              "#d8576b"
             ],
             [
              0.6666666666666666,
              "#ed7953"
             ],
             [
              0.7777777777777778,
              "#fb9f3a"
             ],
             [
              0.8888888888888888,
              "#fdca26"
             ],
             [
              1,
              "#f0f921"
             ]
            ],
            "type": "heatmap"
           }
          ],
          "heatmapgl": [
           {
            "colorbar": {
             "outlinewidth": 0,
             "ticks": ""
            },
            "colorscale": [
             [
              0,
              "#0d0887"
             ],
             [
              0.1111111111111111,
              "#46039f"
             ],
             [
              0.2222222222222222,
              "#7201a8"
             ],
             [
              0.3333333333333333,
              "#9c179e"
             ],
             [
              0.4444444444444444,
              "#bd3786"
             ],
             [
              0.5555555555555556,
              "#d8576b"
             ],
             [
              0.6666666666666666,
              "#ed7953"
             ],
             [
              0.7777777777777778,
              "#fb9f3a"
             ],
             [
              0.8888888888888888,
              "#fdca26"
             ],
             [
              1,
              "#f0f921"
             ]
            ],
            "type": "heatmapgl"
           }
          ],
          "histogram": [
           {
            "marker": {
             "colorbar": {
              "outlinewidth": 0,
              "ticks": ""
             }
            },
            "type": "histogram"
           }
          ],
          "histogram2d": [
           {
            "colorbar": {
             "outlinewidth": 0,
             "ticks": ""
            },
            "colorscale": [
             [
              0,
              "#0d0887"
             ],
             [
              0.1111111111111111,
              "#46039f"
             ],
             [
              0.2222222222222222,
              "#7201a8"
             ],
             [
              0.3333333333333333,
              "#9c179e"
             ],
             [
              0.4444444444444444,
              "#bd3786"
             ],
             [
              0.5555555555555556,
              "#d8576b"
             ],
             [
              0.6666666666666666,
              "#ed7953"
             ],
             [
              0.7777777777777778,
              "#fb9f3a"
             ],
             [
              0.8888888888888888,
              "#fdca26"
             ],
             [
              1,
              "#f0f921"
             ]
            ],
            "type": "histogram2d"
           }
          ],
          "histogram2dcontour": [
           {
            "colorbar": {
             "outlinewidth": 0,
             "ticks": ""
            },
            "colorscale": [
             [
              0,
              "#0d0887"
             ],
             [
              0.1111111111111111,
              "#46039f"
             ],
             [
              0.2222222222222222,
              "#7201a8"
             ],
             [
              0.3333333333333333,
              "#9c179e"
             ],
             [
              0.4444444444444444,
              "#bd3786"
             ],
             [
              0.5555555555555556,
              "#d8576b"
             ],
             [
              0.6666666666666666,
              "#ed7953"
             ],
             [
              0.7777777777777778,
              "#fb9f3a"
             ],
             [
              0.8888888888888888,
              "#fdca26"
             ],
             [
              1,
              "#f0f921"
             ]
            ],
            "type": "histogram2dcontour"
           }
          ],
          "mesh3d": [
           {
            "colorbar": {
             "outlinewidth": 0,
             "ticks": ""
            },
            "type": "mesh3d"
           }
          ],
          "parcoords": [
           {
            "line": {
             "colorbar": {
              "outlinewidth": 0,
              "ticks": ""
             }
            },
            "type": "parcoords"
           }
          ],
          "pie": [
           {
            "automargin": true,
            "type": "pie"
           }
          ],
          "scatter": [
           {
            "marker": {
             "colorbar": {
              "outlinewidth": 0,
              "ticks": ""
             }
            },
            "type": "scatter"
           }
          ],
          "scatter3d": [
           {
            "line": {
             "colorbar": {
              "outlinewidth": 0,
              "ticks": ""
             }
            },
            "marker": {
             "colorbar": {
              "outlinewidth": 0,
              "ticks": ""
             }
            },
            "type": "scatter3d"
           }
          ],
          "scattercarpet": [
           {
            "marker": {
             "colorbar": {
              "outlinewidth": 0,
              "ticks": ""
             }
            },
            "type": "scattercarpet"
           }
          ],
          "scattergeo": [
           {
            "marker": {
             "colorbar": {
              "outlinewidth": 0,
              "ticks": ""
             }
            },
            "type": "scattergeo"
           }
          ],
          "scattergl": [
           {
            "marker": {
             "colorbar": {
              "outlinewidth": 0,
              "ticks": ""
             }
            },
            "type": "scattergl"
           }
          ],
          "scattermapbox": [
           {
            "marker": {
             "colorbar": {
              "outlinewidth": 0,
              "ticks": ""
             }
            },
            "type": "scattermapbox"
           }
          ],
          "scatterpolar": [
           {
            "marker": {
             "colorbar": {
              "outlinewidth": 0,
              "ticks": ""
             }
            },
            "type": "scatterpolar"
           }
          ],
          "scatterpolargl": [
           {
            "marker": {
             "colorbar": {
              "outlinewidth": 0,
              "ticks": ""
             }
            },
            "type": "scatterpolargl"
           }
          ],
          "scatterternary": [
           {
            "marker": {
             "colorbar": {
              "outlinewidth": 0,
              "ticks": ""
             }
            },
            "type": "scatterternary"
           }
          ],
          "surface": [
           {
            "colorbar": {
             "outlinewidth": 0,
             "ticks": ""
            },
            "colorscale": [
             [
              0,
              "#0d0887"
             ],
             [
              0.1111111111111111,
              "#46039f"
             ],
             [
              0.2222222222222222,
              "#7201a8"
             ],
             [
              0.3333333333333333,
              "#9c179e"
             ],
             [
              0.4444444444444444,
              "#bd3786"
             ],
             [
              0.5555555555555556,
              "#d8576b"
             ],
             [
              0.6666666666666666,
              "#ed7953"
             ],
             [
              0.7777777777777778,
              "#fb9f3a"
             ],
             [
              0.8888888888888888,
              "#fdca26"
             ],
             [
              1,
              "#f0f921"
             ]
            ],
            "type": "surface"
           }
          ],
          "table": [
           {
            "cells": {
             "fill": {
              "color": "#EBF0F8"
             },
             "line": {
              "color": "white"
             }
            },
            "header": {
             "fill": {
              "color": "#C8D4E3"
             },
             "line": {
              "color": "white"
             }
            },
            "type": "table"
           }
          ]
         },
         "layout": {
          "annotationdefaults": {
           "arrowcolor": "#2a3f5f",
           "arrowhead": 0,
           "arrowwidth": 1
          },
          "autotypenumbers": "strict",
          "coloraxis": {
           "colorbar": {
            "outlinewidth": 0,
            "ticks": ""
           }
          },
          "colorscale": {
           "diverging": [
            [
             0,
             "#8e0152"
            ],
            [
             0.1,
             "#c51b7d"
            ],
            [
             0.2,
             "#de77ae"
            ],
            [
             0.3,
             "#f1b6da"
            ],
            [
             0.4,
             "#fde0ef"
            ],
            [
             0.5,
             "#f7f7f7"
            ],
            [
             0.6,
             "#e6f5d0"
            ],
            [
             0.7,
             "#b8e186"
            ],
            [
             0.8,
             "#7fbc41"
            ],
            [
             0.9,
             "#4d9221"
            ],
            [
             1,
             "#276419"
            ]
           ],
           "sequential": [
            [
             0,
             "#0d0887"
            ],
            [
             0.1111111111111111,
             "#46039f"
            ],
            [
             0.2222222222222222,
             "#7201a8"
            ],
            [
             0.3333333333333333,
             "#9c179e"
            ],
            [
             0.4444444444444444,
             "#bd3786"
            ],
            [
             0.5555555555555556,
             "#d8576b"
            ],
            [
             0.6666666666666666,
             "#ed7953"
            ],
            [
             0.7777777777777778,
             "#fb9f3a"
            ],
            [
             0.8888888888888888,
             "#fdca26"
            ],
            [
             1,
             "#f0f921"
            ]
           ],
           "sequentialminus": [
            [
             0,
             "#0d0887"
            ],
            [
             0.1111111111111111,
             "#46039f"
            ],
            [
             0.2222222222222222,
             "#7201a8"
            ],
            [
             0.3333333333333333,
             "#9c179e"
            ],
            [
             0.4444444444444444,
             "#bd3786"
            ],
            [
             0.5555555555555556,
             "#d8576b"
            ],
            [
             0.6666666666666666,
             "#ed7953"
            ],
            [
             0.7777777777777778,
             "#fb9f3a"
            ],
            [
             0.8888888888888888,
             "#fdca26"
            ],
            [
             1,
             "#f0f921"
            ]
           ]
          },
          "colorway": [
           "#636efa",
           "#EF553B",
           "#00cc96",
           "#ab63fa",
           "#FFA15A",
           "#19d3f3",
           "#FF6692",
           "#B6E880",
           "#FF97FF",
           "#FECB52"
          ],
          "font": {
           "color": "#2a3f5f"
          },
          "geo": {
           "bgcolor": "white",
           "lakecolor": "white",
           "landcolor": "#E5ECF6",
           "showlakes": true,
           "showland": true,
           "subunitcolor": "white"
          },
          "hoverlabel": {
           "align": "left"
          },
          "hovermode": "closest",
          "mapbox": {
           "style": "light"
          },
          "paper_bgcolor": "white",
          "plot_bgcolor": "#E5ECF6",
          "polar": {
           "angularaxis": {
            "gridcolor": "white",
            "linecolor": "white",
            "ticks": ""
           },
           "bgcolor": "#E5ECF6",
           "radialaxis": {
            "gridcolor": "white",
            "linecolor": "white",
            "ticks": ""
           }
          },
          "scene": {
           "xaxis": {
            "backgroundcolor": "#E5ECF6",
            "gridcolor": "white",
            "gridwidth": 2,
            "linecolor": "white",
            "showbackground": true,
            "ticks": "",
            "zerolinecolor": "white"
           },
           "yaxis": {
            "backgroundcolor": "#E5ECF6",
            "gridcolor": "white",
            "gridwidth": 2,
            "linecolor": "white",
            "showbackground": true,
            "ticks": "",
            "zerolinecolor": "white"
           },
           "zaxis": {
            "backgroundcolor": "#E5ECF6",
            "gridcolor": "white",
            "gridwidth": 2,
            "linecolor": "white",
            "showbackground": true,
            "ticks": "",
            "zerolinecolor": "white"
           }
          },
          "shapedefaults": {
           "line": {
            "color": "#2a3f5f"
           }
          },
          "ternary": {
           "aaxis": {
            "gridcolor": "white",
            "linecolor": "white",
            "ticks": ""
           },
           "baxis": {
            "gridcolor": "white",
            "linecolor": "white",
            "ticks": ""
           },
           "bgcolor": "#E5ECF6",
           "caxis": {
            "gridcolor": "white",
            "linecolor": "white",
            "ticks": ""
           }
          },
          "title": {
           "x": 0.05
          },
          "xaxis": {
           "automargin": true,
           "gridcolor": "white",
           "linecolor": "white",
           "ticks": "",
           "title": {
            "standoff": 15
           },
           "zerolinecolor": "white",
           "zerolinewidth": 2
          },
          "yaxis": {
           "automargin": true,
           "gridcolor": "white",
           "linecolor": "white",
           "ticks": "",
           "title": {
            "standoff": 15
           },
           "zerolinecolor": "white",
           "zerolinewidth": 2
          }
         }
        },
        "title": {
         "text": "Posts on Medium (weekly)"
        }
       }
      },
      "text/html": [
       "<div>                            <div id=\"44561eb7-e017-4e83-9bf2-ce679b2350fe\" class=\"plotly-graph-div\" style=\"height:525px; width:100%;\"></div>            <script type=\"text/javascript\">                require([\"plotly\"], function(Plotly) {                    window.PLOTLYENV=window.PLOTLYENV || {};                                    if (document.getElementById(\"44561eb7-e017-4e83-9bf2-ce679b2350fe\")) {                    Plotly.newPlot(                        \"44561eb7-e017-4e83-9bf2-ce679b2350fe\",                        [{\"mode\": \"lines\", \"name\": \"posts\", \"type\": \"scatter\", \"x\": [\"2012-08-19T00:00:00\", \"2012-08-26T00:00:00\", \"2012-09-02T00:00:00\", \"2012-09-09T00:00:00\", \"2012-09-16T00:00:00\", \"2012-09-23T00:00:00\", \"2012-09-30T00:00:00\", \"2012-10-07T00:00:00\", \"2012-10-14T00:00:00\", \"2012-10-21T00:00:00\", \"2012-10-28T00:00:00\", \"2012-11-04T00:00:00\", \"2012-11-11T00:00:00\", \"2012-11-18T00:00:00\", \"2012-11-25T00:00:00\", \"2012-12-02T00:00:00\", \"2012-12-09T00:00:00\", \"2012-12-16T00:00:00\", \"2012-12-23T00:00:00\", \"2012-12-30T00:00:00\", \"2013-01-06T00:00:00\", \"2013-01-13T00:00:00\", \"2013-01-20T00:00:00\", \"2013-01-27T00:00:00\", \"2013-02-03T00:00:00\", \"2013-02-10T00:00:00\", \"2013-02-17T00:00:00\", \"2013-02-24T00:00:00\", \"2013-03-03T00:00:00\", \"2013-03-10T00:00:00\", \"2013-03-17T00:00:00\", \"2013-03-24T00:00:00\", \"2013-03-31T00:00:00\", \"2013-04-07T00:00:00\", \"2013-04-14T00:00:00\", \"2013-04-21T00:00:00\", \"2013-04-28T00:00:00\", \"2013-05-05T00:00:00\", \"2013-05-12T00:00:00\", \"2013-05-19T00:00:00\", \"2013-05-26T00:00:00\", \"2013-06-02T00:00:00\", \"2013-06-09T00:00:00\", \"2013-06-16T00:00:00\", \"2013-06-23T00:00:00\", \"2013-06-30T00:00:00\", \"2013-07-07T00:00:00\", \"2013-07-14T00:00:00\", \"2013-07-21T00:00:00\", \"2013-07-28T00:00:00\", \"2013-08-04T00:00:00\", \"2013-08-11T00:00:00\", \"2013-08-18T00:00:00\", \"2013-08-25T00:00:00\", \"2013-09-01T00:00:00\", \"2013-09-08T00:00:00\", \"2013-09-15T00:00:00\", \"2013-09-22T00:00:00\", \"2013-09-29T00:00:00\", \"2013-10-06T00:00:00\", \"2013-10-13T00:00:00\", \"2013-10-20T00:00:00\", \"2013-10-27T00:00:00\", \"2013-11-03T00:00:00\", \"2013-11-10T00:00:00\", \"2013-11-17T00:00:00\", \"2013-11-24T00:00:00\", \"2013-12-01T00:00:00\", \"2013-12-08T00:00:00\", \"2013-12-15T00:00:00\", \"2013-12-22T00:00:00\", \"2013-12-29T00:00:00\", \"2014-01-05T00:00:00\", \"2014-01-12T00:00:00\", \"2014-01-19T00:00:00\", \"2014-01-26T00:00:00\", \"2014-02-02T00:00:00\", \"2014-02-09T00:00:00\", \"2014-02-16T00:00:00\", \"2014-02-23T00:00:00\", \"2014-03-02T00:00:00\", \"2014-03-09T00:00:00\", \"2014-03-16T00:00:00\", \"2014-03-23T00:00:00\", \"2014-03-30T00:00:00\", \"2014-04-06T00:00:00\", \"2014-04-13T00:00:00\", \"2014-04-20T00:00:00\", \"2014-04-27T00:00:00\", \"2014-05-04T00:00:00\", \"2014-05-11T00:00:00\", \"2014-05-18T00:00:00\", \"2014-05-25T00:00:00\", \"2014-06-01T00:00:00\", \"2014-06-08T00:00:00\", \"2014-06-15T00:00:00\", \"2014-06-22T00:00:00\", \"2014-06-29T00:00:00\", \"2014-07-06T00:00:00\", \"2014-07-13T00:00:00\", \"2014-07-20T00:00:00\", \"2014-07-27T00:00:00\", \"2014-08-03T00:00:00\", \"2014-08-10T00:00:00\", \"2014-08-17T00:00:00\", \"2014-08-24T00:00:00\", \"2014-08-31T00:00:00\", \"2014-09-07T00:00:00\", \"2014-09-14T00:00:00\", \"2014-09-21T00:00:00\", \"2014-09-28T00:00:00\", \"2014-10-05T00:00:00\", \"2014-10-12T00:00:00\", \"2014-10-19T00:00:00\", \"2014-10-26T00:00:00\", \"2014-11-02T00:00:00\", \"2014-11-09T00:00:00\", \"2014-11-16T00:00:00\", \"2014-11-23T00:00:00\", \"2014-11-30T00:00:00\", \"2014-12-07T00:00:00\", \"2014-12-14T00:00:00\", \"2014-12-21T00:00:00\", \"2014-12-28T00:00:00\", \"2015-01-04T00:00:00\", \"2015-01-11T00:00:00\", \"2015-01-18T00:00:00\", \"2015-01-25T00:00:00\", \"2015-02-01T00:00:00\", \"2015-02-08T00:00:00\", \"2015-02-15T00:00:00\", \"2015-02-22T00:00:00\", \"2015-03-01T00:00:00\", \"2015-03-08T00:00:00\", \"2015-03-15T00:00:00\", \"2015-03-22T00:00:00\", \"2015-03-29T00:00:00\", \"2015-04-05T00:00:00\", \"2015-04-12T00:00:00\", \"2015-04-19T00:00:00\", \"2015-04-26T00:00:00\", \"2015-05-03T00:00:00\", \"2015-05-10T00:00:00\", \"2015-05-17T00:00:00\", \"2015-05-24T00:00:00\", \"2015-05-31T00:00:00\", \"2015-06-07T00:00:00\", \"2015-06-14T00:00:00\", \"2015-06-21T00:00:00\", \"2015-06-28T00:00:00\", \"2015-07-05T00:00:00\", \"2015-07-12T00:00:00\", \"2015-07-19T00:00:00\", \"2015-07-26T00:00:00\", \"2015-08-02T00:00:00\", \"2015-08-09T00:00:00\", \"2015-08-16T00:00:00\", \"2015-08-23T00:00:00\", \"2015-08-30T00:00:00\", \"2015-09-06T00:00:00\", \"2015-09-13T00:00:00\", \"2015-09-20T00:00:00\", \"2015-09-27T00:00:00\", \"2015-10-04T00:00:00\", \"2015-10-11T00:00:00\", \"2015-10-18T00:00:00\", \"2015-10-25T00:00:00\", \"2015-11-01T00:00:00\", \"2015-11-08T00:00:00\", \"2015-11-15T00:00:00\", \"2015-11-22T00:00:00\", \"2015-11-29T00:00:00\", \"2015-12-06T00:00:00\", \"2015-12-13T00:00:00\", \"2015-12-20T00:00:00\", \"2015-12-27T00:00:00\", \"2016-01-03T00:00:00\", \"2016-01-10T00:00:00\", \"2016-01-17T00:00:00\", \"2016-01-24T00:00:00\", \"2016-01-31T00:00:00\", \"2016-02-07T00:00:00\", \"2016-02-14T00:00:00\", \"2016-02-21T00:00:00\", \"2016-02-28T00:00:00\", \"2016-03-06T00:00:00\", \"2016-03-13T00:00:00\", \"2016-03-20T00:00:00\", \"2016-03-27T00:00:00\", \"2016-04-03T00:00:00\", \"2016-04-10T00:00:00\", \"2016-04-17T00:00:00\", \"2016-04-24T00:00:00\", \"2016-05-01T00:00:00\", \"2016-05-08T00:00:00\", \"2016-05-15T00:00:00\", \"2016-05-22T00:00:00\", \"2016-05-29T00:00:00\", \"2016-06-05T00:00:00\", \"2016-06-12T00:00:00\", \"2016-06-19T00:00:00\", \"2016-06-26T00:00:00\", \"2016-07-03T00:00:00\", \"2016-07-10T00:00:00\", \"2016-07-17T00:00:00\", \"2016-07-24T00:00:00\", \"2016-07-31T00:00:00\", \"2016-08-07T00:00:00\", \"2016-08-14T00:00:00\", \"2016-08-21T00:00:00\", \"2016-08-28T00:00:00\", \"2016-09-04T00:00:00\", \"2016-09-11T00:00:00\", \"2016-09-18T00:00:00\", \"2016-09-25T00:00:00\", \"2016-10-02T00:00:00\", \"2016-10-09T00:00:00\", \"2016-10-16T00:00:00\", \"2016-10-23T00:00:00\", \"2016-10-30T00:00:00\", \"2016-11-06T00:00:00\", \"2016-11-13T00:00:00\", \"2016-11-20T00:00:00\", \"2016-11-27T00:00:00\", \"2016-12-04T00:00:00\", \"2016-12-11T00:00:00\", \"2016-12-18T00:00:00\", \"2016-12-25T00:00:00\", \"2017-01-01T00:00:00\", \"2017-01-08T00:00:00\", \"2017-01-15T00:00:00\", \"2017-01-22T00:00:00\", \"2017-01-29T00:00:00\", \"2017-02-05T00:00:00\", \"2017-02-12T00:00:00\", \"2017-02-19T00:00:00\", \"2017-02-26T00:00:00\", \"2017-03-05T00:00:00\", \"2017-03-12T00:00:00\", \"2017-03-19T00:00:00\", \"2017-03-26T00:00:00\", \"2017-04-02T00:00:00\", \"2017-04-09T00:00:00\", \"2017-04-16T00:00:00\", \"2017-04-23T00:00:00\", \"2017-04-30T00:00:00\", \"2017-05-07T00:00:00\", \"2017-05-14T00:00:00\", \"2017-05-21T00:00:00\", \"2017-05-28T00:00:00\", \"2017-06-04T00:00:00\", \"2017-06-11T00:00:00\", \"2017-06-18T00:00:00\", \"2017-06-25T00:00:00\"], \"y\": [34, 4, 1, 3, 4, 2, 1, 1, 3, 3, 3, 3, 2, 17, 6, 5, 5, 5, 2, 3, 6, 5, 5, 4, 9, 5, 8, 8, 9, 4, 9, 10, 13, 10, 17, 18, 16, 24, 24, 19, 23, 28, 27, 40, 35, 27, 32, 20, 34, 25, 30, 26, 34, 42, 32, 27, 33, 37, 38, 32, 31, 35, 46, 39, 39, 41, 56, 34, 40, 42, 35, 22, 40, 52, 45, 47, 62, 48, 56, 52, 39, 53, 38, 71, 57, 42, 61, 46, 54, 62, 54, 58, 57, 68, 57, 54, 53, 57, 58, 55, 53, 51, 52, 57, 65, 62, 65, 58, 59, 56, 73, 75, 78, 93, 97, 97, 85, 84, 71, 81, 88, 86, 97, 74, 110, 128, 128, 132, 120, 118, 138, 107, 173, 144, 151, 152, 132, 159, 147, 131, 132, 169, 162, 170, 179, 169, 192, 191, 180, 199, 189, 196, 229, 188, 212, 214, 268, 280, 250, 270, 281, 259, 285, 308, 416, 395, 421, 419, 431, 409, 351, 297, 350, 407, 379, 284, 383, 492, 511, 457, 500, 554, 556, 554, 630, 610, 602, 566, 595, 555, 563, 570, 535, 560, 538, 551, 559, 505, 564, 603, 669, 663, 654, 660, 701, 650, 737, 712, 653, 690, 698, 696, 664, 764, 753, 788, 800, 848, 845, 862, 856, 1055, 1002, 879, 886, 1009, 947, 908, 950, 1073, 1148, 1127, 1182, 1318, 1229, 1226, 1240, 1311, 1343, 1305, 1398, 1424, 1467, 1469, 1654, 1746, 1740, 1726, 2040, 2000, 2153, 2007, 2163, 2639]}],                        {\"template\": {\"data\": {\"bar\": [{\"error_x\": {\"color\": \"#2a3f5f\"}, \"error_y\": {\"color\": \"#2a3f5f\"}, \"marker\": {\"line\": {\"color\": \"#E5ECF6\", \"width\": 0.5}}, \"type\": \"bar\"}], \"barpolar\": [{\"marker\": {\"line\": {\"color\": \"#E5ECF6\", \"width\": 0.5}}, \"type\": \"barpolar\"}], \"carpet\": [{\"aaxis\": {\"endlinecolor\": \"#2a3f5f\", \"gridcolor\": \"white\", \"linecolor\": \"white\", \"minorgridcolor\": \"white\", \"startlinecolor\": \"#2a3f5f\"}, \"baxis\": {\"endlinecolor\": \"#2a3f5f\", \"gridcolor\": \"white\", \"linecolor\": \"white\", \"minorgridcolor\": \"white\", \"startlinecolor\": \"#2a3f5f\"}, \"type\": \"carpet\"}], \"choropleth\": [{\"colorbar\": {\"outlinewidth\": 0, \"ticks\": \"\"}, \"type\": \"choropleth\"}], \"contour\": [{\"colorbar\": {\"outlinewidth\": 0, \"ticks\": \"\"}, \"colorscale\": [[0.0, \"#0d0887\"], [0.1111111111111111, \"#46039f\"], [0.2222222222222222, \"#7201a8\"], [0.3333333333333333, \"#9c179e\"], [0.4444444444444444, \"#bd3786\"], [0.5555555555555556, \"#d8576b\"], [0.6666666666666666, \"#ed7953\"], [0.7777777777777778, \"#fb9f3a\"], [0.8888888888888888, \"#fdca26\"], [1.0, \"#f0f921\"]], \"type\": \"contour\"}], \"contourcarpet\": [{\"colorbar\": {\"outlinewidth\": 0, \"ticks\": \"\"}, \"type\": \"contourcarpet\"}], \"heatmap\": [{\"colorbar\": {\"outlinewidth\": 0, \"ticks\": \"\"}, \"colorscale\": [[0.0, \"#0d0887\"], [0.1111111111111111, \"#46039f\"], [0.2222222222222222, \"#7201a8\"], [0.3333333333333333, \"#9c179e\"], [0.4444444444444444, \"#bd3786\"], [0.5555555555555556, \"#d8576b\"], [0.6666666666666666, \"#ed7953\"], [0.7777777777777778, \"#fb9f3a\"], [0.8888888888888888, \"#fdca26\"], [1.0, \"#f0f921\"]], \"type\": \"heatmap\"}], \"heatmapgl\": [{\"colorbar\": {\"outlinewidth\": 0, \"ticks\": \"\"}, \"colorscale\": [[0.0, \"#0d0887\"], [0.1111111111111111, \"#46039f\"], [0.2222222222222222, \"#7201a8\"], [0.3333333333333333, \"#9c179e\"], [0.4444444444444444, \"#bd3786\"], [0.5555555555555556, \"#d8576b\"], [0.6666666666666666, \"#ed7953\"], [0.7777777777777778, \"#fb9f3a\"], [0.8888888888888888, \"#fdca26\"], [1.0, \"#f0f921\"]], \"type\": \"heatmapgl\"}], \"histogram\": [{\"marker\": {\"colorbar\": {\"outlinewidth\": 0, \"ticks\": \"\"}}, \"type\": \"histogram\"}], \"histogram2d\": [{\"colorbar\": {\"outlinewidth\": 0, \"ticks\": \"\"}, \"colorscale\": [[0.0, \"#0d0887\"], [0.1111111111111111, \"#46039f\"], [0.2222222222222222, \"#7201a8\"], [0.3333333333333333, \"#9c179e\"], [0.4444444444444444, \"#bd3786\"], [0.5555555555555556, \"#d8576b\"], [0.6666666666666666, \"#ed7953\"], [0.7777777777777778, \"#fb9f3a\"], [0.8888888888888888, \"#fdca26\"], [1.0, \"#f0f921\"]], \"type\": \"histogram2d\"}], \"histogram2dcontour\": [{\"colorbar\": {\"outlinewidth\": 0, \"ticks\": \"\"}, \"colorscale\": [[0.0, \"#0d0887\"], [0.1111111111111111, \"#46039f\"], [0.2222222222222222, \"#7201a8\"], [0.3333333333333333, \"#9c179e\"], [0.4444444444444444, \"#bd3786\"], [0.5555555555555556, \"#d8576b\"], [0.6666666666666666, \"#ed7953\"], [0.7777777777777778, \"#fb9f3a\"], [0.8888888888888888, \"#fdca26\"], [1.0, \"#f0f921\"]], \"type\": \"histogram2dcontour\"}], \"mesh3d\": [{\"colorbar\": {\"outlinewidth\": 0, \"ticks\": \"\"}, \"type\": \"mesh3d\"}], \"parcoords\": [{\"line\": {\"colorbar\": {\"outlinewidth\": 0, \"ticks\": \"\"}}, \"type\": \"parcoords\"}], \"pie\": [{\"automargin\": true, \"type\": \"pie\"}], \"scatter\": [{\"marker\": {\"colorbar\": {\"outlinewidth\": 0, \"ticks\": \"\"}}, \"type\": \"scatter\"}], \"scatter3d\": [{\"line\": {\"colorbar\": {\"outlinewidth\": 0, \"ticks\": \"\"}}, \"marker\": {\"colorbar\": {\"outlinewidth\": 0, \"ticks\": \"\"}}, \"type\": \"scatter3d\"}], \"scattercarpet\": [{\"marker\": {\"colorbar\": {\"outlinewidth\": 0, \"ticks\": \"\"}}, \"type\": \"scattercarpet\"}], \"scattergeo\": [{\"marker\": {\"colorbar\": {\"outlinewidth\": 0, \"ticks\": \"\"}}, \"type\": \"scattergeo\"}], \"scattergl\": [{\"marker\": {\"colorbar\": {\"outlinewidth\": 0, \"ticks\": \"\"}}, \"type\": \"scattergl\"}], \"scattermapbox\": [{\"marker\": {\"colorbar\": {\"outlinewidth\": 0, \"ticks\": \"\"}}, \"type\": \"scattermapbox\"}], \"scatterpolar\": [{\"marker\": {\"colorbar\": {\"outlinewidth\": 0, \"ticks\": \"\"}}, \"type\": \"scatterpolar\"}], \"scatterpolargl\": [{\"marker\": {\"colorbar\": {\"outlinewidth\": 0, \"ticks\": \"\"}}, \"type\": \"scatterpolargl\"}], \"scatterternary\": [{\"marker\": {\"colorbar\": {\"outlinewidth\": 0, \"ticks\": \"\"}}, \"type\": \"scatterternary\"}], \"surface\": [{\"colorbar\": {\"outlinewidth\": 0, \"ticks\": \"\"}, \"colorscale\": [[0.0, \"#0d0887\"], [0.1111111111111111, \"#46039f\"], [0.2222222222222222, \"#7201a8\"], [0.3333333333333333, \"#9c179e\"], [0.4444444444444444, \"#bd3786\"], [0.5555555555555556, \"#d8576b\"], [0.6666666666666666, \"#ed7953\"], [0.7777777777777778, \"#fb9f3a\"], [0.8888888888888888, \"#fdca26\"], [1.0, \"#f0f921\"]], \"type\": \"surface\"}], \"table\": [{\"cells\": {\"fill\": {\"color\": \"#EBF0F8\"}, \"line\": {\"color\": \"white\"}}, \"header\": {\"fill\": {\"color\": \"#C8D4E3\"}, \"line\": {\"color\": \"white\"}}, \"type\": \"table\"}]}, \"layout\": {\"annotationdefaults\": {\"arrowcolor\": \"#2a3f5f\", \"arrowhead\": 0, \"arrowwidth\": 1}, \"autotypenumbers\": \"strict\", \"coloraxis\": {\"colorbar\": {\"outlinewidth\": 0, \"ticks\": \"\"}}, \"colorscale\": {\"diverging\": [[0, \"#8e0152\"], [0.1, \"#c51b7d\"], [0.2, \"#de77ae\"], [0.3, \"#f1b6da\"], [0.4, \"#fde0ef\"], [0.5, \"#f7f7f7\"], [0.6, \"#e6f5d0\"], [0.7, \"#b8e186\"], [0.8, \"#7fbc41\"], [0.9, \"#4d9221\"], [1, \"#276419\"]], \"sequential\": [[0.0, \"#0d0887\"], [0.1111111111111111, \"#46039f\"], [0.2222222222222222, \"#7201a8\"], [0.3333333333333333, \"#9c179e\"], [0.4444444444444444, \"#bd3786\"], [0.5555555555555556, \"#d8576b\"], [0.6666666666666666, \"#ed7953\"], [0.7777777777777778, \"#fb9f3a\"], [0.8888888888888888, \"#fdca26\"], [1.0, \"#f0f921\"]], \"sequentialminus\": [[0.0, \"#0d0887\"], [0.1111111111111111, \"#46039f\"], [0.2222222222222222, \"#7201a8\"], [0.3333333333333333, \"#9c179e\"], [0.4444444444444444, \"#bd3786\"], [0.5555555555555556, \"#d8576b\"], [0.6666666666666666, \"#ed7953\"], [0.7777777777777778, \"#fb9f3a\"], [0.8888888888888888, \"#fdca26\"], [1.0, \"#f0f921\"]]}, \"colorway\": [\"#636efa\", \"#EF553B\", \"#00cc96\", \"#ab63fa\", \"#FFA15A\", \"#19d3f3\", \"#FF6692\", \"#B6E880\", \"#FF97FF\", \"#FECB52\"], \"font\": {\"color\": \"#2a3f5f\"}, \"geo\": {\"bgcolor\": \"white\", \"lakecolor\": \"white\", \"landcolor\": \"#E5ECF6\", \"showlakes\": true, \"showland\": true, \"subunitcolor\": \"white\"}, \"hoverlabel\": {\"align\": \"left\"}, \"hovermode\": \"closest\", \"mapbox\": {\"style\": \"light\"}, \"paper_bgcolor\": \"white\", \"plot_bgcolor\": \"#E5ECF6\", \"polar\": {\"angularaxis\": {\"gridcolor\": \"white\", \"linecolor\": \"white\", \"ticks\": \"\"}, \"bgcolor\": \"#E5ECF6\", \"radialaxis\": {\"gridcolor\": \"white\", \"linecolor\": \"white\", \"ticks\": \"\"}}, \"scene\": {\"xaxis\": {\"backgroundcolor\": \"#E5ECF6\", \"gridcolor\": \"white\", \"gridwidth\": 2, \"linecolor\": \"white\", \"showbackground\": true, \"ticks\": \"\", \"zerolinecolor\": \"white\"}, \"yaxis\": {\"backgroundcolor\": \"#E5ECF6\", \"gridcolor\": \"white\", \"gridwidth\": 2, \"linecolor\": \"white\", \"showbackground\": true, \"ticks\": \"\", \"zerolinecolor\": \"white\"}, \"zaxis\": {\"backgroundcolor\": \"#E5ECF6\", \"gridcolor\": \"white\", \"gridwidth\": 2, \"linecolor\": \"white\", \"showbackground\": true, \"ticks\": \"\", \"zerolinecolor\": \"white\"}}, \"shapedefaults\": {\"line\": {\"color\": \"#2a3f5f\"}}, \"ternary\": {\"aaxis\": {\"gridcolor\": \"white\", \"linecolor\": \"white\", \"ticks\": \"\"}, \"baxis\": {\"gridcolor\": \"white\", \"linecolor\": \"white\", \"ticks\": \"\"}, \"bgcolor\": \"#E5ECF6\", \"caxis\": {\"gridcolor\": \"white\", \"linecolor\": \"white\", \"ticks\": \"\"}}, \"title\": {\"x\": 0.05}, \"xaxis\": {\"automargin\": true, \"gridcolor\": \"white\", \"linecolor\": \"white\", \"ticks\": \"\", \"title\": {\"standoff\": 15}, \"zerolinecolor\": \"white\", \"zerolinewidth\": 2}, \"yaxis\": {\"automargin\": true, \"gridcolor\": \"white\", \"linecolor\": \"white\", \"ticks\": \"\", \"title\": {\"standoff\": 15}, \"zerolinecolor\": \"white\", \"zerolinewidth\": 2}}}, \"title\": {\"text\": \"Posts on Medium (weekly)\"}},                        {\"responsive\": true}                    ).then(function(){\n",
       "                            \n",
       "var gd = document.getElementById('44561eb7-e017-4e83-9bf2-ce679b2350fe');\n",
       "var x = new MutationObserver(function (mutations, observer) {{\n",
       "        var display = window.getComputedStyle(gd).display;\n",
       "        if (!display || display === 'none') {{\n",
       "            console.log([gd, 'removed!']);\n",
       "            Plotly.purge(gd);\n",
       "            observer.disconnect();\n",
       "        }}\n",
       "}});\n",
       "\n",
       "// Listen for the removal of the full notebook cells\n",
       "var notebookContainer = gd.closest('#notebook-container');\n",
       "if (notebookContainer) {{\n",
       "    x.observe(notebookContainer, {childList: true});\n",
       "}}\n",
       "\n",
       "// Listen for the clearing of the current output cell\n",
       "var outputEl = gd.closest('.output');\n",
       "if (outputEl) {{\n",
       "    x.observe(outputEl, {childList: true});\n",
       "}}\n",
       "\n",
       "                        })                };                });            </script>        </div>"
      ]
     },
     "metadata": {},
     "output_type": "display_data"
    }
   ],
   "source": [
    "plotly_df(weekly_df, title='Posts on Medium (weekly)')"
   ]
  },
  {
   "cell_type": "code",
   "execution_count": 18,
   "id": "cd73d0e3",
   "metadata": {},
   "outputs": [
    {
     "data": {
      "text/html": [
       "<div>\n",
       "<style scoped>\n",
       "    .dataframe tbody tr th:only-of-type {\n",
       "        vertical-align: middle;\n",
       "    }\n",
       "\n",
       "    .dataframe tbody tr th {\n",
       "        vertical-align: top;\n",
       "    }\n",
       "\n",
       "    .dataframe thead th {\n",
       "        text-align: right;\n",
       "    }\n",
       "</style>\n",
       "<table border=\"1\" class=\"dataframe\">\n",
       "  <thead>\n",
       "    <tr style=\"text-align: right;\">\n",
       "      <th></th>\n",
       "      <th>posts</th>\n",
       "    </tr>\n",
       "    <tr>\n",
       "      <th>published</th>\n",
       "      <th></th>\n",
       "    </tr>\n",
       "  </thead>\n",
       "  <tbody>\n",
       "    <tr>\n",
       "      <th>2015-01-01</th>\n",
       "      <td>8</td>\n",
       "    </tr>\n",
       "    <tr>\n",
       "      <th>2015-01-02</th>\n",
       "      <td>11</td>\n",
       "    </tr>\n",
       "    <tr>\n",
       "      <th>2015-01-03</th>\n",
       "      <td>11</td>\n",
       "    </tr>\n",
       "  </tbody>\n",
       "</table>\n",
       "</div>"
      ],
      "text/plain": [
       "            posts\n",
       "published        \n",
       "2015-01-01      8\n",
       "2015-01-02     11\n",
       "2015-01-03     11"
      ]
     },
     "execution_count": 18,
     "metadata": {},
     "output_type": "execute_result"
    }
   ],
   "source": [
    "daily_df = daily_df.loc[daily_df.index >= '2015-01-01']\n",
    "daily_df.head(n=3)"
   ]
  },
  {
   "cell_type": "code",
   "execution_count": 19,
   "id": "fcce22a6",
   "metadata": {},
   "outputs": [
    {
     "data": {
      "text/html": [
       "<div>\n",
       "<style scoped>\n",
       "    .dataframe tbody tr th:only-of-type {\n",
       "        vertical-align: middle;\n",
       "    }\n",
       "\n",
       "    .dataframe tbody tr th {\n",
       "        vertical-align: top;\n",
       "    }\n",
       "\n",
       "    .dataframe thead th {\n",
       "        text-align: right;\n",
       "    }\n",
       "</style>\n",
       "<table border=\"1\" class=\"dataframe\">\n",
       "  <thead>\n",
       "    <tr style=\"text-align: right;\">\n",
       "      <th></th>\n",
       "      <th>ds</th>\n",
       "      <th>y</th>\n",
       "    </tr>\n",
       "  </thead>\n",
       "  <tbody>\n",
       "    <tr>\n",
       "      <th>904</th>\n",
       "      <td>2017-06-23</td>\n",
       "      <td>421</td>\n",
       "    </tr>\n",
       "    <tr>\n",
       "      <th>905</th>\n",
       "      <td>2017-06-24</td>\n",
       "      <td>277</td>\n",
       "    </tr>\n",
       "    <tr>\n",
       "      <th>906</th>\n",
       "      <td>2017-06-25</td>\n",
       "      <td>253</td>\n",
       "    </tr>\n",
       "  </tbody>\n",
       "</table>\n",
       "</div>"
      ],
      "text/plain": [
       "            ds    y\n",
       "904 2017-06-23  421\n",
       "905 2017-06-24  277\n",
       "906 2017-06-25  253"
      ]
     },
     "execution_count": 19,
     "metadata": {},
     "output_type": "execute_result"
    }
   ],
   "source": [
    "df = daily_df.reset_index()\n",
    "df.columns = ['ds', 'y']\n",
    "df.tail(n=3)"
   ]
  },
  {
   "cell_type": "code",
   "execution_count": 20,
   "id": "bccf53c8",
   "metadata": {},
   "outputs": [
    {
     "data": {
      "text/html": [
       "<div>\n",
       "<style scoped>\n",
       "    .dataframe tbody tr th:only-of-type {\n",
       "        vertical-align: middle;\n",
       "    }\n",
       "\n",
       "    .dataframe tbody tr th {\n",
       "        vertical-align: top;\n",
       "    }\n",
       "\n",
       "    .dataframe thead th {\n",
       "        text-align: right;\n",
       "    }\n",
       "</style>\n",
       "<table border=\"1\" class=\"dataframe\">\n",
       "  <thead>\n",
       "    <tr style=\"text-align: right;\">\n",
       "      <th></th>\n",
       "      <th>ds</th>\n",
       "      <th>y</th>\n",
       "    </tr>\n",
       "  </thead>\n",
       "  <tbody>\n",
       "    <tr>\n",
       "      <th>874</th>\n",
       "      <td>2017-05-24</td>\n",
       "      <td>375</td>\n",
       "    </tr>\n",
       "    <tr>\n",
       "      <th>875</th>\n",
       "      <td>2017-05-25</td>\n",
       "      <td>298</td>\n",
       "    </tr>\n",
       "    <tr>\n",
       "      <th>876</th>\n",
       "      <td>2017-05-26</td>\n",
       "      <td>269</td>\n",
       "    </tr>\n",
       "  </tbody>\n",
       "</table>\n",
       "</div>"
      ],
      "text/plain": [
       "            ds    y\n",
       "874 2017-05-24  375\n",
       "875 2017-05-25  298\n",
       "876 2017-05-26  269"
      ]
     },
     "execution_count": 20,
     "metadata": {},
     "output_type": "execute_result"
    }
   ],
   "source": [
    "prediction_size = 30\n",
    "train_df = df[:-prediction_size]\n",
    "train_df.tail(n=3)"
   ]
  },
  {
   "cell_type": "code",
   "execution_count": 21,
   "id": "fac7765e",
   "metadata": {},
   "outputs": [
    {
     "name": "stderr",
     "output_type": "stream",
     "text": [
      "INFO:fbprophet:Disabling daily seasonality. Run prophet with daily_seasonality=True to override this.\n"
     ]
    }
   ],
   "source": [
    "m = Prophet()\n",
    "m.fit(train_df);"
   ]
  },
  {
   "cell_type": "code",
   "execution_count": 22,
   "id": "318680a8",
   "metadata": {},
   "outputs": [
    {
     "data": {
      "text/html": [
       "<div>\n",
       "<style scoped>\n",
       "    .dataframe tbody tr th:only-of-type {\n",
       "        vertical-align: middle;\n",
       "    }\n",
       "\n",
       "    .dataframe tbody tr th {\n",
       "        vertical-align: top;\n",
       "    }\n",
       "\n",
       "    .dataframe thead th {\n",
       "        text-align: right;\n",
       "    }\n",
       "</style>\n",
       "<table border=\"1\" class=\"dataframe\">\n",
       "  <thead>\n",
       "    <tr style=\"text-align: right;\">\n",
       "      <th></th>\n",
       "      <th>ds</th>\n",
       "    </tr>\n",
       "  </thead>\n",
       "  <tbody>\n",
       "    <tr>\n",
       "      <th>904</th>\n",
       "      <td>2017-06-23</td>\n",
       "    </tr>\n",
       "    <tr>\n",
       "      <th>905</th>\n",
       "      <td>2017-06-24</td>\n",
       "    </tr>\n",
       "    <tr>\n",
       "      <th>906</th>\n",
       "      <td>2017-06-25</td>\n",
       "    </tr>\n",
       "  </tbody>\n",
       "</table>\n",
       "</div>"
      ],
      "text/plain": [
       "            ds\n",
       "904 2017-06-23\n",
       "905 2017-06-24\n",
       "906 2017-06-25"
      ]
     },
     "execution_count": 22,
     "metadata": {},
     "output_type": "execute_result"
    }
   ],
   "source": [
    "future = m.make_future_dataframe(periods=prediction_size)\n",
    "future.tail(n=3)"
   ]
  },
  {
   "cell_type": "code",
   "execution_count": 23,
   "id": "8f2dcd32",
   "metadata": {},
   "outputs": [
    {
     "data": {
      "text/html": [
       "<div>\n",
       "<style scoped>\n",
       "    .dataframe tbody tr th:only-of-type {\n",
       "        vertical-align: middle;\n",
       "    }\n",
       "\n",
       "    .dataframe tbody tr th {\n",
       "        vertical-align: top;\n",
       "    }\n",
       "\n",
       "    .dataframe thead th {\n",
       "        text-align: right;\n",
       "    }\n",
       "</style>\n",
       "<table border=\"1\" class=\"dataframe\">\n",
       "  <thead>\n",
       "    <tr style=\"text-align: right;\">\n",
       "      <th></th>\n",
       "      <th>ds</th>\n",
       "      <th>trend</th>\n",
       "      <th>yhat_lower</th>\n",
       "      <th>yhat_upper</th>\n",
       "      <th>trend_lower</th>\n",
       "      <th>trend_upper</th>\n",
       "      <th>additive_terms</th>\n",
       "      <th>additive_terms_lower</th>\n",
       "      <th>additive_terms_upper</th>\n",
       "      <th>weekly</th>\n",
       "      <th>weekly_lower</th>\n",
       "      <th>weekly_upper</th>\n",
       "      <th>yearly</th>\n",
       "      <th>yearly_lower</th>\n",
       "      <th>yearly_upper</th>\n",
       "      <th>multiplicative_terms</th>\n",
       "      <th>multiplicative_terms_lower</th>\n",
       "      <th>multiplicative_terms_upper</th>\n",
       "      <th>yhat</th>\n",
       "    </tr>\n",
       "  </thead>\n",
       "  <tbody>\n",
       "    <tr>\n",
       "      <th>904</th>\n",
       "      <td>2017-06-23</td>\n",
       "      <td>276.306070</td>\n",
       "      <td>253.181314</td>\n",
       "      <td>302.705815</td>\n",
       "      <td>275.879091</td>\n",
       "      <td>276.772833</td>\n",
       "      <td>2.407683</td>\n",
       "      <td>2.407683</td>\n",
       "      <td>2.407683</td>\n",
       "      <td>3.477942</td>\n",
       "      <td>3.477942</td>\n",
       "      <td>3.477942</td>\n",
       "      <td>-1.070260</td>\n",
       "      <td>-1.070260</td>\n",
       "      <td>-1.070260</td>\n",
       "      <td>0.0</td>\n",
       "      <td>0.0</td>\n",
       "      <td>0.0</td>\n",
       "      <td>278.713753</td>\n",
       "    </tr>\n",
       "    <tr>\n",
       "      <th>905</th>\n",
       "      <td>2017-06-24</td>\n",
       "      <td>277.007947</td>\n",
       "      <td>216.906056</td>\n",
       "      <td>267.741330</td>\n",
       "      <td>276.551189</td>\n",
       "      <td>277.510587</td>\n",
       "      <td>-34.899970</td>\n",
       "      <td>-34.899970</td>\n",
       "      <td>-34.899970</td>\n",
       "      <td>-34.026227</td>\n",
       "      <td>-34.026227</td>\n",
       "      <td>-34.026227</td>\n",
       "      <td>-0.873743</td>\n",
       "      <td>-0.873743</td>\n",
       "      <td>-0.873743</td>\n",
       "      <td>0.0</td>\n",
       "      <td>0.0</td>\n",
       "      <td>0.0</td>\n",
       "      <td>242.107977</td>\n",
       "    </tr>\n",
       "    <tr>\n",
       "      <th>906</th>\n",
       "      <td>2017-06-25</td>\n",
       "      <td>277.709824</td>\n",
       "      <td>222.453351</td>\n",
       "      <td>270.686963</td>\n",
       "      <td>277.227387</td>\n",
       "      <td>278.249167</td>\n",
       "      <td>-31.260139</td>\n",
       "      <td>-31.260139</td>\n",
       "      <td>-31.260139</td>\n",
       "      <td>-30.582275</td>\n",
       "      <td>-30.582275</td>\n",
       "      <td>-30.582275</td>\n",
       "      <td>-0.677864</td>\n",
       "      <td>-0.677864</td>\n",
       "      <td>-0.677864</td>\n",
       "      <td>0.0</td>\n",
       "      <td>0.0</td>\n",
       "      <td>0.0</td>\n",
       "      <td>246.449685</td>\n",
       "    </tr>\n",
       "  </tbody>\n",
       "</table>\n",
       "</div>"
      ],
      "text/plain": [
       "            ds       trend  yhat_lower  yhat_upper  trend_lower  trend_upper  \\\n",
       "904 2017-06-23  276.306070  253.181314  302.705815   275.879091   276.772833   \n",
       "905 2017-06-24  277.007947  216.906056  267.741330   276.551189   277.510587   \n",
       "906 2017-06-25  277.709824  222.453351  270.686963   277.227387   278.249167   \n",
       "\n",
       "     additive_terms  additive_terms_lower  additive_terms_upper     weekly  \\\n",
       "904        2.407683              2.407683              2.407683   3.477942   \n",
       "905      -34.899970            -34.899970            -34.899970 -34.026227   \n",
       "906      -31.260139            -31.260139            -31.260139 -30.582275   \n",
       "\n",
       "     weekly_lower  weekly_upper    yearly  yearly_lower  yearly_upper  \\\n",
       "904      3.477942      3.477942 -1.070260     -1.070260     -1.070260   \n",
       "905    -34.026227    -34.026227 -0.873743     -0.873743     -0.873743   \n",
       "906    -30.582275    -30.582275 -0.677864     -0.677864     -0.677864   \n",
       "\n",
       "     multiplicative_terms  multiplicative_terms_lower  \\\n",
       "904                   0.0                         0.0   \n",
       "905                   0.0                         0.0   \n",
       "906                   0.0                         0.0   \n",
       "\n",
       "     multiplicative_terms_upper        yhat  \n",
       "904                         0.0  278.713753  \n",
       "905                         0.0  242.107977  \n",
       "906                         0.0  246.449685  "
      ]
     },
     "execution_count": 23,
     "metadata": {},
     "output_type": "execute_result"
    }
   ],
   "source": [
    "forecast = m.predict(future)\n",
    "forecast.tail(n=3)"
   ]
  },
  {
   "cell_type": "code",
   "execution_count": 24,
   "id": "eea49bf7",
   "metadata": {},
   "outputs": [
    {
     "data": {
      "image/png": "[encoded data removed]",
      "text/plain": [
       "<Figure size 720x432 with 1 Axes>"
      ]
     },
     "metadata": {},
     "output_type": "display_data"
    }
   ],
   "source": [
    "m.plot(forecast);"
   ]
  },
  {
   "cell_type": "code",
   "execution_count": 25,
   "id": "5ef75bb7",
   "metadata": {},
   "outputs": [
    {
     "data": {
      "image/png": "[encoded data removed]",
      "text/plain": [
       "<Figure size 648x648 with 3 Axes>"
      ]
     },
     "metadata": {},
     "output_type": "display_data"
    }
   ],
   "source": [
    "m.plot_components(forecast);"
   ]
  },
  {
   "cell_type": "code",
   "execution_count": 26,
   "id": "3e6701d2",
   "metadata": {},
   "outputs": [
    {
     "name": "stdout",
     "output_type": "stream",
     "text": [
      "ds, trend, yhat_lower, yhat_upper, trend_lower, trend_upper, additive_terms, additive_terms_lower, additive_terms_upper, weekly, weekly_lower, weekly_upper, yearly, yearly_lower, yearly_upper, multiplicative_terms, multiplicative_terms_lower, multiplicative_terms_upper, yhat\n"
     ]
    }
   ],
   "source": [
    "print(', '.join(forecast.columns))"
   ]
  },
  {
   "cell_type": "code",
   "execution_count": 27,
   "id": "8fcb99b3",
   "metadata": {},
   "outputs": [],
   "source": [
    "def make_comparison_dataframe(historical, forecast):\n",
    "    \"\"\"Join the history with the forecast.\n",
    "    \n",
    "       The resulting dataset will contain columns 'yhat', 'yhat_lower', 'yhat_upper' and 'y'.\n",
    "    \"\"\"\n",
    "    return forecast.set_index('ds')[['yhat', 'yhat_lower', 'yhat_upper']].join(historical.set_index('ds'))"
   ]
  },
  {
   "cell_type": "code",
   "execution_count": 28,
   "id": "333435c9",
   "metadata": {},
   "outputs": [
    {
     "data": {
      "text/html": [
       "<div>\n",
       "<style scoped>\n",
       "    .dataframe tbody tr th:only-of-type {\n",
       "        vertical-align: middle;\n",
       "    }\n",
       "\n",
       "    .dataframe tbody tr th {\n",
       "        vertical-align: top;\n",
       "    }\n",
       "\n",
       "    .dataframe thead th {\n",
       "        text-align: right;\n",
       "    }\n",
       "</style>\n",
       "<table border=\"1\" class=\"dataframe\">\n",
       "  <thead>\n",
       "    <tr style=\"text-align: right;\">\n",
       "      <th></th>\n",
       "      <th>yhat</th>\n",
       "      <th>yhat_lower</th>\n",
       "      <th>yhat_upper</th>\n",
       "      <th>y</th>\n",
       "    </tr>\n",
       "    <tr>\n",
       "      <th>ds</th>\n",
       "      <th></th>\n",
       "      <th></th>\n",
       "      <th></th>\n",
       "      <th></th>\n",
       "    </tr>\n",
       "  </thead>\n",
       "  <tbody>\n",
       "    <tr>\n",
       "      <th>2017-06-23</th>\n",
       "      <td>278.713753</td>\n",
       "      <td>253.181314</td>\n",
       "      <td>302.705815</td>\n",
       "      <td>421</td>\n",
       "    </tr>\n",
       "    <tr>\n",
       "      <th>2017-06-24</th>\n",
       "      <td>242.107977</td>\n",
       "      <td>216.906056</td>\n",
       "      <td>267.741330</td>\n",
       "      <td>277</td>\n",
       "    </tr>\n",
       "    <tr>\n",
       "      <th>2017-06-25</th>\n",
       "      <td>246.449685</td>\n",
       "      <td>222.453351</td>\n",
       "      <td>270.686963</td>\n",
       "      <td>253</td>\n",
       "    </tr>\n",
       "  </tbody>\n",
       "</table>\n",
       "</div>"
      ],
      "text/plain": [
       "                  yhat  yhat_lower  yhat_upper    y\n",
       "ds                                                 \n",
       "2017-06-23  278.713753  253.181314  302.705815  421\n",
       "2017-06-24  242.107977  216.906056  267.741330  277\n",
       "2017-06-25  246.449685  222.453351  270.686963  253"
      ]
     },
     "execution_count": 28,
     "metadata": {},
     "output_type": "execute_result"
    }
   ],
   "source": [
    "cmp_df = make_comparison_dataframe(df, forecast)\n",
    "cmp_df.tail(n=3)"
   ]
  },
  {
   "cell_type": "code",
   "execution_count": 29,
   "id": "921a8a2b",
   "metadata": {},
   "outputs": [],
   "source": [
    "def calculate_forecast_errors(df, prediction_size):\n",
    "    \"\"\"Calculate MAPE and MAE of the forecast.\n",
    "    \n",
    "       Args:\n",
    "           df: joined dataset with 'y' and 'yhat' columns.\n",
    "           prediction_size: number of days at the end to predict.\n",
    "    \"\"\"\n",
    "    \n",
    "    # Make a copy\n",
    "    df = df.copy()\n",
    "    \n",
    "    # Now we calculate the values of e_i and p_i according to the formulas given in the article above.\n",
    "    df['e'] = df['y'] - df['yhat']\n",
    "    df['p'] = 100 * df['e'] / df['y']\n",
    "    \n",
    "    # Recall that we held out the values of the last `prediction_size` days\n",
    "    # in order to predict them and measure the quality of the model. \n",
    "    \n",
    "    # Now cut out the part of the data which we made our prediction for.\n",
    "    predicted_part = df[-prediction_size:]\n",
    "    \n",
    "    # Define the function that averages absolute error values over the predicted part.\n",
    "    error_mean = lambda error_name: np.mean(np.abs(predicted_part[error_name]))\n",
    "    \n",
    "    # Now we can calculate MAPE and MAE and return the resulting dictionary of errors.\n",
    "    return {'MAPE': error_mean('p'), 'MAE': error_mean('e')}"
   ]
  },
  {
   "cell_type": "code",
   "execution_count": 30,
   "id": "c7cd40ca",
   "metadata": {},
   "outputs": [
    {
     "name": "stdout",
     "output_type": "stream",
     "text": [
      "MAPE 22.70963979704409\n",
      "MAE 70.37587909647387\n"
     ]
    }
   ],
   "source": [
    "for err_name, err_value in calculate_forecast_errors(cmp_df, prediction_size).items():\n",
    "    print(err_name, err_value)"
   ]
  },
  {
   "cell_type": "code",
   "execution_count": 31,
   "id": "cdcb7e78",
   "metadata": {},
   "outputs": [
    {
     "data": {
      "application/vnd.plotly.v1+json": {
       "config": {
        "linkText": "Export to plot.ly",
        "plotlyServerURL": "https://plot.ly",
        "showLink": false
       },
       "data": [
        {
         "line": {
          "width": 0
         },
         "marker": {
          "color": "gray"
         },
         "mode": "lines",
         "name": "Lower Bound",
         "type": "scatter",
         "x": [
          "2017-05-27T00:00:00",
          "2017-05-28T00:00:00",
          "2017-05-29T00:00:00",
          "2017-05-30T00:00:00",
          "2017-05-31T00:00:00",
          "2017-06-01T00:00:00",
          "2017-06-02T00:00:00",
          "2017-06-03T00:00:00",
          "2017-06-04T00:00:00",
          "2017-06-05T00:00:00",
          "2017-06-06T00:00:00",
          "2017-06-07T00:00:00",
          "2017-06-08T00:00:00",
          "2017-06-09T00:00:00",
          "2017-06-10T00:00:00",
          "2017-06-11T00:00:00",
          "2017-06-12T00:00:00",
          "2017-06-13T00:00:00",
          "2017-06-14T00:00:00",
          "2017-06-15T00:00:00",
          "2017-06-16T00:00:00",
          "2017-06-17T00:00:00",
          "2017-06-18T00:00:00",
          "2017-06-19T00:00:00",
          "2017-06-20T00:00:00",
          "2017-06-21T00:00:00",
          "2017-06-22T00:00:00",
          "2017-06-23T00:00:00",
          "2017-06-24T00:00:00",
          "2017-06-25T00:00:00"
         ],
         "y": [
          200.69468334763596,
          204.83036106428108,
          251.43914359271207,
          252.98761571565217,
          254.42411139149226,
          249.76990563727233,
          240.42026291600715,
          202.50401883923735,
          208.4111493183102,
          251.0754843265306,
          256.8313263222027,
          254.20768169491961,
          252.697734974622,
          243.05085174873255,
          206.11923762376145,
          210.30451135704837,
          256.6888322920443,
          258.66800729637566,
          261.3848390546495,
          256.3924066888108,
          248.83197920730663,
          212.0087154750668,
          216.21778739216109,
          260.59961244007326,
          264.2503317484286,
          266.37997072976515,
          262.62365767376,
          253.18131379934238,
          216.9060560509343,
          222.45335053025437
         ]
        },
        {
         "fill": "tonexty",
         "fillcolor": "rgba(68, 68, 68, 0.3)",
         "line": {
          "width": 0
         },
         "marker": {
          "color": "gray"
         },
         "mode": "lines",
         "name": "Upper Bound",
         "type": "scatter",
         "x": [
          "2017-05-27T00:00:00",
          "2017-05-28T00:00:00",
          "2017-05-29T00:00:00",
          "2017-05-30T00:00:00",
          "2017-05-31T00:00:00",
          "2017-06-01T00:00:00",
          "2017-06-02T00:00:00",
          "2017-06-03T00:00:00",
          "2017-06-04T00:00:00",
          "2017-06-05T00:00:00",
          "2017-06-06T00:00:00",
          "2017-06-07T00:00:00",
          "2017-06-08T00:00:00",
          "2017-06-09T00:00:00",
          "2017-06-10T00:00:00",
          "2017-06-11T00:00:00",
          "2017-06-12T00:00:00",
          "2017-06-13T00:00:00",
          "2017-06-14T00:00:00",
          "2017-06-15T00:00:00",
          "2017-06-16T00:00:00",
          "2017-06-17T00:00:00",
          "2017-06-18T00:00:00",
          "2017-06-19T00:00:00",
          "2017-06-20T00:00:00",
          "2017-06-21T00:00:00",
          "2017-06-22T00:00:00",
          "2017-06-23T00:00:00",
          "2017-06-24T00:00:00",
          "2017-06-25T00:00:00"
         ],
         "y": [
          252.80827086687177,
          253.26636210292932,
          299.59070590131194,
          302.9533389125005,
          303.349632312398,
          298.95165505048243,
          290.59615386081,
          253.69374202666168,
          256.7808540604997,
          301.4887094464411,
          304.35650846284403,
          303.59630015966127,
          301.6725869635191,
          294.25271797980827,
          256.8524237216768,
          260.327985671806,
          305.84356628144127,
          309.541581102264,
          309.30552459359643,
          305.11155153002096,
          296.80301953036627,
          261.9761016905491,
          264.66009010007315,
          310.0556121301767,
          314.41069716233767,
          316.4993677795266,
          311.9834330597816,
          302.7058150906764,
          267.7413295756451,
          270.6869630131125
         ]
        },
        {
         "line": {
          "color": "rgb(31, 119, 180)"
         },
         "mode": "lines",
         "name": "Forecast",
         "type": "scatter",
         "x": [
          "2017-05-27T00:00:00",
          "2017-05-28T00:00:00",
          "2017-05-29T00:00:00",
          "2017-05-30T00:00:00",
          "2017-05-31T00:00:00",
          "2017-06-01T00:00:00",
          "2017-06-02T00:00:00",
          "2017-06-03T00:00:00",
          "2017-06-04T00:00:00",
          "2017-06-05T00:00:00",
          "2017-06-06T00:00:00",
          "2017-06-07T00:00:00",
          "2017-06-08T00:00:00",
          "2017-06-09T00:00:00",
          "2017-06-10T00:00:00",
          "2017-06-11T00:00:00",
          "2017-06-12T00:00:00",
          "2017-06-13T00:00:00",
          "2017-06-14T00:00:00",
          "2017-06-15T00:00:00",
          "2017-06-16T00:00:00",
          "2017-06-17T00:00:00",
          "2017-06-18T00:00:00",
          "2017-06-19T00:00:00",
          "2017-06-20T00:00:00",
          "2017-06-21T00:00:00",
          "2017-06-22T00:00:00",
          "2017-06-23T00:00:00",
          "2017-06-24T00:00:00",
          "2017-06-25T00:00:00"
         ],
         "y": [
          226.44552370222215,
          230.1830301003932,
          274.7728951017757,
          278.5169890466121,
          278.7251392118195,
          274.94325004183037,
          265.634281576249,
          228.43234233803565,
          232.19871818744122,
          276.8549306684908,
          280.7011274913873,
          281.04484595484,
          277.4291801631779,
          268.3138152402716,
          231.32918360624282,
          235.33256350704804,
          280.24121192662795,
          284.3508330661339,
          284.9644217150106,
          281.6205108837473,
          272.7742854489331,
          236.05181547558726,
          240.30622808423763,
          285.4509087652398,
          289.77803221704727,
          290.58746105145093,
          287.41504090157076,
          278.71375299926643,
          242.1079773631016,
          246.44968510393306
         ]
        },
        {
         "marker": {
          "color": "red"
         },
         "mode": "lines",
         "name": "Actual",
         "type": "scatter",
         "x": [
          "2017-03-18T00:00:00",
          "2017-03-19T00:00:00",
          "2017-03-20T00:00:00",
          "2017-03-21T00:00:00",
          "2017-03-22T00:00:00",
          "2017-03-23T00:00:00",
          "2017-03-24T00:00:00",
          "2017-03-25T00:00:00",
          "2017-03-26T00:00:00",
          "2017-03-27T00:00:00",
          "2017-03-28T00:00:00",
          "2017-03-29T00:00:00",
          "2017-03-30T00:00:00",
          "2017-03-31T00:00:00",
          "2017-04-01T00:00:00",
          "2017-04-02T00:00:00",
          "2017-04-03T00:00:00",
          "2017-04-04T00:00:00",
          "2017-04-05T00:00:00",
          "2017-04-06T00:00:00",
          "2017-04-07T00:00:00",
          "2017-04-08T00:00:00",
          "2017-04-09T00:00:00",
          "2017-04-10T00:00:00",
          "2017-04-11T00:00:00",
          "2017-04-12T00:00:00",
          "2017-04-13T00:00:00",
          "2017-04-14T00:00:00",
          "2017-04-15T00:00:00",
          "2017-04-16T00:00:00",
          "2017-04-17T00:00:00",
          "2017-04-18T00:00:00",
          "2017-04-19T00:00:00",
          "2017-04-20T00:00:00",
          "2017-04-21T00:00:00",
          "2017-04-22T00:00:00",
          "2017-04-23T00:00:00",
          "2017-04-24T00:00:00",
          "2017-04-25T00:00:00",
          "2017-04-26T00:00:00",
          "2017-04-27T00:00:00",
          "2017-04-28T00:00:00",
          "2017-04-29T00:00:00",
          "2017-04-30T00:00:00",
          "2017-05-01T00:00:00",
          "2017-05-02T00:00:00",
          "2017-05-03T00:00:00",
          "2017-05-04T00:00:00",
          "2017-05-05T00:00:00",
          "2017-05-06T00:00:00",
          "2017-05-07T00:00:00",
          "2017-05-08T00:00:00",
          "2017-05-09T00:00:00",
          "2017-05-10T00:00:00",
          "2017-05-11T00:00:00",
          "2017-05-12T00:00:00",
          "2017-05-13T00:00:00",
          "2017-05-14T00:00:00",
          "2017-05-15T00:00:00",
          "2017-05-16T00:00:00",
          "2017-05-17T00:00:00",
          "2017-05-18T00:00:00",
          "2017-05-19T00:00:00",
          "2017-05-20T00:00:00",
          "2017-05-21T00:00:00",
          "2017-05-22T00:00:00",
          "2017-05-23T00:00:00",
          "2017-05-24T00:00:00",
          "2017-05-25T00:00:00",
          "2017-05-26T00:00:00",
          "2017-05-27T00:00:00",
          "2017-05-28T00:00:00",
          "2017-05-29T00:00:00",
          "2017-05-30T00:00:00",
          "2017-05-31T00:00:00",
          "2017-06-01T00:00:00",
          "2017-06-02T00:00:00",
          "2017-06-03T00:00:00",
          "2017-06-04T00:00:00",
          "2017-06-05T00:00:00",
          "2017-06-06T00:00:00",
          "2017-06-07T00:00:00",
          "2017-06-08T00:00:00",
          "2017-06-09T00:00:00",
          "2017-06-10T00:00:00",
          "2017-06-11T00:00:00",
          "2017-06-12T00:00:00",
          "2017-06-13T00:00:00",
          "2017-06-14T00:00:00",
          "2017-06-15T00:00:00",
          "2017-06-16T00:00:00",
          "2017-06-17T00:00:00",
          "2017-06-18T00:00:00",
          "2017-06-19T00:00:00",
          "2017-06-20T00:00:00",
          "2017-06-21T00:00:00",
          "2017-06-22T00:00:00",
          "2017-06-23T00:00:00",
          "2017-06-24T00:00:00",
          "2017-06-25T00:00:00"
         ],
         "y": [
          123,
          99,
          205,
          247,
          246,
          228,
          208,
          135,
          129,
          230,
          225,
          238,
          257,
          207,
          125,
          142,
          259,
          221,
          203,
          274,
          221,
          140,
          149,
          238,
          258,
          239,
          250,
          204,
          137,
          143,
          233,
          264,
          278,
          274,
          259,
          178,
          168,
          296,
          306,
          270,
          277,
          262,
          187,
          148,
          305,
          332,
          286,
          284,
          264,
          133,
          136,
          267,
          262,
          264,
          267,
          281,
          205,
          180,
          341,
          345,
          367,
          336,
          301,
          156,
          194,
          341,
          388,
          375,
          298,
          269,
          157,
          172,
          297,
          365,
          407,
          392,
          328,
          170,
          194,
          340,
          348,
          323,
          347,
          291,
          165,
          193,
          349,
          358,
          344,
          336,
          345,
          188,
          243,
          408,
          417,
          422,
          441,
          421,
          277,
          253
         ]
        }
       ],
       "layout": {
        "showlegend": false,
        "template": {
         "data": {
          "bar": [
           {
            "error_x": {
             "color": "#2a3f5f"
            },
            "error_y": {
             "color": "#2a3f5f"
            },
            "marker": {
             "line": {
              "color": "#E5ECF6",
              "width": 0.5
             }
            },
            "type": "bar"
           }
          ],
          "barpolar": [
           {
            "marker": {
             "line": {
              "color": "#E5ECF6",
              "width": 0.5
             }
            },
            "type": "barpolar"
           }
          ],
          "carpet": [
           {
            "aaxis": {
             "endlinecolor": "#2a3f5f",
             "gridcolor": "white",
             "linecolor": "white",
             "minorgridcolor": "white",
             "startlinecolor": "#2a3f5f"
            },
            "baxis": {
             "endlinecolor": "#2a3f5f",
             "gridcolor": "white",
             "linecolor": "white",
             "minorgridcolor": "white",
             "startlinecolor": "#2a3f5f"
            },
            "type": "carpet"
           }
          ],
          "choropleth": [
           {
            "colorbar": {
             "outlinewidth": 0,
             "ticks": ""
            },
            "type": "choropleth"
           }
          ],
          "contour": [
           {
            "colorbar": {
             "outlinewidth": 0,
             "ticks": ""
            },
            "colorscale": [
             [
              0,
              "#0d0887"
             ],
             [
              0.1111111111111111,
              "#46039f"
             ],
             [
              0.2222222222222222,
              "#7201a8"
             ],
             [
              0.3333333333333333,
              "#9c179e"
             ],
             [
              0.4444444444444444,
              "#bd3786"
             ],
             [
              0.5555555555555556,
              "#d8576b"
             ],
             [
              0.6666666666666666,
              "#ed7953"
             ],
             [
              0.7777777777777778,
              "#fb9f3a"
             ],
             [
              0.8888888888888888,
              "#fdca26"
             ],
             [
              1,
              "#f0f921"
             ]
            ],
            "type": "contour"
           }
          ],
          "contourcarpet": [
           {
            "colorbar": {
             "outlinewidth": 0,
             "ticks": ""
            },
            "type": "contourcarpet"
           }
          ],
          "heatmap": [
           {
            "colorbar": {
             "outlinewidth": 0,
             "ticks": ""
            },
            "colorscale": [
             [
              0,
              "#0d0887"
             ],
             [
              0.1111111111111111,
              "#46039f"
             ],
             [
              0.2222222222222222,
              "#7201a8"
             ],
             [
              0.3333333333333333,
              "#9c179e"
             ],
             [
              0.4444444444444444,
              "#bd3786"
             ],
             [
              0.5555555555555556,
              "#d8576b"
             ],
             [
              0.6666666666666666,
              "#ed7953"
             ],
             [
              0.7777777777777778,
              "#fb9f3a"
             ],
             [
              0.8888888888888888,
              "#fdca26"
             ],
             [
              1,
              "#f0f921"
             ]
            ],
            "type": "heatmap"
           }
          ],
          "heatmapgl": [
           {
            "colorbar": {
             "outlinewidth": 0,
             "ticks": ""
            },
            "colorscale": [
             [
              0,
              "#0d0887"
             ],
             [
              0.1111111111111111,
              "#46039f"
             ],
             [
              0.2222222222222222,
              "#7201a8"
             ],
             [
              0.3333333333333333,
              "#9c179e"
             ],
             [
              0.4444444444444444,
              "#bd3786"
             ],
             [
              0.5555555555555556,
              "#d8576b"
             ],
             [
              0.6666666666666666,
              "#ed7953"
             ],
             [
              0.7777777777777778,
              "#fb9f3a"
             ],
             [
              0.8888888888888888,
              "#fdca26"
             ],
             [
              1,
              "#f0f921"
             ]
            ],
            "type": "heatmapgl"
           }
          ],
          "histogram": [
           {
            "marker": {
             "colorbar": {
              "outlinewidth": 0,
              "ticks": ""
             }
            },
            "type": "histogram"
           }
          ],
          "histogram2d": [
           {
            "colorbar": {
             "outlinewidth": 0,
             "ticks": ""
            },
            "colorscale": [
             [
              0,
              "#0d0887"
             ],
             [
              0.1111111111111111,
              "#46039f"
             ],
             [
              0.2222222222222222,
              "#7201a8"
             ],
             [
              0.3333333333333333,
              "#9c179e"
             ],
             [
              0.4444444444444444,
              "#bd3786"
             ],
             [
              0.5555555555555556,
              "#d8576b"
             ],
             [
              0.6666666666666666,
              "#ed7953"
             ],
             [
              0.7777777777777778,
              "#fb9f3a"
             ],
             [
              0.8888888888888888,
              "#fdca26"
             ],
             [
              1,
              "#f0f921"
             ]
            ],
            "type": "histogram2d"
           }
          ],
          "histogram2dcontour": [
           {
            "colorbar": {
             "outlinewidth": 0,
             "ticks": ""
            },
            "colorscale": [
             [
              0,
              "#0d0887"
             ],
             [
              0.1111111111111111,
              "#46039f"
             ],
             [
              0.2222222222222222,
              "#7201a8"
             ],
             [
              0.3333333333333333,
              "#9c179e"
             ],
             [
              0.4444444444444444,
              "#bd3786"
             ],
             [
              0.5555555555555556,
              "#d8576b"
             ],
             [
              0.6666666666666666,
              "#ed7953"
             ],
             [
              0.7777777777777778,
              "#fb9f3a"
             ],
             [
              0.8888888888888888,
              "#fdca26"
             ],
             [
              1,
              "#f0f921"
             ]
            ],
            "type": "histogram2dcontour"
           }
          ],
          "mesh3d": [
           {
            "colorbar": {
             "outlinewidth": 0,
             "ticks": ""
            },
            "type": "mesh3d"
           }
          ],
          "parcoords": [
           {
            "line": {
             "colorbar": {
              "outlinewidth": 0,
              "ticks": ""
             }
            },
            "type": "parcoords"
           }
          ],
          "pie": [
           {
            "automargin": true,
            "type": "pie"
           }
          ],
          "scatter": [
           {
            "marker": {
             "colorbar": {
              "outlinewidth": 0,
              "ticks": ""
             }
            },
            "type": "scatter"
           }
          ],
          "scatter3d": [
           {
            "line": {
             "colorbar": {
              "outlinewidth": 0,
              "ticks": ""
             }
            },
            "marker": {
             "colorbar": {
              "outlinewidth": 0,
              "ticks": ""
             }
            },
            "type": "scatter3d"
           }
          ],
          "scattercarpet": [
           {
            "marker": {
             "colorbar": {
              "outlinewidth": 0,
              "ticks": ""
             }
            },
            "type": "scattercarpet"
           }
          ],
          "scattergeo": [
           {
            "marker": {
             "colorbar": {
              "outlinewidth": 0,
              "ticks": ""
             }
            },
            "type": "scattergeo"
           }
          ],
          "scattergl": [
           {
            "marker": {
             "colorbar": {
              "outlinewidth": 0,
              "ticks": ""
             }
            },
            "type": "scattergl"
           }
          ],
          "scattermapbox": [
           {
            "marker": {
             "colorbar": {
              "outlinewidth": 0,
              "ticks": ""
             }
            },
            "type": "scattermapbox"
           }
          ],
          "scatterpolar": [
           {
            "marker": {
             "colorbar": {
              "outlinewidth": 0,
              "ticks": ""
             }
            },
            "type": "scatterpolar"
           }
          ],
          "scatterpolargl": [
           {
            "marker": {
             "colorbar": {
              "outlinewidth": 0,
              "ticks": ""
             }
            },
            "type": "scatterpolargl"
           }
          ],
          "scatterternary": [
           {
            "marker": {
             "colorbar": {
              "outlinewidth": 0,
              "ticks": ""
             }
            },
            "type": "scatterternary"
           }
          ],
          "surface": [
           {
            "colorbar": {
             "outlinewidth": 0,
             "ticks": ""
            },
            "colorscale": [
             [
              0,
              "#0d0887"
             ],
             [
              0.1111111111111111,
              "#46039f"
             ],
             [
              0.2222222222222222,
              "#7201a8"
             ],
             [
              0.3333333333333333,
              "#9c179e"
             ],
             [
              0.4444444444444444,
              "#bd3786"
             ],
             [
              0.5555555555555556,
              "#d8576b"
             ],
             [
              0.6666666666666666,
              "#ed7953"
             ],
             [
              0.7777777777777778,
              "#fb9f3a"
             ],
             [
              0.8888888888888888,
              "#fdca26"
             ],
             [
              1,
              "#f0f921"
             ]
            ],
            "type": "surface"
           }
          ],
          "table": [
           {
            "cells": {
             "fill": {
              "color": "#EBF0F8"
             },
             "line": {
              "color": "white"
             }
            },
            "header": {
             "fill": {
              "color": "#C8D4E3"
             },
             "line": {
              "color": "white"
             }
            },
            "type": "table"
           }
          ]
         },
         "layout": {
          "annotationdefaults": {
           "arrowcolor": "#2a3f5f",
           "arrowhead": 0,
           "arrowwidth": 1
          },
          "autotypenumbers": "strict",
          "coloraxis": {
           "colorbar": {
            "outlinewidth": 0,
            "ticks": ""
           }
          },
          "colorscale": {
           "diverging": [
            [
             0,
             "#8e0152"
            ],
            [
             0.1,
             "#c51b7d"
            ],
            [
             0.2,
             "#de77ae"
            ],
            [
             0.3,
             "#f1b6da"
            ],
            [
             0.4,
             "#fde0ef"
            ],
            [
             0.5,
             "#f7f7f7"
            ],
            [
             0.6,
             "#e6f5d0"
            ],
            [
             0.7,
             "#b8e186"
            ],
            [
             0.8,
             "#7fbc41"
            ],
            [
             0.9,
             "#4d9221"
            ],
            [
             1,
             "#276419"
            ]
           ],
           "sequential": [
            [
             0,
             "#0d0887"
            ],
            [
             0.1111111111111111,
             "#46039f"
            ],
            [
             0.2222222222222222,
             "#7201a8"
            ],
            [
             0.3333333333333333,
             "#9c179e"
            ],
            [
             0.4444444444444444,
             "#bd3786"
            ],
            [
             0.5555555555555556,
             "#d8576b"
            ],
            [
             0.6666666666666666,
             "#ed7953"
            ],
            [
             0.7777777777777778,
             "#fb9f3a"
            ],
            [
             0.8888888888888888,
             "#fdca26"
            ],
            [
             1,
             "#f0f921"
            ]
           ],
           "sequentialminus": [
            [
             0,
             "#0d0887"
            ],
            [
             0.1111111111111111,
             "#46039f"
            ],
            [
             0.2222222222222222,
             "#7201a8"
            ],
            [
             0.3333333333333333,
             "#9c179e"
            ],
            [
             0.4444444444444444,
             "#bd3786"
            ],
            [
             0.5555555555555556,
             "#d8576b"
            ],
            [
             0.6666666666666666,
             "#ed7953"
            ],
            [
             0.7777777777777778,
             "#fb9f3a"
            ],
            [
             0.8888888888888888,
             "#fdca26"
            ],
            [
             1,
             "#f0f921"
            ]
           ]
          },
          "colorway": [
           "#636efa",
           "#EF553B",
           "#00cc96",
           "#ab63fa",
           "#FFA15A",
           "#19d3f3",
           "#FF6692",
           "#B6E880",
           "#FF97FF",
           "#FECB52"
          ],
          "font": {
           "color": "#2a3f5f"
          },
          "geo": {
           "bgcolor": "white",
           "lakecolor": "white",
           "landcolor": "#E5ECF6",
           "showlakes": true,
           "showland": true,
           "subunitcolor": "white"
          },
          "hoverlabel": {
           "align": "left"
          },
          "hovermode": "closest",
          "mapbox": {
           "style": "light"
          },
          "paper_bgcolor": "white",
          "plot_bgcolor": "#E5ECF6",
          "polar": {
           "angularaxis": {
            "gridcolor": "white",
            "linecolor": "white",
            "ticks": ""
           },
           "bgcolor": "#E5ECF6",
           "radialaxis": {
            "gridcolor": "white",
            "linecolor": "white",
            "ticks": ""
           }
          },
          "scene": {
           "xaxis": {
            "backgroundcolor": "#E5ECF6",
            "gridcolor": "white",
            "gridwidth": 2,
            "linecolor": "white",
            "showbackground": true,
            "ticks": "",
            "zerolinecolor": "white"
           },
           "yaxis": {
            "backgroundcolor": "#E5ECF6",
            "gridcolor": "white",
            "gridwidth": 2,
            "linecolor": "white",
            "showbackground": true,
            "ticks": "",
            "zerolinecolor": "white"
           },
           "zaxis": {
            "backgroundcolor": "#E5ECF6",
            "gridcolor": "white",
            "gridwidth": 2,
            "linecolor": "white",
            "showbackground": true,
            "ticks": "",
            "zerolinecolor": "white"
           }
          },
          "shapedefaults": {
           "line": {
            "color": "#2a3f5f"
           }
          },
          "ternary": {
           "aaxis": {
            "gridcolor": "white",
            "linecolor": "white",
            "ticks": ""
           },
           "baxis": {
            "gridcolor": "white",
            "linecolor": "white",
            "ticks": ""
           },
           "bgcolor": "#E5ECF6",
           "caxis": {
            "gridcolor": "white",
            "linecolor": "white",
            "ticks": ""
           }
          },
          "title": {
           "x": 0.05
          },
          "xaxis": {
           "automargin": true,
           "gridcolor": "white",
           "linecolor": "white",
           "ticks": "",
           "title": {
            "standoff": 15
           },
           "zerolinecolor": "white",
           "zerolinewidth": 2
          },
          "yaxis": {
           "automargin": true,
           "gridcolor": "white",
           "linecolor": "white",
           "ticks": "",
           "title": {
            "standoff": 15
           },
           "zerolinecolor": "white",
           "zerolinewidth": 2
          }
         }
        },
        "title": {
         "text": "New posts on Medium"
        },
        "yaxis": {
         "title": {
          "text": "Posts"
         }
        }
       }
      },
      "text/html": [
       "<div>                            <div id=\"c41cad53-5787-4ed3-b46d-92ebd8139c7f\" class=\"plotly-graph-div\" style=\"height:525px; width:100%;\"></div>            <script type=\"text/javascript\">                require([\"plotly\"], function(Plotly) {                    window.PLOTLYENV=window.PLOTLYENV || {};                                    if (document.getElementById(\"c41cad53-5787-4ed3-b46d-92ebd8139c7f\")) {                    Plotly.newPlot(                        \"c41cad53-5787-4ed3-b46d-92ebd8139c7f\",                        [{\"line\": {\"width\": 0}, \"marker\": {\"color\": \"gray\"}, \"mode\": \"lines\", \"name\": \"Lower Bound\", \"type\": \"scatter\", \"x\": [\"2017-05-27T00:00:00\", \"2017-05-28T00:00:00\", \"2017-05-29T00:00:00\", \"2017-05-30T00:00:00\", \"2017-05-31T00:00:00\", \"2017-06-01T00:00:00\", \"2017-06-02T00:00:00\", \"2017-06-03T00:00:00\", \"2017-06-04T00:00:00\", \"2017-06-05T00:00:00\", \"2017-06-06T00:00:00\", \"2017-06-07T00:00:00\", \"2017-06-08T00:00:00\", \"2017-06-09T00:00:00\", \"2017-06-10T00:00:00\", \"2017-06-11T00:00:00\", \"2017-06-12T00:00:00\", \"2017-06-13T00:00:00\", \"2017-06-14T00:00:00\", \"2017-06-15T00:00:00\", \"2017-06-16T00:00:00\", \"2017-06-17T00:00:00\", \"2017-06-18T00:00:00\", \"2017-06-19T00:00:00\", \"2017-06-20T00:00:00\", \"2017-06-21T00:00:00\", \"2017-06-22T00:00:00\", \"2017-06-23T00:00:00\", \"2017-06-24T00:00:00\", \"2017-06-25T00:00:00\"], \"y\": [200.69468334763596, 204.83036106428108, 251.43914359271207, 252.98761571565217, 254.42411139149226, 249.76990563727233, 240.42026291600715, 202.50401883923735, 208.4111493183102, 251.0754843265306, 256.8313263222027, 254.20768169491961, 252.697734974622, 243.05085174873255, 206.11923762376145, 210.30451135704837, 256.6888322920443, 258.66800729637566, 261.3848390546495, 256.3924066888108, 248.83197920730663, 212.0087154750668, 216.21778739216109, 260.59961244007326, 264.2503317484286, 266.37997072976515, 262.62365767376, 253.18131379934238, 216.9060560509343, 222.45335053025437]}, {\"fill\": \"tonexty\", \"fillcolor\": \"rgba(68, 68, 68, 0.3)\", \"line\": {\"width\": 0}, \"marker\": {\"color\": \"gray\"}, \"mode\": \"lines\", \"name\": \"Upper Bound\", \"type\": \"scatter\", \"x\": [\"2017-05-27T00:00:00\", \"2017-05-28T00:00:00\", \"2017-05-29T00:00:00\", \"2017-05-30T00:00:00\", \"2017-05-31T00:00:00\", \"2017-06-01T00:00:00\", \"2017-06-02T00:00:00\", \"2017-06-03T00:00:00\", \"2017-06-04T00:00:00\", \"2017-06-05T00:00:00\", \"2017-06-06T00:00:00\", \"2017-06-07T00:00:00\", \"2017-06-08T00:00:00\", \"2017-06-09T00:00:00\", \"2017-06-10T00:00:00\", \"2017-06-11T00:00:00\", \"2017-06-12T00:00:00\", \"2017-06-13T00:00:00\", \"2017-06-14T00:00:00\", \"2017-06-15T00:00:00\", \"2017-06-16T00:00:00\", \"2017-06-17T00:00:00\", \"2017-06-18T00:00:00\", \"2017-06-19T00:00:00\", \"2017-06-20T00:00:00\", \"2017-06-21T00:00:00\", \"2017-06-22T00:00:00\", \"2017-06-23T00:00:00\", \"2017-06-24T00:00:00\", \"2017-06-25T00:00:00\"], \"y\": [252.80827086687177, 253.26636210292932, 299.59070590131194, 302.9533389125005, 303.349632312398, 298.95165505048243, 290.59615386081, 253.69374202666168, 256.7808540604997, 301.4887094464411, 304.35650846284403, 303.59630015966127, 301.6725869635191, 294.25271797980827, 256.8524237216768, 260.327985671806, 305.84356628144127, 309.541581102264, 309.30552459359643, 305.11155153002096, 296.80301953036627, 261.9761016905491, 264.66009010007315, 310.0556121301767, 314.41069716233767, 316.4993677795266, 311.9834330597816, 302.7058150906764, 267.7413295756451, 270.6869630131125]}, {\"line\": {\"color\": \"rgb(31, 119, 180)\"}, \"mode\": \"lines\", \"name\": \"Forecast\", \"type\": \"scatter\", \"x\": [\"2017-05-27T00:00:00\", \"2017-05-28T00:00:00\", \"2017-05-29T00:00:00\", \"2017-05-30T00:00:00\", \"2017-05-31T00:00:00\", \"2017-06-01T00:00:00\", \"2017-06-02T00:00:00\", \"2017-06-03T00:00:00\", \"2017-06-04T00:00:00\", \"2017-06-05T00:00:00\", \"2017-06-06T00:00:00\", \"2017-06-07T00:00:00\", \"2017-06-08T00:00:00\", \"2017-06-09T00:00:00\", \"2017-06-10T00:00:00\", \"2017-06-11T00:00:00\", \"2017-06-12T00:00:00\", \"2017-06-13T00:00:00\", \"2017-06-14T00:00:00\", \"2017-06-15T00:00:00\", \"2017-06-16T00:00:00\", \"2017-06-17T00:00:00\", \"2017-06-18T00:00:00\", \"2017-06-19T00:00:00\", \"2017-06-20T00:00:00\", \"2017-06-21T00:00:00\", \"2017-06-22T00:00:00\", \"2017-06-23T00:00:00\", \"2017-06-24T00:00:00\", \"2017-06-25T00:00:00\"], \"y\": [226.44552370222215, 230.1830301003932, 274.7728951017757, 278.5169890466121, 278.7251392118195, 274.94325004183037, 265.634281576249, 228.43234233803565, 232.19871818744122, 276.8549306684908, 280.7011274913873, 281.04484595484, 277.4291801631779, 268.3138152402716, 231.32918360624282, 235.33256350704804, 280.24121192662795, 284.3508330661339, 284.9644217150106, 281.6205108837473, 272.7742854489331, 236.05181547558726, 240.30622808423763, 285.4509087652398, 289.77803221704727, 290.58746105145093, 287.41504090157076, 278.71375299926643, 242.1079773631016, 246.44968510393306]}, {\"marker\": {\"color\": \"red\"}, \"mode\": \"lines\", \"name\": \"Actual\", \"type\": \"scatter\", \"x\": [\"2017-03-18T00:00:00\", \"2017-03-19T00:00:00\", \"2017-03-20T00:00:00\", \"2017-03-21T00:00:00\", \"2017-03-22T00:00:00\", \"2017-03-23T00:00:00\", \"2017-03-24T00:00:00\", \"2017-03-25T00:00:00\", \"2017-03-26T00:00:00\", \"2017-03-27T00:00:00\", \"2017-03-28T00:00:00\", \"2017-03-29T00:00:00\", \"2017-03-30T00:00:00\", \"2017-03-31T00:00:00\", \"2017-04-01T00:00:00\", \"2017-04-02T00:00:00\", \"2017-04-03T00:00:00\", \"2017-04-04T00:00:00\", \"2017-04-05T00:00:00\", \"2017-04-06T00:00:00\", \"2017-04-07T00:00:00\", \"2017-04-08T00:00:00\", \"2017-04-09T00:00:00\", \"2017-04-10T00:00:00\", \"2017-04-11T00:00:00\", \"2017-04-12T00:00:00\", \"2017-04-13T00:00:00\", \"2017-04-14T00:00:00\", \"2017-04-15T00:00:00\", \"2017-04-16T00:00:00\", \"2017-04-17T00:00:00\", \"2017-04-18T00:00:00\", \"2017-04-19T00:00:00\", \"2017-04-20T00:00:00\", \"2017-04-21T00:00:00\", \"2017-04-22T00:00:00\", \"2017-04-23T00:00:00\", \"2017-04-24T00:00:00\", \"2017-04-25T00:00:00\", \"2017-04-26T00:00:00\", \"2017-04-27T00:00:00\", \"2017-04-28T00:00:00\", \"2017-04-29T00:00:00\", \"2017-04-30T00:00:00\", \"2017-05-01T00:00:00\", \"2017-05-02T00:00:00\", \"2017-05-03T00:00:00\", \"2017-05-04T00:00:00\", \"2017-05-05T00:00:00\", \"2017-05-06T00:00:00\", \"2017-05-07T00:00:00\", \"2017-05-08T00:00:00\", \"2017-05-09T00:00:00\", \"2017-05-10T00:00:00\", \"2017-05-11T00:00:00\", \"2017-05-12T00:00:00\", \"2017-05-13T00:00:00\", \"2017-05-14T00:00:00\", \"2017-05-15T00:00:00\", \"2017-05-16T00:00:00\", \"2017-05-17T00:00:00\", \"2017-05-18T00:00:00\", \"2017-05-19T00:00:00\", \"2017-05-20T00:00:00\", \"2017-05-21T00:00:00\", \"2017-05-22T00:00:00\", \"2017-05-23T00:00:00\", \"2017-05-24T00:00:00\", \"2017-05-25T00:00:00\", \"2017-05-26T00:00:00\", \"2017-05-27T00:00:00\", \"2017-05-28T00:00:00\", \"2017-05-29T00:00:00\", \"2017-05-30T00:00:00\", \"2017-05-31T00:00:00\", \"2017-06-01T00:00:00\", \"2017-06-02T00:00:00\", \"2017-06-03T00:00:00\", \"2017-06-04T00:00:00\", \"2017-06-05T00:00:00\", \"2017-06-06T00:00:00\", \"2017-06-07T00:00:00\", \"2017-06-08T00:00:00\", \"2017-06-09T00:00:00\", \"2017-06-10T00:00:00\", \"2017-06-11T00:00:00\", \"2017-06-12T00:00:00\", \"2017-06-13T00:00:00\", \"2017-06-14T00:00:00\", \"2017-06-15T00:00:00\", \"2017-06-16T00:00:00\", \"2017-06-17T00:00:00\", \"2017-06-18T00:00:00\", \"2017-06-19T00:00:00\", \"2017-06-20T00:00:00\", \"2017-06-21T00:00:00\", \"2017-06-22T00:00:00\", \"2017-06-23T00:00:00\", \"2017-06-24T00:00:00\", \"2017-06-25T00:00:00\"], \"y\": [123, 99, 205, 247, 246, 228, 208, 135, 129, 230, 225, 238, 257, 207, 125, 142, 259, 221, 203, 274, 221, 140, 149, 238, 258, 239, 250, 204, 137, 143, 233, 264, 278, 274, 259, 178, 168, 296, 306, 270, 277, 262, 187, 148, 305, 332, 286, 284, 264, 133, 136, 267, 262, 264, 267, 281, 205, 180, 341, 345, 367, 336, 301, 156, 194, 341, 388, 375, 298, 269, 157, 172, 297, 365, 407, 392, 328, 170, 194, 340, 348, 323, 347, 291, 165, 193, 349, 358, 344, 336, 345, 188, 243, 408, 417, 422, 441, 421, 277, 253]}],                        {\"showlegend\": false, \"template\": {\"data\": {\"bar\": [{\"error_x\": {\"color\": \"#2a3f5f\"}, \"error_y\": {\"color\": \"#2a3f5f\"}, \"marker\": {\"line\": {\"color\": \"#E5ECF6\", \"width\": 0.5}}, \"type\": \"bar\"}], \"barpolar\": [{\"marker\": {\"line\": {\"color\": \"#E5ECF6\", \"width\": 0.5}}, \"type\": \"barpolar\"}], \"carpet\": [{\"aaxis\": {\"endlinecolor\": \"#2a3f5f\", \"gridcolor\": \"white\", \"linecolor\": \"white\", \"minorgridcolor\": \"white\", \"startlinecolor\": \"#2a3f5f\"}, \"baxis\": {\"endlinecolor\": \"#2a3f5f\", \"gridcolor\": \"white\", \"linecolor\": \"white\", \"minorgridcolor\": \"white\", \"startlinecolor\": \"#2a3f5f\"}, \"type\": \"carpet\"}], \"choropleth\": [{\"colorbar\": {\"outlinewidth\": 0, \"ticks\": \"\"}, \"type\": \"choropleth\"}], \"contour\": [{\"colorbar\": {\"outlinewidth\": 0, \"ticks\": \"\"}, \"colorscale\": [[0.0, \"#0d0887\"], [0.1111111111111111, \"#46039f\"], [0.2222222222222222, \"#7201a8\"], [0.3333333333333333, \"#9c179e\"], [0.4444444444444444, \"#bd3786\"], [0.5555555555555556, \"#d8576b\"], [0.6666666666666666, \"#ed7953\"], [0.7777777777777778, \"#fb9f3a\"], [0.8888888888888888, \"#fdca26\"], [1.0, \"#f0f921\"]], \"type\": \"contour\"}], \"contourcarpet\": [{\"colorbar\": {\"outlinewidth\": 0, \"ticks\": \"\"}, \"type\": \"contourcarpet\"}], \"heatmap\": [{\"colorbar\": {\"outlinewidth\": 0, \"ticks\": \"\"}, \"colorscale\": [[0.0, \"#0d0887\"], [0.1111111111111111, \"#46039f\"], [0.2222222222222222, \"#7201a8\"], [0.3333333333333333, \"#9c179e\"], [0.4444444444444444, \"#bd3786\"], [0.5555555555555556, \"#d8576b\"], [0.6666666666666666, \"#ed7953\"], [0.7777777777777778, \"#fb9f3a\"], [0.8888888888888888, \"#fdca26\"], [1.0, \"#f0f921\"]], \"type\": \"heatmap\"}], \"heatmapgl\": [{\"colorbar\": {\"outlinewidth\": 0, \"ticks\": \"\"}, \"colorscale\": [[0.0, \"#0d0887\"], [0.1111111111111111, \"#46039f\"], [0.2222222222222222, \"#7201a8\"], [0.3333333333333333, \"#9c179e\"], [0.4444444444444444, \"#bd3786\"], [0.5555555555555556, \"#d8576b\"], [0.6666666666666666, \"#ed7953\"], [0.7777777777777778, \"#fb9f3a\"], [0.8888888888888888, \"#fdca26\"], [1.0, \"#f0f921\"]], \"type\": \"heatmapgl\"}], \"histogram\": [{\"marker\": {\"colorbar\": {\"outlinewidth\": 0, \"ticks\": \"\"}}, \"type\": \"histogram\"}], \"histogram2d\": [{\"colorbar\": {\"outlinewidth\": 0, \"ticks\": \"\"}, \"colorscale\": [[0.0, \"#0d0887\"], [0.1111111111111111, \"#46039f\"], [0.2222222222222222, \"#7201a8\"], [0.3333333333333333, \"#9c179e\"], [0.4444444444444444, \"#bd3786\"], [0.5555555555555556, \"#d8576b\"], [0.6666666666666666, \"#ed7953\"], [0.7777777777777778, \"#fb9f3a\"], [0.8888888888888888, \"#fdca26\"], [1.0, \"#f0f921\"]], \"type\": \"histogram2d\"}], \"histogram2dcontour\": [{\"colorbar\": {\"outlinewidth\": 0, \"ticks\": \"\"}, \"colorscale\": [[0.0, \"#0d0887\"], [0.1111111111111111, \"#46039f\"], [0.2222222222222222, \"#7201a8\"], [0.3333333333333333, \"#9c179e\"], [0.4444444444444444, \"#bd3786\"], [0.5555555555555556, \"#d8576b\"], [0.6666666666666666, \"#ed7953\"], [0.7777777777777778, \"#fb9f3a\"], [0.8888888888888888, \"#fdca26\"], [1.0, \"#f0f921\"]], \"type\": \"histogram2dcontour\"}], \"mesh3d\": [{\"colorbar\": {\"outlinewidth\": 0, \"ticks\": \"\"}, \"type\": \"mesh3d\"}], \"parcoords\": [{\"line\": {\"colorbar\": {\"outlinewidth\": 0, \"ticks\": \"\"}}, \"type\": \"parcoords\"}], \"pie\": [{\"automargin\": true, \"type\": \"pie\"}], \"scatter\": [{\"marker\": {\"colorbar\": {\"outlinewidth\": 0, \"ticks\": \"\"}}, \"type\": \"scatter\"}], \"scatter3d\": [{\"line\": {\"colorbar\": {\"outlinewidth\": 0, \"ticks\": \"\"}}, \"marker\": {\"colorbar\": {\"outlinewidth\": 0, \"ticks\": \"\"}}, \"type\": \"scatter3d\"}], \"scattercarpet\": [{\"marker\": {\"colorbar\": {\"outlinewidth\": 0, \"ticks\": \"\"}}, \"type\": \"scattercarpet\"}], \"scattergeo\": [{\"marker\": {\"colorbar\": {\"outlinewidth\": 0, \"ticks\": \"\"}}, \"type\": \"scattergeo\"}], \"scattergl\": [{\"marker\": {\"colorbar\": {\"outlinewidth\": 0, \"ticks\": \"\"}}, \"type\": \"scattergl\"}], \"scattermapbox\": [{\"marker\": {\"colorbar\": {\"outlinewidth\": 0, \"ticks\": \"\"}}, \"type\": \"scattermapbox\"}], \"scatterpolar\": [{\"marker\": {\"colorbar\": {\"outlinewidth\": 0, \"ticks\": \"\"}}, \"type\": \"scatterpolar\"}], \"scatterpolargl\": [{\"marker\": {\"colorbar\": {\"outlinewidth\": 0, \"ticks\": \"\"}}, \"type\": \"scatterpolargl\"}], \"scatterternary\": [{\"marker\": {\"colorbar\": {\"outlinewidth\": 0, \"ticks\": \"\"}}, \"type\": \"scatterternary\"}], \"surface\": [{\"colorbar\": {\"outlinewidth\": 0, \"ticks\": \"\"}, \"colorscale\": [[0.0, \"#0d0887\"], [0.1111111111111111, \"#46039f\"], [0.2222222222222222, \"#7201a8\"], [0.3333333333333333, \"#9c179e\"], [0.4444444444444444, \"#bd3786\"], [0.5555555555555556, \"#d8576b\"], [0.6666666666666666, \"#ed7953\"], [0.7777777777777778, \"#fb9f3a\"], [0.8888888888888888, \"#fdca26\"], [1.0, \"#f0f921\"]], \"type\": \"surface\"}], \"table\": [{\"cells\": {\"fill\": {\"color\": \"#EBF0F8\"}, \"line\": {\"color\": \"white\"}}, \"header\": {\"fill\": {\"color\": \"#C8D4E3\"}, \"line\": {\"color\": \"white\"}}, \"type\": \"table\"}]}, \"layout\": {\"annotationdefaults\": {\"arrowcolor\": \"#2a3f5f\", \"arrowhead\": 0, \"arrowwidth\": 1}, \"autotypenumbers\": \"strict\", \"coloraxis\": {\"colorbar\": {\"outlinewidth\": 0, \"ticks\": \"\"}}, \"colorscale\": {\"diverging\": [[0, \"#8e0152\"], [0.1, \"#c51b7d\"], [0.2, \"#de77ae\"], [0.3, \"#f1b6da\"], [0.4, \"#fde0ef\"], [0.5, \"#f7f7f7\"], [0.6, \"#e6f5d0\"], [0.7, \"#b8e186\"], [0.8, \"#7fbc41\"], [0.9, \"#4d9221\"], [1, \"#276419\"]], \"sequential\": [[0.0, \"#0d0887\"], [0.1111111111111111, \"#46039f\"], [0.2222222222222222, \"#7201a8\"], [0.3333333333333333, \"#9c179e\"], [0.4444444444444444, \"#bd3786\"], [0.5555555555555556, \"#d8576b\"], [0.6666666666666666, \"#ed7953\"], [0.7777777777777778, \"#fb9f3a\"], [0.8888888888888888, \"#fdca26\"], [1.0, \"#f0f921\"]], \"sequentialminus\": [[0.0, \"#0d0887\"], [0.1111111111111111, \"#46039f\"], [0.2222222222222222, \"#7201a8\"], [0.3333333333333333, \"#9c179e\"], [0.4444444444444444, \"#bd3786\"], [0.5555555555555556, \"#d8576b\"], [0.6666666666666666, \"#ed7953\"], [0.7777777777777778, \"#fb9f3a\"], [0.8888888888888888, \"#fdca26\"], [1.0, \"#f0f921\"]]}, \"colorway\": [\"#636efa\", \"#EF553B\", \"#00cc96\", \"#ab63fa\", \"#FFA15A\", \"#19d3f3\", \"#FF6692\", \"#B6E880\", \"#FF97FF\", \"#FECB52\"], \"font\": {\"color\": \"#2a3f5f\"}, \"geo\": {\"bgcolor\": \"white\", \"lakecolor\": \"white\", \"landcolor\": \"#E5ECF6\", \"showlakes\": true, \"showland\": true, \"subunitcolor\": \"white\"}, \"hoverlabel\": {\"align\": \"left\"}, \"hovermode\": \"closest\", \"mapbox\": {\"style\": \"light\"}, \"paper_bgcolor\": \"white\", \"plot_bgcolor\": \"#E5ECF6\", \"polar\": {\"angularaxis\": {\"gridcolor\": \"white\", \"linecolor\": \"white\", \"ticks\": \"\"}, \"bgcolor\": \"#E5ECF6\", \"radialaxis\": {\"gridcolor\": \"white\", \"linecolor\": \"white\", \"ticks\": \"\"}}, \"scene\": {\"xaxis\": {\"backgroundcolor\": \"#E5ECF6\", \"gridcolor\": \"white\", \"gridwidth\": 2, \"linecolor\": \"white\", \"showbackground\": true, \"ticks\": \"\", \"zerolinecolor\": \"white\"}, \"yaxis\": {\"backgroundcolor\": \"#E5ECF6\", \"gridcolor\": \"white\", \"gridwidth\": 2, \"linecolor\": \"white\", \"showbackground\": true, \"ticks\": \"\", \"zerolinecolor\": \"white\"}, \"zaxis\": {\"backgroundcolor\": \"#E5ECF6\", \"gridcolor\": \"white\", \"gridwidth\": 2, \"linecolor\": \"white\", \"showbackground\": true, \"ticks\": \"\", \"zerolinecolor\": \"white\"}}, \"shapedefaults\": {\"line\": {\"color\": \"#2a3f5f\"}}, \"ternary\": {\"aaxis\": {\"gridcolor\": \"white\", \"linecolor\": \"white\", \"ticks\": \"\"}, \"baxis\": {\"gridcolor\": \"white\", \"linecolor\": \"white\", \"ticks\": \"\"}, \"bgcolor\": \"#E5ECF6\", \"caxis\": {\"gridcolor\": \"white\", \"linecolor\": \"white\", \"ticks\": \"\"}}, \"title\": {\"x\": 0.05}, \"xaxis\": {\"automargin\": true, \"gridcolor\": \"white\", \"linecolor\": \"white\", \"ticks\": \"\", \"title\": {\"standoff\": 15}, \"zerolinecolor\": \"white\", \"zerolinewidth\": 2}, \"yaxis\": {\"automargin\": true, \"gridcolor\": \"white\", \"linecolor\": \"white\", \"ticks\": \"\", \"title\": {\"standoff\": 15}, \"zerolinecolor\": \"white\", \"zerolinewidth\": 2}}}, \"title\": {\"text\": \"New posts on Medium\"}, \"yaxis\": {\"title\": {\"text\": \"Posts\"}}},                        {\"responsive\": true}                    ).then(function(){\n",
       "                            \n",
       "var gd = document.getElementById('c41cad53-5787-4ed3-b46d-92ebd8139c7f');\n",
       "var x = new MutationObserver(function (mutations, observer) {{\n",
       "        var display = window.getComputedStyle(gd).display;\n",
       "        if (!display || display === 'none') {{\n",
       "            console.log([gd, 'removed!']);\n",
       "            Plotly.purge(gd);\n",
       "            observer.disconnect();\n",
       "        }}\n",
       "}});\n",
       "\n",
       "// Listen for the removal of the full notebook cells\n",
       "var notebookContainer = gd.closest('#notebook-container');\n",
       "if (notebookContainer) {{\n",
       "    x.observe(notebookContainer, {childList: true});\n",
       "}}\n",
       "\n",
       "// Listen for the clearing of the current output cell\n",
       "var outputEl = gd.closest('.output');\n",
       "if (outputEl) {{\n",
       "    x.observe(outputEl, {childList: true});\n",
       "}}\n",
       "\n",
       "                        })                };                });            </script>        </div>"
      ]
     },
     "metadata": {},
     "output_type": "display_data"
    }
   ],
   "source": [
    "def show_forecast(cmp_df, num_predictions, num_values, title):\n",
    "    \"\"\"Visualize the forecast.\"\"\"\n",
    "    \n",
    "    def create_go(name, column, num, **kwargs):\n",
    "        points = cmp_df.tail(num)\n",
    "        args = dict(name=name, x=points.index, y=points[column], mode='lines')\n",
    "        args.update(kwargs)\n",
    "        return go.Scatter(**args)\n",
    "    \n",
    "    lower_bound = create_go('Lower Bound', 'yhat_lower', num_predictions,\n",
    "                            line=dict(width=0),\n",
    "                            marker=dict(color=\"gray\"))\n",
    "    upper_bound = create_go('Upper Bound', 'yhat_upper', num_predictions,\n",
    "                            line=dict(width=0),\n",
    "                            marker=dict(color=\"gray\"),\n",
    "                            fillcolor='rgba(68, 68, 68, 0.3)', \n",
    "                            fill='tonexty')\n",
    "    forecast = create_go('Forecast', 'yhat', num_predictions,\n",
    "                         line=dict(color='rgb(31, 119, 180)'))\n",
    "    actual = create_go('Actual', 'y', num_values,\n",
    "                       marker=dict(color=\"red\"))\n",
    "    \n",
    "    # In this case the order of the series is important because of the filling\n",
    "    data = [lower_bound, upper_bound, forecast, actual]\n",
    "\n",
    "    layout = go.Layout(yaxis=dict(title='Posts'), title=title, showlegend = False)\n",
    "    fig = go.Figure(data=data, layout=layout)\n",
    "    iplot(fig, show_link=False)\n",
    "\n",
    "show_forecast(cmp_df, prediction_size, 100, 'New posts on Medium')"
   ]
  },
  {
   "cell_type": "code",
   "execution_count": 32,
   "id": "42a71e4f",
   "metadata": {},
   "outputs": [],
   "source": [
    "def inverse_boxcox(y, lambda_):\n",
    "    return np.exp(y) if lambda_ == 0 else np.exp(np.log(lambda_ * y + 1) / lambda_)"
   ]
  },
  {
   "cell_type": "code",
   "execution_count": 33,
   "id": "a38c71e5",
   "metadata": {},
   "outputs": [],
   "source": [
    "train_df2 = train_df.copy().set_index('ds')"
   ]
  },
  {
   "cell_type": "code",
   "execution_count": 34,
   "id": "118e01ab",
   "metadata": {},
   "outputs": [],
   "source": [
    "train_df2['y'], lambda_prophet = stats.boxcox(train_df2['y'])\n",
    "train_df2.reset_index(inplace=True)"
   ]
  },
  {
   "cell_type": "code",
   "execution_count": 35,
   "id": "c08a312a",
   "metadata": {},
   "outputs": [
    {
     "name": "stderr",
     "output_type": "stream",
     "text": [
      "INFO:fbprophet:Disabling daily seasonality. Run prophet with daily_seasonality=True to override this.\n"
     ]
    }
   ],
   "source": [
    "m2 = Prophet()\n",
    "m2.fit(train_df2)\n",
    "future2 = m2.make_future_dataframe(periods=prediction_size)\n",
    "forecast2 = m2.predict(future2)"
   ]
  },
  {
   "cell_type": "code",
   "execution_count": 36,
   "id": "54fb0e2a",
   "metadata": {},
   "outputs": [],
   "source": [
    "for column in ['yhat', 'yhat_lower', 'yhat_upper']:\n",
    "    forecast2[column] = inverse_boxcox(forecast2[column], lambda_prophet)"
   ]
  },
  {
   "cell_type": "code",
   "execution_count": 37,
   "id": "e1e0a849",
   "metadata": {},
   "outputs": [
    {
     "name": "stdout",
     "output_type": "stream",
     "text": [
      "MAPE 11.638850654476004\n",
      "MAE 39.28050400479044\n"
     ]
    }
   ],
   "source": [
    "cmp_df2 = make_comparison_dataframe(df, forecast2)\n",
    "for err_name, err_value in calculate_forecast_errors(cmp_df2, prediction_size).items():\n",
    "    print(err_name, err_value)"
   ]
  },
  {
   "cell_type": "code",
   "execution_count": 38,
   "id": "adf61abe",
   "metadata": {},
   "outputs": [
    {
     "data": {
      "application/vnd.plotly.v1+json": {
       "config": {
        "linkText": "Export to plot.ly",
        "plotlyServerURL": "https://plot.ly",
        "showLink": false
       },
       "data": [
        {
         "line": {
          "width": 0
         },
         "marker": {
          "color": "gray"
         },
         "mode": "lines",
         "name": "Lower Bound",
         "type": "scatter",
         "x": [
          "2017-05-27T00:00:00",
          "2017-05-28T00:00:00",
          "2017-05-29T00:00:00",
          "2017-05-30T00:00:00",
          "2017-05-31T00:00:00",
          "2017-06-01T00:00:00",
          "2017-06-02T00:00:00",
          "2017-06-03T00:00:00",
          "2017-06-04T00:00:00",
          "2017-06-05T00:00:00",
          "2017-06-06T00:00:00",
          "2017-06-07T00:00:00",
          "2017-06-08T00:00:00",
          "2017-06-09T00:00:00",
          "2017-06-10T00:00:00",
          "2017-06-11T00:00:00",
          "2017-06-12T00:00:00",
          "2017-06-13T00:00:00",
          "2017-06-14T00:00:00",
          "2017-06-15T00:00:00",
          "2017-06-16T00:00:00",
          "2017-06-17T00:00:00",
          "2017-06-18T00:00:00",
          "2017-06-19T00:00:00",
          "2017-06-20T00:00:00",
          "2017-06-21T00:00:00",
          "2017-06-22T00:00:00",
          "2017-06-23T00:00:00",
          "2017-06-24T00:00:00",
          "2017-06-25T00:00:00"
         ],
         "y": [
          200.69468334763596,
          204.83036106428108,
          251.43914359271207,
          252.98761571565217,
          254.42411139149226,
          249.76990563727233,
          240.42026291600715,
          202.50401883923735,
          208.4111493183102,
          251.0754843265306,
          256.8313263222027,
          254.20768169491961,
          252.697734974622,
          243.05085174873255,
          206.11923762376145,
          210.30451135704837,
          256.6888322920443,
          258.66800729637566,
          261.3848390546495,
          256.3924066888108,
          248.83197920730663,
          212.0087154750668,
          216.21778739216109,
          260.59961244007326,
          264.2503317484286,
          266.37997072976515,
          262.62365767376,
          253.18131379934238,
          216.9060560509343,
          222.45335053025437
         ]
        },
        {
         "fill": "tonexty",
         "fillcolor": "rgba(68, 68, 68, 0.3)",
         "line": {
          "width": 0
         },
         "marker": {
          "color": "gray"
         },
         "mode": "lines",
         "name": "Upper Bound",
         "type": "scatter",
         "x": [
          "2017-05-27T00:00:00",
          "2017-05-28T00:00:00",
          "2017-05-29T00:00:00",
          "2017-05-30T00:00:00",
          "2017-05-31T00:00:00",
          "2017-06-01T00:00:00",
          "2017-06-02T00:00:00",
          "2017-06-03T00:00:00",
          "2017-06-04T00:00:00",
          "2017-06-05T00:00:00",
          "2017-06-06T00:00:00",
          "2017-06-07T00:00:00",
          "2017-06-08T00:00:00",
          "2017-06-09T00:00:00",
          "2017-06-10T00:00:00",
          "2017-06-11T00:00:00",
          "2017-06-12T00:00:00",
          "2017-06-13T00:00:00",
          "2017-06-14T00:00:00",
          "2017-06-15T00:00:00",
          "2017-06-16T00:00:00",
          "2017-06-17T00:00:00",
          "2017-06-18T00:00:00",
          "2017-06-19T00:00:00",
          "2017-06-20T00:00:00",
          "2017-06-21T00:00:00",
          "2017-06-22T00:00:00",
          "2017-06-23T00:00:00",
          "2017-06-24T00:00:00",
          "2017-06-25T00:00:00"
         ],
         "y": [
          252.80827086687177,
          253.26636210292932,
          299.59070590131194,
          302.9533389125005,
          303.349632312398,
          298.95165505048243,
          290.59615386081,
          253.69374202666168,
          256.7808540604997,
          301.4887094464411,
          304.35650846284403,
          303.59630015966127,
          301.6725869635191,
          294.25271797980827,
          256.8524237216768,
          260.327985671806,
          305.84356628144127,
          309.541581102264,
          309.30552459359643,
          305.11155153002096,
          296.80301953036627,
          261.9761016905491,
          264.66009010007315,
          310.0556121301767,
          314.41069716233767,
          316.4993677795266,
          311.9834330597816,
          302.7058150906764,
          267.7413295756451,
          270.6869630131125
         ]
        },
        {
         "line": {
          "color": "rgb(31, 119, 180)"
         },
         "mode": "lines",
         "name": "Forecast",
         "type": "scatter",
         "x": [
          "2017-05-27T00:00:00",
          "2017-05-28T00:00:00",
          "2017-05-29T00:00:00",
          "2017-05-30T00:00:00",
          "2017-05-31T00:00:00",
          "2017-06-01T00:00:00",
          "2017-06-02T00:00:00",
          "2017-06-03T00:00:00",
          "2017-06-04T00:00:00",
          "2017-06-05T00:00:00",
          "2017-06-06T00:00:00",
          "2017-06-07T00:00:00",
          "2017-06-08T00:00:00",
          "2017-06-09T00:00:00",
          "2017-06-10T00:00:00",
          "2017-06-11T00:00:00",
          "2017-06-12T00:00:00",
          "2017-06-13T00:00:00",
          "2017-06-14T00:00:00",
          "2017-06-15T00:00:00",
          "2017-06-16T00:00:00",
          "2017-06-17T00:00:00",
          "2017-06-18T00:00:00",
          "2017-06-19T00:00:00",
          "2017-06-20T00:00:00",
          "2017-06-21T00:00:00",
          "2017-06-22T00:00:00",
          "2017-06-23T00:00:00",
          "2017-06-24T00:00:00",
          "2017-06-25T00:00:00"
         ],
         "y": [
          226.44552370222215,
          230.1830301003932,
          274.7728951017757,
          278.5169890466121,
          278.7251392118195,
          274.94325004183037,
          265.634281576249,
          228.43234233803565,
          232.19871818744122,
          276.8549306684908,
          280.7011274913873,
          281.04484595484,
          277.4291801631779,
          268.3138152402716,
          231.32918360624282,
          235.33256350704804,
          280.24121192662795,
          284.3508330661339,
          284.9644217150106,
          281.6205108837473,
          272.7742854489331,
          236.05181547558726,
          240.30622808423763,
          285.4509087652398,
          289.77803221704727,
          290.58746105145093,
          287.41504090157076,
          278.71375299926643,
          242.1079773631016,
          246.44968510393306
         ]
        },
        {
         "marker": {
          "color": "red"
         },
         "mode": "lines",
         "name": "Actual",
         "type": "scatter",
         "x": [
          "2017-03-18T00:00:00",
          "2017-03-19T00:00:00",
          "2017-03-20T00:00:00",
          "2017-03-21T00:00:00",
          "2017-03-22T00:00:00",
          "2017-03-23T00:00:00",
          "2017-03-24T00:00:00",
          "2017-03-25T00:00:00",
          "2017-03-26T00:00:00",
          "2017-03-27T00:00:00",
          "2017-03-28T00:00:00",
          "2017-03-29T00:00:00",
          "2017-03-30T00:00:00",
          "2017-03-31T00:00:00",
          "2017-04-01T00:00:00",
          "2017-04-02T00:00:00",
          "2017-04-03T00:00:00",
          "2017-04-04T00:00:00",
          "2017-04-05T00:00:00",
          "2017-04-06T00:00:00",
          "2017-04-07T00:00:00",
          "2017-04-08T00:00:00",
          "2017-04-09T00:00:00",
          "2017-04-10T00:00:00",
          "2017-04-11T00:00:00",
          "2017-04-12T00:00:00",
          "2017-04-13T00:00:00",
          "2017-04-14T00:00:00",
          "2017-04-15T00:00:00",
          "2017-04-16T00:00:00",
          "2017-04-17T00:00:00",
          "2017-04-18T00:00:00",
          "2017-04-19T00:00:00",
          "2017-04-20T00:00:00",
          "2017-04-21T00:00:00",
          "2017-04-22T00:00:00",
          "2017-04-23T00:00:00",
          "2017-04-24T00:00:00",
          "2017-04-25T00:00:00",
          "2017-04-26T00:00:00",
          "2017-04-27T00:00:00",
          "2017-04-28T00:00:00",
          "2017-04-29T00:00:00",
          "2017-04-30T00:00:00",
          "2017-05-01T00:00:00",
          "2017-05-02T00:00:00",
          "2017-05-03T00:00:00",
          "2017-05-04T00:00:00",
          "2017-05-05T00:00:00",
          "2017-05-06T00:00:00",
          "2017-05-07T00:00:00",
          "2017-05-08T00:00:00",
          "2017-05-09T00:00:00",
          "2017-05-10T00:00:00",
          "2017-05-11T00:00:00",
          "2017-05-12T00:00:00",
          "2017-05-13T00:00:00",
          "2017-05-14T00:00:00",
          "2017-05-15T00:00:00",
          "2017-05-16T00:00:00",
          "2017-05-17T00:00:00",
          "2017-05-18T00:00:00",
          "2017-05-19T00:00:00",
          "2017-05-20T00:00:00",
          "2017-05-21T00:00:00",
          "2017-05-22T00:00:00",
          "2017-05-23T00:00:00",
          "2017-05-24T00:00:00",
          "2017-05-25T00:00:00",
          "2017-05-26T00:00:00",
          "2017-05-27T00:00:00",
          "2017-05-28T00:00:00",
          "2017-05-29T00:00:00",
          "2017-05-30T00:00:00",
          "2017-05-31T00:00:00",
          "2017-06-01T00:00:00",
          "2017-06-02T00:00:00",
          "2017-06-03T00:00:00",
          "2017-06-04T00:00:00",
          "2017-06-05T00:00:00",
          "2017-06-06T00:00:00",
          "2017-06-07T00:00:00",
          "2017-06-08T00:00:00",
          "2017-06-09T00:00:00",
          "2017-06-10T00:00:00",
          "2017-06-11T00:00:00",
          "2017-06-12T00:00:00",
          "2017-06-13T00:00:00",
          "2017-06-14T00:00:00",
          "2017-06-15T00:00:00",
          "2017-06-16T00:00:00",
          "2017-06-17T00:00:00",
          "2017-06-18T00:00:00",
          "2017-06-19T00:00:00",
          "2017-06-20T00:00:00",
          "2017-06-21T00:00:00",
          "2017-06-22T00:00:00",
          "2017-06-23T00:00:00",
          "2017-06-24T00:00:00",
          "2017-06-25T00:00:00"
         ],
         "y": [
          123,
          99,
          205,
          247,
          246,
          228,
          208,
          135,
          129,
          230,
          225,
          238,
          257,
          207,
          125,
          142,
          259,
          221,
          203,
          274,
          221,
          140,
          149,
          238,
          258,
          239,
          250,
          204,
          137,
          143,
          233,
          264,
          278,
          274,
          259,
          178,
          168,
          296,
          306,
          270,
          277,
          262,
          187,
          148,
          305,
          332,
          286,
          284,
          264,
          133,
          136,
          267,
          262,
          264,
          267,
          281,
          205,
          180,
          341,
          345,
          367,
          336,
          301,
          156,
          194,
          341,
          388,
          375,
          298,
          269,
          157,
          172,
          297,
          365,
          407,
          392,
          328,
          170,
          194,
          340,
          348,
          323,
          347,
          291,
          165,
          193,
          349,
          358,
          344,
          336,
          345,
          188,
          243,
          408,
          417,
          422,
          441,
          421,
          277,
          253
         ]
        }
       ],
       "layout": {
        "showlegend": false,
        "template": {
         "data": {
          "bar": [
           {
            "error_x": {
             "color": "#2a3f5f"
            },
            "error_y": {
             "color": "#2a3f5f"
            },
            "marker": {
             "line": {
              "color": "#E5ECF6",
              "width": 0.5
             }
            },
            "type": "bar"
           }
          ],
          "barpolar": [
           {
            "marker": {
             "line": {
              "color": "#E5ECF6",
              "width": 0.5
             }
            },
            "type": "barpolar"
           }
          ],
          "carpet": [
           {
            "aaxis": {
             "endlinecolor": "#2a3f5f",
             "gridcolor": "white",
             "linecolor": "white",
             "minorgridcolor": "white",
             "startlinecolor": "#2a3f5f"
            },
            "baxis": {
             "endlinecolor": "#2a3f5f",
             "gridcolor": "white",
             "linecolor": "white",
             "minorgridcolor": "white",
             "startlinecolor": "#2a3f5f"
            },
            "type": "carpet"
           }
          ],
          "choropleth": [
           {
            "colorbar": {
             "outlinewidth": 0,
             "ticks": ""
            },
            "type": "choropleth"
           }
          ],
          "contour": [
           {
            "colorbar": {
             "outlinewidth": 0,
             "ticks": ""
            },
            "colorscale": [
             [
              0,
              "#0d0887"
             ],
             [
              0.1111111111111111,
              "#46039f"
             ],
             [
              0.2222222222222222,
              "#7201a8"
             ],
             [
              0.3333333333333333,
              "#9c179e"
             ],
             [
              0.4444444444444444,
              "#bd3786"
             ],
             [
              0.5555555555555556,
              "#d8576b"
             ],
             [
              0.6666666666666666,
              "#ed7953"
             ],
             [
              0.7777777777777778,
              "#fb9f3a"
             ],
             [
              0.8888888888888888,
              "#fdca26"
             ],
             [
              1,
              "#f0f921"
             ]
            ],
            "type": "contour"
           }
          ],
          "contourcarpet": [
           {
            "colorbar": {
             "outlinewidth": 0,
             "ticks": ""
            },
            "type": "contourcarpet"
           }
          ],
          "heatmap": [
           {
            "colorbar": {
             "outlinewidth": 0,
             "ticks": ""
            },
            "colorscale": [
             [
              0,
              "#0d0887"
             ],
             [
              0.1111111111111111,
              "#46039f"
             ],
             [
              0.2222222222222222,
              "#7201a8"
             ],
             [
              0.3333333333333333,
              "#9c179e"
             ],
             [
              0.4444444444444444,
              "#bd3786"
             ],
             [
              0.5555555555555556,
              "#d8576b"
             ],
             [
              0.6666666666666666,
              "#ed7953"
             ],
             [
              0.7777777777777778,
              "#fb9f3a"
             ],
             [
              0.8888888888888888,
              "#fdca26"
             ],
             [
              1,
              "#f0f921"
             ]
            ],
            "type": "heatmap"
           }
          ],
          "heatmapgl": [
           {
            "colorbar": {
             "outlinewidth": 0,
             "ticks": ""
            },
            "colorscale": [
             [
              0,
              "#0d0887"
             ],
             [
              0.1111111111111111,
              "#46039f"
             ],
             [
              0.2222222222222222,
              "#7201a8"
             ],
             [
              0.3333333333333333,
              "#9c179e"
             ],
             [
              0.4444444444444444,
              "#bd3786"
             ],
             [
              0.5555555555555556,
              "#d8576b"
             ],
             [
              0.6666666666666666,
              "#ed7953"
             ],
             [
              0.7777777777777778,
              "#fb9f3a"
             ],
             [
              0.8888888888888888,
              "#fdca26"
             ],
             [
              1,
              "#f0f921"
             ]
            ],
            "type": "heatmapgl"
           }
          ],
          "histogram": [
           {
            "marker": {
             "colorbar": {
              "outlinewidth": 0,
              "ticks": ""
             }
            },
            "type": "histogram"
           }
          ],
          "histogram2d": [
           {
            "colorbar": {
             "outlinewidth": 0,
             "ticks": ""
            },
            "colorscale": [
             [
              0,
              "#0d0887"
             ],
             [
              0.1111111111111111,
              "#46039f"
             ],
             [
              0.2222222222222222,
              "#7201a8"
             ],
             [
              0.3333333333333333,
              "#9c179e"
             ],
             [
              0.4444444444444444,
              "#bd3786"
             ],
             [
              0.5555555555555556,
              "#d8576b"
             ],
             [
              0.6666666666666666,
              "#ed7953"
             ],
             [
              0.7777777777777778,
              "#fb9f3a"
             ],
             [
              0.8888888888888888,
              "#fdca26"
             ],
             [
              1,
              "#f0f921"
             ]
            ],
            "type": "histogram2d"
           }
          ],
          "histogram2dcontour": [
           {
            "colorbar": {
             "outlinewidth": 0,
             "ticks": ""
            },
            "colorscale": [
             [
              0,
              "#0d0887"
             ],
             [
              0.1111111111111111,
              "#46039f"
             ],
             [
              0.2222222222222222,
              "#7201a8"
             ],
             [
              0.3333333333333333,
              "#9c179e"
             ],
             [
              0.4444444444444444,
              "#bd3786"
             ],
             [
              0.5555555555555556,
              "#d8576b"
             ],
             [
              0.6666666666666666,
              "#ed7953"
             ],
             [
              0.7777777777777778,
              "#fb9f3a"
             ],
             [
              0.8888888888888888,
              "#fdca26"
             ],
             [
              1,
              "#f0f921"
             ]
            ],
            "type": "histogram2dcontour"
           }
          ],
          "mesh3d": [
           {
            "colorbar": {
             "outlinewidth": 0,
             "ticks": ""
            },
            "type": "mesh3d"
           }
          ],
          "parcoords": [
           {
            "line": {
             "colorbar": {
              "outlinewidth": 0,
              "ticks": ""
             }
            },
            "type": "parcoords"
           }
          ],
          "pie": [
           {
            "automargin": true,
            "type": "pie"
           }
          ],
          "scatter": [
           {
            "marker": {
             "colorbar": {
              "outlinewidth": 0,
              "ticks": ""
             }
            },
            "type": "scatter"
           }
          ],
          "scatter3d": [
           {
            "line": {
             "colorbar": {
              "outlinewidth": 0,
              "ticks": ""
             }
            },
            "marker": {
             "colorbar": {
              "outlinewidth": 0,
              "ticks": ""
             }
            },
            "type": "scatter3d"
           }
          ],
          "scattercarpet": [
           {
            "marker": {
             "colorbar": {
              "outlinewidth": 0,
              "ticks": ""
             }
            },
            "type": "scattercarpet"
           }
          ],
          "scattergeo": [
           {
            "marker": {
             "colorbar": {
              "outlinewidth": 0,
              "ticks": ""
             }
            },
            "type": "scattergeo"
           }
          ],
          "scattergl": [
           {
            "marker": {
             "colorbar": {
              "outlinewidth": 0,
              "ticks": ""
             }
            },
            "type": "scattergl"
           }
          ],
          "scattermapbox": [
           {
            "marker": {
             "colorbar": {
              "outlinewidth": 0,
              "ticks": ""
             }
            },
            "type": "scattermapbox"
           }
          ],
          "scatterpolar": [
           {
            "marker": {
             "colorbar": {
              "outlinewidth": 0,
              "ticks": ""
             }
            },
            "type": "scatterpolar"
           }
          ],
          "scatterpolargl": [
           {
            "marker": {
             "colorbar": {
              "outlinewidth": 0,
              "ticks": ""
             }
            },
            "type": "scatterpolargl"
           }
          ],
          "scatterternary": [
           {
            "marker": {
             "colorbar": {
              "outlinewidth": 0,
              "ticks": ""
             }
            },
            "type": "scatterternary"
           }
          ],
          "surface": [
           {
            "colorbar": {
             "outlinewidth": 0,
             "ticks": ""
            },
            "colorscale": [
             [
              0,
              "#0d0887"
             ],
             [
              0.1111111111111111,
              "#46039f"
             ],
             [
              0.2222222222222222,
              "#7201a8"
             ],
             [
              0.3333333333333333,
              "#9c179e"
             ],
             [
              0.4444444444444444,
              "#bd3786"
             ],
             [
              0.5555555555555556,
              "#d8576b"
             ],
             [
              0.6666666666666666,
              "#ed7953"
             ],
             [
              0.7777777777777778,
              "#fb9f3a"
             ],
             [
              0.8888888888888888,
              "#fdca26"
             ],
             [
              1,
              "#f0f921"
             ]
            ],
            "type": "surface"
           }
          ],
          "table": [
           {
            "cells": {
             "fill": {
              "color": "#EBF0F8"
             },
             "line": {
              "color": "white"
             }
            },
            "header": {
             "fill": {
              "color": "#C8D4E3"
             },
             "line": {
              "color": "white"
             }
            },
            "type": "table"
           }
          ]
         },
         "layout": {
          "annotationdefaults": {
           "arrowcolor": "#2a3f5f",
           "arrowhead": 0,
           "arrowwidth": 1
          },
          "autotypenumbers": "strict",
          "coloraxis": {
           "colorbar": {
            "outlinewidth": 0,
            "ticks": ""
           }
          },
          "colorscale": {
           "diverging": [
            [
             0,
             "#8e0152"
            ],
            [
             0.1,
             "#c51b7d"
            ],
            [
             0.2,
             "#de77ae"
            ],
            [
             0.3,
             "#f1b6da"
            ],
            [
             0.4,
             "#fde0ef"
            ],
            [
             0.5,
             "#f7f7f7"
            ],
            [
             0.6,
             "#e6f5d0"
            ],
            [
             0.7,
             "#b8e186"
            ],
            [
             0.8,
             "#7fbc41"
            ],
            [
             0.9,
             "#4d9221"
            ],
            [
             1,
             "#276419"
            ]
           ],
           "sequential": [
            [
             0,
             "#0d0887"
            ],
            [
             0.1111111111111111,
             "#46039f"
            ],
            [
             0.2222222222222222,
             "#7201a8"
            ],
            [
             0.3333333333333333,
             "#9c179e"
            ],
            [
             0.4444444444444444,
             "#bd3786"
            ],
            [
             0.5555555555555556,
             "#d8576b"
            ],
            [
             0.6666666666666666,
             "#ed7953"
            ],
            [
             0.7777777777777778,
             "#fb9f3a"
            ],
            [
             0.8888888888888888,
             "#fdca26"
            ],
            [
             1,
             "#f0f921"
            ]
           ],
           "sequentialminus": [
            [
             0,
             "#0d0887"
            ],
            [
             0.1111111111111111,
             "#46039f"
            ],
            [
             0.2222222222222222,
             "#7201a8"
            ],
            [
             0.3333333333333333,
             "#9c179e"
            ],
            [
             0.4444444444444444,
             "#bd3786"
            ],
            [
             0.5555555555555556,
             "#d8576b"
            ],
            [
             0.6666666666666666,
             "#ed7953"
            ],
            [
             0.7777777777777778,
             "#fb9f3a"
            ],
            [
             0.8888888888888888,
             "#fdca26"
            ],
            [
             1,
             "#f0f921"
            ]
           ]
          },
          "colorway": [
           "#636efa",
           "#EF553B",
           "#00cc96",
           "#ab63fa",
           "#FFA15A",
           "#19d3f3",
           "#FF6692",
           "#B6E880",
           "#FF97FF",
           "#FECB52"
          ],
          "font": {
           "color": "#2a3f5f"
          },
          "geo": {
           "bgcolor": "white",
           "lakecolor": "white",
           "landcolor": "#E5ECF6",
           "showlakes": true,
           "showland": true,
           "subunitcolor": "white"
          },
          "hoverlabel": {
           "align": "left"
          },
          "hovermode": "closest",
          "mapbox": {
           "style": "light"
          },
          "paper_bgcolor": "white",
          "plot_bgcolor": "#E5ECF6",
          "polar": {
           "angularaxis": {
            "gridcolor": "white",
            "linecolor": "white",
            "ticks": ""
           },
           "bgcolor": "#E5ECF6",
           "radialaxis": {
            "gridcolor": "white",
            "linecolor": "white",
            "ticks": ""
           }
          },
          "scene": {
           "xaxis": {
            "backgroundcolor": "#E5ECF6",
            "gridcolor": "white",
            "gridwidth": 2,
            "linecolor": "white",
            "showbackground": true,
            "ticks": "",
            "zerolinecolor": "white"
           },
           "yaxis": {
            "backgroundcolor": "#E5ECF6",
            "gridcolor": "white",
            "gridwidth": 2,
            "linecolor": "white",
            "showbackground": true,
            "ticks": "",
            "zerolinecolor": "white"
           },
           "zaxis": {
            "backgroundcolor": "#E5ECF6",
            "gridcolor": "white",
            "gridwidth": 2,
            "linecolor": "white",
            "showbackground": true,
            "ticks": "",
            "zerolinecolor": "white"
           }
          },
          "shapedefaults": {
           "line": {
            "color": "#2a3f5f"
           }
          },
          "ternary": {
           "aaxis": {
            "gridcolor": "white",
            "linecolor": "white",
            "ticks": ""
           },
           "baxis": {
            "gridcolor": "white",
            "linecolor": "white",
            "ticks": ""
           },
           "bgcolor": "#E5ECF6",
           "caxis": {
            "gridcolor": "white",
            "linecolor": "white",
            "ticks": ""
           }
          },
          "title": {
           "x": 0.05
          },
          "xaxis": {
           "automargin": true,
           "gridcolor": "white",
           "linecolor": "white",
           "ticks": "",
           "title": {
            "standoff": 15
           },
           "zerolinecolor": "white",
           "zerolinewidth": 2
          },
          "yaxis": {
           "automargin": true,
           "gridcolor": "white",
           "linecolor": "white",
           "ticks": "",
           "title": {
            "standoff": 15
           },
           "zerolinecolor": "white",
           "zerolinewidth": 2
          }
         }
        },
        "title": {
         "text": "No transformations"
        },
        "yaxis": {
         "title": {
          "text": "Posts"
         }
        }
       }
      },
      "text/html": [
       "<div>                            <div id=\"4b9fb909-032e-4c53-8fb5-1ede0584ed60\" class=\"plotly-graph-div\" style=\"height:525px; width:100%;\"></div>            <script type=\"text/javascript\">                require([\"plotly\"], function(Plotly) {                    window.PLOTLYENV=window.PLOTLYENV || {};                                    if (document.getElementById(\"4b9fb909-032e-4c53-8fb5-1ede0584ed60\")) {                    Plotly.newPlot(                        \"4b9fb909-032e-4c53-8fb5-1ede0584ed60\",                        [{\"line\": {\"width\": 0}, \"marker\": {\"color\": \"gray\"}, \"mode\": \"lines\", \"name\": \"Lower Bound\", \"type\": \"scatter\", \"x\": [\"2017-05-27T00:00:00\", \"2017-05-28T00:00:00\", \"2017-05-29T00:00:00\", \"2017-05-30T00:00:00\", \"2017-05-31T00:00:00\", \"2017-06-01T00:00:00\", \"2017-06-02T00:00:00\", \"2017-06-03T00:00:00\", \"2017-06-04T00:00:00\", \"2017-06-05T00:00:00\", \"2017-06-06T00:00:00\", \"2017-06-07T00:00:00\", \"2017-06-08T00:00:00\", \"2017-06-09T00:00:00\", \"2017-06-10T00:00:00\", \"2017-06-11T00:00:00\", \"2017-06-12T00:00:00\", \"2017-06-13T00:00:00\", \"2017-06-14T00:00:00\", \"2017-06-15T00:00:00\", \"2017-06-16T00:00:00\", \"2017-06-17T00:00:00\", \"2017-06-18T00:00:00\", \"2017-06-19T00:00:00\", \"2017-06-20T00:00:00\", \"2017-06-21T00:00:00\", \"2017-06-22T00:00:00\", \"2017-06-23T00:00:00\", \"2017-06-24T00:00:00\", \"2017-06-25T00:00:00\"], \"y\": [200.69468334763596, 204.83036106428108, 251.43914359271207, 252.98761571565217, 254.42411139149226, 249.76990563727233, 240.42026291600715, 202.50401883923735, 208.4111493183102, 251.0754843265306, 256.8313263222027, 254.20768169491961, 252.697734974622, 243.05085174873255, 206.11923762376145, 210.30451135704837, 256.6888322920443, 258.66800729637566, 261.3848390546495, 256.3924066888108, 248.83197920730663, 212.0087154750668, 216.21778739216109, 260.59961244007326, 264.2503317484286, 266.37997072976515, 262.62365767376, 253.18131379934238, 216.9060560509343, 222.45335053025437]}, {\"fill\": \"tonexty\", \"fillcolor\": \"rgba(68, 68, 68, 0.3)\", \"line\": {\"width\": 0}, \"marker\": {\"color\": \"gray\"}, \"mode\": \"lines\", \"name\": \"Upper Bound\", \"type\": \"scatter\", \"x\": [\"2017-05-27T00:00:00\", \"2017-05-28T00:00:00\", \"2017-05-29T00:00:00\", \"2017-05-30T00:00:00\", \"2017-05-31T00:00:00\", \"2017-06-01T00:00:00\", \"2017-06-02T00:00:00\", \"2017-06-03T00:00:00\", \"2017-06-04T00:00:00\", \"2017-06-05T00:00:00\", \"2017-06-06T00:00:00\", \"2017-06-07T00:00:00\", \"2017-06-08T00:00:00\", \"2017-06-09T00:00:00\", \"2017-06-10T00:00:00\", \"2017-06-11T00:00:00\", \"2017-06-12T00:00:00\", \"2017-06-13T00:00:00\", \"2017-06-14T00:00:00\", \"2017-06-15T00:00:00\", \"2017-06-16T00:00:00\", \"2017-06-17T00:00:00\", \"2017-06-18T00:00:00\", \"2017-06-19T00:00:00\", \"2017-06-20T00:00:00\", \"2017-06-21T00:00:00\", \"2017-06-22T00:00:00\", \"2017-06-23T00:00:00\", \"2017-06-24T00:00:00\", \"2017-06-25T00:00:00\"], \"y\": [252.80827086687177, 253.26636210292932, 299.59070590131194, 302.9533389125005, 303.349632312398, 298.95165505048243, 290.59615386081, 253.69374202666168, 256.7808540604997, 301.4887094464411, 304.35650846284403, 303.59630015966127, 301.6725869635191, 294.25271797980827, 256.8524237216768, 260.327985671806, 305.84356628144127, 309.541581102264, 309.30552459359643, 305.11155153002096, 296.80301953036627, 261.9761016905491, 264.66009010007315, 310.0556121301767, 314.41069716233767, 316.4993677795266, 311.9834330597816, 302.7058150906764, 267.7413295756451, 270.6869630131125]}, {\"line\": {\"color\": \"rgb(31, 119, 180)\"}, \"mode\": \"lines\", \"name\": \"Forecast\", \"type\": \"scatter\", \"x\": [\"2017-05-27T00:00:00\", \"2017-05-28T00:00:00\", \"2017-05-29T00:00:00\", \"2017-05-30T00:00:00\", \"2017-05-31T00:00:00\", \"2017-06-01T00:00:00\", \"2017-06-02T00:00:00\", \"2017-06-03T00:00:00\", \"2017-06-04T00:00:00\", \"2017-06-05T00:00:00\", \"2017-06-06T00:00:00\", \"2017-06-07T00:00:00\", \"2017-06-08T00:00:00\", \"2017-06-09T00:00:00\", \"2017-06-10T00:00:00\", \"2017-06-11T00:00:00\", \"2017-06-12T00:00:00\", \"2017-06-13T00:00:00\", \"2017-06-14T00:00:00\", \"2017-06-15T00:00:00\", \"2017-06-16T00:00:00\", \"2017-06-17T00:00:00\", \"2017-06-18T00:00:00\", \"2017-06-19T00:00:00\", \"2017-06-20T00:00:00\", \"2017-06-21T00:00:00\", \"2017-06-22T00:00:00\", \"2017-06-23T00:00:00\", \"2017-06-24T00:00:00\", \"2017-06-25T00:00:00\"], \"y\": [226.44552370222215, 230.1830301003932, 274.7728951017757, 278.5169890466121, 278.7251392118195, 274.94325004183037, 265.634281576249, 228.43234233803565, 232.19871818744122, 276.8549306684908, 280.7011274913873, 281.04484595484, 277.4291801631779, 268.3138152402716, 231.32918360624282, 235.33256350704804, 280.24121192662795, 284.3508330661339, 284.9644217150106, 281.6205108837473, 272.7742854489331, 236.05181547558726, 240.30622808423763, 285.4509087652398, 289.77803221704727, 290.58746105145093, 287.41504090157076, 278.71375299926643, 242.1079773631016, 246.44968510393306]}, {\"marker\": {\"color\": \"red\"}, \"mode\": \"lines\", \"name\": \"Actual\", \"type\": \"scatter\", \"x\": [\"2017-03-18T00:00:00\", \"2017-03-19T00:00:00\", \"2017-03-20T00:00:00\", \"2017-03-21T00:00:00\", \"2017-03-22T00:00:00\", \"2017-03-23T00:00:00\", \"2017-03-24T00:00:00\", \"2017-03-25T00:00:00\", \"2017-03-26T00:00:00\", \"2017-03-27T00:00:00\", \"2017-03-28T00:00:00\", \"2017-03-29T00:00:00\", \"2017-03-30T00:00:00\", \"2017-03-31T00:00:00\", \"2017-04-01T00:00:00\", \"2017-04-02T00:00:00\", \"2017-04-03T00:00:00\", \"2017-04-04T00:00:00\", \"2017-04-05T00:00:00\", \"2017-04-06T00:00:00\", \"2017-04-07T00:00:00\", \"2017-04-08T00:00:00\", \"2017-04-09T00:00:00\", \"2017-04-10T00:00:00\", \"2017-04-11T00:00:00\", \"2017-04-12T00:00:00\", \"2017-04-13T00:00:00\", \"2017-04-14T00:00:00\", \"2017-04-15T00:00:00\", \"2017-04-16T00:00:00\", \"2017-04-17T00:00:00\", \"2017-04-18T00:00:00\", \"2017-04-19T00:00:00\", \"2017-04-20T00:00:00\", \"2017-04-21T00:00:00\", \"2017-04-22T00:00:00\", \"2017-04-23T00:00:00\", \"2017-04-24T00:00:00\", \"2017-04-25T00:00:00\", \"2017-04-26T00:00:00\", \"2017-04-27T00:00:00\", \"2017-04-28T00:00:00\", \"2017-04-29T00:00:00\", \"2017-04-30T00:00:00\", \"2017-05-01T00:00:00\", \"2017-05-02T00:00:00\", \"2017-05-03T00:00:00\", \"2017-05-04T00:00:00\", \"2017-05-05T00:00:00\", \"2017-05-06T00:00:00\", \"2017-05-07T00:00:00\", \"2017-05-08T00:00:00\", \"2017-05-09T00:00:00\", \"2017-05-10T00:00:00\", \"2017-05-11T00:00:00\", \"2017-05-12T00:00:00\", \"2017-05-13T00:00:00\", \"2017-05-14T00:00:00\", \"2017-05-15T00:00:00\", \"2017-05-16T00:00:00\", \"2017-05-17T00:00:00\", \"2017-05-18T00:00:00\", \"2017-05-19T00:00:00\", \"2017-05-20T00:00:00\", \"2017-05-21T00:00:00\", \"2017-05-22T00:00:00\", \"2017-05-23T00:00:00\", \"2017-05-24T00:00:00\", \"2017-05-25T00:00:00\", \"2017-05-26T00:00:00\", \"2017-05-27T00:00:00\", \"2017-05-28T00:00:00\", \"2017-05-29T00:00:00\", \"2017-05-30T00:00:00\", \"2017-05-31T00:00:00\", \"2017-06-01T00:00:00\", \"2017-06-02T00:00:00\", \"2017-06-03T00:00:00\", \"2017-06-04T00:00:00\", \"2017-06-05T00:00:00\", \"2017-06-06T00:00:00\", \"2017-06-07T00:00:00\", \"2017-06-08T00:00:00\", \"2017-06-09T00:00:00\", \"2017-06-10T00:00:00\", \"2017-06-11T00:00:00\", \"2017-06-12T00:00:00\", \"2017-06-13T00:00:00\", \"2017-06-14T00:00:00\", \"2017-06-15T00:00:00\", \"2017-06-16T00:00:00\", \"2017-06-17T00:00:00\", \"2017-06-18T00:00:00\", \"2017-06-19T00:00:00\", \"2017-06-20T00:00:00\", \"2017-06-21T00:00:00\", \"2017-06-22T00:00:00\", \"2017-06-23T00:00:00\", \"2017-06-24T00:00:00\", \"2017-06-25T00:00:00\"], \"y\": [123, 99, 205, 247, 246, 228, 208, 135, 129, 230, 225, 238, 257, 207, 125, 142, 259, 221, 203, 274, 221, 140, 149, 238, 258, 239, 250, 204, 137, 143, 233, 264, 278, 274, 259, 178, 168, 296, 306, 270, 277, 262, 187, 148, 305, 332, 286, 284, 264, 133, 136, 267, 262, 264, 267, 281, 205, 180, 341, 345, 367, 336, 301, 156, 194, 341, 388, 375, 298, 269, 157, 172, 297, 365, 407, 392, 328, 170, 194, 340, 348, 323, 347, 291, 165, 193, 349, 358, 344, 336, 345, 188, 243, 408, 417, 422, 441, 421, 277, 253]}],                        {\"showlegend\": false, \"template\": {\"data\": {\"bar\": [{\"error_x\": {\"color\": \"#2a3f5f\"}, \"error_y\": {\"color\": \"#2a3f5f\"}, \"marker\": {\"line\": {\"color\": \"#E5ECF6\", \"width\": 0.5}}, \"type\": \"bar\"}], \"barpolar\": [{\"marker\": {\"line\": {\"color\": \"#E5ECF6\", \"width\": 0.5}}, \"type\": \"barpolar\"}], \"carpet\": [{\"aaxis\": {\"endlinecolor\": \"#2a3f5f\", \"gridcolor\": \"white\", \"linecolor\": \"white\", \"minorgridcolor\": \"white\", \"startlinecolor\": \"#2a3f5f\"}, \"baxis\": {\"endlinecolor\": \"#2a3f5f\", \"gridcolor\": \"white\", \"linecolor\": \"white\", \"minorgridcolor\": \"white\", \"startlinecolor\": \"#2a3f5f\"}, \"type\": \"carpet\"}], \"choropleth\": [{\"colorbar\": {\"outlinewidth\": 0, \"ticks\": \"\"}, \"type\": \"choropleth\"}], \"contour\": [{\"colorbar\": {\"outlinewidth\": 0, \"ticks\": \"\"}, \"colorscale\": [[0.0, \"#0d0887\"], [0.1111111111111111, \"#46039f\"], [0.2222222222222222, \"#7201a8\"], [0.3333333333333333, \"#9c179e\"], [0.4444444444444444, \"#bd3786\"], [0.5555555555555556, \"#d8576b\"], [0.6666666666666666, \"#ed7953\"], [0.7777777777777778, \"#fb9f3a\"], [0.8888888888888888, \"#fdca26\"], [1.0, \"#f0f921\"]], \"type\": \"contour\"}], \"contourcarpet\": [{\"colorbar\": {\"outlinewidth\": 0, \"ticks\": \"\"}, \"type\": \"contourcarpet\"}], \"heatmap\": [{\"colorbar\": {\"outlinewidth\": 0, \"ticks\": \"\"}, \"colorscale\": [[0.0, \"#0d0887\"], [0.1111111111111111, \"#46039f\"], [0.2222222222222222, \"#7201a8\"], [0.3333333333333333, \"#9c179e\"], [0.4444444444444444, \"#bd3786\"], [0.5555555555555556, \"#d8576b\"], [0.6666666666666666, \"#ed7953\"], [0.7777777777777778, \"#fb9f3a\"], [0.8888888888888888, \"#fdca26\"], [1.0, \"#f0f921\"]], \"type\": \"heatmap\"}], \"heatmapgl\": [{\"colorbar\": {\"outlinewidth\": 0, \"ticks\": \"\"}, \"colorscale\": [[0.0, \"#0d0887\"], [0.1111111111111111, \"#46039f\"], [0.2222222222222222, \"#7201a8\"], [0.3333333333333333, \"#9c179e\"], [0.4444444444444444, \"#bd3786\"], [0.5555555555555556, \"#d8576b\"], [0.6666666666666666, \"#ed7953\"], [0.7777777777777778, \"#fb9f3a\"], [0.8888888888888888, \"#fdca26\"], [1.0, \"#f0f921\"]], \"type\": \"heatmapgl\"}], \"histogram\": [{\"marker\": {\"colorbar\": {\"outlinewidth\": 0, \"ticks\": \"\"}}, \"type\": \"histogram\"}], \"histogram2d\": [{\"colorbar\": {\"outlinewidth\": 0, \"ticks\": \"\"}, \"colorscale\": [[0.0, \"#0d0887\"], [0.1111111111111111, \"#46039f\"], [0.2222222222222222, \"#7201a8\"], [0.3333333333333333, \"#9c179e\"], [0.4444444444444444, \"#bd3786\"], [0.5555555555555556, \"#d8576b\"], [0.6666666666666666, \"#ed7953\"], [0.7777777777777778, \"#fb9f3a\"], [0.8888888888888888, \"#fdca26\"], [1.0, \"#f0f921\"]], \"type\": \"histogram2d\"}], \"histogram2dcontour\": [{\"colorbar\": {\"outlinewidth\": 0, \"ticks\": \"\"}, \"colorscale\": [[0.0, \"#0d0887\"], [0.1111111111111111, \"#46039f\"], [0.2222222222222222, \"#7201a8\"], [0.3333333333333333, \"#9c179e\"], [0.4444444444444444, \"#bd3786\"], [0.5555555555555556, \"#d8576b\"], [0.6666666666666666, \"#ed7953\"], [0.7777777777777778, \"#fb9f3a\"], [0.8888888888888888, \"#fdca26\"], [1.0, \"#f0f921\"]], \"type\": \"histogram2dcontour\"}], \"mesh3d\": [{\"colorbar\": {\"outlinewidth\": 0, \"ticks\": \"\"}, \"type\": \"mesh3d\"}], \"parcoords\": [{\"line\": {\"colorbar\": {\"outlinewidth\": 0, \"ticks\": \"\"}}, \"type\": \"parcoords\"}], \"pie\": [{\"automargin\": true, \"type\": \"pie\"}], \"scatter\": [{\"marker\": {\"colorbar\": {\"outlinewidth\": 0, \"ticks\": \"\"}}, \"type\": \"scatter\"}], \"scatter3d\": [{\"line\": {\"colorbar\": {\"outlinewidth\": 0, \"ticks\": \"\"}}, \"marker\": {\"colorbar\": {\"outlinewidth\": 0, \"ticks\": \"\"}}, \"type\": \"scatter3d\"}], \"scattercarpet\": [{\"marker\": {\"colorbar\": {\"outlinewidth\": 0, \"ticks\": \"\"}}, \"type\": \"scattercarpet\"}], \"scattergeo\": [{\"marker\": {\"colorbar\": {\"outlinewidth\": 0, \"ticks\": \"\"}}, \"type\": \"scattergeo\"}], \"scattergl\": [{\"marker\": {\"colorbar\": {\"outlinewidth\": 0, \"ticks\": \"\"}}, \"type\": \"scattergl\"}], \"scattermapbox\": [{\"marker\": {\"colorbar\": {\"outlinewidth\": 0, \"ticks\": \"\"}}, \"type\": \"scattermapbox\"}], \"scatterpolar\": [{\"marker\": {\"colorbar\": {\"outlinewidth\": 0, \"ticks\": \"\"}}, \"type\": \"scatterpolar\"}], \"scatterpolargl\": [{\"marker\": {\"colorbar\": {\"outlinewidth\": 0, \"ticks\": \"\"}}, \"type\": \"scatterpolargl\"}], \"scatterternary\": [{\"marker\": {\"colorbar\": {\"outlinewidth\": 0, \"ticks\": \"\"}}, \"type\": \"scatterternary\"}], \"surface\": [{\"colorbar\": {\"outlinewidth\": 0, \"ticks\": \"\"}, \"colorscale\": [[0.0, \"#0d0887\"], [0.1111111111111111, \"#46039f\"], [0.2222222222222222, \"#7201a8\"], [0.3333333333333333, \"#9c179e\"], [0.4444444444444444, \"#bd3786\"], [0.5555555555555556, \"#d8576b\"], [0.6666666666666666, \"#ed7953\"], [0.7777777777777778, \"#fb9f3a\"], [0.8888888888888888, \"#fdca26\"], [1.0, \"#f0f921\"]], \"type\": \"surface\"}], \"table\": [{\"cells\": {\"fill\": {\"color\": \"#EBF0F8\"}, \"line\": {\"color\": \"white\"}}, \"header\": {\"fill\": {\"color\": \"#C8D4E3\"}, \"line\": {\"color\": \"white\"}}, \"type\": \"table\"}]}, \"layout\": {\"annotationdefaults\": {\"arrowcolor\": \"#2a3f5f\", \"arrowhead\": 0, \"arrowwidth\": 1}, \"autotypenumbers\": \"strict\", \"coloraxis\": {\"colorbar\": {\"outlinewidth\": 0, \"ticks\": \"\"}}, \"colorscale\": {\"diverging\": [[0, \"#8e0152\"], [0.1, \"#c51b7d\"], [0.2, \"#de77ae\"], [0.3, \"#f1b6da\"], [0.4, \"#fde0ef\"], [0.5, \"#f7f7f7\"], [0.6, \"#e6f5d0\"], [0.7, \"#b8e186\"], [0.8, \"#7fbc41\"], [0.9, \"#4d9221\"], [1, \"#276419\"]], \"sequential\": [[0.0, \"#0d0887\"], [0.1111111111111111, \"#46039f\"], [0.2222222222222222, \"#7201a8\"], [0.3333333333333333, \"#9c179e\"], [0.4444444444444444, \"#bd3786\"], [0.5555555555555556, \"#d8576b\"], [0.6666666666666666, \"#ed7953\"], [0.7777777777777778, \"#fb9f3a\"], [0.8888888888888888, \"#fdca26\"], [1.0, \"#f0f921\"]], \"sequentialminus\": [[0.0, \"#0d0887\"], [0.1111111111111111, \"#46039f\"], [0.2222222222222222, \"#7201a8\"], [0.3333333333333333, \"#9c179e\"], [0.4444444444444444, \"#bd3786\"], [0.5555555555555556, \"#d8576b\"], [0.6666666666666666, \"#ed7953\"], [0.7777777777777778, \"#fb9f3a\"], [0.8888888888888888, \"#fdca26\"], [1.0, \"#f0f921\"]]}, \"colorway\": [\"#636efa\", \"#EF553B\", \"#00cc96\", \"#ab63fa\", \"#FFA15A\", \"#19d3f3\", \"#FF6692\", \"#B6E880\", \"#FF97FF\", \"#FECB52\"], \"font\": {\"color\": \"#2a3f5f\"}, \"geo\": {\"bgcolor\": \"white\", \"lakecolor\": \"white\", \"landcolor\": \"#E5ECF6\", \"showlakes\": true, \"showland\": true, \"subunitcolor\": \"white\"}, \"hoverlabel\": {\"align\": \"left\"}, \"hovermode\": \"closest\", \"mapbox\": {\"style\": \"light\"}, \"paper_bgcolor\": \"white\", \"plot_bgcolor\": \"#E5ECF6\", \"polar\": {\"angularaxis\": {\"gridcolor\": \"white\", \"linecolor\": \"white\", \"ticks\": \"\"}, \"bgcolor\": \"#E5ECF6\", \"radialaxis\": {\"gridcolor\": \"white\", \"linecolor\": \"white\", \"ticks\": \"\"}}, \"scene\": {\"xaxis\": {\"backgroundcolor\": \"#E5ECF6\", \"gridcolor\": \"white\", \"gridwidth\": 2, \"linecolor\": \"white\", \"showbackground\": true, \"ticks\": \"\", \"zerolinecolor\": \"white\"}, \"yaxis\": {\"backgroundcolor\": \"#E5ECF6\", \"gridcolor\": \"white\", \"gridwidth\": 2, \"linecolor\": \"white\", \"showbackground\": true, \"ticks\": \"\", \"zerolinecolor\": \"white\"}, \"zaxis\": {\"backgroundcolor\": \"#E5ECF6\", \"gridcolor\": \"white\", \"gridwidth\": 2, \"linecolor\": \"white\", \"showbackground\": true, \"ticks\": \"\", \"zerolinecolor\": \"white\"}}, \"shapedefaults\": {\"line\": {\"color\": \"#2a3f5f\"}}, \"ternary\": {\"aaxis\": {\"gridcolor\": \"white\", \"linecolor\": \"white\", \"ticks\": \"\"}, \"baxis\": {\"gridcolor\": \"white\", \"linecolor\": \"white\", \"ticks\": \"\"}, \"bgcolor\": \"#E5ECF6\", \"caxis\": {\"gridcolor\": \"white\", \"linecolor\": \"white\", \"ticks\": \"\"}}, \"title\": {\"x\": 0.05}, \"xaxis\": {\"automargin\": true, \"gridcolor\": \"white\", \"linecolor\": \"white\", \"ticks\": \"\", \"title\": {\"standoff\": 15}, \"zerolinecolor\": \"white\", \"zerolinewidth\": 2}, \"yaxis\": {\"automargin\": true, \"gridcolor\": \"white\", \"linecolor\": \"white\", \"ticks\": \"\", \"title\": {\"standoff\": 15}, \"zerolinecolor\": \"white\", \"zerolinewidth\": 2}}}, \"title\": {\"text\": \"No transformations\"}, \"yaxis\": {\"title\": {\"text\": \"Posts\"}}},                        {\"responsive\": true}                    ).then(function(){\n",
       "                            \n",
       "var gd = document.getElementById('4b9fb909-032e-4c53-8fb5-1ede0584ed60');\n",
       "var x = new MutationObserver(function (mutations, observer) {{\n",
       "        var display = window.getComputedStyle(gd).display;\n",
       "        if (!display || display === 'none') {{\n",
       "            console.log([gd, 'removed!']);\n",
       "            Plotly.purge(gd);\n",
       "            observer.disconnect();\n",
       "        }}\n",
       "}});\n",
       "\n",
       "// Listen for the removal of the full notebook cells\n",
       "var notebookContainer = gd.closest('#notebook-container');\n",
       "if (notebookContainer) {{\n",
       "    x.observe(notebookContainer, {childList: true});\n",
       "}}\n",
       "\n",
       "// Listen for the clearing of the current output cell\n",
       "var outputEl = gd.closest('.output');\n",
       "if (outputEl) {{\n",
       "    x.observe(outputEl, {childList: true});\n",
       "}}\n",
       "\n",
       "                        })                };                });            </script>        </div>"
      ]
     },
     "metadata": {},
     "output_type": "display_data"
    },
    {
     "data": {
      "application/vnd.plotly.v1+json": {
       "config": {
        "linkText": "Export to plot.ly",
        "plotlyServerURL": "https://plot.ly",
        "showLink": false
       },
       "data": [
        {
         "line": {
          "width": 0
         },
         "marker": {
          "color": "gray"
         },
         "mode": "lines",
         "name": "Lower Bound",
         "type": "scatter",
         "x": [
          "2017-05-27T00:00:00",
          "2017-05-28T00:00:00",
          "2017-05-29T00:00:00",
          "2017-05-30T00:00:00",
          "2017-05-31T00:00:00",
          "2017-06-01T00:00:00",
          "2017-06-02T00:00:00",
          "2017-06-03T00:00:00",
          "2017-06-04T00:00:00",
          "2017-06-05T00:00:00",
          "2017-06-06T00:00:00",
          "2017-06-07T00:00:00",
          "2017-06-08T00:00:00",
          "2017-06-09T00:00:00",
          "2017-06-10T00:00:00",
          "2017-06-11T00:00:00",
          "2017-06-12T00:00:00",
          "2017-06-13T00:00:00",
          "2017-06-14T00:00:00",
          "2017-06-15T00:00:00",
          "2017-06-16T00:00:00",
          "2017-06-17T00:00:00",
          "2017-06-18T00:00:00",
          "2017-06-19T00:00:00",
          "2017-06-20T00:00:00",
          "2017-06-21T00:00:00",
          "2017-06-22T00:00:00",
          "2017-06-23T00:00:00",
          "2017-06-24T00:00:00",
          "2017-06-25T00:00:00"
         ],
         "y": [
          146.2099386385708,
          157.03525502426007,
          254.60364760303312,
          261.77752636969274,
          264.5352013940228,
          251.99344219292433,
          234.48693406074983,
          154.9656572758351,
          160.78583334807618,
          265.08319951136673,
          270.98818545754864,
          278.7633819702561,
          267.07694662737754,
          242.9365530769119,
          160.1399060071883,
          173.8302475762718,
          280.3504479968189,
          285.64592743397554,
          285.7369156129789,
          278.79571011044,
          255.51883932645956,
          166.52325645070854,
          178.3967764328486,
          285.6090512167373,
          294.59379375044045,
          294.984831225216,
          282.497736445444,
          263.3872825552145,
          171.2349595868383,
          181.51716076275446
         ]
        },
        {
         "fill": "tonexty",
         "fillcolor": "rgba(68, 68, 68, 0.3)",
         "line": {
          "width": 0
         },
         "marker": {
          "color": "gray"
         },
         "mode": "lines",
         "name": "Upper Bound",
         "type": "scatter",
         "x": [
          "2017-05-27T00:00:00",
          "2017-05-28T00:00:00",
          "2017-05-29T00:00:00",
          "2017-05-30T00:00:00",
          "2017-05-31T00:00:00",
          "2017-06-01T00:00:00",
          "2017-06-02T00:00:00",
          "2017-06-03T00:00:00",
          "2017-06-04T00:00:00",
          "2017-06-05T00:00:00",
          "2017-06-06T00:00:00",
          "2017-06-07T00:00:00",
          "2017-06-08T00:00:00",
          "2017-06-09T00:00:00",
          "2017-06-10T00:00:00",
          "2017-06-11T00:00:00",
          "2017-06-12T00:00:00",
          "2017-06-13T00:00:00",
          "2017-06-14T00:00:00",
          "2017-06-15T00:00:00",
          "2017-06-16T00:00:00",
          "2017-06-17T00:00:00",
          "2017-06-18T00:00:00",
          "2017-06-19T00:00:00",
          "2017-06-20T00:00:00",
          "2017-06-21T00:00:00",
          "2017-06-22T00:00:00",
          "2017-06-23T00:00:00",
          "2017-06-24T00:00:00",
          "2017-06-25T00:00:00"
         ],
         "y": [
          204.63244323554076,
          219.45239915245736,
          352.6804844587236,
          360.9514376218597,
          358.89831780573996,
          349.74352362691786,
          324.42480641150166,
          215.22258332391226,
          228.32289262148575,
          359.9708577727606,
          373.27652893901796,
          378.2320748483671,
          364.73360948044166,
          338.6449350055493,
          229.90357038154312,
          242.26060006050233,
          380.18673626727156,
          393.75449256291273,
          389.8680228449341,
          378.23129891844445,
          351.5819958537538,
          235.67100008345784,
          250.7140704651311,
          387.8215095346691,
          400.74112223804445,
          403.796723271926,
          390.4052354670801,
          357.84535582012876,
          239.02892141643204,
          255.48306944564814
         ]
        },
        {
         "line": {
          "color": "rgb(31, 119, 180)"
         },
         "mode": "lines",
         "name": "Forecast",
         "type": "scatter",
         "x": [
          "2017-05-27T00:00:00",
          "2017-05-28T00:00:00",
          "2017-05-29T00:00:00",
          "2017-05-30T00:00:00",
          "2017-05-31T00:00:00",
          "2017-06-01T00:00:00",
          "2017-06-02T00:00:00",
          "2017-06-03T00:00:00",
          "2017-06-04T00:00:00",
          "2017-06-05T00:00:00",
          "2017-06-06T00:00:00",
          "2017-06-07T00:00:00",
          "2017-06-08T00:00:00",
          "2017-06-09T00:00:00",
          "2017-06-10T00:00:00",
          "2017-06-11T00:00:00",
          "2017-06-12T00:00:00",
          "2017-06-13T00:00:00",
          "2017-06-14T00:00:00",
          "2017-06-15T00:00:00",
          "2017-06-16T00:00:00",
          "2017-06-17T00:00:00",
          "2017-06-18T00:00:00",
          "2017-06-19T00:00:00",
          "2017-06-20T00:00:00",
          "2017-06-21T00:00:00",
          "2017-06-22T00:00:00",
          "2017-06-23T00:00:00",
          "2017-06-24T00:00:00",
          "2017-06-25T00:00:00"
         ],
         "y": [
          173.2297357154025,
          184.21674684450684,
          297.4840292625957,
          305.7474024945873,
          308.432418589188,
          297.5832423460135,
          275.0712961200426,
          181.18389227619915,
          193.04695790252072,
          311.0434252102566,
          320.0957095843871,
          323.24291403137096,
          312.1928172767791,
          288.8654677596001,
          191.0207760840891,
          203.26650095012482,
          325.7032949644685,
          334.65444804422833,
          337.36688626470163,
          325.309880446683,
          300.5477785272017,
          198.91280650107726,
          211.0258324543105,
          336.24324473101245,
          344.6370147863376,
          346.65422574249715,
          333.6416783655672,
          307.78151476872125,
          203.737405266404,
          215.76033987614494
         ]
        },
        {
         "marker": {
          "color": "red"
         },
         "mode": "lines",
         "name": "Actual",
         "type": "scatter",
         "x": [
          "2017-03-18T00:00:00",
          "2017-03-19T00:00:00",
          "2017-03-20T00:00:00",
          "2017-03-21T00:00:00",
          "2017-03-22T00:00:00",
          "2017-03-23T00:00:00",
          "2017-03-24T00:00:00",
          "2017-03-25T00:00:00",
          "2017-03-26T00:00:00",
          "2017-03-27T00:00:00",
          "2017-03-28T00:00:00",
          "2017-03-29T00:00:00",
          "2017-03-30T00:00:00",
          "2017-03-31T00:00:00",
          "2017-04-01T00:00:00",
          "2017-04-02T00:00:00",
          "2017-04-03T00:00:00",
          "2017-04-04T00:00:00",
          "2017-04-05T00:00:00",
          "2017-04-06T00:00:00",
          "2017-04-07T00:00:00",
          "2017-04-08T00:00:00",
          "2017-04-09T00:00:00",
          "2017-04-10T00:00:00",
          "2017-04-11T00:00:00",
          "2017-04-12T00:00:00",
          "2017-04-13T00:00:00",
          "2017-04-14T00:00:00",
          "2017-04-15T00:00:00",
          "2017-04-16T00:00:00",
          "2017-04-17T00:00:00",
          "2017-04-18T00:00:00",
          "2017-04-19T00:00:00",
          "2017-04-20T00:00:00",
          "2017-04-21T00:00:00",
          "2017-04-22T00:00:00",
          "2017-04-23T00:00:00",
          "2017-04-24T00:00:00",
          "2017-04-25T00:00:00",
          "2017-04-26T00:00:00",
          "2017-04-27T00:00:00",
          "2017-04-28T00:00:00",
          "2017-04-29T00:00:00",
          "2017-04-30T00:00:00",
          "2017-05-01T00:00:00",
          "2017-05-02T00:00:00",
          "2017-05-03T00:00:00",
          "2017-05-04T00:00:00",
          "2017-05-05T00:00:00",
          "2017-05-06T00:00:00",
          "2017-05-07T00:00:00",
          "2017-05-08T00:00:00",
          "2017-05-09T00:00:00",
          "2017-05-10T00:00:00",
          "2017-05-11T00:00:00",
          "2017-05-12T00:00:00",
          "2017-05-13T00:00:00",
          "2017-05-14T00:00:00",
          "2017-05-15T00:00:00",
          "2017-05-16T00:00:00",
          "2017-05-17T00:00:00",
          "2017-05-18T00:00:00",
          "2017-05-19T00:00:00",
          "2017-05-20T00:00:00",
          "2017-05-21T00:00:00",
          "2017-05-22T00:00:00",
          "2017-05-23T00:00:00",
          "2017-05-24T00:00:00",
          "2017-05-25T00:00:00",
          "2017-05-26T00:00:00",
          "2017-05-27T00:00:00",
          "2017-05-28T00:00:00",
          "2017-05-29T00:00:00",
          "2017-05-30T00:00:00",
          "2017-05-31T00:00:00",
          "2017-06-01T00:00:00",
          "2017-06-02T00:00:00",
          "2017-06-03T00:00:00",
          "2017-06-04T00:00:00",
          "2017-06-05T00:00:00",
          "2017-06-06T00:00:00",
          "2017-06-07T00:00:00",
          "2017-06-08T00:00:00",
          "2017-06-09T00:00:00",
          "2017-06-10T00:00:00",
          "2017-06-11T00:00:00",
          "2017-06-12T00:00:00",
          "2017-06-13T00:00:00",
          "2017-06-14T00:00:00",
          "2017-06-15T00:00:00",
          "2017-06-16T00:00:00",
          "2017-06-17T00:00:00",
          "2017-06-18T00:00:00",
          "2017-06-19T00:00:00",
          "2017-06-20T00:00:00",
          "2017-06-21T00:00:00",
          "2017-06-22T00:00:00",
          "2017-06-23T00:00:00",
          "2017-06-24T00:00:00",
          "2017-06-25T00:00:00"
         ],
         "y": [
          123,
          99,
          205,
          247,
          246,
          228,
          208,
          135,
          129,
          230,
          225,
          238,
          257,
          207,
          125,
          142,
          259,
          221,
          203,
          274,
          221,
          140,
          149,
          238,
          258,
          239,
          250,
          204,
          137,
          143,
          233,
          264,
          278,
          274,
          259,
          178,
          168,
          296,
          306,
          270,
          277,
          262,
          187,
          148,
          305,
          332,
          286,
          284,
          264,
          133,
          136,
          267,
          262,
          264,
          267,
          281,
          205,
          180,
          341,
          345,
          367,
          336,
          301,
          156,
          194,
          341,
          388,
          375,
          298,
          269,
          157,
          172,
          297,
          365,
          407,
          392,
          328,
          170,
          194,
          340,
          348,
          323,
          347,
          291,
          165,
          193,
          349,
          358,
          344,
          336,
          345,
          188,
          243,
          408,
          417,
          422,
          441,
          421,
          277,
          253
         ]
        }
       ],
       "layout": {
        "showlegend": false,
        "template": {
         "data": {
          "bar": [
           {
            "error_x": {
             "color": "#2a3f5f"
            },
            "error_y": {
             "color": "#2a3f5f"
            },
            "marker": {
             "line": {
              "color": "#E5ECF6",
              "width": 0.5
             }
            },
            "type": "bar"
           }
          ],
          "barpolar": [
           {
            "marker": {
             "line": {
              "color": "#E5ECF6",
              "width": 0.5
             }
            },
            "type": "barpolar"
           }
          ],
          "carpet": [
           {
            "aaxis": {
             "endlinecolor": "#2a3f5f",
             "gridcolor": "white",
             "linecolor": "white",
             "minorgridcolor": "white",
             "startlinecolor": "#2a3f5f"
            },
            "baxis": {
             "endlinecolor": "#2a3f5f",
             "gridcolor": "white",
             "linecolor": "white",
             "minorgridcolor": "white",
             "startlinecolor": "#2a3f5f"
            },
            "type": "carpet"
           }
          ],
          "choropleth": [
           {
            "colorbar": {
             "outlinewidth": 0,
             "ticks": ""
            },
            "type": "choropleth"
           }
          ],
          "contour": [
           {
            "colorbar": {
             "outlinewidth": 0,
             "ticks": ""
            },
            "colorscale": [
             [
              0,
              "#0d0887"
             ],
             [
              0.1111111111111111,
              "#46039f"
             ],
             [
              0.2222222222222222,
              "#7201a8"
             ],
             [
              0.3333333333333333,
              "#9c179e"
             ],
             [
              0.4444444444444444,
              "#bd3786"
             ],
             [
              0.5555555555555556,
              "#d8576b"
             ],
             [
              0.6666666666666666,
              "#ed7953"
             ],
             [
              0.7777777777777778,
              "#fb9f3a"
             ],
             [
              0.8888888888888888,
              "#fdca26"
             ],
             [
              1,
              "#f0f921"
             ]
            ],
            "type": "contour"
           }
          ],
          "contourcarpet": [
           {
            "colorbar": {
             "outlinewidth": 0,
             "ticks": ""
            },
            "type": "contourcarpet"
           }
          ],
          "heatmap": [
           {
            "colorbar": {
             "outlinewidth": 0,
             "ticks": ""
            },
            "colorscale": [
             [
              0,
              "#0d0887"
             ],
             [
              0.1111111111111111,
              "#46039f"
             ],
             [
              0.2222222222222222,
              "#7201a8"
             ],
             [
              0.3333333333333333,
              "#9c179e"
             ],
             [
              0.4444444444444444,
              "#bd3786"
             ],
             [
              0.5555555555555556,
              "#d8576b"
             ],
             [
              0.6666666666666666,
              "#ed7953"
             ],
             [
              0.7777777777777778,
              "#fb9f3a"
             ],
             [
              0.8888888888888888,
              "#fdca26"
             ],
             [
              1,
              "#f0f921"
             ]
            ],
            "type": "heatmap"
           }
          ],
          "heatmapgl": [
           {
            "colorbar": {
             "outlinewidth": 0,
             "ticks": ""
            },
            "colorscale": [
             [
              0,
              "#0d0887"
             ],
             [
              0.1111111111111111,
              "#46039f"
             ],
             [
              0.2222222222222222,
              "#7201a8"
             ],
             [
              0.3333333333333333,
              "#9c179e"
             ],
             [
              0.4444444444444444,
              "#bd3786"
             ],
             [
              0.5555555555555556,
              "#d8576b"
             ],
             [
              0.6666666666666666,
              "#ed7953"
             ],
             [
              0.7777777777777778,
              "#fb9f3a"
             ],
             [
              0.8888888888888888,
              "#fdca26"
             ],
             [
              1,
              "#f0f921"
             ]
            ],
            "type": "heatmapgl"
           }
          ],
          "histogram": [
           {
            "marker": {
             "colorbar": {
              "outlinewidth": 0,
              "ticks": ""
             }
            },
            "type": "histogram"
           }
          ],
          "histogram2d": [
           {
            "colorbar": {
             "outlinewidth": 0,
             "ticks": ""
            },
            "colorscale": [
             [
              0,
              "#0d0887"
             ],
             [
              0.1111111111111111,
              "#46039f"
             ],
             [
              0.2222222222222222,
              "#7201a8"
             ],
             [
              0.3333333333333333,
              "#9c179e"
             ],
             [
              0.4444444444444444,
              "#bd3786"
             ],
             [
              0.5555555555555556,
              "#d8576b"
             ],
             [
              0.6666666666666666,
              "#ed7953"
             ],
             [
              0.7777777777777778,
              "#fb9f3a"
             ],
             [
              0.8888888888888888,
              "#fdca26"
             ],
             [
              1,
              "#f0f921"
             ]
            ],
            "type": "histogram2d"
           }
          ],
          "histogram2dcontour": [
           {
            "colorbar": {
             "outlinewidth": 0,
             "ticks": ""
            },
            "colorscale": [
             [
              0,
              "#0d0887"
             ],
             [
              0.1111111111111111,
              "#46039f"
             ],
             [
              0.2222222222222222,
              "#7201a8"
             ],
             [
              0.3333333333333333,
              "#9c179e"
             ],
             [
              0.4444444444444444,
              "#bd3786"
             ],
             [
              0.5555555555555556,
              "#d8576b"
             ],
             [
              0.6666666666666666,
              "#ed7953"
             ],
             [
              0.7777777777777778,
              "#fb9f3a"
             ],
             [
              0.8888888888888888,
              "#fdca26"
             ],
             [
              1,
              "#f0f921"
             ]
            ],
            "type": "histogram2dcontour"
           }
          ],
          "mesh3d": [
           {
            "colorbar": {
             "outlinewidth": 0,
             "ticks": ""
            },
            "type": "mesh3d"
           }
          ],
          "parcoords": [
           {
            "line": {
             "colorbar": {
              "outlinewidth": 0,
              "ticks": ""
             }
            },
            "type": "parcoords"
           }
          ],
          "pie": [
           {
            "automargin": true,
            "type": "pie"
           }
          ],
          "scatter": [
           {
            "marker": {
             "colorbar": {
              "outlinewidth": 0,
              "ticks": ""
             }
            },
            "type": "scatter"
           }
          ],
          "scatter3d": [
           {
            "line": {
             "colorbar": {
              "outlinewidth": 0,
              "ticks": ""
             }
            },
            "marker": {
             "colorbar": {
              "outlinewidth": 0,
              "ticks": ""
             }
            },
            "type": "scatter3d"
           }
          ],
          "scattercarpet": [
           {
            "marker": {
             "colorbar": {
              "outlinewidth": 0,
              "ticks": ""
             }
            },
            "type": "scattercarpet"
           }
          ],
          "scattergeo": [
           {
            "marker": {
             "colorbar": {
              "outlinewidth": 0,
              "ticks": ""
             }
            },
            "type": "scattergeo"
           }
          ],
          "scattergl": [
           {
            "marker": {
             "colorbar": {
              "outlinewidth": 0,
              "ticks": ""
             }
            },
            "type": "scattergl"
           }
          ],
          "scattermapbox": [
           {
            "marker": {
             "colorbar": {
              "outlinewidth": 0,
              "ticks": ""
             }
            },
            "type": "scattermapbox"
           }
          ],
          "scatterpolar": [
           {
            "marker": {
             "colorbar": {
              "outlinewidth": 0,
              "ticks": ""
             }
            },
            "type": "scatterpolar"
           }
          ],
          "scatterpolargl": [
           {
            "marker": {
             "colorbar": {
              "outlinewidth": 0,
              "ticks": ""
             }
            },
            "type": "scatterpolargl"
           }
          ],
          "scatterternary": [
           {
            "marker": {
             "colorbar": {
              "outlinewidth": 0,
              "ticks": ""
             }
            },
            "type": "scatterternary"
           }
          ],
          "surface": [
           {
            "colorbar": {
             "outlinewidth": 0,
             "ticks": ""
            },
            "colorscale": [
             [
              0,
              "#0d0887"
             ],
             [
              0.1111111111111111,
              "#46039f"
             ],
             [
              0.2222222222222222,
              "#7201a8"
             ],
             [
              0.3333333333333333,
              "#9c179e"
             ],
             [
              0.4444444444444444,
              "#bd3786"
             ],
             [
              0.5555555555555556,
              "#d8576b"
             ],
             [
              0.6666666666666666,
              "#ed7953"
             ],
             [
              0.7777777777777778,
              "#fb9f3a"
             ],
             [
              0.8888888888888888,
              "#fdca26"
             ],
             [
              1,
              "#f0f921"
             ]
            ],
            "type": "surface"
           }
          ],
          "table": [
           {
            "cells": {
             "fill": {
              "color": "#EBF0F8"
             },
             "line": {
              "color": "white"
             }
            },
            "header": {
             "fill": {
              "color": "#C8D4E3"
             },
             "line": {
              "color": "white"
             }
            },
            "type": "table"
           }
          ]
         },
         "layout": {
          "annotationdefaults": {
           "arrowcolor": "#2a3f5f",
           "arrowhead": 0,
           "arrowwidth": 1
          },
          "autotypenumbers": "strict",
          "coloraxis": {
           "colorbar": {
            "outlinewidth": 0,
            "ticks": ""
           }
          },
          "colorscale": {
           "diverging": [
            [
             0,
             "#8e0152"
            ],
            [
             0.1,
             "#c51b7d"
            ],
            [
             0.2,
             "#de77ae"
            ],
            [
             0.3,
             "#f1b6da"
            ],
            [
             0.4,
             "#fde0ef"
            ],
            [
             0.5,
             "#f7f7f7"
            ],
            [
             0.6,
             "#e6f5d0"
            ],
            [
             0.7,
             "#b8e186"
            ],
            [
             0.8,
             "#7fbc41"
            ],
            [
             0.9,
             "#4d9221"
            ],
            [
             1,
             "#276419"
            ]
           ],
           "sequential": [
            [
             0,
             "#0d0887"
            ],
            [
             0.1111111111111111,
             "#46039f"
            ],
            [
             0.2222222222222222,
             "#7201a8"
            ],
            [
             0.3333333333333333,
             "#9c179e"
            ],
            [
             0.4444444444444444,
             "#bd3786"
            ],
            [
             0.5555555555555556,
             "#d8576b"
            ],
            [
             0.6666666666666666,
             "#ed7953"
            ],
            [
             0.7777777777777778,
             "#fb9f3a"
            ],
            [
             0.8888888888888888,
             "#fdca26"
            ],
            [
             1,
             "#f0f921"
            ]
           ],
           "sequentialminus": [
            [
             0,
             "#0d0887"
            ],
            [
             0.1111111111111111,
             "#46039f"
            ],
            [
             0.2222222222222222,
             "#7201a8"
            ],
            [
             0.3333333333333333,
             "#9c179e"
            ],
            [
             0.4444444444444444,
             "#bd3786"
            ],
            [
             0.5555555555555556,
             "#d8576b"
            ],
            [
             0.6666666666666666,
             "#ed7953"
            ],
            [
             0.7777777777777778,
             "#fb9f3a"
            ],
            [
             0.8888888888888888,
             "#fdca26"
            ],
            [
             1,
             "#f0f921"
            ]
           ]
          },
          "colorway": [
           "#636efa",
           "#EF553B",
           "#00cc96",
           "#ab63fa",
           "#FFA15A",
           "#19d3f3",
           "#FF6692",
           "#B6E880",
           "#FF97FF",
           "#FECB52"
          ],
          "font": {
           "color": "#2a3f5f"
          },
          "geo": {
           "bgcolor": "white",
           "lakecolor": "white",
           "landcolor": "#E5ECF6",
           "showlakes": true,
           "showland": true,
           "subunitcolor": "white"
          },
          "hoverlabel": {
           "align": "left"
          },
          "hovermode": "closest",
          "mapbox": {
           "style": "light"
          },
          "paper_bgcolor": "white",
          "plot_bgcolor": "#E5ECF6",
          "polar": {
           "angularaxis": {
            "gridcolor": "white",
            "linecolor": "white",
            "ticks": ""
           },
           "bgcolor": "#E5ECF6",
           "radialaxis": {
            "gridcolor": "white",
            "linecolor": "white",
            "ticks": ""
           }
          },
          "scene": {
           "xaxis": {
            "backgroundcolor": "#E5ECF6",
            "gridcolor": "white",
            "gridwidth": 2,
            "linecolor": "white",
            "showbackground": true,
            "ticks": "",
            "zerolinecolor": "white"
           },
           "yaxis": {
            "backgroundcolor": "#E5ECF6",
            "gridcolor": "white",
            "gridwidth": 2,
            "linecolor": "white",
            "showbackground": true,
            "ticks": "",
            "zerolinecolor": "white"
           },
           "zaxis": {
            "backgroundcolor": "#E5ECF6",
            "gridcolor": "white",
            "gridwidth": 2,
            "linecolor": "white",
            "showbackground": true,
            "ticks": "",
            "zerolinecolor": "white"
           }
          },
          "shapedefaults": {
           "line": {
            "color": "#2a3f5f"
           }
          },
          "ternary": {
           "aaxis": {
            "gridcolor": "white",
            "linecolor": "white",
            "ticks": ""
           },
           "baxis": {
            "gridcolor": "white",
            "linecolor": "white",
            "ticks": ""
           },
           "bgcolor": "#E5ECF6",
           "caxis": {
            "gridcolor": "white",
            "linecolor": "white",
            "ticks": ""
           }
          },
          "title": {
           "x": 0.05
          },
          "xaxis": {
           "automargin": true,
           "gridcolor": "white",
           "linecolor": "white",
           "ticks": "",
           "title": {
            "standoff": 15
           },
           "zerolinecolor": "white",
           "zerolinewidth": 2
          },
          "yaxis": {
           "automargin": true,
           "gridcolor": "white",
           "linecolor": "white",
           "ticks": "",
           "title": {
            "standoff": 15
           },
           "zerolinecolor": "white",
           "zerolinewidth": 2
          }
         }
        },
        "title": {
         "text": "Box–Cox transformation"
        },
        "yaxis": {
         "title": {
          "text": "Posts"
         }
        }
       }
      },
      "text/html": [
       "<div>                            <div id=\"5c4209b8-2099-498c-92c1-a1861bd589d6\" class=\"plotly-graph-div\" style=\"height:525px; width:100%;\"></div>            <script type=\"text/javascript\">                require([\"plotly\"], function(Plotly) {                    window.PLOTLYENV=window.PLOTLYENV || {};                                    if (document.getElementById(\"5c4209b8-2099-498c-92c1-a1861bd589d6\")) {                    Plotly.newPlot(                        \"5c4209b8-2099-498c-92c1-a1861bd589d6\",                        [{\"line\": {\"width\": 0}, \"marker\": {\"color\": \"gray\"}, \"mode\": \"lines\", \"name\": \"Lower Bound\", \"type\": \"scatter\", \"x\": [\"2017-05-27T00:00:00\", \"2017-05-28T00:00:00\", \"2017-05-29T00:00:00\", \"2017-05-30T00:00:00\", \"2017-05-31T00:00:00\", \"2017-06-01T00:00:00\", \"2017-06-02T00:00:00\", \"2017-06-03T00:00:00\", \"2017-06-04T00:00:00\", \"2017-06-05T00:00:00\", \"2017-06-06T00:00:00\", \"2017-06-07T00:00:00\", \"2017-06-08T00:00:00\", \"2017-06-09T00:00:00\", \"2017-06-10T00:00:00\", \"2017-06-11T00:00:00\", \"2017-06-12T00:00:00\", \"2017-06-13T00:00:00\", \"2017-06-14T00:00:00\", \"2017-06-15T00:00:00\", \"2017-06-16T00:00:00\", \"2017-06-17T00:00:00\", \"2017-06-18T00:00:00\", \"2017-06-19T00:00:00\", \"2017-06-20T00:00:00\", \"2017-06-21T00:00:00\", \"2017-06-22T00:00:00\", \"2017-06-23T00:00:00\", \"2017-06-24T00:00:00\", \"2017-06-25T00:00:00\"], \"y\": [146.2099386385708, 157.03525502426007, 254.60364760303312, 261.77752636969274, 264.5352013940228, 251.99344219292433, 234.48693406074983, 154.9656572758351, 160.78583334807618, 265.08319951136673, 270.98818545754864, 278.7633819702561, 267.07694662737754, 242.9365530769119, 160.1399060071883, 173.8302475762718, 280.3504479968189, 285.64592743397554, 285.7369156129789, 278.79571011044, 255.51883932645956, 166.52325645070854, 178.3967764328486, 285.6090512167373, 294.59379375044045, 294.984831225216, 282.497736445444, 263.3872825552145, 171.2349595868383, 181.51716076275446]}, {\"fill\": \"tonexty\", \"fillcolor\": \"rgba(68, 68, 68, 0.3)\", \"line\": {\"width\": 0}, \"marker\": {\"color\": \"gray\"}, \"mode\": \"lines\", \"name\": \"Upper Bound\", \"type\": \"scatter\", \"x\": [\"2017-05-27T00:00:00\", \"2017-05-28T00:00:00\", \"2017-05-29T00:00:00\", \"2017-05-30T00:00:00\", \"2017-05-31T00:00:00\", \"2017-06-01T00:00:00\", \"2017-06-02T00:00:00\", \"2017-06-03T00:00:00\", \"2017-06-04T00:00:00\", \"2017-06-05T00:00:00\", \"2017-06-06T00:00:00\", \"2017-06-07T00:00:00\", \"2017-06-08T00:00:00\", \"2017-06-09T00:00:00\", \"2017-06-10T00:00:00\", \"2017-06-11T00:00:00\", \"2017-06-12T00:00:00\", \"2017-06-13T00:00:00\", \"2017-06-14T00:00:00\", \"2017-06-15T00:00:00\", \"2017-06-16T00:00:00\", \"2017-06-17T00:00:00\", \"2017-06-18T00:00:00\", \"2017-06-19T00:00:00\", \"2017-06-20T00:00:00\", \"2017-06-21T00:00:00\", \"2017-06-22T00:00:00\", \"2017-06-23T00:00:00\", \"2017-06-24T00:00:00\", \"2017-06-25T00:00:00\"], \"y\": [204.63244323554076, 219.45239915245736, 352.6804844587236, 360.9514376218597, 358.89831780573996, 349.74352362691786, 324.42480641150166, 215.22258332391226, 228.32289262148575, 359.9708577727606, 373.27652893901796, 378.2320748483671, 364.73360948044166, 338.6449350055493, 229.90357038154312, 242.26060006050233, 380.18673626727156, 393.75449256291273, 389.8680228449341, 378.23129891844445, 351.5819958537538, 235.67100008345784, 250.7140704651311, 387.8215095346691, 400.74112223804445, 403.796723271926, 390.4052354670801, 357.84535582012876, 239.02892141643204, 255.48306944564814]}, {\"line\": {\"color\": \"rgb(31, 119, 180)\"}, \"mode\": \"lines\", \"name\": \"Forecast\", \"type\": \"scatter\", \"x\": [\"2017-05-27T00:00:00\", \"2017-05-28T00:00:00\", \"2017-05-29T00:00:00\", \"2017-05-30T00:00:00\", \"2017-05-31T00:00:00\", \"2017-06-01T00:00:00\", \"2017-06-02T00:00:00\", \"2017-06-03T00:00:00\", \"2017-06-04T00:00:00\", \"2017-06-05T00:00:00\", \"2017-06-06T00:00:00\", \"2017-06-07T00:00:00\", \"2017-06-08T00:00:00\", \"2017-06-09T00:00:00\", \"2017-06-10T00:00:00\", \"2017-06-11T00:00:00\", \"2017-06-12T00:00:00\", \"2017-06-13T00:00:00\", \"2017-06-14T00:00:00\", \"2017-06-15T00:00:00\", \"2017-06-16T00:00:00\", \"2017-06-17T00:00:00\", \"2017-06-18T00:00:00\", \"2017-06-19T00:00:00\", \"2017-06-20T00:00:00\", \"2017-06-21T00:00:00\", \"2017-06-22T00:00:00\", \"2017-06-23T00:00:00\", \"2017-06-24T00:00:00\", \"2017-06-25T00:00:00\"], \"y\": [173.2297357154025, 184.21674684450684, 297.4840292625957, 305.7474024945873, 308.432418589188, 297.5832423460135, 275.0712961200426, 181.18389227619915, 193.04695790252072, 311.0434252102566, 320.0957095843871, 323.24291403137096, 312.1928172767791, 288.8654677596001, 191.0207760840891, 203.26650095012482, 325.7032949644685, 334.65444804422833, 337.36688626470163, 325.309880446683, 300.5477785272017, 198.91280650107726, 211.0258324543105, 336.24324473101245, 344.6370147863376, 346.65422574249715, 333.6416783655672, 307.78151476872125, 203.737405266404, 215.76033987614494]}, {\"marker\": {\"color\": \"red\"}, \"mode\": \"lines\", \"name\": \"Actual\", \"type\": \"scatter\", \"x\": [\"2017-03-18T00:00:00\", \"2017-03-19T00:00:00\", \"2017-03-20T00:00:00\", \"2017-03-21T00:00:00\", \"2017-03-22T00:00:00\", \"2017-03-23T00:00:00\", \"2017-03-24T00:00:00\", \"2017-03-25T00:00:00\", \"2017-03-26T00:00:00\", \"2017-03-27T00:00:00\", \"2017-03-28T00:00:00\", \"2017-03-29T00:00:00\", \"2017-03-30T00:00:00\", \"2017-03-31T00:00:00\", \"2017-04-01T00:00:00\", \"2017-04-02T00:00:00\", \"2017-04-03T00:00:00\", \"2017-04-04T00:00:00\", \"2017-04-05T00:00:00\", \"2017-04-06T00:00:00\", \"2017-04-07T00:00:00\", \"2017-04-08T00:00:00\", \"2017-04-09T00:00:00\", \"2017-04-10T00:00:00\", \"2017-04-11T00:00:00\", \"2017-04-12T00:00:00\", \"2017-04-13T00:00:00\", \"2017-04-14T00:00:00\", \"2017-04-15T00:00:00\", \"2017-04-16T00:00:00\", \"2017-04-17T00:00:00\", \"2017-04-18T00:00:00\", \"2017-04-19T00:00:00\", \"2017-04-20T00:00:00\", \"2017-04-21T00:00:00\", \"2017-04-22T00:00:00\", \"2017-04-23T00:00:00\", \"2017-04-24T00:00:00\", \"2017-04-25T00:00:00\", \"2017-04-26T00:00:00\", \"2017-04-27T00:00:00\", \"2017-04-28T00:00:00\", \"2017-04-29T00:00:00\", \"2017-04-30T00:00:00\", \"2017-05-01T00:00:00\", \"2017-05-02T00:00:00\", \"2017-05-03T00:00:00\", \"2017-05-04T00:00:00\", \"2017-05-05T00:00:00\", \"2017-05-06T00:00:00\", \"2017-05-07T00:00:00\", \"2017-05-08T00:00:00\", \"2017-05-09T00:00:00\", \"2017-05-10T00:00:00\", \"2017-05-11T00:00:00\", \"2017-05-12T00:00:00\", \"2017-05-13T00:00:00\", \"2017-05-14T00:00:00\", \"2017-05-15T00:00:00\", \"2017-05-16T00:00:00\", \"2017-05-17T00:00:00\", \"2017-05-18T00:00:00\", \"2017-05-19T00:00:00\", \"2017-05-20T00:00:00\", \"2017-05-21T00:00:00\", \"2017-05-22T00:00:00\", \"2017-05-23T00:00:00\", \"2017-05-24T00:00:00\", \"2017-05-25T00:00:00\", \"2017-05-26T00:00:00\", \"2017-05-27T00:00:00\", \"2017-05-28T00:00:00\", \"2017-05-29T00:00:00\", \"2017-05-30T00:00:00\", \"2017-05-31T00:00:00\", \"2017-06-01T00:00:00\", \"2017-06-02T00:00:00\", \"2017-06-03T00:00:00\", \"2017-06-04T00:00:00\", \"2017-06-05T00:00:00\", \"2017-06-06T00:00:00\", \"2017-06-07T00:00:00\", \"2017-06-08T00:00:00\", \"2017-06-09T00:00:00\", \"2017-06-10T00:00:00\", \"2017-06-11T00:00:00\", \"2017-06-12T00:00:00\", \"2017-06-13T00:00:00\", \"2017-06-14T00:00:00\", \"2017-06-15T00:00:00\", \"2017-06-16T00:00:00\", \"2017-06-17T00:00:00\", \"2017-06-18T00:00:00\", \"2017-06-19T00:00:00\", \"2017-06-20T00:00:00\", \"2017-06-21T00:00:00\", \"2017-06-22T00:00:00\", \"2017-06-23T00:00:00\", \"2017-06-24T00:00:00\", \"2017-06-25T00:00:00\"], \"y\": [123, 99, 205, 247, 246, 228, 208, 135, 129, 230, 225, 238, 257, 207, 125, 142, 259, 221, 203, 274, 221, 140, 149, 238, 258, 239, 250, 204, 137, 143, 233, 264, 278, 274, 259, 178, 168, 296, 306, 270, 277, 262, 187, 148, 305, 332, 286, 284, 264, 133, 136, 267, 262, 264, 267, 281, 205, 180, 341, 345, 367, 336, 301, 156, 194, 341, 388, 375, 298, 269, 157, 172, 297, 365, 407, 392, 328, 170, 194, 340, 348, 323, 347, 291, 165, 193, 349, 358, 344, 336, 345, 188, 243, 408, 417, 422, 441, 421, 277, 253]}],                        {\"showlegend\": false, \"template\": {\"data\": {\"bar\": [{\"error_x\": {\"color\": \"#2a3f5f\"}, \"error_y\": {\"color\": \"#2a3f5f\"}, \"marker\": {\"line\": {\"color\": \"#E5ECF6\", \"width\": 0.5}}, \"type\": \"bar\"}], \"barpolar\": [{\"marker\": {\"line\": {\"color\": \"#E5ECF6\", \"width\": 0.5}}, \"type\": \"barpolar\"}], \"carpet\": [{\"aaxis\": {\"endlinecolor\": \"#2a3f5f\", \"gridcolor\": \"white\", \"linecolor\": \"white\", \"minorgridcolor\": \"white\", \"startlinecolor\": \"#2a3f5f\"}, \"baxis\": {\"endlinecolor\": \"#2a3f5f\", \"gridcolor\": \"white\", \"linecolor\": \"white\", \"minorgridcolor\": \"white\", \"startlinecolor\": \"#2a3f5f\"}, \"type\": \"carpet\"}], \"choropleth\": [{\"colorbar\": {\"outlinewidth\": 0, \"ticks\": \"\"}, \"type\": \"choropleth\"}], \"contour\": [{\"colorbar\": {\"outlinewidth\": 0, \"ticks\": \"\"}, \"colorscale\": [[0.0, \"#0d0887\"], [0.1111111111111111, \"#46039f\"], [0.2222222222222222, \"#7201a8\"], [0.3333333333333333, \"#9c179e\"], [0.4444444444444444, \"#bd3786\"], [0.5555555555555556, \"#d8576b\"], [0.6666666666666666, \"#ed7953\"], [0.7777777777777778, \"#fb9f3a\"], [0.8888888888888888, \"#fdca26\"], [1.0, \"#f0f921\"]], \"type\": \"contour\"}], \"contourcarpet\": [{\"colorbar\": {\"outlinewidth\": 0, \"ticks\": \"\"}, \"type\": \"contourcarpet\"}], \"heatmap\": [{\"colorbar\": {\"outlinewidth\": 0, \"ticks\": \"\"}, \"colorscale\": [[0.0, \"#0d0887\"], [0.1111111111111111, \"#46039f\"], [0.2222222222222222, \"#7201a8\"], [0.3333333333333333, \"#9c179e\"], [0.4444444444444444, \"#bd3786\"], [0.5555555555555556, \"#d8576b\"], [0.6666666666666666, \"#ed7953\"], [0.7777777777777778, \"#fb9f3a\"], [0.8888888888888888, \"#fdca26\"], [1.0, \"#f0f921\"]], \"type\": \"heatmap\"}], \"heatmapgl\": [{\"colorbar\": {\"outlinewidth\": 0, \"ticks\": \"\"}, \"colorscale\": [[0.0, \"#0d0887\"], [0.1111111111111111, \"#46039f\"], [0.2222222222222222, \"#7201a8\"], [0.3333333333333333, \"#9c179e\"], [0.4444444444444444, \"#bd3786\"], [0.5555555555555556, \"#d8576b\"], [0.6666666666666666, \"#ed7953\"], [0.7777777777777778, \"#fb9f3a\"], [0.8888888888888888, \"#fdca26\"], [1.0, \"#f0f921\"]], \"type\": \"heatmapgl\"}], \"histogram\": [{\"marker\": {\"colorbar\": {\"outlinewidth\": 0, \"ticks\": \"\"}}, \"type\": \"histogram\"}], \"histogram2d\": [{\"colorbar\": {\"outlinewidth\": 0, \"ticks\": \"\"}, \"colorscale\": [[0.0, \"#0d0887\"], [0.1111111111111111, \"#46039f\"], [0.2222222222222222, \"#7201a8\"], [0.3333333333333333, \"#9c179e\"], [0.4444444444444444, \"#bd3786\"], [0.5555555555555556, \"#d8576b\"], [0.6666666666666666, \"#ed7953\"], [0.7777777777777778, \"#fb9f3a\"], [0.8888888888888888, \"#fdca26\"], [1.0, \"#f0f921\"]], \"type\": \"histogram2d\"}], \"histogram2dcontour\": [{\"colorbar\": {\"outlinewidth\": 0, \"ticks\": \"\"}, \"colorscale\": [[0.0, \"#0d0887\"], [0.1111111111111111, \"#46039f\"], [0.2222222222222222, \"#7201a8\"], [0.3333333333333333, \"#9c179e\"], [0.4444444444444444, \"#bd3786\"], [0.5555555555555556, \"#d8576b\"], [0.6666666666666666, \"#ed7953\"], [0.7777777777777778, \"#fb9f3a\"], [0.8888888888888888, \"#fdca26\"], [1.0, \"#f0f921\"]], \"type\": \"histogram2dcontour\"}], \"mesh3d\": [{\"colorbar\": {\"outlinewidth\": 0, \"ticks\": \"\"}, \"type\": \"mesh3d\"}], \"parcoords\": [{\"line\": {\"colorbar\": {\"outlinewidth\": 0, \"ticks\": \"\"}}, \"type\": \"parcoords\"}], \"pie\": [{\"automargin\": true, \"type\": \"pie\"}], \"scatter\": [{\"marker\": {\"colorbar\": {\"outlinewidth\": 0, \"ticks\": \"\"}}, \"type\": \"scatter\"}], \"scatter3d\": [{\"line\": {\"colorbar\": {\"outlinewidth\": 0, \"ticks\": \"\"}}, \"marker\": {\"colorbar\": {\"outlinewidth\": 0, \"ticks\": \"\"}}, \"type\": \"scatter3d\"}], \"scattercarpet\": [{\"marker\": {\"colorbar\": {\"outlinewidth\": 0, \"ticks\": \"\"}}, \"type\": \"scattercarpet\"}], \"scattergeo\": [{\"marker\": {\"colorbar\": {\"outlinewidth\": 0, \"ticks\": \"\"}}, \"type\": \"scattergeo\"}], \"scattergl\": [{\"marker\": {\"colorbar\": {\"outlinewidth\": 0, \"ticks\": \"\"}}, \"type\": \"scattergl\"}], \"scattermapbox\": [{\"marker\": {\"colorbar\": {\"outlinewidth\": 0, \"ticks\": \"\"}}, \"type\": \"scattermapbox\"}], \"scatterpolar\": [{\"marker\": {\"colorbar\": {\"outlinewidth\": 0, \"ticks\": \"\"}}, \"type\": \"scatterpolar\"}], \"scatterpolargl\": [{\"marker\": {\"colorbar\": {\"outlinewidth\": 0, \"ticks\": \"\"}}, \"type\": \"scatterpolargl\"}], \"scatterternary\": [{\"marker\": {\"colorbar\": {\"outlinewidth\": 0, \"ticks\": \"\"}}, \"type\": \"scatterternary\"}], \"surface\": [{\"colorbar\": {\"outlinewidth\": 0, \"ticks\": \"\"}, \"colorscale\": [[0.0, \"#0d0887\"], [0.1111111111111111, \"#46039f\"], [0.2222222222222222, \"#7201a8\"], [0.3333333333333333, \"#9c179e\"], [0.4444444444444444, \"#bd3786\"], [0.5555555555555556, \"#d8576b\"], [0.6666666666666666, \"#ed7953\"], [0.7777777777777778, \"#fb9f3a\"], [0.8888888888888888, \"#fdca26\"], [1.0, \"#f0f921\"]], \"type\": \"surface\"}], \"table\": [{\"cells\": {\"fill\": {\"color\": \"#EBF0F8\"}, \"line\": {\"color\": \"white\"}}, \"header\": {\"fill\": {\"color\": \"#C8D4E3\"}, \"line\": {\"color\": \"white\"}}, \"type\": \"table\"}]}, \"layout\": {\"annotationdefaults\": {\"arrowcolor\": \"#2a3f5f\", \"arrowhead\": 0, \"arrowwidth\": 1}, \"autotypenumbers\": \"strict\", \"coloraxis\": {\"colorbar\": {\"outlinewidth\": 0, \"ticks\": \"\"}}, \"colorscale\": {\"diverging\": [[0, \"#8e0152\"], [0.1, \"#c51b7d\"], [0.2, \"#de77ae\"], [0.3, \"#f1b6da\"], [0.4, \"#fde0ef\"], [0.5, \"#f7f7f7\"], [0.6, \"#e6f5d0\"], [0.7, \"#b8e186\"], [0.8, \"#7fbc41\"], [0.9, \"#4d9221\"], [1, \"#276419\"]], \"sequential\": [[0.0, \"#0d0887\"], [0.1111111111111111, \"#46039f\"], [0.2222222222222222, \"#7201a8\"], [0.3333333333333333, \"#9c179e\"], [0.4444444444444444, \"#bd3786\"], [0.5555555555555556, \"#d8576b\"], [0.6666666666666666, \"#ed7953\"], [0.7777777777777778, \"#fb9f3a\"], [0.8888888888888888, \"#fdca26\"], [1.0, \"#f0f921\"]], \"sequentialminus\": [[0.0, \"#0d0887\"], [0.1111111111111111, \"#46039f\"], [0.2222222222222222, \"#7201a8\"], [0.3333333333333333, \"#9c179e\"], [0.4444444444444444, \"#bd3786\"], [0.5555555555555556, \"#d8576b\"], [0.6666666666666666, \"#ed7953\"], [0.7777777777777778, \"#fb9f3a\"], [0.8888888888888888, \"#fdca26\"], [1.0, \"#f0f921\"]]}, \"colorway\": [\"#636efa\", \"#EF553B\", \"#00cc96\", \"#ab63fa\", \"#FFA15A\", \"#19d3f3\", \"#FF6692\", \"#B6E880\", \"#FF97FF\", \"#FECB52\"], \"font\": {\"color\": \"#2a3f5f\"}, \"geo\": {\"bgcolor\": \"white\", \"lakecolor\": \"white\", \"landcolor\": \"#E5ECF6\", \"showlakes\": true, \"showland\": true, \"subunitcolor\": \"white\"}, \"hoverlabel\": {\"align\": \"left\"}, \"hovermode\": \"closest\", \"mapbox\": {\"style\": \"light\"}, \"paper_bgcolor\": \"white\", \"plot_bgcolor\": \"#E5ECF6\", \"polar\": {\"angularaxis\": {\"gridcolor\": \"white\", \"linecolor\": \"white\", \"ticks\": \"\"}, \"bgcolor\": \"#E5ECF6\", \"radialaxis\": {\"gridcolor\": \"white\", \"linecolor\": \"white\", \"ticks\": \"\"}}, \"scene\": {\"xaxis\": {\"backgroundcolor\": \"#E5ECF6\", \"gridcolor\": \"white\", \"gridwidth\": 2, \"linecolor\": \"white\", \"showbackground\": true, \"ticks\": \"\", \"zerolinecolor\": \"white\"}, \"yaxis\": {\"backgroundcolor\": \"#E5ECF6\", \"gridcolor\": \"white\", \"gridwidth\": 2, \"linecolor\": \"white\", \"showbackground\": true, \"ticks\": \"\", \"zerolinecolor\": \"white\"}, \"zaxis\": {\"backgroundcolor\": \"#E5ECF6\", \"gridcolor\": \"white\", \"gridwidth\": 2, \"linecolor\": \"white\", \"showbackground\": true, \"ticks\": \"\", \"zerolinecolor\": \"white\"}}, \"shapedefaults\": {\"line\": {\"color\": \"#2a3f5f\"}}, \"ternary\": {\"aaxis\": {\"gridcolor\": \"white\", \"linecolor\": \"white\", \"ticks\": \"\"}, \"baxis\": {\"gridcolor\": \"white\", \"linecolor\": \"white\", \"ticks\": \"\"}, \"bgcolor\": \"#E5ECF6\", \"caxis\": {\"gridcolor\": \"white\", \"linecolor\": \"white\", \"ticks\": \"\"}}, \"title\": {\"x\": 0.05}, \"xaxis\": {\"automargin\": true, \"gridcolor\": \"white\", \"linecolor\": \"white\", \"ticks\": \"\", \"title\": {\"standoff\": 15}, \"zerolinecolor\": \"white\", \"zerolinewidth\": 2}, \"yaxis\": {\"automargin\": true, \"gridcolor\": \"white\", \"linecolor\": \"white\", \"ticks\": \"\", \"title\": {\"standoff\": 15}, \"zerolinecolor\": \"white\", \"zerolinewidth\": 2}}}, \"title\": {\"text\": \"Box\\u2013Cox transformation\"}, \"yaxis\": {\"title\": {\"text\": \"Posts\"}}},                        {\"responsive\": true}                    ).then(function(){\n",
       "                            \n",
       "var gd = document.getElementById('5c4209b8-2099-498c-92c1-a1861bd589d6');\n",
       "var x = new MutationObserver(function (mutations, observer) {{\n",
       "        var display = window.getComputedStyle(gd).display;\n",
       "        if (!display || display === 'none') {{\n",
       "            console.log([gd, 'removed!']);\n",
       "            Plotly.purge(gd);\n",
       "            observer.disconnect();\n",
       "        }}\n",
       "}});\n",
       "\n",
       "// Listen for the removal of the full notebook cells\n",
       "var notebookContainer = gd.closest('#notebook-container');\n",
       "if (notebookContainer) {{\n",
       "    x.observe(notebookContainer, {childList: true});\n",
       "}}\n",
       "\n",
       "// Listen for the clearing of the current output cell\n",
       "var outputEl = gd.closest('.output');\n",
       "if (outputEl) {{\n",
       "    x.observe(outputEl, {childList: true});\n",
       "}}\n",
       "\n",
       "                        })                };                });            </script>        </div>"
      ]
     },
     "metadata": {},
     "output_type": "display_data"
    }
   ],
   "source": [
    "show_forecast(cmp_df, prediction_size, 100, 'No transformations')\n",
    "show_forecast(cmp_df2, prediction_size, 100, 'Box–Cox transformation')"
   ]
  }
 ],
 "metadata": {
  "kernelspec": {
   "display_name": "Python 3",
   "language": "python",
   "name": "python3"
  },
  "language_info": {
   "codemirror_mode": {
    "name": "ipython",
    "version": 3
   },
   "file_extension": ".py",
   "mimetype": "text/x-python",
   "name": "python",
   "nbconvert_exporter": "python",
   "pygments_lexer": "ipython3",
   "version": "3.8.10"
  }
 },
 "nbformat": 4,
 "nbformat_minor": 5
}
