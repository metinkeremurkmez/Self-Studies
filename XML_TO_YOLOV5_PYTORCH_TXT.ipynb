{
 "cells": [
  {
   "cell_type": "code",
   "execution_count": 107,
   "id": "40129e61-070a-492b-a9c4-53d62358b3ab",
   "metadata": {
    "tags": []
   },
   "outputs": [],
   "source": [
    "import xml.etree.ElementTree as ET\n",
    "import os\n",
    "\n",
    "path = '/home/kerem/Documents/CO-ONE/data_with_annot'\n",
    "\n",
    "for filename in os.listdir(path):\n",
    "    \n",
    "    if filename.endswith('.xml'):\n",
    "        \n",
    "        fullname = os.path.join(path, filename)\n",
    "        contents = open(fullname).read()\n",
    "        tree = etree.fromstring(contents)\n",
    "\n",
    "        id_ = tree.xpath('//ID//text()')\n",
    "        x_ = tree.xpath('//x//text()')\n",
    "        y_ = tree.xpath('//y//text()')\n",
    "        w_ = tree.xpath('//w//text()')\n",
    "        h_ = tree.xpath('//h//text()')  \n",
    "                \n",
    "        id_ = list(map(int, id_))\n",
    "        x_ = list(map(int, x_))\n",
    "        y_ = list(map(int, y_))\n",
    "        w_ = list(map(int, w_))\n",
    "        h_ = list(map(int, h_))\n",
    "\n",
    "        for i in range(0,len(id_)):\n",
    "            \n",
    "            with open(\"{}.txt\".format(filename[:-4]), \"a\") as text_file:\n",
    "                # 960: image_width, 640: image_height\n",
    "                text_file.write(\"\".join(str(id_[i])+\" \"+str(((x_[i] + x_[i]+w_[i])/2)/960)+\" \"+str(((y_[i] + y_[i]+h_[i])/2)/640)+\" \"+ str(w_[i]/960)+\" \"+str(h_[i]/640))+ '\\n')"
   ]
  },
  {
   "cell_type": "code",
   "execution_count": null,
   "id": "9d519173-bcc8-4c27-a33d-51f99b7d991b",
   "metadata": {},
   "outputs": [],
   "source": []
  },
  {
   "cell_type": "code",
   "execution_count": null,
   "id": "18c95046-05be-4329-bce0-c52b64dc9bf5",
   "metadata": {},
   "outputs": [],
   "source": []
  },
  {
   "cell_type": "code",
   "execution_count": null,
   "id": "65c8def5-81c0-4732-a15a-bbb5d3454c3f",
   "metadata": {},
   "outputs": [],
   "source": []
  }
 ],
 "metadata": {
  "kernelspec": {
   "display_name": "Python 3 (ipykernel)",
   "language": "python",
   "name": "python3"
  },
  "language_info": {
   "codemirror_mode": {
    "name": "ipython",
    "version": 3
   },
   "file_extension": ".py",
   "mimetype": "text/x-python",
   "name": "python",
   "nbconvert_exporter": "python",
   "pygments_lexer": "ipython3",
   "version": "3.7.11"
  }
 },
 "nbformat": 4,
 "nbformat_minor": 5
}
